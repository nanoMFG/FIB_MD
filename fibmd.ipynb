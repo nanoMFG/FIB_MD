{
 "cells": [
  {
   "cell_type": "markdown",
   "metadata": {},
   "source": [
    "# Focused Ion Beam Molecular Dynamics (fibmd) Tool"
   ]
  },
  {
   "cell_type": "code",
   "execution_count": 30,
   "metadata": {},
   "outputs": [],
   "source": [
    "from IPython.display import display, HTML, clear_output\n",
    "import ipywidgets as widgets\n",
    "from string import Template\n",
    "import moviepy.editor as mpy\n",
    "import hublib.use\n",
    "import numpy as np"
   ]
  },
  {
   "cell_type": "code",
   "execution_count": 2,
   "metadata": {},
   "outputs": [],
   "source": [
    "use openmpi-1.6.3-gnu-4.7.2"
   ]
  },
  {
   "cell_type": "markdown",
   "metadata": {
    "slideshow": {
     "slide_type": "slide"
    }
   },
   "source": [
    "# Creating widgets for critical input"
   ]
  },
  {
   "cell_type": "code",
   "execution_count": 77,
   "metadata": {},
   "outputs": [],
   "source": [
    "title = widgets.Label(value=\"FIBMD Tool\", width=10)\n",
    "\n",
    "keVin = widgets.BoundedFloatText(\n",
    "    description='Ion Energy',\n",
    "    value=2000,\n",
    "    min=1000,\n",
    "    max=60000,\n",
    "    step=100\n",
    ")\n",
    "\n",
    "dimlab = widgets.Label(value=\"Target dimensions (in Si unit cells)\")\n",
    "\n",
    "xdimin = widgets.BoundedIntText(\n",
    "    value=8,\n",
    "    min=4,\n",
    "    max=40,\n",
    "    step=1,\n",
    "    description='X:'\n",
    ")\n",
    "\n",
    "ydimin = widgets.BoundedIntText(\n",
    "    value=8,\n",
    "    min=4,\n",
    "    max=40,\n",
    "    step=1,\n",
    "    description='Y: '\n",
    ")\n",
    "\n",
    "zdimin = widgets.BoundedIntText(\n",
    "    value=8,\n",
    "    min=4,\n",
    "    max=40,\n",
    "    step=1,\n",
    "    description='Z:'\n",
    ")\n",
    "\n",
    "dimensions = widgets.HBox([xlat, ylat, zlat])\n",
    "\n",
    "procsin = widgets.BoundedIntText(\n",
    "    value = 1,\n",
    "    min = 1,\n",
    "    max = 10,\n",
    "    step = 1,\n",
    "    description ='Processors:'\n",
    ")\n",
    "\n",
    "nljin = widgets.BoundedIntText(\n",
    "    value = 1,\n",
    "    min = 1,\n",
    "    max = 100,\n",
    "    step = 1,\n",
    "    description = 'Ions to fire:'\n",
    ")\n",
    "\n",
    "atmoutin  = widgets.BoundedIntText(\n",
    "    value = 0,\n",
    "    min = 0,\n",
    "    max = 1e6,\n",
    "    step = 100,\n",
    "    description = 'xyz output frequency'\n",
    ")\n",
    "\n",
    "dtin = widgets.FloatText(\n",
    "    value = 1,\n",
    "    step = 0.1,\n",
    "    description ='Time between ion impacts in ps'\n",
    ")\n",
    "\n",
    "fwhmin = widgets.FloatText(\n",
    "    value = 2,\n",
    "    description = 'fwhm of ion beam'\n",
    ")\n",
    "\n",
    "#runbut = widgets.Button(description='Run Simulation')\n"
   ]
  },
  {
   "cell_type": "code",
   "execution_count": 93,
   "metadata": {},
   "outputs": [
    {
     "data": {
      "application/vnd.jupyter.widget-view+json": {
       "model_id": "9274e1069e6f4e5a880affe34d0e37d4",
       "version_major": 2,
       "version_minor": 0
      },
      "text/html": [
       "<p>Failed to display Jupyter Widget of type <code>VBox</code>.</p>\n",
       "<p>\n",
       "  If you're reading this message in the Jupyter Notebook or JupyterLab Notebook, it may mean\n",
       "  that the widgets JavaScript is still loading. If this message persists, it\n",
       "  likely means that the widgets JavaScript library is either not installed or\n",
       "  not enabled. See the <a href=\"https://ipywidgets.readthedocs.io/en/stable/user_install.html\">Jupyter\n",
       "  Widgets Documentation</a> for setup instructions.\n",
       "</p>\n",
       "<p>\n",
       "  If you're reading this message in another frontend (for example, a static\n",
       "  rendering on GitHub or <a href=\"https://nbviewer.jupyter.org/\">NBViewer</a>),\n",
       "  it may mean that your frontend doesn't currently support widgets.\n",
       "</p>\n"
      ],
      "text/plain": [
       "VBox(children=(Label(value='FIBMD Tool'), BoundedFloatText(value=1500.0, description='Ion Energy', max=60000.0, min=1000.0, step=100.0), Label(value='Target dimensions (in Si unit cells)'), HBox(children=(BoundedIntText(value=8, description='X:', max=40, min=4), BoundedIntText(value=8, description='Y: ', max=40, min=4), BoundedIntText(value=4, description='Z:', max=40, min=4))), BoundedIntText(value=1, description='Ions to fire:', min=1), BoundedIntText(value=200, description='xyz output frequency', max=1000000, step=100), FloatText(value=1.0, description='Time between ion impacts in ps', step=0.1), FloatText(value=2.0, description='fwhm of ion beam')))"
      ]
     },
     "metadata": {},
     "output_type": "display_data"
    }
   ],
   "source": [
    "widgets.VBox([keVlab,keV,dimlab,dimensions,nljin,atmoutin,dtin,fwhmin])"
   ]
  },
  {
   "cell_type": "code",
   "execution_count": 94,
   "metadata": {},
   "outputs": [],
   "source": [
    "def get_template():\n",
    "    if atmoutin.value == 0:\n",
    "        atmoutin1 = -1\n",
    "        atmoutin2 = -1\n",
    "    else:\n",
    "        atmoutin1 = int(atmoutin.value/10)\n",
    "        atmoutin2 = atmoutin.value\n",
    "    inputs = list([str(keVin.value),str(xdimin.value),str(ydimin.value),str(zdimin.value),\n",
    "                         str(procsin.value),str(nljin.value),str(atmoutin1),str(atmoutin2),\n",
    "                         str(dtin.value),str(fwhmin.value)])\n",
    "    tags = list(['keV','xdim','ydim','zdim',\n",
    "                 'procs','nlj','atmout1','atmout2',\n",
    "                 'dtion','fwhm'])\n",
    "\n",
    "    input_dict = dict(zip(tags, inputs))\n",
    "    temp_contents = open('sige.in.template').read()\n",
    "    tempstr = Template(temp_contents)\n",
    "    print(tempstr)\n",
    "    # Python template strings replace \"${identifier}\" with the value.\n",
    "    # If substituting more than one value, use a dictionary.\n",
    "    return tempstr.substitute(input_dict)"
   ]
  },
  {
   "cell_type": "code",
   "execution_count": 96,
   "metadata": {},
   "outputs": [
    {
     "name": "stdout",
     "output_type": "stream",
     "text": [
      "<string.Template object at 0x7f3042763160>\n"
     ]
    }
   ],
   "source": [
    "with open('sige.in', 'w') as tfile:\n",
    "    tfile.write(get_template())\n",
    "#!cat sige.in \n"
   ]
  },
  {
   "cell_type": "code",
   "execution_count": null,
   "metadata": {},
   "outputs": [],
   "source": []
  },
  {
   "cell_type": "code",
   "execution_count": null,
   "metadata": {},
   "outputs": [],
   "source": []
  }
 ],
 "metadata": {
  "kernelspec": {
   "display_name": "Python3",
   "language": "python",
   "name": "python3"
  },
  "language_info": {
   "codemirror_mode": {
    "name": "ipython",
    "version": 3
   },
   "file_extension": ".py",
   "mimetype": "text/x-python",
   "name": "python",
   "nbconvert_exporter": "python",
   "pygments_lexer": "ipython3",
   "version": "3.6.2"
  }
 },
 "nbformat": 4,
 "nbformat_minor": 2
}
