{
 "cells": [
  {
   "cell_type": "markdown",
   "metadata": {
    "extensions": {
     "jupyter_dashboards": {
      "version": 1,
      "views": {
       "grid_default": {
        "col": 0,
        "height": 3,
        "hidden": false,
        "row": 0,
        "width": 12
       },
       "report_default": {
        "hidden": false
       }
      }
     }
    }
   },
   "source": [
    "# Focused Ion Beam Molecular Dynamics (fibmd) Tool"
   ]
  },
  {
   "cell_type": "code",
   "execution_count": 1,
   "metadata": {
    "extensions": {
     "jupyter_dashboards": {
      "version": 1,
      "views": {
       "grid_default": {
        "col": 4,
        "height": 4,
        "hidden": true,
        "row": 0,
        "width": 4
       },
       "report_default": {
        "hidden": true
       }
      }
     }
    },
    "scrolled": false
   },
   "outputs": [
    {
     "data": {
      "application/javascript": [
       "\n",
       "requirejs.undef('filepicker');\n",
       "\n",
       "define('filepicker', [\"@jupyter-widgets/base\"], function(widgets) {\n",
       "\n",
       "    var FilePickerView = widgets.DOMWidgetView.extend({\n",
       "        render: function(){\n",
       "            this.file = document.createElement('input');\n",
       "            this.file.setAttribute('class', 'fileinput');\n",
       "            this.file.setAttribute('id', this.cid);\n",
       "            this.file.multiple = this.model.get('multiple');\n",
       "            this.file.required = true;\n",
       "            this.file.setAttribute('type', 'file');\n",
       "            this.file.setAttribute('style', 'display:none');\n",
       "\n",
       "            this.label = document.createElement('label');\n",
       "            this.label.setAttribute('for', this.cid);\n",
       "            this.label.setAttribute('style', 'border: 1px solid; border-radius: 5px; display: inline-block; padding: 6px 12px');\n",
       "\n",
       "            this.icon = document.createElement('i');\n",
       "            this.icon.setAttribute(\"class\", \"fa fa-upload\");\n",
       "\n",
       "            if (this.file.multiple) {\n",
       "                this.labelstr = \"  Upload Files\";\n",
       "            } else {\n",
       "                this.labelstr = \"  Upload File\";\n",
       "            }\n",
       "            this.label.innerHTML = this.labelstr;\n",
       "            this.label.prepend(this.icon);\n",
       "            this.el.appendChild(this.label);\n",
       "            this.el.appendChild(this.file);\n",
       "            this.listenTo(this.model, 'change:send', this._send_changed, this);\n",
       "            this.listenTo(this.model, 'change:reset', this._reset, this);\n",
       "            this.update();\n",
       "        },\n",
       "\n",
       "        events: {\n",
       "            // List of events and their handlers.\n",
       "            'change': 'handle_file_change'\n",
       "        },\n",
       "\n",
       "        _reset: function() {\n",
       "            this.label.innerHTML = this.labelstr;\n",
       "            this.label.prepend(this.icon);\n",
       "            this.file.removeAttribute(\"disabled\");\n",
       "        },\n",
       "\n",
       "        _send_changed: function() {\n",
       "            var that = this;\n",
       "            var send = this.model.get('send');\n",
       "            var fnum = send[0];\n",
       "            var offset = send[1];\n",
       "            var chunk_size=64*1024;\n",
       "            var reader;\n",
       "\n",
       "            if (fnum == -1) {\n",
       "                // ignore\n",
       "                return\n",
       "            }\n",
       "\n",
       "            if (offset == 0) {\n",
       "                this.model.set('sent', -1);\n",
       "                this.touch();\n",
       "            }\n",
       "\n",
       "            // console.log('send: ' + fnum + ' ' + offset);\n",
       "            function tob64( buffer ) {\n",
       "                var binary = '';\n",
       "                var bytes = new Uint8Array( buffer );\n",
       "                var len = bytes.byteLength;\n",
       "                for (var i = 0; i < len; i++) {\n",
       "                    binary += String.fromCharCode( bytes[ i ] );\n",
       "                }\n",
       "                return window.btoa( binary );\n",
       "            }\n",
       "\n",
       "            var reader_done = function (event) {\n",
       "                // chunk is finished.  Send to python\n",
       "                if (event.target.error == null) {\n",
       "                    var b64 = tob64(event.target.result);\n",
       "                    that.model.set('data', b64);\n",
       "                    that.model.set('sent', offset);\n",
       "                    that.touch();\n",
       "                } else {\n",
       "                    console.log(\"Read error: \" + event.target.error);\n",
       "                    that.model.set('data', '');\n",
       "                    that.model.set('sent', -2);\n",
       "                    that.touch();\n",
       "                }\n",
       "                that.touch();\n",
       "            }\n",
       "        \n",
       "            var chunk_reader = function (_offset, _f) {\n",
       "                // console.log('CR' + ' ' + _f + ' ' + _offset);\n",
       "                reader = new FileReader();\n",
       "                var chunk = _f.slice(_offset, chunk_size + _offset);            \n",
       "                reader.readAsArrayBuffer(chunk);\n",
       "                reader.onload = reader_done;\n",
       "            }\n",
       "    \n",
       "            // OK. request next chunk\n",
       "            chunk_reader(offset, this.files[fnum]);\n",
       "        },\n",
       "        \n",
       "        \n",
       "        handle_file_change: function(evt) {\n",
       "\n",
       "            var _files = evt.target.files;\n",
       "            var filenames = [];\n",
       "            var file_readers = [];\n",
       "            this.files = [];\n",
       "\n",
       "            for (var i = 0; i < _files.length; i++) {\n",
       "                var file = _files[i];\n",
       "                console.log(\"Filename: \" + file.name);\n",
       "                console.log(\"Type: \" + file.type);\n",
       "                console.log(\"Size: \" + file.size + \" bytes\");\n",
       "                this.files.push(file);\n",
       "                filenames.push([file.name, file.size]);\n",
       "            };\n",
       "            \n",
       "            // Set the filenames of the files.\n",
       "            this.model.set('filenames', filenames);\n",
       "            this.touch();\n",
       "\n",
       "            // update the label\n",
       "            if (filenames.length == 0) {\n",
       "                this.label.innerHTML = this.labelstr;\n",
       "                this.file.removeAttribute(\"disabled\");\n",
       "            } else if (filenames.length == 1) {\n",
       "                this.label.innerHTML = \"  \" + filenames[0][0];\n",
       "                this.file.setAttribute('disabled', 'true');\n",
       "            } else {\n",
       "                this.label.innerHTML = \"  \" + filenames.length + \" files selected\";\n",
       "                this.file.setAttribute('disabled', 'true');           \n",
       "            };\n",
       "            this.label.prepend(this.icon);\n",
       "        },\n",
       "    });\n",
       "\n",
       "    // Register the FilePickerView with the widget manager.\n",
       "    return {\n",
       "        FilePickerView: FilePickerView\n",
       "    };\n",
       "});\n"
      ],
      "text/plain": [
       "<IPython.core.display.Javascript object>"
      ]
     },
     "metadata": {},
     "output_type": "display_data"
    }
   ],
   "source": [
    "from IPython.display import display, clear_output, Javascript\n",
    "import ipywidgets as widgets\n",
    "import numpy as np\n",
    "from string import Template\n",
    "import hublib.use\n",
    "import hublib\n",
    "import py3Dmol\n",
    "from IPython.display import FileLink, FileLinks\n",
    "from hublib.ui import Submit"
   ]
  },
  {
   "cell_type": "code",
   "execution_count": 2,
   "metadata": {
    "extensions": {
     "jupyter_dashboards": {
      "version": 1,
      "views": {
       "grid_default": {
        "col": 8,
        "height": 4,
        "hidden": true,
        "row": 0,
        "width": 4
       },
       "report_default": {
        "hidden": true
       }
      }
     }
    },
    "scrolled": false
   },
   "outputs": [],
   "source": [
    "%use openmpi-1.6.3-gnu-4.7.2"
   ]
  },
  {
   "cell_type": "markdown",
   "metadata": {
    "extensions": {
     "jupyter_dashboards": {
      "version": 1,
      "views": {
       "grid_default": {
        "col": 0,
        "height": 4,
        "hidden": true,
        "row": 18,
        "width": 4
       },
       "report_default": {
        "hidden": false
       }
      }
     }
    },
    "slideshow": {
     "slide_type": "slide"
    }
   },
   "source": [
    "# Creating widgets for input"
   ]
  },
  {
   "cell_type": "code",
   "execution_count": 3,
   "metadata": {},
   "outputs": [],
   "source": [
    "def beamcurrent(dtin):\n",
    "    Beam_current = 1.602e-19/(dtin*1e-12)*1e9\n",
    "    return Beam_current\n",
    "def surfflux(dtin,fin):\n",
    "    surf_flux = 1/dtin/((fin/2.355*4*1e-7)**2*np.pi/4)\n",
    "    return surf_flux\n",
    "def estimatedsize(xdimin,silat,ydimin,zdimin,ain,dtin,nin):\n",
    "    estimated_size=6.5e-05*(np.floor(xdimin.value/silat) * \n",
    "                      np.floor(ydimin.value/silat) * \n",
    "                      np.floor(zdimin.value/silat))*8*(.1/.02e-3 /(ain/10) + (dtin-.1)/.2e-3/(ain))*nin\n",
    "    return estimated_size"
   ]
  },
  {
   "cell_type": "code",
   "execution_count": 4,
   "metadata": {},
   "outputs": [],
   "source": [
    "def uncertainty_quantification1 (dtin,dtin_std):\n",
    "   \n",
    "    dtin_n = np.random.normal(dtin.value, dtin_std.value)\n",
    "\n",
    "    return beamcurrent(dtin_n)\n",
    "\n",
    "def uncertainty_quantification2 (dtin,dtin_std):\n",
    "   \n",
    "    dtin_n = np.random.normal(dtin.value, dtin_std.value)\n",
    "    fin_n = np.random.normal(fin.value, fin_std.value)\n",
    "    return surfflux(dtin_n,fin_n)\n",
    "\n",
    "\n",
    "def uncertainty_quantification3 (xdimin,silat,ydimin,zdimin,ain,dtin,nin,fin,ain_std,dtin_std,nin_std,fin_std):\n",
    "   \n",
    "  \n",
    "    ain_n = np.random.normal(ain.value, ain_std.value)\n",
    "    dtin_n = np.random.normal(dtin.value, dtin_std.value)\n",
    "    nin_n = np.random.normal(nin.value, nin_std.value)\n",
    "    fin_n = np.random.normal(fin.value, fin_std.value)\n",
    "    \n",
    "    \n",
    "    \n",
    "    return estimatedsize(xdimin,silat,ydimin,zdimin,ain_n,dtin_n,nin_n)\n",
    "\n",
    "\n",
    "def count_range_in_list(list_count, lower_bound, upper_bound):\n",
    "    list_count.sort(reverse=False);\n",
    "    freq_list_count = [0]*101;\n",
    "    width = (upper_bound-lower_bound)/100;\n",
    "    i=0;\n",
    "    for x in list_count:\n",
    "        if lower_bound+i*width<=x<lower_bound+(i+1)*width:\n",
    "            freq_list_count[i]+=1\n",
    "        else:\n",
    "            i+=1\n",
    "    return freq_list_count\n",
    "def count_range_in_list1(list_count, lower_bound, upper_bound):\n",
    "    list_count.sort(reverse=False);\n",
    "    freq_list_count = [0]*100001;\n",
    "    width = (upper_bound-lower_bound)/100000;\n",
    "    i=0;\n",
    "    for x in list_count:\n",
    "        if lower_bound+i*width<=x<lower_bound+(i+1)*width:\n",
    "            freq_list_count[i]+=1\n",
    "        else:\n",
    "            i+=1\n",
    "    return freq_list_count"
   ]
  },
  {
   "cell_type": "code",
   "execution_count": 5,
   "metadata": {
    "extensions": {
     "jupyter_dashboards": {
      "version": 1,
      "views": {
       "grid_default": {
        "col": 4,
        "height": 4,
        "hidden": true,
        "row": 18,
        "width": 4
       },
       "report_default": {
        "hidden": true
       }
      }
     }
    },
    "scrolled": false
   },
   "outputs": [],
   "source": [
    "#title = widgets.Label(value=\"FIBMD Tool\", width=10)\n",
    "\n",
    "box_layout = widgets.Layout(display='flex',\n",
    "                            justify_content='center')\n",
    "text_layout = widgets.Layout(width = '175px')\n",
    "text_layout1 = widgets.Layout(width = '50px')\n",
    "text_layout2 = widgets.Layout(width ='90px',\n",
    "                              position = 'right')\n",
    "\n",
    "#ion energy input\n",
    "keVin = widgets.BoundedFloatText(\n",
    "    value=2000,\n",
    "    min=500,\n",
    "    max=60000,\n",
    "    step=100,\n",
    "    layout=text_layout2,\n",
    "    tooltip = 'Beam energy, in keV'\n",
    ")\n",
    "keVin_std = widgets.BoundedFloatText(\n",
    "    value=200,\n",
    "    min=0,\n",
    "    max=400,\n",
    "    step=20,\n",
    "    layout=text_layout2,\n",
    "    tooltip = 'Beam energy, in keV'\n",
    ")\n",
    "#x dimension for simulation box\n",
    "xdimin = widgets.BoundedFloatText(\n",
    "    value=5,\n",
    "    min=4,\n",
    "    max=40,\n",
    "    step=1,\n",
    "    layout=text_layout1\n",
    ")\n",
    "#y dimension for simulation box\n",
    "ydimin = widgets.BoundedFloatText(\n",
    "    value=5,\n",
    "    min=4,\n",
    "    max=40,\n",
    "    step=1,\n",
    "    layout=text_layout1\n",
    ")\n",
    "#z dimension for simulation box\n",
    "zdimin = widgets.BoundedFloatText(\n",
    "    value=2,\n",
    "    min=1,\n",
    "    max=40,\n",
    "    step=1,\n",
    "    layout=text_layout1\n",
    ")\n",
    "# number of processors to use in MPI\n",
    "pin = widgets.BoundedIntText(\n",
    "    value = 2,\n",
    "    min = 1,\n",
    "    max = 2,\n",
    "    step = 1,\n",
    "    layout=text_layout2\n",
    ")\n",
    "pin_std = widgets.BoundedIntText(\n",
    "    value = 0.1,\n",
    "    min = 1,\n",
    "    max = 2,\n",
    "    step = 0.1,\n",
    "    layout=text_layout2\n",
    ")\n",
    "#temperature setting for the silicon target\n",
    "tempin = widgets.BoundedFloatText(\n",
    "    value = 300.0,\n",
    "    step = 10.0,\n",
    "    layout = text_layout2,\n",
    "    min = 10.0,\n",
    "    max = 2000.\n",
    ")\n",
    "tempin_std = widgets.BoundedFloatText(\n",
    "    value = 30.0,\n",
    "    step = 5.0,\n",
    "    layout = text_layout2,\n",
    "    min = 0.0,\n",
    "    max = 60.\n",
    ")\n",
    "#mumber of gallium ions to fire\n",
    "nin = widgets.BoundedIntText(\n",
    "    value = 1,\n",
    "    min = 1,\n",
    "    max = 100,\n",
    "    step = 1,\n",
    "    layout=text_layout2\n",
    ")\n",
    "\n",
    "nin_std = widgets.BoundedFloatText(\n",
    "    value = 0.1,\n",
    "    step = 0.1,\n",
    "    layout=text_layout2,\n",
    "    min = 0.1\n",
    ")\n",
    "#output frequency of full .xyz file, in timesteps\n",
    "ain  = widgets.BoundedIntText(\n",
    "    value = 500,\n",
    "    min = 0,\n",
    "    max = 1e6,\n",
    "    step = 100,\n",
    "    layout=text_layout2\n",
    ")\n",
    "ain_std  = widgets.BoundedIntText(\n",
    "    value = 50,\n",
    "    min = 0,\n",
    "    max = 1e6,\n",
    "    step = 10,\n",
    "    layout=text_layout2\n",
    ")\n",
    "#time between ion impacts\n",
    "dtin = widgets.BoundedFloatText(\n",
    "    value = 1,\n",
    "    step = 0.1,\n",
    "    layout=text_layout2,\n",
    "    min = 0.1\n",
    ")\n",
    "dtin_std = widgets.BoundedFloatText(\n",
    "    value = 0.1,\n",
    "    step = 0.1,\n",
    "    layout=text_layout2,\n",
    "    min = 0.1\n",
    ")\n",
    "#angle of incidence, from z axis\n",
    "phizin = widgets.BoundedFloatText(\n",
    "    value = 0.0,\n",
    "    step = 1,\n",
    "    min = 0,\n",
    "    max = 89,\n",
    "    layout=text_layout2\n",
    ")\n",
    "phizin_std = widgets.BoundedFloatText(\n",
    "    value = 5.0,\n",
    "    step = 1,\n",
    "    min = 0,\n",
    "    max = 10,\n",
    "    layout=text_layout2\n",
    ")\n",
    "#angle of incidence, from x axis\n",
    "phixyin = widgets.FloatText(\n",
    "    value = 0.0,\n",
    "    step = 1,\n",
    "    layout=text_layout2\n",
    ")\n",
    "phixyin_std = widgets.FloatText(\n",
    "    value = 5.0,\n",
    "    step = 1,\n",
    "    layout=text_layout2\n",
    ")\n",
    "#FWHM of incident beam distribution, in nm\n",
    "fin = widgets.BoundedFloatText(\n",
    "    value = 2,\n",
    "    step = 0.1,\n",
    "    layout=text_layout2,\n",
    "    min = 0.1\n",
    ")\n",
    "fin_std = widgets.BoundedFloatText(\n",
    "    value = 0.2,\n",
    "    step = 0.1,\n",
    "    layout=text_layout2,\n",
    "    min = 0.1\n",
    ")\n",
    "\n",
    "dimlabel = widgets.Label(\" Target dimensions, nm\",layout=box_layout)\n",
    "\n",
    "xlabel = widgets.Label(\"    X:\", position='right')\n",
    "ylabel = widgets.Label(\"    Y:\", position='right')\n",
    "zlabel = widgets.Label(\"    Z:\", position='right')\n",
    "xbox = widgets.HBox([xlabel,xdimin],layout = text_layout)\n",
    "ybox = widgets.HBox([ylabel,ydimin],layout = text_layout)\n",
    "zbox = widgets.HBox([zlabel,zdimin],layout = text_layout)\n",
    "\n",
    "keVlabel = widgets.Label(\"Ion Energy (eV) :\")\n",
    "keVlabel_std = widgets.Label(\"Standard Deviation of Ion Energy (eV) \")\n",
    "proclabel = widgets.Label(\"# of Processors:\")\n",
    "templabel = widgets.Label(\"Temperature (K):\")\n",
    "templabel_std = widgets.Label(\"Standard Deviation of Temperature (K):\")\n",
    "ionlabel = widgets.Label(\"Mean # of Ions to fire:\")\n",
    "ionlabel_std = widgets.Label(\"Standard Deviation # of Ions to fire:\")\n",
    "outlabel = widgets.Label(\"Mean of Output frequency:\")\n",
    "outlabel_std = widgets.Label(\"Standard Deviation of Output frequency:\")\n",
    "dtlabel = widgets.Label(\"Mean of Δ t$_{ion}$ (ps)\")\n",
    "dtlabel_std = widgets.Label(\"Stabdard Deviation ofΔ t$_{ion}$ (ps)\")\n",
    "anglezlabel = widgets.Label(\"Beam Angle θ:\")\n",
    "anglezlabel_std = widgets.Label(\"Standard Deviation of Beam Angle θ:\")\n",
    "anglexylabel = widgets.Label(\"Beam Angle Φ:\")\n",
    "anglexylabel_std = widgets.Label(\"Standard Deviation of Beam Angle Φ:\")\n",
    "fwhmlabel = widgets.Label(\"Mean of FWHM of beam (nm):\")\n",
    "fwhmlabel_std = widgets.Label(\"Standard Deviaton of FWHM of beam (nm):\")\n",
    "beamlabel = widgets.Label(\"Mean Effective Beam Current (nA): \")\n",
    "beamlabel_std = widgets.Label(\"Standard Deviation of Effective Beam Current (nA): \")\n",
    "sizelabel = widgets.Label(\"Mean Estimated Total File Size (MB)\")\n",
    "sizelabel_std = widgets.Label(\"Standard Deviation of Estimated Total File Size (MB)\")\n",
    "fluxlabel = widgets.Label(\"Mean 4σ Surface Flux (ions/cm$^2$ps): \")\n",
    "fluxlabel_std = widgets.Label(\"Standard Deviation of 4σ Surface Flux (ions/cm$^2$ps): \")\n",
    "\n",
    "dimin = widgets.HBox([xbox,ybox,zbox])\n",
    "vlabels = widgets.VBox([keVlabel,proclabel,templabel, ionlabel, ionlabel_std,\n",
    "                        outlabel,outlabel_std, dtlabel,dtlabel_std, anglezlabel, \n",
    "                        anglexylabel, fwhmlabel,fwhmlabel_std])\n",
    "vinput = widgets.VBox([keVin,pin,tempin, nin,nin_std, ain,ain_std, dtin,dtin_std,\n",
    "                       phizin, phixyin, fin,fin_std])\n",
    "\n",
    "inputs2 = widgets.HBox([vlabels,vinput])\n",
    "\n",
    "#silicon lattice constant, nm\n",
    "silat = 0.5431\n",
    "\n",
    "## dynamically updating boxes for current, estimated file size, flux\n",
    "BeamCurrent = widgets.Text(\n",
    "    value = '%.2f'%(0.),\n",
    "    layout = text_layout2,\n",
    "    position = 'right'\n",
    ")\n",
    "\n",
    "SurfFlux = widgets.Text(\n",
    "   value = '%.2f'%(0.),\n",
    "    layout = text_layout2,\n",
    "        position = 'right'\n",
    ")\n",
    "\n",
    "    #6.44e-5 is estimate of MB per atom per snapshot\n",
    "    #floors of dimin are unit cells, 8 is atoms per unit cell\n",
    "    #.1/.02e-3 is estimating number of timesteps in fast regime (lasting .1 ps, with .02e-3 step size)\n",
    "    #(dtin.value-.1)/.2e-3 is # of timesteps during the rest of the time\n",
    "    #ain.value/10 and ain.value normalize total timesteps by output frequency in each case\n",
    "    #whole process happens nin.value times\n",
    "EstimatedSize = widgets.Text( \n",
    "    value = '%.2f'%(0.),\n",
    "        layout = text_layout2,\n",
    "        position = 'right'\n",
    ")\n",
    "BeamCurrent_std = widgets.Text(\n",
    "    value = '%.2f'%(0.),\n",
    "    layout = text_layout2,\n",
    "    position = 'right'\n",
    ")\n",
    "\n",
    "SurfFlux_std = widgets.Text(\n",
    "   value = '%.2f'%(0.),\n",
    "    layout = text_layout2,\n",
    "        position = 'right'\n",
    ")\n",
    "\n",
    "    #6.44e-5 is estimate of MB per atom per snapshot\n",
    "    #floors of dimin are unit cells, 8 is atoms per unit cell\n",
    "    #.1/.02e-3 is estimating number of timesteps in fast regime (lasting .1 ps, with .02e-3 step size)\n",
    "    #(dtin.value-.1)/.2e-3 is # of timesteps during the rest of the time\n",
    "    #ain.value/10 and ain.value normalize total timesteps by output frequency in each case\n",
    "    #whole process happens nin.value times\n",
    "EstimatedSize_std = widgets.Text( \n",
    "    value = '%.2f'%(0.),\n",
    "        layout = text_layout2,\n",
    "        position = 'right'\n",
    ")\n",
    "# vlabels2 = widgets.VBox([beamlabel,fluxlabel,sizelabel])\n",
    "# outlabels = widgets.VBox([BeamCurrent,SurfFlux,EstimatedSize])\n",
    "# outlabels2 = widgets.HBox([vlabels2,outlabels])\n",
    "# input1 = widgets.VBox([dimlabel,dimin,inputs2],layout=widgets.Layout(border='solid'))\n",
    "# FullBox = widgets.VBox([input1,outlabels2])\n",
    "\n"
   ]
  },
  {
   "cell_type": "code",
   "execution_count": 6,
   "metadata": {},
   "outputs": [
    {
     "data": {
      "text/html": [
       "        <script type=\"text/javascript\">\n",
       "        window.PlotlyConfig = {MathJaxConfig: 'local'};\n",
       "        if (window.MathJax) {MathJax.Hub.Config({SVG: {font: \"STIX-Web\"}});}\n",
       "        if (typeof require !== 'undefined') {\n",
       "        require.undef(\"plotly\");\n",
       "        requirejs.config({\n",
       "            paths: {\n",
       "                'plotly': ['https://cdn.plot.ly/plotly-latest.min']\n",
       "            }\n",
       "        });\n",
       "        require(['plotly'], function(Plotly) {\n",
       "            window._Plotly = Plotly;\n",
       "        });\n",
       "        }\n",
       "        </script>\n",
       "        "
      ]
     },
     "metadata": {},
     "output_type": "display_data"
    }
   ],
   "source": [
    "from __future__ import print_function\n",
    "import ipywidgets as widgets\n",
    "from IPython.display import display, clear_output, Javascript\n",
    "from collections import OrderedDict\n",
    "from numpy import *\n",
    "from string import Template\n",
    "#import hublib.use\n",
    "import hublib\n",
    "from IPython.display import FileLink, FileLinks, clear_output\n",
    "from hublib.ui import RunAllButton\n",
    "import py3Dmol\n",
    "from mpl_toolkits import mplot3d\n",
    "\n",
    "# tpl imports\n",
    "import matplotlib.pyplot as plt\n",
    "import plotly\n",
    "import plotly.graph_objs as go\n",
    "from plotly.offline import iplot\n",
    "import numpy as np\n",
    "\n",
    "plotly.offline.init_notebook_mode(connected=True)\n",
    "\n",
    "def plotly_plot(out):\n",
    "\n",
    "    BeamCurrent1= [0]*10000;\n",
    "    SurfFlux1 = [0]*10000;\n",
    "    EstimatedSize1 = [0]*10000;\n",
    "    for i in range (10000):\n",
    "        BeamCurrent1[i]= uncertainty_quantification1(dtin,dtin_std)\n",
    "        SurfFlux1[i]=uncertainty_quantification2 (dtin,dtin_std)\n",
    "        EstimatedSize1[i]=uncertainty_quantification3 (xdimin,silat,ydimin,zdimin,ain,dtin,nin,fin,ain_std,dtin_std,nin_std,fin_std)\n",
    "    BeamCurrent_mean = mean(BeamCurrent1)\n",
    "    SurfFlux_mean = mean(SurfFlux1)\n",
    "    EstimatedSize_mean = mean(EstimatedSize1)\n",
    "    BeamCurrent_min = min(BeamCurrent1)\n",
    "    SurfFlux_min = min(SurfFlux1)\n",
    "    EstimatedSize_min = min(EstimatedSize1)\n",
    "    BeamCurrent_max = max(BeamCurrent1)\n",
    "    SurfFlux_max = max(SurfFlux1)\n",
    "    EstimatedSize_max = max(EstimatedSize1)   \n",
    "    \n",
    "    freq_BeamCurrent= count_range_in_list(BeamCurrent1,min(BeamCurrent1), max(BeamCurrent1));\n",
    "    freq_SurfFlux = count_range_in_list(SurfFlux1, min(SurfFlux1), max(SurfFlux1));\n",
    "    freq_EstimatedSize = count_range_in_list(EstimatedSize1, min(EstimatedSize1), max(EstimatedSize1));\n",
    "\n",
    " \n",
    "    # transfer calculated dimenstions to output widgets\n",
    "#     op1.value = \"%0.03f\" % l\n",
    "#     op2.value = \"%0.03f\" % d\n",
    "#     op3.value = \"%0.03f\" % l_min\n",
    "#     op4.value = \"%0.03f\" % d_min\n",
    "#     op5.value = \"%0.03f\" % l_max\n",
    "#     op6.value = \"%0.03f\" % d_max\n",
    "    \n",
    "       ## dynamically updating boxes for current, estimated file size, flux\n",
    "    BeamCurrent.value ='%0.3f'%(mean(BeamCurrent1))\n",
    "    BeamCurrent_std.value ='%0.3f'%(std(BeamCurrent1))\n",
    "\n",
    "    SurfFlux.value = '%1.4E'%(mean(SurfFlux1))\n",
    "    SurfFlux_std.value = '%1.4E'%(std(SurfFlux1))\n",
    "        #6.44e-5 is estimate of MB per atom per snapshot\n",
    "        #floors of dimin are unit cells, 8 is atoms per unit cell\n",
    "        #.1/.02e-3 is estimating number of timesteps in fast regime (lasting .1 ps, with .02e-3 step size)\n",
    "        #(dtin.value-.1)/.2e-3 is # of timesteps during the rest of the time\n",
    "        #ain.value/10 and ain.value normalize total timesteps by output frequency in each case\n",
    "        #whole process happens nin.value times\n",
    "    EstimatedSize.value = '%0.3f'%(mean(EstimatedSize1))\n",
    "    EstimatedSize_std.value = '%0.3f'%(std(EstimatedSize1))\n",
    "#     vlabels2 = widgets.VBox([beamlabel,fluxlabel,sizelabel])\n",
    "#     outlabels = widgets.VBox([BeamCurrent,SurfFlux,EstimatedSize])\n",
    "#     outlabels2 = widgets.HBox([vlabels2,outlabels])\n",
    "#     input1 = widgets.VBox([dimlabel,dimin,inputs2],layout=widgets.Layout(border='solid'))\n",
    "#     FullBox = widgets.VBox([input1,outlabels2])\n",
    "    \n",
    "    trace4 = go.Bar(\n",
    "                x = list(np.arange(BeamCurrent_min,BeamCurrent_max,(BeamCurrent_max-BeamCurrent_min)/100)), \n",
    "                y = freq_BeamCurrent\n",
    "                \n",
    "    )\n",
    "    \n",
    "    trace5 = go.Bar(\n",
    "                x = list(np.arange(SurfFlux_min,SurfFlux_max,(SurfFlux_max-SurfFlux_min)/100)),\n",
    "                y = freq_SurfFlux \n",
    "    )\n",
    "    trace6 = go.Bar(\n",
    "                x = list(np.arange(EstimatedSize_min,EstimatedSize_max,(EstimatedSize_max-EstimatedSize_min)/100)),\n",
    "                y = freq_EstimatedSize\n",
    "    )\n",
    "\n",
    "    fig4 = go.Figure(data=[trace4])\n",
    "    fig4.update_layout(title_text='Distribution of Effective Beam Current (nA)', title_x=0.5,\n",
    "                      xaxis_title=\"Effective Beam Current (nA)\",\n",
    "                      yaxis_title=\"Number of Occurances\"\n",
    "                      )\n",
    "    \n",
    "    fig5 = go.Figure(data=[trace5])\n",
    "    fig5.update_layout(title_text='Distribution of 4σ Surface Flux', title_x=0.5,\n",
    "                      xaxis_title=\"4σ Surface Flux \",\n",
    "                      yaxis_title=\"Number of Occurances\"\n",
    "                      )\n",
    "    fig6 = go.Figure(data=[trace6])\n",
    "    fig6.update_layout(title_text='Distribution of Estimated Total File Size (MB)', title_x=0.5,\n",
    "                      xaxis_title=\"Estimated Total File Size (MB)\",\n",
    "                      yaxis_title=\"Number of Occurances\"\n",
    "                      )\n",
    "\n",
    "    with out:\n",
    "        clear_output()\n",
    "        iplot(fig4)\n",
    "        iplot(fig5)\n",
    "        #iplot(fig6)"
   ]
  },
  {
   "cell_type": "code",
   "execution_count": 7,
   "metadata": {},
   "outputs": [],
   "source": [
    "#more detailed descriptions of input parameters for tab view\n",
    "topic_list = ['Dimensions','Ion Energy','Processors','Temperature','Ions','Output','Δt ion','θ','Φ','FWHM','Current','Flux','Size']\n",
    "topic_descriptions = ['Simulation domain dimensions in nm. In this program, this input is rounded down to the nearest multiple of silicon\\'s lattice constant (0.5431 nm).',\n",
    "                     'Kinetic Energy of the Ga ion being fired, in eV',\n",
    "                     'The number of processors to use, but limited to 2 for local NanoHUB simulations. Using 2 should always be preferable, but very small domains may require 1 due to the way parallel calculations are implemented.',\n",
    "                     'Silicon thermostatted temperature, applied to a 1.5 nm thick outer boundary in the x-y plane. This is implemented as a Berendsen thermostat with τ = 0.1 (ps).',\n",
    "                     'Total number of ions to fire at the surface in series',\n",
    "                     \"\"\"This determines the xyz file snapshot frequency as every 'output frequency' timesteps during large steps (0.2 fs) and 'output frequency'/10 steps during small steps (0.02 fs). Small vs. big timesteps are determined by ion energies, as described in the abstract.\"\"\",\n",
    "                     'Time between each ion impact, in ps. Total simulation runtime is (Δt ion)x(Ions).',\n",
    "                     'Off-normal angle of incidence for ion beam.',\n",
    "                     'Projected x-y plane beam direction from x axis, only relevant for θ ≠ 0.',\n",
    "                     'Full width half maximum of the Gaussian ion distribution, centered in the x-y plane.',\n",
    "                     'Beam current conversion, based on time between impacts.',\n",
    "                     'Beam flux conversion, based on time between impacts and FWHM. This is calculated for an area corresponding to 4 standard deviations (σ) of the random ion distribution.',\n",
    "                     'Estimated final .xyz file size; it will tend to overestimate very small/low energy cases and may underestimate large and high energy cases. This file is suggested for analysis with Ovito and the provided OvitoTemplate.ovito file.']\n",
    "\n",
    "topic_dict = dict(zip(topic_list,topic_descriptions))\n",
    "\n",
    "desc_layout1 = widgets.Layout(width = '280px')\n",
    "desc_layout2 = widgets.Layout(width = '280px',\n",
    "                             height = '400px'\n",
    ")\n",
    "\n",
    "#topic menu for descriptions\n",
    "topic_widg = widgets.Dropdown(\n",
    "    options=topic_list,\n",
    "    description='Topic:',\n",
    "    layout = desc_layout1,\n",
    ")\n",
    "\n",
    "#descriptions for each topic\n",
    "topicdesc_widg = widgets.Textarea(\n",
    "    value=topic_dict[topic_widg.value],\n",
    "    layout = desc_layout2,\n",
    ")\n",
    "\n",
    "descriptions = widgets.VBox([topic_widg,topicdesc_widg])\n",
    "\n",
    "plot_out2 = widgets.Output(layout={'width': '75%', 'border': '1px solid green'})\n",
    "\n",
    "\n",
    "def run_button_clicked3(b):\n",
    "    b.button_style='warning'\n",
    "    plotly_plot(plot_out2)\n",
    "    b.button_style=''\n",
    "button3 = widgets.Button(description=\"SIMULATE\")\n",
    "button3.on_click(run_button_clicked3)\n",
    "left = widgets.VBox([ button3], layout={'min_width': '380px'})\n",
    "widgets.HBox([left,plot_out2], layout= {'justify_content': 'space-between'})\n",
    "\n",
    "\n",
    "vlabels2 = widgets.VBox([beamlabel,beamlabel_std,fluxlabel,fluxlabel_std,sizelabel,sizelabel_std])\n",
    "outlabels = widgets.VBox([BeamCurrent,BeamCurrent_std,SurfFlux,SurfFlux_std,EstimatedSize,EstimatedSize_std])\n",
    "outlabels2 = widgets.HBox([vlabels2,outlabels])\n",
    "input1 = widgets.VBox([dimlabel,dimin,inputs2],layout=widgets.Layout(border='solid'))\n",
    "FullBox = widgets.VBox([input1,outlabels2,button3])\n",
    "all_in=widgets.HBox([FullBox,plot_out2], layout= {'justify_content': 'space-between'})"
   ]
  },
  {
   "cell_type": "code",
   "execution_count": 8,
   "metadata": {
    "extensions": {
     "jupyter_dashboards": {
      "version": 1,
      "views": {
       "grid_default": {
        "col": 0,
        "height": 18,
        "hidden": false,
        "row": 3,
        "width": 3
       },
       "report_default": {
        "hidden": false
       }
      }
     }
    },
    "scrolled": false
   },
   "outputs": [
    {
     "data": {
      "application/vnd.jupyter.widget-view+json": {
       "model_id": "05029007303b42eb92402ac15bed659a",
       "version_major": 2,
       "version_minor": 0
      },
      "text/plain": [
       "Tab(children=(HBox(children=(VBox(children=(VBox(children=(Label(value=' Target dimensions, nm', layout=Layout…"
      ]
     },
     "metadata": {},
     "output_type": "display_data"
    }
   ],
   "source": [
    "tab_view = widgets.Tab()\n",
    "tab_view.children = [all_in,descriptions]\n",
    "tab_view.set_title(0, 'Input Parameters')\n",
    "tab_view.set_title(1, 'Input Descriptions')\n",
    "display(tab_view)"
   ]
  },
  {
   "cell_type": "code",
   "execution_count": 9,
   "metadata": {
    "extensions": {
     "jupyter_dashboards": {
      "version": 1,
      "views": {
       "grid_default": {
        "hidden": true
       },
       "report_default": {}
      }
     }
    },
    "scrolled": false
   },
   "outputs": [
    {
     "data": {
      "text/html": [
       "<a href='out.log' target='_blank'>out.log</a><br>"
      ],
      "text/plain": [
       "/home/nanohub/sixianj2/FIB_MD/out.log"
      ]
     },
     "metadata": {},
     "output_type": "display_data"
    },
    {
     "data": {
      "text/html": [
       "<a href='data/mdrun2.xyz' target='_blank'>data/mdrun2.xyz</a><br>"
      ],
      "text/plain": [
       "/home/nanohub/sixianj2/FIB_MD/data/mdrun2.xyz"
      ]
     },
     "metadata": {},
     "output_type": "display_data"
    },
    {
     "data": {
      "text/html": [
       "<a href='data/OvitoTemplate.ovito' target='_blank'>data/OvitoTemplate.ovito</a><br>"
      ],
      "text/plain": [
       "/home/nanohub/sixianj2/FIB_MD/data/OvitoTemplate.ovito"
      ]
     },
     "metadata": {},
     "output_type": "display_data"
    }
   ],
   "source": [
    "!touch out.log data/mdrun2.xyz data/3dmol2.xyz\n",
    "#file download links\n",
    "outfile = FileLink(\"out.log\")\n",
    "xyzfile = FileLink(\"data/mdrun2.xyz\")\n",
    "ovitofile = FileLink(\"data/OvitoTemplate.ovito\")\n",
    "display(outfile,xyzfile,ovitofile)"
   ]
  },
  {
   "cell_type": "code",
   "execution_count": 10,
   "metadata": {},
   "outputs": [],
   "source": [
    "##For determining how to distribute processor load in domain\n",
    "#list of prime factors for some number 'n'\n",
    "def prime_factors(n):\n",
    "    i = 2\n",
    "    factors = []\n",
    "    while i * i <= n:\n",
    "        if n % i:\n",
    "            i += 1\n",
    "        else:\n",
    "            n //= i\n",
    "            factors.append(i)\n",
    "    if n > 1:\n",
    "        factors.append(n)\n",
    "    return factors\n",
    "\n",
    "#determine 3 integer factors of nc that are closest together\n",
    "def primefactors3(nc):\n",
    "    a=prime_factors(nc)\n",
    "    z = np.ones(3,dtype=np.int8)\n",
    "    zb = []\n",
    "\n",
    "    if len(a) < 3:\n",
    "        z[3-len(a):] = a\n",
    "        b = range(0)\n",
    "    else:\n",
    "        z = z = a[len(a)-3:]\n",
    "        b = range(len(a)-4,-1,-1)\n",
    "\n",
    "    for i in b:\n",
    "        indmin = np.argmin(z)\n",
    "        z[indmin]=z[indmin]*a[i]    \n",
    "\n",
    "    zb.append(z[np.argmax(z)])\n",
    "    zb.append(int(np.sum(z)-z[np.argmin(z)]-z[np.argmax(z)]))\n",
    "    zb.append(z[np.argmin(z)])\n",
    "    return zb\n",
    "\n",
    "#Create the input file from siga.in.template\n",
    "def get_template():\n",
    "    procs = primefactors3(pin.value)\n",
    "    if ain.value == 0:\n",
    "        atmoutin1 = -1\n",
    "        atmoutin2 = -1\n",
    "    else:\n",
    "        atmoutin1 = int(ain.value/10)\n",
    "        atmoutin2 = ain.value\n",
    "        dims = [int(xdimin.value/silat), int(ydimin.value/silat), int(zdimin.value/silat)]\n",
    "        \n",
    "    inputs = list([str(keVin.value),str(dims[0]),str(dims[1]),str(dims[2]),\n",
    "                         str(procs[0]),str(procs[1]),str(procs[2]),str(tempin.value),str(nin.value),str(atmoutin1),str(atmoutin2),\n",
    "                         str(dtin.value*1e-12),str(fin.value),str(phizin.value),str(phixyin.value)])\n",
    "    \n",
    "    tags = list(['keV','xdim','ydim','zdim',\n",
    "                 'procsx','procsy','procsz','Ttar1','nlj','atmout1','atmout2',\n",
    "                 'dtion','fwhm','phiz','phixy'])\n",
    "\n",
    "    input_dict = dict(zip(tags, inputs))\n",
    "    temp_contents = open('siga.in.template').read()\n",
    "    tempstr = Template(temp_contents)\n",
    "    return tempstr.substitute(input_dict)\n",
    "\n",
    "\n",
    "##Callback functions \n",
    "def BC_cb(change):\n",
    "    BeamCurrent.value = str(1.602e-19/(dtin.value*1e-12)*1e9) #atoms/ps to nA\n",
    "    \n",
    "def ES_cb(change):\n",
    "    if ain.value <= 0:\n",
    "        EstimatedSize.value = '0'\n",
    "    else:\n",
    "        EstimatedSize.value = '%0.3f'%(6.5e-05*(np.floor(xdimin.value/silat) * \n",
    "                      np.floor(ydimin.value/silat) * \n",
    "                      np.floor(zdimin.value/silat))*8*\n",
    "             (.1/.02e-3 /(ain.value/10) + (dtin.value-.1)/.2e-3/(ain.value))*nin.value)\n",
    "\n",
    "def SF_cb(change):\n",
    "    SurfFlux.value = '%1.4E'%(1/dtin.value/((fin.value/2.355*4*1e-7)**2*np.pi/4))\n",
    "        \n",
    "def topic_cb(change):\n",
    "    topicdesc_widg.value = topic_dict[topic_widg.value]\n",
    "    \n",
    "#button click run function\n",
    "def my_start(s):\n",
    "    rname = s.make_rname(pin.value)\n",
    "    !rm siga.in\n",
    "    with open('siga.in', 'w') as tfile:\n",
    "        tfile.write(get_template())\n",
    "\n",
    "    # run locally for now, also split output to out.log and stdout\n",
    "    submit_str = '--local mpirun -np %i bin/mdrun2 | tee out.log'%(pin.value)\n",
    "    s.run(rname, submit_str)\n",
    "    \n",
    "#button click for updating the visualization window\n",
    "def updateviewer(ev):\n",
    "    display(Javascript('IPython.notebook.execute_cells_below()'))\n",
    "UV = widgets.Button(button_style='info',description=\"Update Viewer\")\n",
    "UV.on_click(updateviewer)\n",
    "\n",
    "\n",
    "\n",
    "## Observers, for dynamic input/output box updates\n",
    "dtin.observe(BC_cb,names = 'value')\n",
    "dtin.observe(ES_cb,names = 'value')\n",
    "dtin.observe(SF_cb,names = 'value')\n",
    "ain.observe(ES_cb,names = 'value')\n",
    "nin.observe(ES_cb,names = 'value')\n",
    "xdimin.observe(ES_cb,names = 'value')\n",
    "ydimin.observe(ES_cb,names = 'value')\n",
    "zdimin.observe(ES_cb,names = 'value')\n",
    "fin.observe(SF_cb,names = 'value')\n",
    "topic_widg.observe(topic_cb, names='value')\n",
    "\n",
    "#definition for the visualization window\n",
    "p = py3Dmol.view(width=520,height=520)"
   ]
  },
  {
   "cell_type": "code",
   "execution_count": 11,
   "metadata": {},
   "outputs": [
    {
     "data": {
      "application/vnd.jupyter.widget-view+json": {
       "model_id": "8c7ad972c9d24ed08a11b1e53e858c76",
       "version_major": 2,
       "version_minor": 0
      },
      "text/plain": [
       "VBox(children=(Button(button_style='success', description='Run', style=ButtonStyle(), tooltip='Run Simulation'…"
      ]
     },
     "metadata": {},
     "output_type": "display_data"
    }
   ],
   "source": [
    "test = Submit(start_func=my_start, cachename='SubmitTest')\n",
    "test"
   ]
  },
  {
   "cell_type": "code",
   "execution_count": 12,
   "metadata": {},
   "outputs": [
    {
     "data": {
      "application/vnd.jupyter.widget-view+json": {
       "model_id": "b0cf7056a4d44eb9b1fa694bfca81a4d",
       "version_major": 2,
       "version_minor": 0
      },
      "text/plain": [
       "Button(button_style='info', description='Update Viewer', style=ButtonStyle())"
      ]
     },
     "metadata": {},
     "output_type": "display_data"
    }
   ],
   "source": [
    "display(UV)"
   ]
  },
  {
   "cell_type": "code",
   "execution_count": 13,
   "metadata": {},
   "outputs": [
    {
     "data": {
      "application/3dmoljs_load.v0": "<div id=\"3dmolviewer_1679600369830253\"  style=\"position: relative; width: 520px; height: 520px\">\n        <p id=\"3dmolwarning_1679600369830253\" style=\"background-color:#ffcccc;color:black\">You appear to be running in JupyterLab (or JavaScript failed to load for some other reason).  You need to install the 3dmol extension: <br>\n        <tt>jupyter labextension install jupyterlab_3dmol</tt></p>\n        </div>\n<script>\n\nvar loadScriptAsync = function(uri){\n  return new Promise((resolve, reject) => {\n    var tag = document.createElement('script');\n    tag.src = uri;\n    tag.async = true;\n    tag.onload = () => {\n      resolve();\n    };\n  var firstScriptTag = document.getElementsByTagName('script')[0];\n  firstScriptTag.parentNode.insertBefore(tag, firstScriptTag);\n});\n};\n\nif(typeof $3Dmolpromise === 'undefined') {\n$3Dmolpromise = null;\n  $3Dmolpromise = loadScriptAsync('https://3dmol.csb.pitt.edu/build/3Dmol.js');\n}\n\nvar viewer_1679600369830253 = null;\nvar warn = document.getElementById(\"3dmolwarning_1679600369830253\");\nif(warn) {\n    warn.parentNode.removeChild(warn);\n}\n$3Dmolpromise.then(function() {\nviewer_1679600369830253 = $3Dmol.createViewer($(\"#3dmolviewer_1679600369830253\"),{backgroundColor:\"white\"});\n\tviewer_1679600369830253.clear();\n\tviewer_1679600369830253.addModel(\"     1945\\n        type       x (A)       y (A)       z (A)Time (ps) =      1.00000\\n      Si    0.0000    0.0000    0.0000\\n      Si    0.0000    2.7155    2.7155\\n      Si    1.3781    1.3434    4.0432\\n      Si    1.2203    3.8861    1.2234\\n      Si    2.7155    0.0000    2.7155\\n      Si    1.7656    1.8586    0.0446\\n      Si    3.8488    1.2487    1.1239\\n      Si    4.0371    3.9973    4.0964\\n      Si    0.0000    0.0000    5.4311\\n      Si    0.0000    2.7155    8.1466\\n      Si    1.3649    1.4048    9.5189\\n      Si    1.4059    4.0086    6.8002\\n      Si    2.7155    0.0000    8.1466\\n      Si    2.6957    2.5821    5.4192\\n      Si    4.0569    1.2796    6.8084\\n      Si    4.1123    3.9877    9.3990\\n      Si    0.0000    0.0000   10.8621\\n      Si    0.0000    2.7155   13.5777\\n      Si    1.4437    1.4483   14.8825\\n      Si    1.2754    4.1199   12.2605\\n      Si    2.7155    0.0000   13.5777\\n      Si    2.6859    2.8136   10.8946\\n      Si    4.1261    1.4179   12.2159\\n      Si    4.6145    4.5945   14.9070\\n      Si    0.0000    5.4311    0.0000\\n      Si    0.0000    8.1466    2.7155\\n      Si    1.3988    6.6985    3.9683\\n      Si    1.2645    9.2989    1.2922\\n      Si    2.6023    5.1287    2.6603\\n      Si    1.8267    7.2367    0.1873\\n      Si    3.8318    6.3933    1.1639\\n      Si    4.0061    9.3350    3.9552\\n      Si    0.0000    5.4311    5.4311\\n      Si    0.0000    8.1466    8.1466\\n      Si    1.4022    6.8208    9.5228\\n      Si    1.3859    9.4244    6.7580\\n      Si    2.7638    5.4641    8.1206\\n      Si    2.6732    7.9975    5.3878\\n      Si    4.1621    6.7543    6.6536\\n      Si    4.0451    9.6161    9.4407\\n      Si    0.0000    5.4311   10.8621\\n      Si    0.0000    8.1466   13.5777\\n      Si    1.7541    7.2627   14.8839\\n      Si    1.4557    9.4917   12.2578\\n      Si    2.7272    5.4182   13.5522\\n      Si    2.7876    8.1392   10.8571\\n      Si    4.0644    6.7444   12.1350\\n      Si    3.5831    9.0958   14.8779\\n      Si    0.0000   10.8621    0.0000\\n      Si    0.0000   13.5777    2.7155\\n      Si    1.3237   12.1388    3.9654\\n      Si    1.3712   14.8910    1.2528\\n      Si    2.6825   10.6917    2.5772\\n      Si    2.7291   13.4246  162.8722\\n      Si    4.1444   12.2260    1.3392\\n      Si    4.0379   14.9577    3.8839\\n      Si    0.0000   10.8621    5.4311\\n      Si    0.0000   13.5777    8.1466\\n      Si    1.3242   12.2233    9.5695\\n      Si    1.3290   14.9676    6.8130\\n      Si    2.6019   10.8854    8.1055\\n      Si    2.7081   13.6147    5.3292\\n      Si    4.0242   12.1718    6.7080\\n      Si    4.1382   15.0304    9.4066\\n      Si    0.0000   10.8621   10.8621\\n      Si    0.0000   13.5777   13.5777\\n      Si    1.4241   12.2078   15.0201\\n      Si    1.4124   15.0479   12.2237\\n      Si    2.7559   10.9539   13.5962\\n      Si    2.8231   13.6660   10.8364\\n      Si    4.2015   12.2375   12.2382\\n      Si    4.2743   15.1350   14.8546\\n      Si    0.0000   16.2932    0.0000\\n      Si    0.0000   19.0088    2.7155\\n      Si    1.3298   17.7137    4.0640\\n      Si    1.3969   20.3437    1.3654\\n      Si    2.6084   16.3121    2.6756\\n      Si    2.7499   19.0530  162.8480\\n      Si    3.9783   17.6404    1.3216\\n      Si    4.1088   20.2762    3.9578\\n      Si    0.0000   16.2932    5.4311\\n      Si    0.0000   19.0088    8.1466\\n      Si    1.2861   17.6435    9.4905\\n      Si    1.3690   20.3940    6.8017\\n      Si    2.7103   16.3454    8.1474\\n      Si    2.7049   18.9979    5.4282\\n      Si    4.0797   17.6911    6.7482\\n      Si    4.0313   20.3881    9.4738\\n      Si    0.0000   16.2932   10.8621\\n      Si    0.0000   19.0088   13.5777\\n      Si    1.9399   18.0931   14.8041\\n      Si    1.3817   20.3980   12.0896\\n      Si    2.8756   16.4529   13.4314\\n      Si    2.7116   19.0072   10.7935\\n      Si    4.1482   17.7557   12.0828\\n      Si    3.6647   19.9382   14.6050\\n      Si    0.0000   21.7243    0.0000\\n      Si    0.0000   24.4398    2.7155\\n      Si    1.3289   23.0930    4.0555\\n      Si    1.3439   25.9000    1.3664\\n      Si    2.7955   21.7925    2.7465\\n      Si    3.3140   25.1060    0.2804\\n      Si    4.1849   23.1952    1.3186\\n      Si    4.1317   25.9075    4.1021\\n      Si    0.0000   21.7243    5.4311\\n      Si    0.0000   24.4398    8.1466\\n      Si    1.4483   23.0576    9.5585\\n      Si    1.3434   25.8450    6.8079\\n      Si    2.7195   21.7785    8.1315\\n      Si    2.7285   24.4638    5.4612\\n      Si    4.1015   23.0511    6.7167\\n      Si    4.2073   25.6981    9.4985\\n      Si    0.0000   21.7243   10.8621\\n      Si    0.0000   24.4398   13.5777\\n      Si    0.3508   22.1922   14.8502\\n      Si    1.4724   25.8090   12.1983\\n      Si    2.5477   21.8278   13.6838\\n      Si    2.8863   24.4040   10.9075\\n      Si    4.0626   23.0138   12.3486\\n      Si    4.6963   26.1056   14.8126\\n      Si    0.0000   27.1554    0.0000\\n      Si    0.0000   29.8709    2.7155\\n      Si    1.3556   28.5895    4.0861\\n      Si    1.4200   31.1743    1.4701\\n      Si    2.6727   27.1923    2.7687\\n      Si    2.8591   29.9926    0.0275\\n      Si    4.0581   28.3934    1.3854\\n      Si    4.1862   31.1162    4.0081\\n      Si    0.0000   27.1554    5.4311\\n      Si    0.0000   29.8709    8.1466\\n      Si    1.4590   28.5338    9.5296\\n      Si    1.3470   31.1994    6.8055\\n      Si    2.7779   27.0990    8.1986\\n      Si    2.7152   29.8956    5.4853\\n      Si    4.0944   28.4472    6.7782\\n      Si    4.0878   31.0469    9.6158\\n      Si    0.0000   27.1554   10.8621\\n      Si    0.0000   29.8709   13.5777\\n      Si    1.6793   28.9115   14.8975\\n      Si    1.3706   31.2105   12.2845\\n      Si    2.8503   27.1393   13.7059\\n      Si    2.7121   29.8258   10.9543\\n      Si    4.0581   28.4062   12.1462\\n      Si    3.4692   30.6289   14.9618\\n      Si    0.0000   32.5864    0.0000\\n      Si    0.0000   35.3020    2.7155\\n      Si    1.3453   33.9619    4.0419\\n      Si    1.3901   36.6450    1.3917\\n      Si    2.7866   32.5869    2.7982\\n      Si    3.3869   35.8341    0.3130\\n      Si    4.1959   34.0049    1.5359\\n      Si    4.0015   36.5490    4.2415\\n      Si    0.0000   32.5864    5.4311\\n      Si    0.0000   35.3020    8.1466\\n      Si    1.3830   33.9488    9.5188\\n      Si    1.3871   36.6905    6.8636\\n      Si    2.6844   32.4762    8.2480\\n      Si    2.5712   35.2684    5.4979\\n      Si    3.9561   33.8768    6.7890\\n      Si    4.0954   36.6764    9.5628\\n      Si    0.0000   32.5864   10.8621\\n      Si    0.0000   35.3020   13.5777\\n      Si    1.7621   34.3721   14.7856\\n      Si    1.2777   36.5801   12.1042\\n      Si    2.7076   32.5263   13.7013\\n      Si    2.7749   35.2310   10.8797\\n      Si    4.1018   33.8060   12.3308\\n      Si    3.5035   36.1641   15.0531\\n      Si    0.0000   38.0175    0.0000\\n      Si    0.0000   40.7330    2.7155\\n      Si    1.2601   39.4236    4.1740\\n      Si    1.5273   42.0929    1.3227\\n      Si    2.7677   38.0627    2.9154\\n      Si    2.7404   40.7498  162.8960\\n      Si    4.0951   39.4044    1.3438\\n      Si    4.0835   42.0742    4.0072\\n      Si    0.0000   38.0175    5.4311\\n      Si    0.0000   40.7330    8.1466\\n      Si    1.4420   39.3963    9.5237\\n      Si    1.4126   42.0760    6.8141\\n      Si    2.7137   38.0117    8.2257\\n      Si    2.7350   40.7362    5.3704\\n      Si    4.0018   39.3720    6.8444\\n      Si    4.1527   42.1200    9.6211\\n      Si    0.0000   38.0175   10.8621\\n      Si    0.0000   40.7330   13.5777\\n      Si    0.3483   38.5256   14.6862\\n      Si    1.4484   42.1655   12.2854\\n      Si    2.4127   37.9406   13.7793\\n      Si    2.8552   40.6876   11.0495\\n      Si    4.0849   39.3106   12.6262\\n      Si    4.0662   42.0306   15.1150\\n      Si    0.0000   43.4486    0.0000\\n      Si    0.0000   46.1641    2.7155\\n      Si    1.4096   44.7878    4.0615\\n      Si    1.3578   47.5219    1.3578\\n      Si    2.7634   43.4262    2.6946\\n      Si    2.7961   46.2392  162.8831\\n      Si    4.0281   44.8404    1.3795\\n      Si    4.0733   47.5219    4.0733\\n      Si    0.0000   43.4486    5.4311\\n      Si    0.0000   46.1641    8.1466\\n      Si    1.4223   44.8938    9.5698\\n      Si    1.3578   47.5219    6.7888\\n      Si    2.7288   43.3693    8.2931\\n      Si    2.7461   46.2419    5.4127\\n      Si    4.0001   44.7608    6.8456\\n      Si    4.0733   47.5219    9.5044\\n      Si    0.0000   43.4486   10.8621\\n      Si    0.0000   46.1641   13.5777\\n      Si    1.4139   44.9468   14.9818\\n      Si    1.3578   47.5219   12.2199\\n      Si    2.7975   43.5541   13.7467\\n      Si    2.8478   46.1466   10.9690\\n      Si    4.2180   44.8396   12.3818\\n      Si    4.0733   47.5219   14.9355\\n      Si    5.4311    0.0000    0.0000\\n      Si    5.2199    2.6231    2.5812\\n      Si    6.7094    1.3146    4.0303\\n      Si    6.5902    3.8307    1.1190\\n      Si    8.1466    0.0000    2.7155\\n      Si    7.2133    1.6790  162.9250\\n      Si    9.3709    1.3539    1.2060\\n      Si    9.3988    4.0655    3.8593\\n      Si    5.4311    0.0000    5.4311\\n      Si    5.4790    2.6366    8.1156\\n      Si    6.7678    1.3992    9.5259\\n      Si    6.7421    4.0209    6.7601\\n      Si    8.1466    0.0000    8.1466\\n      Si    8.1389    2.7130    5.3573\\n      Si    9.4867    1.3604    6.6963\\n      Si    9.5106    4.1185    9.4559\\n      Si    5.4311    0.0000   10.8621\\n      Si    5.4660    2.7817   13.7044\\n      Si    7.2414    1.8129   14.6883\\n      Si    6.6725    4.0872   12.1572\\n      Si    8.1466    0.0000   13.5777\\n      Si    8.1045    2.7837   10.9072\\n      Si    9.4736    1.3559   12.2603\\n      Si    8.9153    3.5097   14.6177\\n      Si    5.2536    5.1958  162.5774\\n      Si    5.2399    7.8658    2.5343\\n      Si    6.8250    6.7069    3.8040\\n      Si    6.6709    9.3682    1.2685\\n      Si    8.0386    5.3101    2.3659\\n      Si    8.0507    8.0770  162.7407\\n      Si    9.4378    6.6955    1.0700\\n      Si    9.3804    9.5384    3.8844\\n      Si    5.4970    5.4195    5.3248\\n      Si    5.4802    8.2186    7.9543\\n      Si    6.7604    6.8940    9.4050\\n      Si    6.8166    9.6665    6.5775\\n      Si    8.1292    5.4540    8.0922\\n      Si    8.0728    8.2365    5.1378\\n      Si    9.3810    6.8749    6.5702\\n      Si    9.4334    9.4992    9.4616\\n      Si    5.3835    5.4436   10.7351\\n      Si    5.3401    8.0338   13.5632\\n      Si    6.2425    6.2078   14.7351\\n      Si    6.6371    9.5811   12.1836\\n      Si    7.9838    5.3308   13.5508\\n      Si    7.9600    8.2402   10.8528\\n      Si    9.2678    6.7936   12.1897\\n      Si    9.5264    9.6425   14.8498\\n      Si    5.2595   10.6650  162.7859\\n      Si    5.5237   13.7028    2.6187\\n      Si    6.7726   12.2544    3.9143\\n      Si    6.7830   15.0967    1.1697\\n      Si    8.0492   10.8632    2.5202\\n      Si    8.1863   13.7193  162.6975\\n      Si    9.4903   12.3427    1.2505\\n      Si    9.5003   15.1526    4.0822\\n      Si    5.3347   10.8631    5.1931\\n      Si    5.3619   13.5693    8.0400\\n      Si    6.6449   12.3235    9.5115\\n      Si    6.6880   14.9877    6.6622\\n      Si    8.0669   11.0022    8.1528\\n      Si    8.0679   13.7294    5.2386\\n      Si    9.2977   12.2426    6.5994\\n      Si    9.4219   14.9293    9.4123\\n      Si    5.4289   10.9781   10.8359\\n      Si    5.5541   13.7480   13.4838\\n      Si    7.4145   12.9443   14.6617\\n      Si    6.8564   15.1097   12.0044\\n      Si    8.1218   10.9866   13.5016\\n      Si    8.1974   13.5175   10.7844\\n      Si    9.6915   12.1762   12.1726\\n      Si    9.0961   14.4907   14.5903\\n      Si    5.3321   16.3793  162.7454\\n      Si    5.4823   19.0136    2.5193\\n      Si    6.7824   17.7585    3.8861\\n      Si    6.9547   20.3657    1.1216\\n      Si    8.1690   16.4058    2.6827\\n      Si    8.9243   19.4648  162.7908\\n      Si    9.6736   17.7978    1.3353\\n      Si    9.6112   20.4876    3.9812\\n      Si    5.3081   16.4031    5.1909\\n      Si    5.4694   19.0789    8.0682\\n      Si    6.8170   17.7492    9.3800\\n      Si    6.8098   20.4268    6.6099\\n      Si    8.1321   16.3335    8.0448\\n      Si    8.1874   19.0668    5.2188\\n      Si    9.5731   17.6706    6.6405\\n      Si    9.6509   20.4483    9.5006\\n      Si    5.4255   16.4286   10.7158\\n      Si    5.4865   19.0032   13.4294\\n      Si    7.4597   18.1417   14.7453\\n      Si    6.7810   20.4224   12.1505\\n      Si    8.3385   16.2867   13.4159\\n      Si    8.1578   19.0627   10.7851\\n      Si    9.7222   17.6039   12.0968\\n      Si    9.2687   19.8082   14.7003\\n      Si    5.9483   22.2419  162.9185\\n      Si    5.4661   24.5243    2.7064\\n      Si    6.8672   23.0637    3.9329\\n      Si    6.8146   25.6882    1.1988\\n      Si    8.2013   21.6751    2.5429\\n      Si    7.6553   23.9237  162.9237\\n      Si    9.5465   23.1036    1.1608\\n      Si    9.5710   25.8496    3.9711\\n      Si    5.4426   21.7613    5.2839\\n      Si    5.4811   24.3063    8.1245\\n      Si    6.9120   23.0621    9.5016\\n      Si    6.8668   25.7595    6.7423\\n      Si    8.2322   21.7285    8.0010\\n      Si    8.2081   24.5125    5.2666\\n      Si    9.5308   23.2241    6.7326\\n      Si    9.5406   25.9384    9.5488\\n      Si    5.3596   21.7770   10.8451\\n      Si    5.5007   24.2549   13.6287\\n      Si    6.8515   22.9326   14.9987\\n      Si    6.8360   25.6409   12.2574\\n      Si    8.2624   21.6314   13.5007\\n      Si    8.2819   24.5138   10.8373\\n      Si    9.6467   23.1568   12.2353\\n      Si   10.1396   26.4066   15.0050\\n      Si    5.0396   26.6162    0.0309\\n      Si    5.6843   29.7337    2.6439\\n      Si    7.0386   28.3997    3.8499\\n      Si    7.0791   31.1672    1.1987\\n      Si    8.2849   27.1034    2.3814\\n      Si    8.8622   30.2587  162.7850\\n      Si    9.7686   28.5035    1.1620\\n      Si    9.6349   31.2135    3.9898\\n      Si    5.6117   27.2685    5.3495\\n      Si    5.3996   29.7124    8.1498\\n      Si    6.7561   28.3572    9.4568\\n      Si    6.7923   31.1258    6.7944\\n      Si    8.2490   27.1213    8.1525\\n      Si    8.2188   29.7708    5.3277\\n      Si    9.5638   28.4674    6.7443\\n      Si    9.4551   31.2639    9.5558\\n      Si    5.4749   27.0249   10.8784\\n      Si    5.3018   29.6263   13.6761\\n      Si    6.3032   27.8705   15.1237\\n      Si    6.8039   30.9969   12.4258\\n      Si    8.2105   27.1152   13.6811\\n      Si    8.0318   29.7925   10.8347\\n      Si    9.4603   28.4493   12.1461\\n      Si    9.4769   30.9974   15.1169\\n      Si    5.9117   33.0560    0.1709\\n      Si    5.4484   35.2473    2.9472\\n      Si    6.8120   33.8042    4.0993\\n      Si    6.7240   36.5926    1.4947\\n      Si    8.1534   32.5075    2.6402\\n      Si    7.6764   34.8023    0.1799\\n      Si    9.5157   33.7336    1.3219\\n      Si    9.4315   36.6365    4.0916\\n      Si    5.4004   32.4539    5.4821\\n      Si    5.3789   35.2497    8.1274\\n      Si    6.7508   33.8368    9.5473\\n      Si    6.6870   36.6263    6.8045\\n      Si    8.1794   32.5675    8.1326\\n      Si    8.0861   35.2940    5.4668\\n      Si    9.3819   33.9412    6.7820\\n      Si    9.2799   36.6267    9.6961\\n      Si    5.4897   32.3303   11.0434\\n      Si    5.3427   35.0793   13.8056\\n      Si    6.6725   33.7417   15.1672\\n      Si    6.6193   36.5747   12.4262\\n      Si    8.0773   32.3591   13.8168\\n      Si    7.9209   35.2335   11.0524\\n      Si    9.3270   33.8656   12.3839\\n      Si    9.3548   36.4743   14.8744\\n      Si    5.0184   37.5891    0.2780\\n      Si    5.4014   40.6801    2.7687\\n      Si    6.7122   39.3297    4.0773\\n      Si    6.8686   42.0662    1.5466\\n      Si    8.1001   38.0602    2.7215\\n      Si    8.5804   41.2530    0.2266\\n      Si    9.5798   39.4766    1.3726\\n      Si    9.4107   42.1351    4.2577\\n      Si    5.3290   38.0072    5.4408\\n      Si    5.3014   40.7560    8.2450\\n      Si    6.6713   39.4118    9.5876\\n      Si    6.6662   42.1166    6.8534\\n      Si    7.9719   37.9745    8.2097\\n      Si    7.9932   40.6907    5.4626\\n      Si    9.3421   39.3461    6.8290\\n      Si    9.3409   42.0410    9.5209\\n      Si    5.3585   38.0450   11.0753\\n      Si    5.4342   40.7029   13.8096\\n      Si    6.6017   39.2737   15.1898\\n      Si    6.7907   42.0980   12.5464\\n      Si    7.9552   37.9440   13.7964\\n      Si    8.0387   40.6913   11.0612\\n      Si    9.3794   39.2651   12.3607\\n      Si   10.2072   42.6874   14.9490\\n      Si    5.9266   43.8127    0.1780\\n      Si    5.4028   46.1186    2.7573\\n      Si    6.7177   44.8248    4.1722\\n      Si    6.7888   47.5219    1.3578\\n      Si    8.0534   43.4616    2.8939\\n      Si    7.6367   45.6986  162.8618\\n      Si    9.3590   44.8262    1.3678\\n      Si    9.5044   47.5219    4.0733\\n      Si    5.3299   43.4488    5.4095\\n      Si    5.4301   46.0787    8.2124\\n      Si    6.7727   44.7185    9.5933\\n      Si    6.7888   47.5219    6.7888\\n      Si    8.0993   43.5195    8.1375\\n      Si    8.1400   46.2013    5.4796\\n      Si    9.4523   44.8261    6.7410\\n      Si    9.5044   47.5219    9.5044\\n      Si    5.4977   43.4428   11.0284\\n      Si    5.5955   46.2407   13.7433\\n      Si    7.6455   45.5580   14.8590\\n      Si    6.7888   47.5219   12.2199\\n      Si    8.3406   43.4742   13.8345\\n      Si    8.0840   46.1495   10.8662\\n      Si    9.5299   44.8376   12.1823\\n      Si    9.5044   47.5219   14.9355\\n      Si   10.8621    0.0000    0.0000\\n      Si   10.7117    2.6563    2.5050\\n      Si   12.1152    1.3629    4.0038\\n      Si   12.1602    4.1051    1.1641\\n      Si   13.5777    0.0000    2.7155\\n      Si   12.7559    1.9667    0.2538\\n      Si   14.8000    1.3990    1.2305\\n      Si   14.9717    4.2005    3.9635\\n      Si   10.8621    0.0000    5.4311\\n      Si   10.7924    2.7293    8.0793\\n      Si   12.1666    1.3540    9.4113\\n      Si   12.1023    4.2269    6.7204\\n      Si   13.5777    0.0000    8.1466\\n      Si   13.5581    2.8907    5.3407\\n      Si   14.8918    1.4565    6.7859\\n      Si   14.8700    4.1498    9.5050\\n      Si   10.8621    0.0000   10.8621\\n      Si   10.8802    2.7540   13.5446\\n      Si   12.5553    1.6968   14.8545\\n      Si   12.0409    4.1509   12.0839\\n      Si   13.5777    0.0000   13.5777\\n      Si   13.4248    2.7336   10.8125\\n      Si   14.8291    1.3425   12.2513\\n      Si   14.3135    3.5319   14.7464\\n      Si   10.7920    5.2760  162.6634\\n      Si   10.6270    8.1635    2.3912\\n      Si   12.0701    6.8305    3.8526\\n      Si   12.1814    9.6535    1.2384\\n      Si   13.5139    5.5338    2.6213\\n      Si   14.1961    8.9210    0.1863\\n      Si   14.9197    7.0340    1.3469\\n      Si   14.9438    9.4030    4.0230\\n      Si   10.7360    5.4962    5.2285\\n      Si   10.7393    8.0709    8.1274\\n      Si   12.1626    6.7983    9.4976\\n      Si   12.0659    9.4035    6.7915\\n      Si   13.5092    5.5213    8.1241\\n      Si   13.5331    8.1047    5.3184\\n      Si   14.9335    6.8714    6.8488\\n      Si   14.9844    9.3263    9.4478\\n      Si   10.7549    5.5129   10.8417\\n      Si   10.7090    8.1610   13.5474\\n      Si   11.7491    6.6023   15.0572\\n      Si   12.2409    9.3895   12.2337\\n      Si   13.3298    5.3961   13.5555\\n      Si   13.6459    8.1170   10.9064\\n      Si   14.9536    6.7357   12.3424\\n      Si   15.5640   10.0255   14.5799\\n      Si   11.2761   11.4705    0.0018\\n      Si   10.7181   13.6381    2.8505\\n      Si   11.9566   12.1646    4.1875\\n      Si   12.2393   14.9758    1.4691\\n      Si   13.3938   10.7780    2.9515\\n      Si   13.1081   13.2345    0.0734\\n      Si   14.8976   12.0352    1.3919\\n      Si   15.1364   14.6736    3.9881\\n      Si   10.6718   10.7385    5.4166\\n      Si   10.7093   13.5104    8.0247\\n      Si   12.2045   12.0351    9.3645\\n      Si   12.1747   14.8088    6.6173\\n      Si   13.6608   10.6343    8.0628\\n      Si   13.5896   13.4490    5.3204\\n      Si   14.9746   12.1028    6.6883\\n      Si   15.0145   14.9745    9.3826\\n      Si   10.9617   10.7118   10.9052\\n      Si   10.9423   13.7115   13.4483\\n      Si   12.6612   12.6880   14.6972\\n      Si   12.2269   14.8882   11.8297\\n      Si   13.6033   10.9698   13.3576\\n      Si   13.5721   13.5040   10.5281\\n      Si   14.9804   12.3335   11.8814\\n      Si   14.3839   14.3766   14.7360\\n      Si   11.4482   16.7480    0.2616\\n      Si   11.0987   19.0746    2.8542\\n      Si   12.3755   17.5028    4.0778\\n      Si   12.3098   20.3981    1.2976\\n      Si   13.8762   16.2698    2.7474\\n      Si   13.0047   18.5157    0.0980\\n      Si   15.1480   17.7938    1.2783\\n      Si   14.9486   20.4850    3.9935\\n      Si   10.9314   16.2757    5.3932\\n      Si   10.9145   19.0657    8.0591\\n      Si   12.1805   17.7540    9.3968\\n      Si   12.2817   20.5054    6.7736\\n      Si   13.5082   16.3035    8.0133\\n      Si   13.5715   18.9975    5.2877\\n      Si   14.9490   17.6739    6.7050\\n      Si   15.0199   20.5098    9.3956\\n      Si   10.8495   16.2973   10.5779\\n      Si   11.1425   19.0136   13.4816\\n      Si   12.5866   17.6935   14.7834\\n      Si   12.4492   20.5386   12.0814\\n      Si   13.5910   16.1754   13.3512\\n      Si   13.6773   19.1264   10.6192\\n      Si   15.0595   17.9231   12.1420\\n      Si   15.5428   20.8526   14.6600\\n      Si   10.5893   21.2553    0.0852\\n      Si   10.9928   24.4856    2.6471\\n      Si   12.3449   23.2330    4.0291\\n      Si   12.5452   25.7548    1.3098\\n      Si   13.6388   21.8596    2.5970\\n      Si   13.9970   24.5044    0.0489\\n      Si   15.2872   23.2452    1.5162\\n      Si   15.1020   25.9302    4.2632\\n      Si   10.9368   21.8615    5.3954\\n      Si   10.9530   24.6450    8.1676\\n      Si   12.2988   23.1731    9.5554\\n      Si   12.3348   25.9648    6.6879\\n      Si   13.6757   21.9076    8.1108\\n      Si   13.5720   24.5731    5.4359\\n      Si   15.0924   23.1480    6.6676\\n      Si   15.0119   25.7990    9.3595\\n      Si   10.9288   21.8594   10.8791\\n      Si   11.1264   24.5911   13.6241\\n      Si   12.9519   23.6791   14.6976\\n      Si   12.4136   25.7733   12.0048\\n      Si   13.8278   21.9867   13.3549\\n      Si   13.6866   24.4847   10.6778\\n      Si   15.0756   23.1371   11.8282\\n      Si   14.5969   25.2830   14.7249\\n      Si   11.1501   27.0306  162.8123\\n      Si   11.0362   29.8180    2.6904\\n      Si   12.3266   28.6133    4.0440\\n      Si   12.4096   31.1923    1.3605\\n      Si   13.8979   27.2265    2.7369\\n      Si   14.3281   30.6512  162.9082\\n      Si   15.2373   28.7858    1.4138\\n      Si   14.9705   31.3849    4.1922\\n      Si   10.9234   27.2205    5.3562\\n      Si   10.8822   29.9114    8.1404\\n      Si   12.2821   28.6039    9.5474\\n      Si   12.2533   31.3091    6.8037\\n      Si   13.6685   27.3315    8.0903\\n      Si   13.6389   29.9401    5.4293\\n      Si   15.1675   28.6756    6.8307\\n      Si   14.8819   31.3661    9.6235\\n      Si   10.9354   27.1937   10.8168\\n      Si   10.8201   29.7545   13.5755\\n      Si   11.6912   27.9749   14.9208\\n      Si   12.2306   31.2427   12.2766\\n      Si   13.5772   27.1882   13.7344\\n      Si   13.5411   29.9316   10.9189\\n      Si   14.9116   28.6557   12.3023\\n      Si   15.3948   31.5828   14.9892\\n      Si   10.5298   31.9614    0.0884\\n      Si   10.8989   35.2983    2.6216\\n      Si   12.1441   33.9872    4.1045\\n      Si   12.3358   36.6813    1.2649\\n      Si   13.5865   32.7106    2.8186\\n      Si   14.3074   35.7498    0.1741\\n      Si   15.0423   34.0070    1.5283\\n      Si   15.0079   36.6044    4.0307\\n      Si   10.8550   32.6779    5.4733\\n      Si   10.6285   35.3130    8.1673\\n      Si   12.1012   34.0016    9.5669\\n      Si   12.0976   36.7736    6.8599\\n      Si   13.5578   32.6383    8.1644\\n      Si   13.4649   35.3717    5.4913\\n      Si   14.9238   34.0454    6.8458\\n      Si   14.8263   36.7388    9.5898\\n      Si   10.7996   32.5872   10.9624\\n      Si   10.7043   35.2231   13.6112\\n      Si   12.5686   34.5441   14.7095\\n      Si   12.0076   36.8089   12.3533\\n      Si   13.6138   32.6236   13.6780\\n      Si   13.4235   35.4203   10.9396\\n      Si   14.7956   34.0189   12.3029\\n      Si   14.1834   36.1770   14.8428\\n      Si   11.3855   38.4686    0.2622\\n      Si   10.8272   40.7874    2.9710\\n      Si   12.2113   39.3287    4.2025\\n      Si   12.1655   41.9802    1.4185\\n      Si   13.4985   38.0126    2.7670\\n      Si   13.0198   40.1168    0.2265\\n      Si   14.8845   39.2404    1.2993\\n      Si   15.0391   41.9874    3.9313\\n      Si   10.7463   38.0512    5.4935\\n      Si   10.8194   40.6690    8.1661\\n      Si   12.1024   39.2930    9.5047\\n      Si   12.2573   41.9776    6.7733\\n      Si   13.5127   38.0673    8.1657\\n      Si   13.6921   40.6949    5.3835\\n      Si   14.9586   39.3303    6.7564\\n      Si   14.9239   42.0161    9.3606\\n      Si   10.6840   38.0456   10.8344\\n      Si   10.9267   40.7911   13.6038\\n      Si   12.7305   39.8711   14.7774\\n      Si   12.1551   42.1011   11.9703\\n      Si   13.4926   38.0589   13.6874\\n      Si   13.6150   40.6237   10.7471\\n      Si   14.9129   39.3463   12.3099\\n      Si   14.4286   41.4948   14.7298\\n      Si   10.2533   42.9019    0.3533\\n      Si   10.9322   46.1202    2.6587\\n      Si   12.2970   44.7391    4.0439\\n      Si   12.2199   47.5219    1.3578\\n      Si   13.6555   43.4884    2.5191\\n      Si   14.4478   47.0735    0.3389\\n      Si   15.1015   44.9039    1.2248\\n      Si   14.9355   47.5219    4.0733\\n      Si   10.9217   43.3763    5.5228\\n      Si   10.8123   46.1316    8.1151\\n      Si   12.2352   44.8707    9.3984\\n      Si   12.2199   47.5219    6.7888\\n      Si   13.5262   43.4244    8.1100\\n      Si   13.6117   46.1815    5.3199\\n      Si   14.9112   44.8132    6.7002\\n      Si   14.9355   47.5219    9.5044\\n      Si   10.8126   43.5419   10.6216\\n      Si   10.9274   46.1614   13.5113\\n      Si   11.8791   44.3589   14.8595\\n      Si   12.2199   47.5219   12.2199\\n      Si   13.6104   43.3516   13.4558\\n      Si   13.4976   46.1963   10.8155\\n      Si   15.0183   44.8544   12.1273\\n      Si   14.9355   47.5219   14.9355\\n      Si   16.2932    0.0000    0.0000\\n      Si   16.2060    2.7360    2.5416\\n      Si   17.6428    1.5011    3.9651\\n      Si   17.7247    4.3127    1.4480\\n      Si   19.0088    0.0000    2.7155\\n      Si   19.4549    3.3700    0.2907\\n      Si   20.2779    1.4136    1.2136\\n      Si   20.5175    4.1136    4.2018\\n      Si   16.2932    0.0000    5.4311\\n      Si   16.2576    2.7979    8.1448\\n      Si   17.6166    1.3690    9.3865\\n      Si   17.5850    4.1177    6.7713\\n      Si   19.0088    0.0000    8.1466\\n      Si   18.9665    2.8076    5.4374\\n      Si   20.2713    1.3514    6.7962\\n      Si   20.3079    4.1384    9.5571\\n      Si   16.2932    0.0000   10.8621\\n      Si   16.2620    2.7488   13.5526\\n      Si   17.4755    1.3501   14.9985\\n      Si   17.5867    4.3245   12.2526\\n      Si   19.0088    0.0000   13.5777\\n      Si   18.7752    2.8369   10.9378\\n      Si   20.2975    1.5409   12.2632\\n      Si   20.9978    4.8262   14.5395\\n      Si   16.6935    5.9330    0.0851\\n      Si   16.3911    8.2522    2.6540\\n      Si   17.8042    6.9230    4.0351\\n      Si   17.7628    9.4701    1.0940\\n      Si   19.2459    5.5257    2.7619\\n      Si   18.6458    7.4470    0.0418\\n      Si   20.6507    6.7713    1.2343\\n      Si   20.6670    9.4445    4.0325\\n      Si   16.3361    5.4993    5.4259\\n      Si   16.4101    8.1641    8.0256\\n      Si   17.6355    6.7678    9.4046\\n      Si   17.8012    9.5076    6.7449\\n      Si   18.9658    5.4009    8.1168\\n      Si   19.2758    8.2247    5.4638\\n      Si   20.4217    6.6866    6.8205\\n      Si   20.5904    9.6265    9.4794\\n      Si   16.2882    5.5573   10.8618\\n      Si   16.4621    8.2860   13.3319\\n      Si   18.1807    7.3556   14.7112\\n      Si   17.7265    9.5647   11.9392\\n      Si   19.1825    5.6776   13.3675\\n      Si   19.0898    8.2076   10.6279\\n      Si   20.5261    6.9988   11.9996\\n      Si   19.8410    9.0801   14.6861\\n      Si   15.8113   10.3200  162.8461\\n      Si   16.5033   13.6155    2.4364\\n      Si   17.8035   12.1889    3.6805\\n      Si   17.7025   15.0528    1.0790\\n      Si   19.2916   10.8272    2.5042\\n      Si   19.5097   14.0744    0.1514\\n      Si   20.6069   12.3135    1.1081\\n      Si   20.2152   14.8056    3.8917\\n      Si   16.4592   10.8593    5.3508\\n      Si   16.3300   13.5531    7.9918\\n      Si   17.8522   12.3012    9.3684\\n      Si   17.6716   14.9807    6.6395\\n      Si   19.1707   10.9017    8.0787\\n      Si   18.8851   13.4910    5.2672\\n      Si   20.3634   12.2480    6.6619\\n      Si   20.3798   14.9853    9.4746\\n      Si   16.3765   10.8177   10.5568\\n      Si   16.0773   13.5821   13.4802\\n      Si   17.0452   11.8876   14.6303\\n      Si   17.6071   15.0231   12.2475\\n      Si   18.8559   10.8853   13.4684\\n      Si   19.0677   13.6823   10.9205\\n      Si   20.5021   12.3699   12.3102\\n      Si   21.0498   15.6823   14.6238\\n      Si   17.0466   16.9610  162.7449\\n      Si   16.4014   19.1450    2.7035\\n      Si   17.5818   17.7721    4.0905\\n      Si   18.0305   20.3455    1.3863\\n      Si   18.7415   16.2719    2.7285\\n      Si   18.6116   18.8285  162.6830\\n      Si   20.0333   17.3433    1.1299\\n      Si   20.5236   20.4287    3.9956\\n      Si   16.2721   16.2956    5.3041\\n      Si   16.2089   19.1059    8.0126\\n      Si   17.6570   17.7787    9.2659\\n      Si   17.7864   20.4575    6.7432\\n      Si   18.9444   16.3501    8.0257\\n      Si   19.0281   19.0300    5.3859\\n      Si   20.3991   17.6576    6.5483\\n      Si   20.6216   20.4645    9.4098\\n      Si   16.3719   16.4616   10.7305\\n      Si   16.6122   19.3024   13.3789\\n      Si   17.8525   17.8902   14.7714\\n      Si   17.9927   20.5036   12.0037\\n      Si   19.0604   16.4483   13.3922\\n      Si   19.1554   19.0830   10.6494\\n      Si   20.5630   17.7375   12.0236\\n      Si   21.1129   20.5257   14.6765\\n      Si   17.2059   22.5232    0.4016\\n      Si   16.5313   24.6346    3.0172\\n      Si   18.0568   23.2197    4.1450\\n      Si   17.8488   25.8545    1.6160\\n      Si   19.4653   21.8862    2.5659\\n      Si   18.9235   24.0837    0.3748\\n      Si   21.0430   23.0280    1.2247\\n      Si   20.7795   25.7447    4.0867\\n      Si   16.4117   21.8358    5.3020\\n      Si   16.4177   24.4778    8.0483\\n      Si   17.8437   23.2180    9.4122\\n      Si   17.9555   25.8842    6.9619\\n      Si   19.1823   21.7627    8.1326\\n      Si   19.3710   24.6414    5.5503\\n      Si   20.6171   23.2319    6.8506\\n      Si   20.6614   25.9659    9.4956\\n      Si   16.5051   21.7883   10.6855\\n      Si   16.3122   24.2971   13.3910\\n      Si   17.3436   22.4083   14.5542\\n      Si   17.6423   25.8805   12.2371\\n      Si   19.4177   21.6823   13.4596\\n      Si   19.1763   24.5642   10.8797\\n      Si   20.6116   23.2639   12.3082\\n      Si   20.1933   25.9938   14.9595\\n      Si   17.2423   27.6850    0.4414\\n      Si   16.4601   30.0891    2.9507\\n      Si   17.8159   28.6213    4.2081\\n      Si   17.9448   31.1193    1.2581\\n      Si   19.3190   27.1472    2.8571\\n      Si   18.8803   29.3259    0.3141\\n      Si   20.6203   28.4410    1.4605\\n      Si   20.2777   31.4659    4.2177\\n      Si   16.5456   27.2011    5.6185\\n      Si   16.2512   30.1029    8.2795\\n      Si   17.6483   28.6573    9.4805\\n      Si   17.6391   31.3520    6.8843\\n      Si   19.1480   27.3585    8.1721\\n      Si   18.9964   30.0665    5.4929\\n      Si   20.5635   28.6623    6.8487\\n      Si   20.4927   31.3632    9.5053\\n      Si   16.3547   27.3027   10.8418\\n      Si   16.2085   30.0134   13.6430\\n      Si   18.0283   28.9318   14.5903\\n      Si   17.5847   31.4255   12.2850\\n      Si   19.0433   27.2695   13.3565\\n      Si   19.1668   30.1042   10.9404\\n      Si   20.7105   28.5729   12.1541\\n      Si   20.1405   30.4666   14.5714\\n      Si   16.1013   32.2651    0.1716\\n      Si   16.5133   35.2837    2.6960\\n      Si   17.7392   33.8991    4.0865\\n      Si   17.9298   36.6425    1.2992\\n      Si   19.2036   32.5426    2.6257\\n      Si   19.8193   35.7752    0.0571\\n      Si   20.5220   33.8865    1.4690\\n      Si   20.3094   36.7409    4.1249\\n      Si   16.2396   32.6368    5.5191\\n      Si   16.2360   35.3543    8.2845\\n      Si   17.6965   34.1117    9.6739\\n      Si   17.5949   36.6948    6.8541\\n      Si   18.9772   32.7776    8.2544\\n      Si   18.9420   35.4087    5.5200\\n      Si   20.3406   34.0976    6.9161\\n      Si   20.3497   36.6447    9.6843\\n      Si   16.2233   32.8323   10.9935\\n      Si   16.2271   35.1897   13.7020\\n      Si   17.2302   33.2305   14.7782\\n      Si   17.6375   36.6677   12.4104\\n      Si   19.1557   32.4990   13.6972\\n      Si   19.0334   35.3962   11.0241\\n      Si   20.2916   33.9067   12.2958\\n      Si   20.8624   37.0990   15.0312\\n      Si   16.0849   37.5913    0.0565\\n      Si   16.2773   40.7184    2.4822\\n      Si   17.5498   39.5418    3.9059\\n      Si   17.7630   41.9811    1.2005\\n      Si   19.0395   38.2271    2.7256\\n      Si   19.6742   41.1013    0.1011\\n      Si   20.5327   39.4154    1.3992\\n      Si   20.3573   42.0722    4.0115\\n      Si   16.4285   38.0682    5.4243\\n      Si   16.2491   40.7340    8.0554\\n      Si   17.5471   39.4092    9.5909\\n      Si   17.6353   42.0211    6.6654\\n      Si   19.0177   38.0057    8.1690\\n      Si   18.9866   40.6651    5.3351\\n      Si   20.4510   39.3845    6.8101\\n      Si   20.2511   42.0752    9.5507\\n      Si   16.2762   37.9492   11.0286\\n      Si   16.3297   40.7367   13.5977\\n      Si   17.9769   39.9043   15.0343\\n      Si   17.5068   42.1670   12.2987\\n      Si   19.0662   38.1073   13.8116\\n      Si   18.9121   40.8180   11.0157\\n      Si   20.2810   39.3791   12.2527\\n      Si   19.7206   41.6952   14.9436\\n      Si   16.9978   44.0261    0.0614\\n      Si   16.3468   46.2255    2.7584\\n      Si   17.6294   44.7061    3.9694\\n      Si   17.6510   47.5219    1.3578\\n      Si   18.9470   43.3523    2.5849\\n      Si   18.6835   45.8830    0.0196\\n      Si   20.1958   44.7581    1.3640\\n      Si   20.3665   47.5219    4.0733\\n      Si   16.2991   43.4157    5.3201\\n      Si   16.2010   46.2654    8.0237\\n      Si   17.5973   44.7149    9.3301\\n      Si   17.6510   47.5219    6.7888\\n      Si   19.0180   43.3682    7.9546\\n      Si   18.9054   46.1576    5.3974\\n      Si   20.3920   44.7891    6.7035\\n      Si   20.3665   47.5219    9.5044\\n      Si   16.2673   43.3670   10.7526\\n      Si   16.2805   46.1864   13.6029\\n      Si   17.6710   44.8567   14.8843\\n      Si   17.6510   47.5219   12.2199\\n      Si   18.9084   43.4420   13.5306\\n      Si   18.9485   46.1535   10.7359\\n      Si   20.2497   44.8043   12.1178\\n      Si   20.3665   47.5219   14.9355\\n      Si   21.7243    0.0000    0.0000\\n      Si   21.6908    2.6072    2.7546\\n      Si   23.1534    1.3336    4.1264\\n      Si   23.0268    3.9308    1.3774\\n      Si   24.4398    0.0000    2.7155\\n      Si   24.7242    2.8011    0.1582\\n      Si   25.9598    1.4010    1.4737\\n      Si   25.8472    3.9367    4.2360\\n      Si   21.7243    0.0000    5.4311\\n      Si   21.6104    2.6920    8.2006\\n      Si   23.0554    1.3942    9.5614\\n      Si   23.1330    4.0188    6.9260\\n      Si   24.4398    0.0000    8.1466\\n      Si   24.4402    2.6469    5.5313\\n      Si   25.8572    1.3620    6.8673\\n      Si   25.9308    4.1939    9.6546\\n      Si   21.7243    0.0000   10.8621\\n      Si   21.8689    2.8611   13.5098\\n      Si   23.6424    2.0505   14.7850\\n      Si   23.1456    4.2287   11.9436\\n      Si   24.4398    0.0000   13.5777\\n      Si   24.5095    2.7285   10.8596\\n      Si   25.8359    1.4043   12.2532\\n      Si   25.3695    3.6259   14.8380\\n      Si   21.2231    4.7327    0.1552\\n      Si   21.9545    8.2684    2.5094\\n      Si   23.2200    6.9375    3.9236\\n      Si   23.4324    9.6354    1.3260\\n      Si   24.5297    5.3325    2.7680\\n      Si   25.2480    8.7122    0.1253\\n      Si   26.0708    6.7839    1.3252\\n      Si   26.0063    9.4489    4.0661\\n      Si   22.0103    5.5289    5.4660\\n      Si   21.8192    8.1930    8.0529\\n      Si   23.3117    6.9433    9.4651\\n      Si   23.0750    9.5978    6.6209\\n      Si   24.5926    5.4761    8.1931\\n      Si   24.6688    8.2468    5.2801\\n      Si   25.9600    6.8778    6.8026\\n      Si   25.9814    9.6770    9.5769\\n      Si   21.7628    5.6079   10.6343\\n      Si   21.6845    8.1689   13.6573\\n      Si   22.7292    6.4480   14.7386\\n      Si   23.1212    9.5909   12.3447\\n      Si   24.4653    5.3869   13.5298\\n      Si   24.5783    8.3226   10.9504\\n      Si   25.9335    6.9824   12.3949\\n      Si   26.3333   10.4031   14.8579\\n      Si   22.5570   11.4585    0.1768\\n      Si   21.6739   13.5834    2.6666\\n      Si   22.9917   12.3609    4.0784\\n      Si   23.0530   14.8366    1.2040\\n      Si   24.6106   10.9761    2.8492\\n      Si   24.3561   13.4181  162.9167\\n      Si   26.1605   12.3349    1.3142\\n      Si   25.7662   15.1775    4.0207\\n      Si   21.7120   10.9223    5.3206\\n      Si   21.6492   13.6797    8.0609\\n      Si   23.1048   12.3522    9.4513\\n      Si   22.9824   15.0383    6.5670\\n      Si   24.4663   10.8977    8.0378\\n      Si   24.4494   13.7177    5.2320\\n      Si   25.7363   12.2142    6.5853\\n      Si   25.9266   15.0116    9.2180\\n      Si   21.9131   11.0069   10.8392\\n      Si   21.9886   13.8979   13.5122\\n      Si   23.6649   12.9226   14.8350\\n      Si   23.3639   15.1358   11.9826\\n      Si   24.7241   11.2647   13.3875\\n      Si   24.6038   13.7310   10.7326\\n      Si   26.2005   12.6411   12.1124\\n      Si   25.3824   14.5871   14.9666\\n      Si   21.4572   15.8860  162.7997\\n      Si   21.6468   18.7364    2.2471\\n      Si   23.1113   17.4913    4.0651\\n      Si   24.0464   21.1531    1.7665\\n      Si   24.6246   16.5310    2.5203\\n      Si   20.7759   19.7786  161.8321\\n      Si   22.1937   17.7832  161.5977\\n      Si   27.7354   20.7503    2.2182\\n      Si   21.5650   16.2197    5.1755\\n      Si   21.7925   19.0583    7.9843\\n      Si   23.0365   17.6936    9.4129\\n      Si   23.2156   20.6924    6.9657\\n      Si   24.3626   16.3763    7.9142\\n      Si   23.3182   20.0635    3.7616\\n      Si   25.7829   17.7616    6.6988\\n      Si   26.2899   20.3223    9.6035\\n      Si   21.8812   16.3664   10.8318\\n      Si   22.0969   18.9013   13.3029\\n      Si   22.7196   17.1640   14.7130\\n      Si   23.4731   20.2362   11.8960\\n      Si   24.6882   16.3270   13.5644\\n      Si   24.8232   18.7264   10.8473\\n      Si   26.3941   17.3945   12.1333\\n      Si   27.0563   21.6083   13.9901\\n      Si   21.9701   20.7624    0.7443\\n      Si   22.2700   24.5451    2.6773\\n      Si   23.4005   22.9974    3.8904\\n      Si   23.8740   25.9939    1.6188\\n      Si   25.5888   22.5858    2.6768\\n      Si   25.1466   25.2258  162.7427\\n      Si   26.7197   23.7203    0.4627\\n      Si   25.9769   26.0839    4.4748\\n      Si   21.9857   21.9703    5.2777\\n      Si   22.0773   24.6333    8.1833\\n      Si   23.4326   22.9998    9.4547\\n      Si   23.3672   25.8249    6.9567\\n      Si   24.8029   21.6571    8.2247\\n      Si   24.5942   24.3279    5.5441\\n      Si   26.2504   23.0050    6.6987\\n      Si   26.0955   25.9540    9.6794\\n      Si   21.8992   21.6591   10.9387\\n      Si   21.7849   24.5397   13.7269\\n      Si   22.6513   22.3599   14.6467\\n      Si   23.3319   25.8260   12.4024\\n      Si   24.3325   21.5443   13.5365\\n      Si   24.6595   24.3371   11.0532\\n      Si   26.5152   23.2561   12.0162\\n      Si   26.8876   26.3218   14.4824\\n      Si   22.3198   27.2182    0.4978\\n      Si   21.6885   29.7791    3.1638\\n      Si   23.3633   28.5321    4.3398\\n      Si   23.2081   31.1610    1.9431\\n      Si   24.9629   27.8242    2.8171\\n      Si   25.0104   29.7455    1.2629\\n      Si   27.5936   27.9679    0.8558\\n      Si   25.9665   31.0943    4.3345\\n      Si   21.8785   27.1222    5.7003\\n      Si   21.9432   30.0672    8.2282\\n      Si   22.9789   28.4717    9.6379\\n      Si   23.2324   31.5755    7.0547\\n      Si   24.5990   27.2716    8.2892\\n      Si   24.5119   30.0292    5.7893\\n      Si   25.9224   28.6861    6.9829\\n      Si   25.8636   31.4078    9.4281\\n      Si   22.0454   27.0302   11.0230\\n      Si   22.0763   29.8309   13.4594\\n      Si   23.8195   28.8169   14.8586\\n      Si   23.2500   31.4204   12.1055\\n      Si   24.9234   27.4197   13.4121\\n      Si   24.5202   29.9341   10.6454\\n      Si   26.1952   29.1578   12.0337\\n      Si   25.3496   30.5806   14.5545\\n      Si   22.4220   32.9701    0.4889\\n      Si   21.7763   35.2907    2.8512\\n      Si   23.0710   34.0814    4.3030\\n      Si   23.1531   36.5725    1.3935\\n      Si   24.4476   32.5994    3.3095\\n      Si   24.1997   34.7436    0.3530\\n      Si   25.7199   33.7380    1.7412\\n      Si   25.9208   36.7312    4.0485\\n      Si   21.7300   32.7353    5.5970\\n      Si   21.7133   35.4307    8.2028\\n      Si   23.2094   34.0867    9.5443\\n      Si   23.0660   36.7111    6.7427\\n      Si   24.6441   32.8943    8.1824\\n      Si   24.5612   35.3051    5.4824\\n      Si   26.0111   34.0233    6.8129\\n      Si   25.9416   36.7833    9.5232\\n      Si   21.8440   32.6554   10.9372\\n      Si   21.7727   35.3202   13.7185\\n      Si   23.4593   34.0664   15.2271\\n      Si   23.2447   36.6681   12.3831\\n      Si   24.6408   32.6332   13.5188\\n      Si   24.6364   35.4369   10.9247\\n      Si   25.8302   34.0231   12.3226\\n      Si   26.5057   37.0266   14.8321\\n      Si   21.3807   37.6494    0.0566\\n      Si   21.8355   40.7735    2.7067\\n      Si   23.1773   39.4247    4.0469\\n      Si   23.1642   42.0867    1.2942\\n      Si   24.5818   38.0324    2.6217\\n      Si   24.4983   40.6923  162.8315\\n      Si   25.9403   39.4564    1.4286\\n      Si   25.7161   42.2802    4.1096\\n      Si   21.7758   38.0229    5.4370\\n      Si   21.7244   40.8008    8.2586\\n      Si   22.9992   39.5214    9.6943\\n      Si   23.0749   42.0889    6.8450\\n      Si   24.3569   38.0507    8.2623\\n      Si   24.4610   40.8840    5.4099\\n      Si   25.7322   39.4943    6.8041\\n      Si   25.7096   42.1661    9.6408\\n      Si   21.7493   38.0426   11.0107\\n      Si   21.4857   40.6179   13.7584\\n      Si   22.5958   38.8620   14.9399\\n      Si   22.8352   42.0752   12.4065\\n      Si   24.5720   38.0564   13.8304\\n      Si   24.2847   40.8718   11.0019\\n      Si   25.7447   39.5972   12.4405\\n      Si   25.5942   42.1289   15.1301\\n      Si   21.3099   42.9024    0.2397\\n      Si   21.6454   46.1124    2.5457\\n      Si   23.0930   44.8568    3.9760\\n      Si   23.0821   47.5219    1.3578\\n      Si   24.4889   43.5984    2.5008\\n      Si   25.3097   47.1822    0.2103\\n      Si   25.9776   44.9607    1.1126\\n      Si   25.7976   47.5219    4.0733\\n      Si   21.7567   43.4555    5.4034\\n      Si   21.7159   46.1275    8.0778\\n      Si   23.0579   44.7534    9.4626\\n      Si   23.0821   47.5219    6.7888\\n      Si   24.4841   43.4379    8.1376\\n      Si   24.4534   46.1880    5.4952\\n      Si   25.8307   44.8071    6.7911\\n      Si   25.7976   47.5219    9.5044\\n      Si   21.6141   43.4024   10.8857\\n      Si   21.5597   46.2686   13.4856\\n      Si   22.8594   44.7424   14.8548\\n      Si   23.0821   47.5219   12.2199\\n      Si   24.3624   43.4187   13.6017\\n      Si   24.4341   46.1350   10.8088\\n      Si   25.6805   44.7072   12.1531\\n      Si   25.7976   47.5219   14.9355\\n      Si   27.1554    0.0000    0.0000\\n      Si   27.3309    2.7784    2.8038\\n      Si   28.6076    1.3992    4.1890\\n      Si   28.7984    4.0538    1.3841\\n      Si   29.8709    0.0000    2.7155\\n      Si   30.6312    3.1865    0.2147\\n      Si   31.3868    1.3691    1.3767\\n      Si   31.5343    4.0647    4.1765\\n      Si   27.1554    0.0000    5.4311\\n      Si   27.1873    2.7356    8.2695\\n      Si   28.5288    1.3038    9.5101\\n      Si   28.5687    4.0944    6.9185\\n      Si   29.8709    0.0000    8.1466\\n      Si   29.9874    2.7356    5.5682\\n      Si   31.3155    1.3259    6.8797\\n      Si   31.3165    4.1977    9.5170\\n      Si   27.1554    0.0000   10.8621\\n      Si   27.1987    2.4882   13.7591\\n      Si   27.6896    0.3112   14.7618\\n      Si   28.5633    4.0617   12.3640\\n      Si   29.8709    0.0000   13.5777\\n      Si   29.7651    2.8709   10.8014\\n      Si   31.1542    1.4550   12.0689\\n      Si   32.1846    4.9102   14.6286\\n      Si   27.8382    5.8432    0.0081\\n      Si   27.3649    8.0366    2.6145\\n      Si   28.5965    6.7045    4.1964\\n      Si   28.5995    9.3156    1.0607\\n      Si   30.0839    5.3965    2.8734\\n      Si   29.5505    7.6092  162.8454\\n      Si   31.3374    6.6442    1.2845\\n      Si   31.3055    9.4269    4.2327\\n      Si   27.2201    5.3762    5.5313\\n      Si   27.2924    8.1459    8.2923\\n      Si   28.6144    6.8399    9.7191\\n      Si   28.5347    9.5362    6.8813\\n      Si   29.9211    5.4817    8.2578\\n      Si   29.9678    8.0877    5.6469\\n      Si   31.3268    6.7895    6.9483\\n      Si   31.1387    9.6212    9.4646\\n      Si   27.2561    5.4931   11.0376\\n      Si   27.1998    8.5913   13.7046\\n      Si   28.9896    7.4563   14.7958\\n      Si   28.5377    9.7410   12.1053\\n      Si   30.1114    5.5244   13.6185\\n      Si   29.9146    8.2867   10.8434\\n      Si   31.3862    7.0360   12.2121\\n      Si   30.7364    9.2771   14.8262\\n      Si   26.8557   10.3463    0.0091\\n      Si   27.1510   13.8206    2.7134\\n      Si   28.4432   12.1034    4.1972\\n      Si   30.4481   12.6965    1.6596\\n      Si   29.7247   10.6016    2.8201\\n      Si   36.4400   10.4941  161.8307\\n      Si   32.0831   14.4674    4.1895\\n      Si   30.8523   16.5374    3.0228\\n      Si   27.0752   10.7295    5.6107\\n      Si   27.2315   13.8078    7.7548\\n      Si   28.6281   12.5717    9.2983\\n      Si   28.6148   15.3873    6.3937\\n      Si   29.9418   11.0947    7.9509\\n      Si   29.8121   13.9041    4.9530\\n      Si   31.0562   12.4434    6.4987\\n      Si   31.2379   15.2788    9.2932\\n      Si   27.3909   11.1734   10.7425\\n      Si   27.3004   13.9282   13.6444\\n      Si   28.0546   12.0316   14.7616\\n      Si   28.4734   15.5062   12.1529\\n      Si   29.8418   11.0618   13.5359\\n      Si   29.8193   14.1322   10.8531\\n      Si   31.2202   12.3853   12.1349\\n      Si   31.4984   15.8365   14.3495\\n      Si   25.9964   16.7966  105.9059\\n      Si   25.4009   19.3126    0.3297\\n      Si   25.4775   14.5078  105.9059\\n      Si   26.8403   17.3930    1.6260\\n      Si   29.3397   14.6615    2.4717\\n      Si   23.5499   17.9650    0.8732\\n      Si   23.8786   17.8081  105.9059\\n      Si   31.8343   21.9263    2.3318\\n      Si   27.1956   16.9556    5.1041\\n      Si   24.8234   19.5924    5.6090\\n      Si   27.4282   18.5134    8.3798\\n      Si   29.4081   20.1137    5.3551\\n      Si   29.5047   16.2933    8.3274\\n      Si   28.0624   18.4942    3.4160\\n      Si   32.6639   17.0056   10.3202\\n      Si   32.1893   19.0333    7.8629\\n      Si   27.5799   16.5356   10.0289\\n      Si   27.6867   19.3027   13.0310\\n      Si   29.3013   18.7792   14.7428\\n      Si   28.6542   19.9593   11.0996\\n      Si   29.8309   16.8703   13.4302\\n      Si   30.0284   18.7441    9.3374\\n      Si   31.0725   18.2845   11.7796\\n      Si   30.7305   20.5878   14.3464\\n      Si   27.3576   20.9811    0.1045\\n      Si   27.3211   24.3421    3.1879\\n      Si   28.4268   23.2659    5.0079\\n      Si   28.2589   25.6357    1.3337\\n      Si   29.5630   21.6713    3.5294\\n      Si   24.1146   28.5961  162.3214\\n      Si   39.7142   20.1730  161.0882\\n      Si   31.3907   25.4149    4.3968\\n      Si   26.4387   21.0817    4.7598\\n      Si   27.2248   24.2534    8.5977\\n      Si   30.0969   21.2738    8.5656\\n      Si   28.9521   25.7451    7.8142\\n      Si   28.1075   20.6430    6.9555\\n      Si   30.1788   24.3872    6.2551\\n      Si   32.8651   16.3046    1.5279\\n      Si   31.5497   22.7667    7.3274\\n      Si   27.7701   22.5153   10.0200\\n      Si   27.9892   24.9655   12.8167\\n      Si   30.4856   23.7710   12.8215\\n      Si   29.7971   26.0629   11.4399\\n      Si   29.3351   22.5784   14.4757\\n      Si   30.2251   22.9358   10.4507\\n      Si   32.6853   21.0454    9.5810\\n      Si   25.9574   32.9028   15.8215\\n      Si   26.1387   27.4689  161.9519\\n      Si   27.2093   29.5036    3.0171\\n      Si   28.5847   28.0982    4.3572\\n      Si   28.5045   31.2199    1.6846\\n      Si   29.7984   26.6038    3.0035\\n      Si   29.4440   29.4399    0.4570\\n      Si   31.0505   28.2957    1.6151\\n      Si   31.2318   31.1287    4.1896\\n      Si   27.3781   27.0281    6.0974\\n      Si   27.2726   29.9113    8.2378\\n      Si   28.7752   28.5577    9.5204\\n      Si   28.6925   31.1561    6.7352\\n      Si   30.6969   26.9861    8.8756\\n      Si   30.0793   29.4644    5.4693\\n      Si   31.4107   28.3670    7.1720\\n      Si   31.4267   31.2434    9.5982\\n      Si   27.5181   27.0094   11.1942\\n      Si   27.5454   30.1928   14.1896\\n      Si   28.9980   27.8147   14.0418\\n      Si   28.3329   31.0554   12.1107\\n      Si   30.8553   25.8850   14.2918\\n      Si   29.9188   29.9193   10.9872\\n      Si   30.9014   28.6046   12.8508\\n      Si   34.7732   47.5550   73.3195\\n      Si   26.4927   31.7254    0.7436\\n      Si   27.3375   35.2036    2.6720\\n      Si   28.7419   33.9842    4.1081\\n      Si   28.6894   36.5992    1.2913\\n      Si   30.0671   32.5235    2.7325\\n      Si   30.5673   35.6634    0.1980\\n      Si   31.4635   33.7998    1.2324\\n      Si   31.2190   36.6235    4.0895\\n      Si   27.4133   32.6657    5.5254\\n      Si   27.1945   35.4647    8.0761\\n      Si   28.5450   34.1207    9.4859\\n      Si   28.6547   36.8139    6.7644\\n      Si   29.9941   32.6016    8.2450\\n      Si   29.9842   35.3487    5.5351\\n      Si   31.2296   33.9147    6.9021\\n      Si   31.2381   36.7103    9.6096\\n      Si   27.2386   32.6711   10.9315\\n      Si   27.3042   35.1980   13.4800\\n      Si   28.3129   33.1333   14.6192\\n      Si   28.6087   36.7402   12.2634\\n      Si   30.0889   32.2821   13.1037\\n      Si   29.7745   35.5369   10.8323\\n      Si   31.1225   34.1178   12.1677\\n      Si   31.6800   37.2254   15.1117\\n      Si   27.7658   38.5080    0.2463\\n      Si   27.1410   40.9560    2.8058\\n      Si   28.4626   39.5227    4.0652\\n      Si   28.5967   42.1033    1.3001\\n      Si   29.7829   37.9998    2.8428\\n      Si   29.4855   40.2557    0.1536\\n      Si   31.1725   39.2865    1.4587\\n      Si   31.2683   42.0765    4.0933\\n      Si   27.2573   38.1343    5.5053\\n      Si   27.0703   40.8660    8.2129\\n      Si   28.4198   39.4811    9.6557\\n      Si   28.4927   42.1606    6.7906\\n      Si   29.8869   38.1613    8.2354\\n      Si   29.8475   40.8239    5.3787\\n      Si   31.2236   39.4901    6.7982\\n      Si   31.1114   42.1287    9.5668\\n      Si   27.0876   38.1920   11.0957\\n      Si   27.1688   40.8043   13.8808\\n      Si   28.1386   38.9283   15.0857\\n      Si   28.4748   42.1569   12.4083\\n      Si   29.9053   38.0087   13.8371\\n      Si   29.8049   40.8738   10.9966\\n      Si   31.1247   39.3819   12.2292\\n      Si   30.9933   42.0176   15.0071\\n      Si   27.8223   43.9189  162.9304\\n      Si   27.1196   46.2591    2.6345\\n      Si   28.5080   44.8223    4.0009\\n      Si   28.5131   47.5219    1.3578\\n      Si   29.9843   43.4606    2.6238\\n      Si   29.4245   45.8242    0.0410\\n      Si   31.1825   44.9900    1.2855\\n      Si   31.2287   47.5219    4.0733\\n      Si   27.1592   43.5110    5.4128\\n      Si   27.2027   46.1635    8.1392\\n      Si   28.5875   44.8017    9.5277\\n      Si   28.5131   47.5219    6.7888\\n      Si   29.8736   43.4338    8.1432\\n      Si   29.8263   46.2070    5.4548\\n      Si   31.1136   44.8212    6.7620\\n      Si   31.2287   47.5219    9.5044\\n      Si   27.1694   43.4233   10.9492\\n      Si   26.9728   46.1435   13.3805\\n      Si   28.4159   44.9539   14.8188\\n      Si   28.5131   47.5219   12.2199\\n      Si   29.8878   43.5440   13.6319\\n      Si   29.8462   46.1526   10.9501\\n      Si   31.1958   44.8256   12.2266\\n      Si   31.2287   47.5219   14.9355\\n      Si   32.5864    0.0000    0.0000\\n      Si   32.8176    2.6721    2.7145\\n      Si   34.0329    1.3037    4.1316\\n      Si   34.1526    3.9730    1.2561\\n      Si   35.3020    0.0000    2.7155\\n      Si   35.3779    2.5430  162.7497\\n      Si   36.7341    1.3617    1.3750\\n      Si   36.8137    4.2526    3.9837\\n      Si   32.5864    0.0000    5.4311\\n      Si   32.6619    2.8186    8.1457\\n      Si   33.9851    1.3764    9.5020\\n      Si   34.0350    4.2389    6.7265\\n      Si   35.3020    0.0000    8.1466\\n      Si   35.4135    2.7609    5.3551\\n      Si   36.6674    1.3227    6.8036\\n      Si   36.5779    4.2548    9.4413\\n      Si   32.5864    0.0000   10.8621\\n      Si   32.6701    2.9075   13.4458\\n      Si   33.9223    1.4787   14.8412\\n      Si   34.0253    4.1466   11.9923\\n      Si   35.3020    0.0000   13.5777\\n      Si   35.3288    2.7079   10.8073\\n      Si   36.6705    1.3878   12.2733\\n      Si   36.6596    4.1612   14.8944\\n      Si   32.3751    4.8915  162.7869\\n      Si   32.5437    8.1331    2.6773\\n      Si   33.9999    6.8311    3.9392\\n      Si   33.7931    9.6268    1.4775\\n      Si   35.5325    5.5809    2.4215\\n      Si   35.3948    8.6136    0.0980\\n      Si   36.8977    7.1362    1.2923\\n      Si   36.6571    9.6510    4.0550\\n      Si   32.6670    5.6469    5.5004\\n      Si   32.5008    8.3343    8.2695\\n      Si   33.9557    6.9599    9.5158\\n      Si   33.8941    9.7213    6.7597\\n      Si   35.2733    5.7330    8.0853\\n      Si   35.3186    8.1886    5.4171\\n      Si   36.7171    6.9653    6.8092\\n      Si   36.5867    9.6949    9.5395\\n      Si   32.6027    5.6095   10.8269\\n      Si   32.6465    8.3553   13.7044\\n      Si   33.5672    6.4334   14.6791\\n      Si   33.8970    9.6964   12.2079\\n      Si   35.3747    5.5498   13.3701\\n      Si   35.2192    8.3566   10.8847\\n      Si   36.6971    7.0334   12.1199\\n      Si   36.5624    9.6271   14.9123\\n      Si   33.2609   11.7268  161.2299\\n      Si   32.9795   13.8625    1.7901\\n      Si   33.7033   12.4086    3.9342\\n      Si   35.2202   14.0263    0.6785\\n      Si   35.2925   11.0124    2.7495\\n      Si   35.3410   12.5819  161.7285\\n      Si   36.8250   12.3869    1.6362\\n      Si   36.7269   15.1080    3.8305\\n      Si   32.4514   11.0577    5.4063\\n      Si   32.5748   13.6788    7.9667\\n      Si   33.9746   12.4362    9.4097\\n      Si   34.0388   14.9968    6.7219\\n      Si   35.3290   11.0976    8.1178\\n      Si   35.2872   13.7264    5.2344\\n      Si   36.6041   12.4286    6.7135\\n      Si   36.6061   15.1021    9.4157\\n      Si   32.5641   11.0571   10.7002\\n      Si   32.6458   13.7479   13.3420\\n      Si   34.5062   12.9482   14.5001\\n      Si   33.7840   15.1727   11.6223\\n      Si   35.4401   11.0764   13.4876\\n      Si   35.2848   13.7125   10.6828\\n      Si   36.7239   12.3085   12.0315\\n      Si   36.0693   14.8541   14.3993\\n      Si   32.4127   11.4578    0.5548\\n      Si   33.1115   19.3117    2.6408\\n      Si   34.3442   17.5554    3.8038\\n      Si   35.0956   20.0768    1.1515\\n      Si   35.4091   16.3336    1.8638\\n      Si   37.3887   19.2669  161.4566\\n      Si   36.5600   18.1405    0.8359\\n      Si   36.9689   20.3238    4.0858\\n      Si   32.9608   16.5634    5.2798\\n      Si   34.0125   20.1509    6.5661\\n      Si   34.1041   18.1776    8.9687\\n      Si   33.3310   21.0090    4.2789\\n      Si   35.3398   16.4701    8.0356\\n      Si   35.5338   19.0080    5.2964\\n      Si   36.7364   17.7478    6.7569\\n      Si   36.8775   20.5614    9.4759\\n      Si   32.9229   17.7257   13.5911\\n      Si   30.7958   20.8554   11.8166\\n      Si   35.1360   18.6788   15.4607\\n      Si   33.4275   19.9344   11.8842\\n      Si   35.1134   16.8699   13.3178\\n      Si   35.4160   19.1846   10.5562\\n      Si   36.8024   18.0037   12.0334\\n      Si   36.7941   20.5246   14.6081\\n      Si   36.0161   21.1020  162.1925\\n      Si   32.7630   24.1557    3.0971\\n      Si   34.4832   22.8821    3.8470\\n      Si   34.0620   25.7097    1.5260\\n      Si   36.0643   21.6855    2.5254\\n      Si   35.9240   24.9375    0.4447\\n      Si   37.0303   22.8786    0.7778\\n      Si   36.7919   25.7817    4.1140\\n      Si   31.4995   20.7188    5.9844\\n      Si   31.5055   24.5197    9.2263\\n      Si   33.7002   23.5964    8.8555\\n      Si   34.2672   25.4361    6.9111\\n      Si   35.2054   21.6266    7.9575\\n      Si   35.5668   24.2113    5.4541\\n      Si   36.7823   22.9634    6.8811\\n      Si   36.7409   25.6395    9.8808\\n      Si   34.8727   24.0398   10.9202\\n      Si   41.2438   18.9984   16.0639\\n      Si   33.4362   20.4024   14.4998\\n      Si   32.6995   25.1321   11.5899\\n      Si   34.4377   22.2274   12.6226\\n      Si   36.7349   24.8180   12.5027\\n      Si   36.6751   22.0884   12.8838\\n      Si   33.0414   26.8676   13.3632\\n      Si   32.3230   26.5918    0.5069\\n      Si   32.5268   29.6641    2.7803\\n      Si   33.9525   28.3247    4.3464\\n      Si   33.9395   31.0961    1.4148\\n      Si   35.3036   27.1797    2.9166\\n      Si   35.8533   30.4026    0.2798\\n      Si   36.6655   28.5532    1.4777\\n      Si   36.6453   31.0277    4.1467\\n      Si   32.6351   26.9480    5.6533\\n      Si   32.7485   29.8703    8.1729\\n      Si   33.9153   28.4611    9.6550\\n      Si   34.0916   31.2436    6.8668\\n      Si   35.3618   27.0471    8.4534\\n      Si   35.2300   29.8229    5.5348\\n      Si   36.7622   28.6092    6.7910\\n      Si   36.6212   31.2838    9.5569\\n      Si   32.1653   27.4673   10.8153\\n      Si   31.8467   30.5717   13.5239\\n      Si   34.0051   29.2982   14.4186\\n      Si   33.7583   31.4454   12.1648\\n      Si   35.6524   26.7428   13.4752\\n      Si   35.2577   29.8706   11.0085\\n      Si   36.7196   28.4260   12.3009\\n      Si   35.9884   30.7505   14.6838\\n      Si   33.3441   33.1238    0.2304\\n      Si   32.6387   35.1566    2.7931\\n      Si   34.1041   33.7896    4.1249\\n      Si   34.0005   36.5599    1.4288\\n      Si   35.4126   32.4267    2.8375\\n      Si   35.0526   34.9516    0.1319\\n      Si   36.6742   33.8436    1.4143\\n      Si   36.7298   36.7344    4.1275\\n      Si   32.6012   32.4748    5.6088\\n      Si   32.5537   35.4534    8.1209\\n      Si   33.9987   34.0813    9.3791\\n      Si   33.9130   36.7304    6.7372\\n      Si   35.3372   32.7090    8.2195\\n      Si   35.3435   35.2939    5.5428\\n      Si   36.6619   33.8546    6.8314\\n      Si   36.6834   36.7733    9.4357\\n      Si   32.5932   32.8528   10.7754\\n      Si   32.6329   35.3992   13.7701\\n      Si   33.7301   33.8139   14.8204\\n      Si   33.9561   36.6720   12.3011\\n      Si   35.3066   32.7804   13.5623\\n      Si   35.3458   35.4633   10.7862\\n      Si   36.7107   34.1205   12.1166\\n      Si   37.0749   37.2051   14.7342\\n      Si   32.2016   37.4981    0.2500\\n      Si   32.6260   40.7900    2.6486\\n      Si   33.9704   39.4189    3.9847\\n      Si   33.9417   42.2927    1.2753\\n      Si   35.4001   38.1350    2.5419\\n      Si   35.8418   41.4163    0.0341\\n      Si   36.7909   39.5929    1.2509\\n      Si   36.5830   42.2258    4.1557\\n      Si   32.5452   38.1017    5.3234\\n      Si   32.4885   40.8114    8.2746\\n      Si   33.9231   39.3787    9.5350\\n      Si   33.7905   42.1523    6.9442\\n      Si   35.2741   38.0205    8.1195\\n      Si   35.2157   40.7577    5.5647\\n      Si   36.6798   39.4513    6.9235\\n      Si   36.6317   42.1848    9.5652\\n      Si   32.5552   38.0329   10.9713\\n      Si   32.4404   40.8110   13.6086\\n      Si   33.4838   38.9515   14.7064\\n      Si   33.8699   42.2407   12.3274\\n      Si   35.2771   38.0517   13.5847\\n      Si   35.2318   40.8844   10.8748\\n      Si   36.5775   39.4750   12.2711\\n      Si   37.0866   42.6193   14.9818\\n      Si   32.9959   44.0969    0.0054\\n      Si   32.5142   46.2256    2.7083\\n      Si   33.8216   44.7722    4.1349\\n      Si   33.9442   47.5219    1.3578\\n      Si   35.1806   43.5090    2.7912\\n      Si   34.8306   45.8493  162.9146\\n      Si   36.4851   44.7495    1.3584\\n      Si   36.6597   47.5219    4.0733\\n      Si   32.4852   43.4689    5.5367\\n      Si   32.5633   46.1265    8.0535\\n      Si   33.9378   44.8664    9.5078\\n      Si   33.9442   47.5219    6.7888\\n      Si   35.3054   43.5073    8.1392\\n      Si   35.2119   46.2366    5.4332\\n      Si   36.6660   44.8852    6.7253\\n      Si   36.6597   47.5219    9.5044\\n      Si   32.5198   43.5488   10.8875\\n      Si   32.5533   46.1404   13.5196\\n      Si   33.9311   44.9035   14.9361\\n      Si   33.9442   47.5219   12.2199\\n      Si   35.3463   43.5358   13.6076\\n      Si   35.2902   46.1931   10.8834\\n      Si   36.6761   44.8863   12.2075\\n      Si   36.6597   47.5219   14.9355\\n      Si   38.0175    0.0000    0.0000\\n      Si   38.1753    2.8510    2.6631\\n      Si   39.4312    1.4421    4.0576\\n      Si   39.5428    4.2923    1.3893\\n      Si   40.7330    0.0000    2.7155\\n      Si   41.3629    3.2659    0.3465\\n      Si   42.2123    1.3820    1.5541\\n      Si   42.1109    4.1736    4.1838\\n      Si   38.0175    0.0000    5.4311\\n      Si   37.9993    2.8168    8.1253\\n      Si   39.3239    1.3639    9.4656\\n      Si   39.4444    4.2502    6.8084\\n      Si   40.7330    0.0000    8.1466\\n      Si   40.7862    2.7554    5.4704\\n      Si   42.1334    1.3414    6.8213\\n      Si   42.1033    4.2035    9.5200\\n      Si   38.0175    0.0000   10.8621\\n      Si   38.0799    2.7598   13.6133\\n      Si   39.4489    1.4051   14.9753\\n      Si   39.3983    4.1459   12.2662\\n      Si   40.7330    0.0000   13.5777\\n      Si   40.6519    2.8455   10.8147\\n      Si   42.0695    1.5098   12.2291\\n      Si   42.6694    4.7641   14.9098\\n      Si   38.5748    6.0140    0.1433\\n      Si   38.2575    8.4277    2.7952\\n      Si   39.4451    7.0028    4.1753\\n      Si   39.5127    9.6248    1.2963\\n      Si   40.7535    5.6006    2.9139\\n      Si   40.2944    7.7087    0.0513\\n      Si   42.0217    6.8833    1.4329\\n      Si   42.1050    9.5585    4.1042\\n      Si   38.0288    5.6397    5.4346\\n      Si   37.9446    8.2980    8.1961\\n      Si   39.4179    6.9632    9.4650\\n      Si   39.3085    9.6878    6.8468\\n      Si   40.8047    5.5837    8.1901\\n      Si   40.7589    8.3265    5.5572\\n      Si   42.1402    6.9173    6.8355\\n      Si   42.0046    9.6098    9.5995\\n      Si   38.0851    5.5525   10.8557\\n      Si   37.9755    8.3592   13.5437\\n      Si   39.3299    7.0749   14.9421\\n      Si   39.3666    9.6920   12.2768\\n      Si   40.7591    5.6626   13.6230\\n      Si   40.6557    8.2766   10.9737\\n      Si   42.1618    7.0297   12.2784\\n      Si   42.4963   10.1764   14.8706\\n      Si   38.1781   11.1704    0.1261\\n      Si   38.3358   13.7643    2.7838\\n      Si   39.5609   12.2140    4.0334\\n      Si   39.6346   15.1184    1.2518\\n      Si   41.0104   10.9435    2.4824\\n      Si   41.4172   14.1429    0.0772\\n      Si   42.3242   12.4924    1.2691\\n      Si   42.3044   15.1374    4.1924\\n      Si   38.0691   10.9669    5.4245\\n      Si   38.0337   13.6969    8.1059\\n      Si   39.3476   12.4509    9.5716\\n      Si   39.4099   15.0529    6.7729\\n      Si   40.6520   11.0232    8.2292\\n      Si   40.8227   13.6835    5.5079\\n      Si   42.0721   12.2203    6.7608\\n      Si   42.1150   15.0391    9.5471\\n      Si   38.0954   10.9509   10.7457\\n      Si   38.0337   13.7053   13.4555\\n      Si   39.8810   12.9522   14.7615\\n      Si   39.4089   15.1751   12.3348\\n      Si   40.7318   11.1158   13.5912\\n      Si   40.6238   13.8410   10.8566\\n      Si   41.9640   12.4298   12.1132\\n      Si   41.6391   14.5163   14.9715\\n      Si   38.9764   17.3038    0.1759\\n      Si   38.1909   18.9684    2.5596\\n      Si   39.4667   17.6557    4.0406\\n      Si   39.7811   20.6198    1.6140\\n      Si   40.9183   16.4307    2.7101\\n      Si   40.4825   19.0251    0.0785\\n      Si   42.1177   17.8106    1.2196\\n      Si   42.2601   20.4583    4.1408\\n      Si   38.0663   16.3405    5.3127\\n      Si   38.0615   19.1320    8.0907\\n      Si   39.3670   17.7213    9.5734\\n      Si   39.6213   20.4279    6.8049\\n      Si   40.8081   16.4298    8.1123\\n      Si   40.7522   19.0813    5.4034\\n      Si   42.2134   17.8125    6.7029\\n      Si   42.2109   20.4753    9.4828\\n      Si   37.9600   16.4050   10.8287\\n      Si   38.2680   19.0174   13.4629\\n      Si   39.5916   17.7823   15.1555\\n      Si   39.6339   20.3627   12.1779\\n      Si   40.8624   16.4767   13.7568\\n      Si   40.9516   19.0212   10.9128\\n      Si   42.3690   17.8243   12.4401\\n      Si   42.6639   20.8113   14.8877\\n      Si   39.2946   22.1053  162.7985\\n      Si   38.1637   24.3810    2.6927\\n      Si   39.5422   23.1763    4.1402\\n      Si   39.5407   25.5487    1.2190\\n      Si   41.0177   22.0121    2.8494\\n      Si   40.6757   23.9352  162.7774\\n      Si   42.2488   23.2375    1.3502\\n      Si   42.0239   25.8115    4.1216\\n      Si   38.2205   21.7692    5.5031\\n      Si   37.9869   24.4234    8.3312\\n      Si   39.4666   23.1471    9.7451\\n      Si   39.3744   25.7011    6.8470\\n      Si   40.9609   21.8147    8.1761\\n      Si   40.7047   24.5038    5.4400\\n      Si   42.2238   23.2172    6.7787\\n      Si   42.1739   25.7343    9.6510\\n      Si   38.0883   21.7447   11.0350\\n      Si   42.5258   24.6996   16.4740\\n      Si   43.8167   22.7716   15.7057\\n      Si   39.2499   25.7714   12.3049\\n      Si   40.9741   21.7509   13.6427\\n      Si   40.8458   24.5018   11.1045\\n      Si   42.2620   23.2442   12.3877\\n      Si   42.6450   26.2667   14.7568\\n      Si   37.7303   26.7208    0.2273\\n      Si   38.1320   29.8429    2.8495\\n      Si   39.5055   28.3806    4.0628\\n      Si   39.3729   31.2288    1.3758\\n      Si   40.7788   27.0401    2.5874\\n      Si   40.7913   29.8440  162.9177\\n      Si   42.1666   28.4990    1.3805\\n      Si   42.1354   31.3177    4.0665\\n      Si   38.1532   27.1447    5.4299\\n      Si   38.1325   30.0198    8.0995\\n      Si   39.4574   28.5877    9.4285\\n      Si   39.4434   31.3153    6.7029\\n      Si   40.7673   27.0845    8.2006\\n      Si   40.8058   29.8355    5.3654\\n      Si   42.1296   28.4165    6.7394\\n      Si   42.0589   31.2611    9.5251\\n      Si   38.0634   27.3295   10.7585\\n      Si   38.0754   29.8866   13.6440\\n      Si   39.7303   29.1027   14.9618\\n      Si   39.2452   31.4164   12.1744\\n      Si   40.6577   27.1195   13.8275\\n      Si   40.6472   29.9597   10.8380\\n      Si   41.9357   28.4703   12.1569\\n      Si   41.3077   30.7383   14.8289\\n      Si   37.4391   32.0463    0.1728\\n      Si   38.1635   35.3536    2.5932\\n      Si   39.4771   34.0386    4.0638\\n      Si   39.5146   36.8611    1.2723\\n      Si   40.7910   32.6849    2.7030\\n      Si   41.3233   35.8395    0.1269\\n      Si   42.1320   34.0209    1.3390\\n      Si   42.1538   36.6338    4.2469\\n      Si   37.9652   32.6245    5.3474\\n      Si   37.9657   35.3225    8.1347\\n      Si   39.4485   34.0016    9.3941\\n      Si   39.3897   36.6979    6.8391\\n      Si   40.8258   32.6336    8.0996\\n      Si   40.8078   35.2957    5.5763\\n      Si   42.2782   33.9886    6.8479\\n      Si   42.0771   36.6268    9.5584\\n      Si   38.0199   32.7954   10.7426\\n      Si   38.0519   35.4411   13.5181\\n      Si   39.0352   33.9218   14.9817\\n      Si   39.5073   36.6781   12.2013\\n      Si   40.5710   32.6843   13.6713\\n      Si   40.7763   35.1801   10.8630\\n      Si   42.1051   34.0375   12.4719\\n      Si   42.6464   37.1545   14.8699\\n      Si   38.6495   38.6828    0.0661\\n      Si   38.0447   40.8570    2.8205\\n      Si   39.3506   39.4115    4.2336\\n      Si   39.3894   42.1530    1.4336\\n      Si   40.7603   38.0285    2.8902\\n      Si   40.3777   40.3801    0.2441\\n      Si   42.0866   39.3496    1.4490\\n      Si   42.0107   42.0304    4.0416\\n      Si   37.9678   38.0511    5.6153\\n      Si   37.9649   40.7329    8.3157\\n      Si   39.4078   39.3887    9.6000\\n      Si   39.4015   42.0985    6.9516\\n      Si   40.7131   38.0097    8.2117\\n      Si   40.7611   40.7383    5.6031\\n      Si   42.0840   39.3973    6.9584\\n      Si   42.1153   42.0457    9.5638\\n      Si   37.9776   38.0179   10.9437\\n      Si   37.9509   40.7508   13.7295\\n      Si   38.7788   38.9543   14.9560\\n      Si   39.4229   42.0708   12.3745\\n      Si   40.6733   37.9215   13.7697\\n      Si   40.8562   40.6611   11.0507\\n      Si   42.1057   39.2417   12.4348\\n      Si   41.8788   41.8480   15.2063\\n      Si   37.6082   43.0737    0.1911\\n      Si   38.0254   46.1509    2.6711\\n      Si   39.4843   44.7990    3.9732\\n      Si   39.3753   47.5219    1.3578\\n      Si   40.8386   43.4564    2.6817\\n      Si   40.8901   46.2180    0.0364\\n      Si   42.1988   44.7855    1.3087\\n      Si   42.0908   47.5219    4.0733\\n      Si   38.1470   43.5106    5.4881\\n      Si   37.9819   46.1256    8.1898\\n      Si   39.3832   44.8365    9.5386\\n      Si   39.3753   47.5219    6.7888\\n      Si   40.7892   43.4772    8.2065\\n      Si   40.8038   46.1678    5.3462\\n      Si   42.0705   44.8005    6.7548\\n      Si   42.0908   47.5219    9.5044\\n      Si   38.0859   43.4674   10.9177\\n      Si   38.0072   46.2117   13.5945\\n      Si   38.8833   44.3754   14.9303\\n      Si   39.3753   47.5219   12.2199\\n      Si   40.7517   43.3673   13.8483\\n      Si   40.7677   46.1615   10.8965\\n      Si   42.0623   44.7146   12.3417\\n      Si   42.0908   47.5219   14.9355\\n      Si   43.4486    0.0000    0.0000\\n      Si   43.4555    2.7263    2.9732\\n      Si   44.8014    1.3092    4.1999\\n      Si   44.7106    4.0091    1.5658\\n      Si   46.1641    0.0000    2.7155\\n      Si   46.2376    2.9153    0.0939\\n      Si   47.5219    1.3578    1.3578\\n      Si   47.5219    4.0733    4.0733\\n      Si   43.4486    0.0000    5.4311\\n      Si   43.4697    2.7554    8.2285\\n      Si   44.8587    1.3824    9.5601\\n      Si   44.8322    4.1448    6.8411\\n      Si   46.1641    0.0000    8.1466\\n      Si   46.1719    2.7811    5.4174\\n      Si   47.5219    1.3578    6.7888\\n      Si   47.5219    4.0733    9.5044\\n      Si   43.4486    0.0000   10.8621\\n      Si   43.4749    2.8945   13.6157\\n      Si   44.8237    1.4566   14.9214\\n      Si   44.7727    4.2093   12.1494\\n      Si   46.1641    0.0000   13.5777\\n      Si   46.1538    2.7612   10.9317\\n      Si   47.5219    1.3578   12.2199\\n      Si   47.5219    4.0733   14.9355\\n      Si   43.0783    5.1534    0.3237\\n      Si   43.4357    8.2737    2.6745\\n      Si   44.7312    6.8615    4.0123\\n      Si   44.8824    9.7335    1.4845\\n      Si   46.1151    5.4782    2.7047\\n      Si   46.1284    8.2392    0.1058\\n      Si   47.5219    6.7888    1.3578\\n      Si   47.5219    9.5044    4.0733\\n      Si   43.4967    5.5240    5.4731\\n      Si   43.4862    8.1975    8.2146\\n      Si   44.8429    6.8669    9.5728\\n      Si   44.9171    9.5584    6.8334\\n      Si   46.1444    5.5408    8.2246\\n      Si   46.1478    8.1267    5.4629\\n      Si   47.5219    6.7888    6.7888\\n      Si   47.5219    9.5044    9.5044\\n      Si   43.4074    5.5787   10.8382\\n      Si   43.5175    8.2861   13.7906\\n      Si   44.3205    6.4097   14.9112\\n      Si   44.8857    9.4929   12.3443\\n      Si   46.0458    5.5122   13.6208\\n      Si   46.1766    8.1629   10.9018\\n      Si   47.5219    6.7888   12.2199\\n      Si   47.5219    9.5044   14.9355\\n      Si   43.9035   11.3836    0.1086\\n      Si   43.5138   13.7671    2.7906\\n      Si   44.8160   12.3236    4.1076\\n      Si   44.7949   15.0459    1.3101\\n      Si   46.2747   11.0464    2.8589\\n      Si   45.6476   13.0769    0.2315\\n      Si   47.5219   12.2199    1.3578\\n      Si   47.5219   14.9355    4.0733\\n      Si   43.4971   10.8813    5.4405\\n      Si   43.4876   13.5931    8.0854\\n      Si   44.8667   12.3065    9.5584\\n      Si   44.8917   14.9202    6.7760\\n      Si   46.2113   10.9441    8.1826\\n      Si   46.2569   13.6089    5.4778\\n      Si   47.5219   12.2199    6.7888\\n      Si   47.5219   14.9355    9.5044\\n      Si   43.4457   11.0078   10.9706\\n      Si   43.3393   13.5522   13.5612\\n      Si   44.3528   11.8604   14.8297\\n      Si   44.7364   15.0199   12.2090\\n      Si   46.1905   10.9046   13.6011\\n      Si   46.2026   13.6495   10.9691\\n      Si   47.5219   12.2199   12.2199\\n      Si   47.5219   14.9355   14.9355\\n      Si   43.1332   15.9218    0.1794\\n      Si   43.5343   19.0915    2.6876\\n      Si   44.9011   17.7434    4.1385\\n      Si   44.8687   20.4620    1.2265\\n      Si   46.1700   16.3130    2.7484\\n      Si   46.3017   19.0336    0.0064\\n      Si   47.5219   17.6510    1.3578\\n      Si   47.5219   20.3665    4.0733\\n      Si   43.6613   16.3848    5.4934\\n      Si   43.5760   19.1342    8.2037\\n      Si   44.8518   17.6301    9.5311\\n      Si   44.8964   20.4412    6.9079\\n      Si   46.1755   16.3498    8.0796\\n      Si   46.2171   19.0650    5.5295\\n      Si   47.5219   17.6510    6.7888\\n      Si   47.5219   20.3665    9.5044\\n      Si   43.4945   16.3869   10.8789\\n      Si   43.8133   19.1615   13.7449\\n      Si   45.7437   18.3672   14.8049\\n      Si   44.9207   20.4825   12.1476\\n      Si   46.2033   16.2569   13.5098\\n      Si   46.2464   19.0640   10.7997\\n      Si   47.5219   17.6510   12.2199\\n      Si   47.5219   20.3665   14.9355\\n      Si   44.0731   22.3948    0.2300\\n      Si   43.5314   24.5513    2.7370\\n      Si   44.8122   23.1233    4.0798\\n      Si   44.9329   25.8560    1.2953\\n      Si   46.1481   21.7778    2.6819\\n      Si   45.8201   24.0472    0.0875\\n      Si   47.5219   23.0821    1.3578\\n      Si   47.5219   25.7976    4.0733\\n      Si   43.5547   21.8099    5.5417\\n      Si   43.6046   24.5280    8.3258\\n      Si   44.8093   23.1404    9.7169\\n      Si   44.8253   25.8399    6.8367\\n      Si   46.0664   21.8608    8.2903\\n      Si   46.1292   24.4179    5.4702\\n      Si   47.5219   23.0821    6.7888\\n      Si   47.5219   25.7976    9.5044\\n      Si   43.4071   21.7954   11.0119\\n      Si   43.7789   24.6926   13.3961\\n      Si   45.7059   23.9831   14.5745\\n      Si   45.0232   26.0334   12.0857\\n      Si   46.1888   21.7963   13.5857\\n      Si   46.2507   24.4126   10.8727\\n      Si   47.5219   23.0821   12.2199\\n      Si   47.5219   25.7976   14.9355\\n      Si   44.0023   27.7061    0.0333\\n      Si   43.4932   29.9378    2.7179\\n      Si   44.8338   28.5885    4.0887\\n      Si   44.7757   31.2114    1.1852\\n      Si   46.2912   27.2236    2.6998\\n      Si   45.7182   29.3427    0.0987\\n      Si   47.5219   28.5131    1.3578\\n      Si   47.5219   31.2287    4.0733\\n      Si   43.5036   27.1120    5.3934\\n      Si   43.3425   29.9074    8.0406\\n      Si   44.7439   28.6641    9.5114\\n      Si   44.8480   31.2407    6.8190\\n      Si   46.1622   27.1660    8.1906\\n      Si   46.1603   29.9572    5.4853\\n      Si   47.5219   28.5131    6.7888\\n      Si   47.5219   31.2287    9.5044\\n      Si   43.4643   27.2034   10.8544\\n      Si   43.2065   29.9030   13.6077\\n      Si   44.2448   28.1093   14.7657\\n      Si   44.7623   31.2958   12.3003\\n      Si   46.2464   27.3133   13.6251\\n      Si   46.2325   29.9561   10.9654\\n      Si   47.5219   28.5131   12.2199\\n      Si   47.5219   31.2287   14.9355\\n      Si   43.3972   32.6316  162.8730\\n      Si   43.4396   35.2397    2.8503\\n      Si   44.8463   33.8371    4.0902\\n      Si   44.7998   36.6083    1.4974\\n      Si   46.1706   32.5101    2.6365\\n      Si   46.1065   35.2578    0.0271\\n      Si   47.5219   33.9442    1.3578\\n      Si   47.5219   36.6597    4.0733\\n      Si   43.4882   32.5811    5.5024\\n      Si   43.5567   35.3146    8.2610\\n      Si   44.7745   33.9201    9.6315\\n      Si   44.8789   36.6671    6.9055\\n      Si   46.1387   32.6181    8.1599\\n      Si   46.1208   35.3138    5.4313\\n      Si   47.5219   33.9442    6.7888\\n      Si   47.5219   36.6597    9.5044\\n      Si   43.3287   32.6600   10.9734\\n      Si   43.6257   35.4116   13.7012\\n      Si   45.6810   34.6726   14.8262\\n      Si   44.8301   36.6706   12.1959\\n      Si   46.1842   32.6361   13.6049\\n      Si   46.1915   35.2635   10.8936\\n      Si   47.5219   33.9442   12.2199\\n      Si   47.5219   36.6597   14.9355\\n      Si   43.1085   37.6499    0.2203\\n      Si   43.4198   40.7098    2.7275\\n      Si   44.8129   39.4290    4.1551\\n      Si   44.8870   42.0919    1.4088\\n      Si   46.1317   38.0412    2.7757\\n      Si   46.2334   40.7097    0.0654\\n      Si   47.5219   39.3753    1.3578\\n      Si   47.5219   42.0908    4.0733\\n      Si   43.5567   38.0848    5.6086\\n      Si   43.4911   40.6824    8.3002\\n      Si   44.7421   39.3495    9.6197\\n      Si   44.8174   42.0323    6.9012\\n      Si   46.1607   38.0733    8.2591\\n      Si   46.2242   40.7408    5.4808\\n      Si   47.5219   39.3753    6.7888\\n      Si   47.5219   42.0908    9.5044\\n      Si   43.3492   38.0153   10.9521\\n      Si   43.4257   40.6828   13.7625\\n      Si   44.3441   38.8181   14.8383\\n      Si   44.7941   42.1153   12.3587\\n      Si   46.0848   37.9996   13.5829\\n      Si   46.0906   40.7501   10.9042\\n      Si   47.5219   39.3753   12.2199\\n      Si   47.5219   42.0908   14.9355\\n      Si   44.0508   43.9197    0.1878\\n      Si   43.4108   46.1406    2.7222\\n      Si   44.8133   44.7514    4.0348\\n      Si   44.8064   47.5219    1.3578\\n      Si   46.1973   43.4369    2.7702\\n      Si   45.7613   45.7378    0.0557\\n      Si   47.5219   44.8064    1.3578\\n      Si   47.5219   47.5219    4.0733\\n      Si   43.4236   43.3513    5.3831\\n      Si   43.4503   46.1001    8.2175\\n      Si   44.9143   44.8010    9.5569\\n      Si   44.8064   47.5219    6.7888\\n      Si   46.2008   43.4268    8.1714\\n      Si   46.1523   46.1217    5.4125\\n      Si   47.5219   44.8064    6.7888\\n      Si   47.5219   47.5219    9.5044\\n      Si   43.4710   43.4610   10.9031\\n      Si   43.5031   46.1473   13.6257\\n      Si   45.7280   45.6965   14.6662\\n      Si   44.8064   47.5219   12.2199\\n      Si   46.2381   43.5641   13.6588\\n      Si   46.2162   46.2205   10.9008\\n      Si   47.5219   44.8064   12.2199\\n      Si   47.5219   47.5219   14.9355\\n      Ga   30.9188   25.0508  105.9059\\n\",\"xyz\");\n\tviewer_1679600369830253.setStyle({\"sphere\": {}});\n\tviewer_1679600369830253.setBackgroundColor(\"0xeeeeee\");\n\tviewer_1679600369830253.render();\nviewer_1679600369830253.render();\n});\n</script>",
      "text/html": [
       "<div id=\"3dmolviewer_1679600369830253\"  style=\"position: relative; width: 520px; height: 520px\">\n",
       "        <p id=\"3dmolwarning_1679600369830253\" style=\"background-color:#ffcccc;color:black\">You appear to be running in JupyterLab (or JavaScript failed to load for some other reason).  You need to install the 3dmol extension: <br>\n",
       "        <tt>jupyter labextension install jupyterlab_3dmol</tt></p>\n",
       "        </div>\n",
       "<script>\n",
       "\n",
       "var loadScriptAsync = function(uri){\n",
       "  return new Promise((resolve, reject) => {\n",
       "    var tag = document.createElement('script');\n",
       "    tag.src = uri;\n",
       "    tag.async = true;\n",
       "    tag.onload = () => {\n",
       "      resolve();\n",
       "    };\n",
       "  var firstScriptTag = document.getElementsByTagName('script')[0];\n",
       "  firstScriptTag.parentNode.insertBefore(tag, firstScriptTag);\n",
       "});\n",
       "};\n",
       "\n",
       "if(typeof $3Dmolpromise === 'undefined') {\n",
       "$3Dmolpromise = null;\n",
       "  $3Dmolpromise = loadScriptAsync('https://3dmol.csb.pitt.edu/build/3Dmol.js');\n",
       "}\n",
       "\n",
       "var viewer_1679600369830253 = null;\n",
       "var warn = document.getElementById(\"3dmolwarning_1679600369830253\");\n",
       "if(warn) {\n",
       "    warn.parentNode.removeChild(warn);\n",
       "}\n",
       "$3Dmolpromise.then(function() {\n",
       "viewer_1679600369830253 = $3Dmol.createViewer($(\"#3dmolviewer_1679600369830253\"),{backgroundColor:\"white\"});\n",
       "\tviewer_1679600369830253.clear();\n",
       "\tviewer_1679600369830253.addModel(\"     1945\\n        type       x (A)       y (A)       z (A)Time (ps) =      1.00000\\n      Si    0.0000    0.0000    0.0000\\n      Si    0.0000    2.7155    2.7155\\n      Si    1.3781    1.3434    4.0432\\n      Si    1.2203    3.8861    1.2234\\n      Si    2.7155    0.0000    2.7155\\n      Si    1.7656    1.8586    0.0446\\n      Si    3.8488    1.2487    1.1239\\n      Si    4.0371    3.9973    4.0964\\n      Si    0.0000    0.0000    5.4311\\n      Si    0.0000    2.7155    8.1466\\n      Si    1.3649    1.4048    9.5189\\n      Si    1.4059    4.0086    6.8002\\n      Si    2.7155    0.0000    8.1466\\n      Si    2.6957    2.5821    5.4192\\n      Si    4.0569    1.2796    6.8084\\n      Si    4.1123    3.9877    9.3990\\n      Si    0.0000    0.0000   10.8621\\n      Si    0.0000    2.7155   13.5777\\n      Si    1.4437    1.4483   14.8825\\n      Si    1.2754    4.1199   12.2605\\n      Si    2.7155    0.0000   13.5777\\n      Si    2.6859    2.8136   10.8946\\n      Si    4.1261    1.4179   12.2159\\n      Si    4.6145    4.5945   14.9070\\n      Si    0.0000    5.4311    0.0000\\n      Si    0.0000    8.1466    2.7155\\n      Si    1.3988    6.6985    3.9683\\n      Si    1.2645    9.2989    1.2922\\n      Si    2.6023    5.1287    2.6603\\n      Si    1.8267    7.2367    0.1873\\n      Si    3.8318    6.3933    1.1639\\n      Si    4.0061    9.3350    3.9552\\n      Si    0.0000    5.4311    5.4311\\n      Si    0.0000    8.1466    8.1466\\n      Si    1.4022    6.8208    9.5228\\n      Si    1.3859    9.4244    6.7580\\n      Si    2.7638    5.4641    8.1206\\n      Si    2.6732    7.9975    5.3878\\n      Si    4.1621    6.7543    6.6536\\n      Si    4.0451    9.6161    9.4407\\n      Si    0.0000    5.4311   10.8621\\n      Si    0.0000    8.1466   13.5777\\n      Si    1.7541    7.2627   14.8839\\n      Si    1.4557    9.4917   12.2578\\n      Si    2.7272    5.4182   13.5522\\n      Si    2.7876    8.1392   10.8571\\n      Si    4.0644    6.7444   12.1350\\n      Si    3.5831    9.0958   14.8779\\n      Si    0.0000   10.8621    0.0000\\n      Si    0.0000   13.5777    2.7155\\n      Si    1.3237   12.1388    3.9654\\n      Si    1.3712   14.8910    1.2528\\n      Si    2.6825   10.6917    2.5772\\n      Si    2.7291   13.4246  162.8722\\n      Si    4.1444   12.2260    1.3392\\n      Si    4.0379   14.9577    3.8839\\n      Si    0.0000   10.8621    5.4311\\n      Si    0.0000   13.5777    8.1466\\n      Si    1.3242   12.2233    9.5695\\n      Si    1.3290   14.9676    6.8130\\n      Si    2.6019   10.8854    8.1055\\n      Si    2.7081   13.6147    5.3292\\n      Si    4.0242   12.1718    6.7080\\n      Si    4.1382   15.0304    9.4066\\n      Si    0.0000   10.8621   10.8621\\n      Si    0.0000   13.5777   13.5777\\n      Si    1.4241   12.2078   15.0201\\n      Si    1.4124   15.0479   12.2237\\n      Si    2.7559   10.9539   13.5962\\n      Si    2.8231   13.6660   10.8364\\n      Si    4.2015   12.2375   12.2382\\n      Si    4.2743   15.1350   14.8546\\n      Si    0.0000   16.2932    0.0000\\n      Si    0.0000   19.0088    2.7155\\n      Si    1.3298   17.7137    4.0640\\n      Si    1.3969   20.3437    1.3654\\n      Si    2.6084   16.3121    2.6756\\n      Si    2.7499   19.0530  162.8480\\n      Si    3.9783   17.6404    1.3216\\n      Si    4.1088   20.2762    3.9578\\n      Si    0.0000   16.2932    5.4311\\n      Si    0.0000   19.0088    8.1466\\n      Si    1.2861   17.6435    9.4905\\n      Si    1.3690   20.3940    6.8017\\n      Si    2.7103   16.3454    8.1474\\n      Si    2.7049   18.9979    5.4282\\n      Si    4.0797   17.6911    6.7482\\n      Si    4.0313   20.3881    9.4738\\n      Si    0.0000   16.2932   10.8621\\n      Si    0.0000   19.0088   13.5777\\n      Si    1.9399   18.0931   14.8041\\n      Si    1.3817   20.3980   12.0896\\n      Si    2.8756   16.4529   13.4314\\n      Si    2.7116   19.0072   10.7935\\n      Si    4.1482   17.7557   12.0828\\n      Si    3.6647   19.9382   14.6050\\n      Si    0.0000   21.7243    0.0000\\n      Si    0.0000   24.4398    2.7155\\n      Si    1.3289   23.0930    4.0555\\n      Si    1.3439   25.9000    1.3664\\n      Si    2.7955   21.7925    2.7465\\n      Si    3.3140   25.1060    0.2804\\n      Si    4.1849   23.1952    1.3186\\n      Si    4.1317   25.9075    4.1021\\n      Si    0.0000   21.7243    5.4311\\n      Si    0.0000   24.4398    8.1466\\n      Si    1.4483   23.0576    9.5585\\n      Si    1.3434   25.8450    6.8079\\n      Si    2.7195   21.7785    8.1315\\n      Si    2.7285   24.4638    5.4612\\n      Si    4.1015   23.0511    6.7167\\n      Si    4.2073   25.6981    9.4985\\n      Si    0.0000   21.7243   10.8621\\n      Si    0.0000   24.4398   13.5777\\n      Si    0.3508   22.1922   14.8502\\n      Si    1.4724   25.8090   12.1983\\n      Si    2.5477   21.8278   13.6838\\n      Si    2.8863   24.4040   10.9075\\n      Si    4.0626   23.0138   12.3486\\n      Si    4.6963   26.1056   14.8126\\n      Si    0.0000   27.1554    0.0000\\n      Si    0.0000   29.8709    2.7155\\n      Si    1.3556   28.5895    4.0861\\n      Si    1.4200   31.1743    1.4701\\n      Si    2.6727   27.1923    2.7687\\n      Si    2.8591   29.9926    0.0275\\n      Si    4.0581   28.3934    1.3854\\n      Si    4.1862   31.1162    4.0081\\n      Si    0.0000   27.1554    5.4311\\n      Si    0.0000   29.8709    8.1466\\n      Si    1.4590   28.5338    9.5296\\n      Si    1.3470   31.1994    6.8055\\n      Si    2.7779   27.0990    8.1986\\n      Si    2.7152   29.8956    5.4853\\n      Si    4.0944   28.4472    6.7782\\n      Si    4.0878   31.0469    9.6158\\n      Si    0.0000   27.1554   10.8621\\n      Si    0.0000   29.8709   13.5777\\n      Si    1.6793   28.9115   14.8975\\n      Si    1.3706   31.2105   12.2845\\n      Si    2.8503   27.1393   13.7059\\n      Si    2.7121   29.8258   10.9543\\n      Si    4.0581   28.4062   12.1462\\n      Si    3.4692   30.6289   14.9618\\n      Si    0.0000   32.5864    0.0000\\n      Si    0.0000   35.3020    2.7155\\n      Si    1.3453   33.9619    4.0419\\n      Si    1.3901   36.6450    1.3917\\n      Si    2.7866   32.5869    2.7982\\n      Si    3.3869   35.8341    0.3130\\n      Si    4.1959   34.0049    1.5359\\n      Si    4.0015   36.5490    4.2415\\n      Si    0.0000   32.5864    5.4311\\n      Si    0.0000   35.3020    8.1466\\n      Si    1.3830   33.9488    9.5188\\n      Si    1.3871   36.6905    6.8636\\n      Si    2.6844   32.4762    8.2480\\n      Si    2.5712   35.2684    5.4979\\n      Si    3.9561   33.8768    6.7890\\n      Si    4.0954   36.6764    9.5628\\n      Si    0.0000   32.5864   10.8621\\n      Si    0.0000   35.3020   13.5777\\n      Si    1.7621   34.3721   14.7856\\n      Si    1.2777   36.5801   12.1042\\n      Si    2.7076   32.5263   13.7013\\n      Si    2.7749   35.2310   10.8797\\n      Si    4.1018   33.8060   12.3308\\n      Si    3.5035   36.1641   15.0531\\n      Si    0.0000   38.0175    0.0000\\n      Si    0.0000   40.7330    2.7155\\n      Si    1.2601   39.4236    4.1740\\n      Si    1.5273   42.0929    1.3227\\n      Si    2.7677   38.0627    2.9154\\n      Si    2.7404   40.7498  162.8960\\n      Si    4.0951   39.4044    1.3438\\n      Si    4.0835   42.0742    4.0072\\n      Si    0.0000   38.0175    5.4311\\n      Si    0.0000   40.7330    8.1466\\n      Si    1.4420   39.3963    9.5237\\n      Si    1.4126   42.0760    6.8141\\n      Si    2.7137   38.0117    8.2257\\n      Si    2.7350   40.7362    5.3704\\n      Si    4.0018   39.3720    6.8444\\n      Si    4.1527   42.1200    9.6211\\n      Si    0.0000   38.0175   10.8621\\n      Si    0.0000   40.7330   13.5777\\n      Si    0.3483   38.5256   14.6862\\n      Si    1.4484   42.1655   12.2854\\n      Si    2.4127   37.9406   13.7793\\n      Si    2.8552   40.6876   11.0495\\n      Si    4.0849   39.3106   12.6262\\n      Si    4.0662   42.0306   15.1150\\n      Si    0.0000   43.4486    0.0000\\n      Si    0.0000   46.1641    2.7155\\n      Si    1.4096   44.7878    4.0615\\n      Si    1.3578   47.5219    1.3578\\n      Si    2.7634   43.4262    2.6946\\n      Si    2.7961   46.2392  162.8831\\n      Si    4.0281   44.8404    1.3795\\n      Si    4.0733   47.5219    4.0733\\n      Si    0.0000   43.4486    5.4311\\n      Si    0.0000   46.1641    8.1466\\n      Si    1.4223   44.8938    9.5698\\n      Si    1.3578   47.5219    6.7888\\n      Si    2.7288   43.3693    8.2931\\n      Si    2.7461   46.2419    5.4127\\n      Si    4.0001   44.7608    6.8456\\n      Si    4.0733   47.5219    9.5044\\n      Si    0.0000   43.4486   10.8621\\n      Si    0.0000   46.1641   13.5777\\n      Si    1.4139   44.9468   14.9818\\n      Si    1.3578   47.5219   12.2199\\n      Si    2.7975   43.5541   13.7467\\n      Si    2.8478   46.1466   10.9690\\n      Si    4.2180   44.8396   12.3818\\n      Si    4.0733   47.5219   14.9355\\n      Si    5.4311    0.0000    0.0000\\n      Si    5.2199    2.6231    2.5812\\n      Si    6.7094    1.3146    4.0303\\n      Si    6.5902    3.8307    1.1190\\n      Si    8.1466    0.0000    2.7155\\n      Si    7.2133    1.6790  162.9250\\n      Si    9.3709    1.3539    1.2060\\n      Si    9.3988    4.0655    3.8593\\n      Si    5.4311    0.0000    5.4311\\n      Si    5.4790    2.6366    8.1156\\n      Si    6.7678    1.3992    9.5259\\n      Si    6.7421    4.0209    6.7601\\n      Si    8.1466    0.0000    8.1466\\n      Si    8.1389    2.7130    5.3573\\n      Si    9.4867    1.3604    6.6963\\n      Si    9.5106    4.1185    9.4559\\n      Si    5.4311    0.0000   10.8621\\n      Si    5.4660    2.7817   13.7044\\n      Si    7.2414    1.8129   14.6883\\n      Si    6.6725    4.0872   12.1572\\n      Si    8.1466    0.0000   13.5777\\n      Si    8.1045    2.7837   10.9072\\n      Si    9.4736    1.3559   12.2603\\n      Si    8.9153    3.5097   14.6177\\n      Si    5.2536    5.1958  162.5774\\n      Si    5.2399    7.8658    2.5343\\n      Si    6.8250    6.7069    3.8040\\n      Si    6.6709    9.3682    1.2685\\n      Si    8.0386    5.3101    2.3659\\n      Si    8.0507    8.0770  162.7407\\n      Si    9.4378    6.6955    1.0700\\n      Si    9.3804    9.5384    3.8844\\n      Si    5.4970    5.4195    5.3248\\n      Si    5.4802    8.2186    7.9543\\n      Si    6.7604    6.8940    9.4050\\n      Si    6.8166    9.6665    6.5775\\n      Si    8.1292    5.4540    8.0922\\n      Si    8.0728    8.2365    5.1378\\n      Si    9.3810    6.8749    6.5702\\n      Si    9.4334    9.4992    9.4616\\n      Si    5.3835    5.4436   10.7351\\n      Si    5.3401    8.0338   13.5632\\n      Si    6.2425    6.2078   14.7351\\n      Si    6.6371    9.5811   12.1836\\n      Si    7.9838    5.3308   13.5508\\n      Si    7.9600    8.2402   10.8528\\n      Si    9.2678    6.7936   12.1897\\n      Si    9.5264    9.6425   14.8498\\n      Si    5.2595   10.6650  162.7859\\n      Si    5.5237   13.7028    2.6187\\n      Si    6.7726   12.2544    3.9143\\n      Si    6.7830   15.0967    1.1697\\n      Si    8.0492   10.8632    2.5202\\n      Si    8.1863   13.7193  162.6975\\n      Si    9.4903   12.3427    1.2505\\n      Si    9.5003   15.1526    4.0822\\n      Si    5.3347   10.8631    5.1931\\n      Si    5.3619   13.5693    8.0400\\n      Si    6.6449   12.3235    9.5115\\n      Si    6.6880   14.9877    6.6622\\n      Si    8.0669   11.0022    8.1528\\n      Si    8.0679   13.7294    5.2386\\n      Si    9.2977   12.2426    6.5994\\n      Si    9.4219   14.9293    9.4123\\n      Si    5.4289   10.9781   10.8359\\n      Si    5.5541   13.7480   13.4838\\n      Si    7.4145   12.9443   14.6617\\n      Si    6.8564   15.1097   12.0044\\n      Si    8.1218   10.9866   13.5016\\n      Si    8.1974   13.5175   10.7844\\n      Si    9.6915   12.1762   12.1726\\n      Si    9.0961   14.4907   14.5903\\n      Si    5.3321   16.3793  162.7454\\n      Si    5.4823   19.0136    2.5193\\n      Si    6.7824   17.7585    3.8861\\n      Si    6.9547   20.3657    1.1216\\n      Si    8.1690   16.4058    2.6827\\n      Si    8.9243   19.4648  162.7908\\n      Si    9.6736   17.7978    1.3353\\n      Si    9.6112   20.4876    3.9812\\n      Si    5.3081   16.4031    5.1909\\n      Si    5.4694   19.0789    8.0682\\n      Si    6.8170   17.7492    9.3800\\n      Si    6.8098   20.4268    6.6099\\n      Si    8.1321   16.3335    8.0448\\n      Si    8.1874   19.0668    5.2188\\n      Si    9.5731   17.6706    6.6405\\n      Si    9.6509   20.4483    9.5006\\n      Si    5.4255   16.4286   10.7158\\n      Si    5.4865   19.0032   13.4294\\n      Si    7.4597   18.1417   14.7453\\n      Si    6.7810   20.4224   12.1505\\n      Si    8.3385   16.2867   13.4159\\n      Si    8.1578   19.0627   10.7851\\n      Si    9.7222   17.6039   12.0968\\n      Si    9.2687   19.8082   14.7003\\n      Si    5.9483   22.2419  162.9185\\n      Si    5.4661   24.5243    2.7064\\n      Si    6.8672   23.0637    3.9329\\n      Si    6.8146   25.6882    1.1988\\n      Si    8.2013   21.6751    2.5429\\n      Si    7.6553   23.9237  162.9237\\n      Si    9.5465   23.1036    1.1608\\n      Si    9.5710   25.8496    3.9711\\n      Si    5.4426   21.7613    5.2839\\n      Si    5.4811   24.3063    8.1245\\n      Si    6.9120   23.0621    9.5016\\n      Si    6.8668   25.7595    6.7423\\n      Si    8.2322   21.7285    8.0010\\n      Si    8.2081   24.5125    5.2666\\n      Si    9.5308   23.2241    6.7326\\n      Si    9.5406   25.9384    9.5488\\n      Si    5.3596   21.7770   10.8451\\n      Si    5.5007   24.2549   13.6287\\n      Si    6.8515   22.9326   14.9987\\n      Si    6.8360   25.6409   12.2574\\n      Si    8.2624   21.6314   13.5007\\n      Si    8.2819   24.5138   10.8373\\n      Si    9.6467   23.1568   12.2353\\n      Si   10.1396   26.4066   15.0050\\n      Si    5.0396   26.6162    0.0309\\n      Si    5.6843   29.7337    2.6439\\n      Si    7.0386   28.3997    3.8499\\n      Si    7.0791   31.1672    1.1987\\n      Si    8.2849   27.1034    2.3814\\n      Si    8.8622   30.2587  162.7850\\n      Si    9.7686   28.5035    1.1620\\n      Si    9.6349   31.2135    3.9898\\n      Si    5.6117   27.2685    5.3495\\n      Si    5.3996   29.7124    8.1498\\n      Si    6.7561   28.3572    9.4568\\n      Si    6.7923   31.1258    6.7944\\n      Si    8.2490   27.1213    8.1525\\n      Si    8.2188   29.7708    5.3277\\n      Si    9.5638   28.4674    6.7443\\n      Si    9.4551   31.2639    9.5558\\n      Si    5.4749   27.0249   10.8784\\n      Si    5.3018   29.6263   13.6761\\n      Si    6.3032   27.8705   15.1237\\n      Si    6.8039   30.9969   12.4258\\n      Si    8.2105   27.1152   13.6811\\n      Si    8.0318   29.7925   10.8347\\n      Si    9.4603   28.4493   12.1461\\n      Si    9.4769   30.9974   15.1169\\n      Si    5.9117   33.0560    0.1709\\n      Si    5.4484   35.2473    2.9472\\n      Si    6.8120   33.8042    4.0993\\n      Si    6.7240   36.5926    1.4947\\n      Si    8.1534   32.5075    2.6402\\n      Si    7.6764   34.8023    0.1799\\n      Si    9.5157   33.7336    1.3219\\n      Si    9.4315   36.6365    4.0916\\n      Si    5.4004   32.4539    5.4821\\n      Si    5.3789   35.2497    8.1274\\n      Si    6.7508   33.8368    9.5473\\n      Si    6.6870   36.6263    6.8045\\n      Si    8.1794   32.5675    8.1326\\n      Si    8.0861   35.2940    5.4668\\n      Si    9.3819   33.9412    6.7820\\n      Si    9.2799   36.6267    9.6961\\n      Si    5.4897   32.3303   11.0434\\n      Si    5.3427   35.0793   13.8056\\n      Si    6.6725   33.7417   15.1672\\n      Si    6.6193   36.5747   12.4262\\n      Si    8.0773   32.3591   13.8168\\n      Si    7.9209   35.2335   11.0524\\n      Si    9.3270   33.8656   12.3839\\n      Si    9.3548   36.4743   14.8744\\n      Si    5.0184   37.5891    0.2780\\n      Si    5.4014   40.6801    2.7687\\n      Si    6.7122   39.3297    4.0773\\n      Si    6.8686   42.0662    1.5466\\n      Si    8.1001   38.0602    2.7215\\n      Si    8.5804   41.2530    0.2266\\n      Si    9.5798   39.4766    1.3726\\n      Si    9.4107   42.1351    4.2577\\n      Si    5.3290   38.0072    5.4408\\n      Si    5.3014   40.7560    8.2450\\n      Si    6.6713   39.4118    9.5876\\n      Si    6.6662   42.1166    6.8534\\n      Si    7.9719   37.9745    8.2097\\n      Si    7.9932   40.6907    5.4626\\n      Si    9.3421   39.3461    6.8290\\n      Si    9.3409   42.0410    9.5209\\n      Si    5.3585   38.0450   11.0753\\n      Si    5.4342   40.7029   13.8096\\n      Si    6.6017   39.2737   15.1898\\n      Si    6.7907   42.0980   12.5464\\n      Si    7.9552   37.9440   13.7964\\n      Si    8.0387   40.6913   11.0612\\n      Si    9.3794   39.2651   12.3607\\n      Si   10.2072   42.6874   14.9490\\n      Si    5.9266   43.8127    0.1780\\n      Si    5.4028   46.1186    2.7573\\n      Si    6.7177   44.8248    4.1722\\n      Si    6.7888   47.5219    1.3578\\n      Si    8.0534   43.4616    2.8939\\n      Si    7.6367   45.6986  162.8618\\n      Si    9.3590   44.8262    1.3678\\n      Si    9.5044   47.5219    4.0733\\n      Si    5.3299   43.4488    5.4095\\n      Si    5.4301   46.0787    8.2124\\n      Si    6.7727   44.7185    9.5933\\n      Si    6.7888   47.5219    6.7888\\n      Si    8.0993   43.5195    8.1375\\n      Si    8.1400   46.2013    5.4796\\n      Si    9.4523   44.8261    6.7410\\n      Si    9.5044   47.5219    9.5044\\n      Si    5.4977   43.4428   11.0284\\n      Si    5.5955   46.2407   13.7433\\n      Si    7.6455   45.5580   14.8590\\n      Si    6.7888   47.5219   12.2199\\n      Si    8.3406   43.4742   13.8345\\n      Si    8.0840   46.1495   10.8662\\n      Si    9.5299   44.8376   12.1823\\n      Si    9.5044   47.5219   14.9355\\n      Si   10.8621    0.0000    0.0000\\n      Si   10.7117    2.6563    2.5050\\n      Si   12.1152    1.3629    4.0038\\n      Si   12.1602    4.1051    1.1641\\n      Si   13.5777    0.0000    2.7155\\n      Si   12.7559    1.9667    0.2538\\n      Si   14.8000    1.3990    1.2305\\n      Si   14.9717    4.2005    3.9635\\n      Si   10.8621    0.0000    5.4311\\n      Si   10.7924    2.7293    8.0793\\n      Si   12.1666    1.3540    9.4113\\n      Si   12.1023    4.2269    6.7204\\n      Si   13.5777    0.0000    8.1466\\n      Si   13.5581    2.8907    5.3407\\n      Si   14.8918    1.4565    6.7859\\n      Si   14.8700    4.1498    9.5050\\n      Si   10.8621    0.0000   10.8621\\n      Si   10.8802    2.7540   13.5446\\n      Si   12.5553    1.6968   14.8545\\n      Si   12.0409    4.1509   12.0839\\n      Si   13.5777    0.0000   13.5777\\n      Si   13.4248    2.7336   10.8125\\n      Si   14.8291    1.3425   12.2513\\n      Si   14.3135    3.5319   14.7464\\n      Si   10.7920    5.2760  162.6634\\n      Si   10.6270    8.1635    2.3912\\n      Si   12.0701    6.8305    3.8526\\n      Si   12.1814    9.6535    1.2384\\n      Si   13.5139    5.5338    2.6213\\n      Si   14.1961    8.9210    0.1863\\n      Si   14.9197    7.0340    1.3469\\n      Si   14.9438    9.4030    4.0230\\n      Si   10.7360    5.4962    5.2285\\n      Si   10.7393    8.0709    8.1274\\n      Si   12.1626    6.7983    9.4976\\n      Si   12.0659    9.4035    6.7915\\n      Si   13.5092    5.5213    8.1241\\n      Si   13.5331    8.1047    5.3184\\n      Si   14.9335    6.8714    6.8488\\n      Si   14.9844    9.3263    9.4478\\n      Si   10.7549    5.5129   10.8417\\n      Si   10.7090    8.1610   13.5474\\n      Si   11.7491    6.6023   15.0572\\n      Si   12.2409    9.3895   12.2337\\n      Si   13.3298    5.3961   13.5555\\n      Si   13.6459    8.1170   10.9064\\n      Si   14.9536    6.7357   12.3424\\n      Si   15.5640   10.0255   14.5799\\n      Si   11.2761   11.4705    0.0018\\n      Si   10.7181   13.6381    2.8505\\n      Si   11.9566   12.1646    4.1875\\n      Si   12.2393   14.9758    1.4691\\n      Si   13.3938   10.7780    2.9515\\n      Si   13.1081   13.2345    0.0734\\n      Si   14.8976   12.0352    1.3919\\n      Si   15.1364   14.6736    3.9881\\n      Si   10.6718   10.7385    5.4166\\n      Si   10.7093   13.5104    8.0247\\n      Si   12.2045   12.0351    9.3645\\n      Si   12.1747   14.8088    6.6173\\n      Si   13.6608   10.6343    8.0628\\n      Si   13.5896   13.4490    5.3204\\n      Si   14.9746   12.1028    6.6883\\n      Si   15.0145   14.9745    9.3826\\n      Si   10.9617   10.7118   10.9052\\n      Si   10.9423   13.7115   13.4483\\n      Si   12.6612   12.6880   14.6972\\n      Si   12.2269   14.8882   11.8297\\n      Si   13.6033   10.9698   13.3576\\n      Si   13.5721   13.5040   10.5281\\n      Si   14.9804   12.3335   11.8814\\n      Si   14.3839   14.3766   14.7360\\n      Si   11.4482   16.7480    0.2616\\n      Si   11.0987   19.0746    2.8542\\n      Si   12.3755   17.5028    4.0778\\n      Si   12.3098   20.3981    1.2976\\n      Si   13.8762   16.2698    2.7474\\n      Si   13.0047   18.5157    0.0980\\n      Si   15.1480   17.7938    1.2783\\n      Si   14.9486   20.4850    3.9935\\n      Si   10.9314   16.2757    5.3932\\n      Si   10.9145   19.0657    8.0591\\n      Si   12.1805   17.7540    9.3968\\n      Si   12.2817   20.5054    6.7736\\n      Si   13.5082   16.3035    8.0133\\n      Si   13.5715   18.9975    5.2877\\n      Si   14.9490   17.6739    6.7050\\n      Si   15.0199   20.5098    9.3956\\n      Si   10.8495   16.2973   10.5779\\n      Si   11.1425   19.0136   13.4816\\n      Si   12.5866   17.6935   14.7834\\n      Si   12.4492   20.5386   12.0814\\n      Si   13.5910   16.1754   13.3512\\n      Si   13.6773   19.1264   10.6192\\n      Si   15.0595   17.9231   12.1420\\n      Si   15.5428   20.8526   14.6600\\n      Si   10.5893   21.2553    0.0852\\n      Si   10.9928   24.4856    2.6471\\n      Si   12.3449   23.2330    4.0291\\n      Si   12.5452   25.7548    1.3098\\n      Si   13.6388   21.8596    2.5970\\n      Si   13.9970   24.5044    0.0489\\n      Si   15.2872   23.2452    1.5162\\n      Si   15.1020   25.9302    4.2632\\n      Si   10.9368   21.8615    5.3954\\n      Si   10.9530   24.6450    8.1676\\n      Si   12.2988   23.1731    9.5554\\n      Si   12.3348   25.9648    6.6879\\n      Si   13.6757   21.9076    8.1108\\n      Si   13.5720   24.5731    5.4359\\n      Si   15.0924   23.1480    6.6676\\n      Si   15.0119   25.7990    9.3595\\n      Si   10.9288   21.8594   10.8791\\n      Si   11.1264   24.5911   13.6241\\n      Si   12.9519   23.6791   14.6976\\n      Si   12.4136   25.7733   12.0048\\n      Si   13.8278   21.9867   13.3549\\n      Si   13.6866   24.4847   10.6778\\n      Si   15.0756   23.1371   11.8282\\n      Si   14.5969   25.2830   14.7249\\n      Si   11.1501   27.0306  162.8123\\n      Si   11.0362   29.8180    2.6904\\n      Si   12.3266   28.6133    4.0440\\n      Si   12.4096   31.1923    1.3605\\n      Si   13.8979   27.2265    2.7369\\n      Si   14.3281   30.6512  162.9082\\n      Si   15.2373   28.7858    1.4138\\n      Si   14.9705   31.3849    4.1922\\n      Si   10.9234   27.2205    5.3562\\n      Si   10.8822   29.9114    8.1404\\n      Si   12.2821   28.6039    9.5474\\n      Si   12.2533   31.3091    6.8037\\n      Si   13.6685   27.3315    8.0903\\n      Si   13.6389   29.9401    5.4293\\n      Si   15.1675   28.6756    6.8307\\n      Si   14.8819   31.3661    9.6235\\n      Si   10.9354   27.1937   10.8168\\n      Si   10.8201   29.7545   13.5755\\n      Si   11.6912   27.9749   14.9208\\n      Si   12.2306   31.2427   12.2766\\n      Si   13.5772   27.1882   13.7344\\n      Si   13.5411   29.9316   10.9189\\n      Si   14.9116   28.6557   12.3023\\n      Si   15.3948   31.5828   14.9892\\n      Si   10.5298   31.9614    0.0884\\n      Si   10.8989   35.2983    2.6216\\n      Si   12.1441   33.9872    4.1045\\n      Si   12.3358   36.6813    1.2649\\n      Si   13.5865   32.7106    2.8186\\n      Si   14.3074   35.7498    0.1741\\n      Si   15.0423   34.0070    1.5283\\n      Si   15.0079   36.6044    4.0307\\n      Si   10.8550   32.6779    5.4733\\n      Si   10.6285   35.3130    8.1673\\n      Si   12.1012   34.0016    9.5669\\n      Si   12.0976   36.7736    6.8599\\n      Si   13.5578   32.6383    8.1644\\n      Si   13.4649   35.3717    5.4913\\n      Si   14.9238   34.0454    6.8458\\n      Si   14.8263   36.7388    9.5898\\n      Si   10.7996   32.5872   10.9624\\n      Si   10.7043   35.2231   13.6112\\n      Si   12.5686   34.5441   14.7095\\n      Si   12.0076   36.8089   12.3533\\n      Si   13.6138   32.6236   13.6780\\n      Si   13.4235   35.4203   10.9396\\n      Si   14.7956   34.0189   12.3029\\n      Si   14.1834   36.1770   14.8428\\n      Si   11.3855   38.4686    0.2622\\n      Si   10.8272   40.7874    2.9710\\n      Si   12.2113   39.3287    4.2025\\n      Si   12.1655   41.9802    1.4185\\n      Si   13.4985   38.0126    2.7670\\n      Si   13.0198   40.1168    0.2265\\n      Si   14.8845   39.2404    1.2993\\n      Si   15.0391   41.9874    3.9313\\n      Si   10.7463   38.0512    5.4935\\n      Si   10.8194   40.6690    8.1661\\n      Si   12.1024   39.2930    9.5047\\n      Si   12.2573   41.9776    6.7733\\n      Si   13.5127   38.0673    8.1657\\n      Si   13.6921   40.6949    5.3835\\n      Si   14.9586   39.3303    6.7564\\n      Si   14.9239   42.0161    9.3606\\n      Si   10.6840   38.0456   10.8344\\n      Si   10.9267   40.7911   13.6038\\n      Si   12.7305   39.8711   14.7774\\n      Si   12.1551   42.1011   11.9703\\n      Si   13.4926   38.0589   13.6874\\n      Si   13.6150   40.6237   10.7471\\n      Si   14.9129   39.3463   12.3099\\n      Si   14.4286   41.4948   14.7298\\n      Si   10.2533   42.9019    0.3533\\n      Si   10.9322   46.1202    2.6587\\n      Si   12.2970   44.7391    4.0439\\n      Si   12.2199   47.5219    1.3578\\n      Si   13.6555   43.4884    2.5191\\n      Si   14.4478   47.0735    0.3389\\n      Si   15.1015   44.9039    1.2248\\n      Si   14.9355   47.5219    4.0733\\n      Si   10.9217   43.3763    5.5228\\n      Si   10.8123   46.1316    8.1151\\n      Si   12.2352   44.8707    9.3984\\n      Si   12.2199   47.5219    6.7888\\n      Si   13.5262   43.4244    8.1100\\n      Si   13.6117   46.1815    5.3199\\n      Si   14.9112   44.8132    6.7002\\n      Si   14.9355   47.5219    9.5044\\n      Si   10.8126   43.5419   10.6216\\n      Si   10.9274   46.1614   13.5113\\n      Si   11.8791   44.3589   14.8595\\n      Si   12.2199   47.5219   12.2199\\n      Si   13.6104   43.3516   13.4558\\n      Si   13.4976   46.1963   10.8155\\n      Si   15.0183   44.8544   12.1273\\n      Si   14.9355   47.5219   14.9355\\n      Si   16.2932    0.0000    0.0000\\n      Si   16.2060    2.7360    2.5416\\n      Si   17.6428    1.5011    3.9651\\n      Si   17.7247    4.3127    1.4480\\n      Si   19.0088    0.0000    2.7155\\n      Si   19.4549    3.3700    0.2907\\n      Si   20.2779    1.4136    1.2136\\n      Si   20.5175    4.1136    4.2018\\n      Si   16.2932    0.0000    5.4311\\n      Si   16.2576    2.7979    8.1448\\n      Si   17.6166    1.3690    9.3865\\n      Si   17.5850    4.1177    6.7713\\n      Si   19.0088    0.0000    8.1466\\n      Si   18.9665    2.8076    5.4374\\n      Si   20.2713    1.3514    6.7962\\n      Si   20.3079    4.1384    9.5571\\n      Si   16.2932    0.0000   10.8621\\n      Si   16.2620    2.7488   13.5526\\n      Si   17.4755    1.3501   14.9985\\n      Si   17.5867    4.3245   12.2526\\n      Si   19.0088    0.0000   13.5777\\n      Si   18.7752    2.8369   10.9378\\n      Si   20.2975    1.5409   12.2632\\n      Si   20.9978    4.8262   14.5395\\n      Si   16.6935    5.9330    0.0851\\n      Si   16.3911    8.2522    2.6540\\n      Si   17.8042    6.9230    4.0351\\n      Si   17.7628    9.4701    1.0940\\n      Si   19.2459    5.5257    2.7619\\n      Si   18.6458    7.4470    0.0418\\n      Si   20.6507    6.7713    1.2343\\n      Si   20.6670    9.4445    4.0325\\n      Si   16.3361    5.4993    5.4259\\n      Si   16.4101    8.1641    8.0256\\n      Si   17.6355    6.7678    9.4046\\n      Si   17.8012    9.5076    6.7449\\n      Si   18.9658    5.4009    8.1168\\n      Si   19.2758    8.2247    5.4638\\n      Si   20.4217    6.6866    6.8205\\n      Si   20.5904    9.6265    9.4794\\n      Si   16.2882    5.5573   10.8618\\n      Si   16.4621    8.2860   13.3319\\n      Si   18.1807    7.3556   14.7112\\n      Si   17.7265    9.5647   11.9392\\n      Si   19.1825    5.6776   13.3675\\n      Si   19.0898    8.2076   10.6279\\n      Si   20.5261    6.9988   11.9996\\n      Si   19.8410    9.0801   14.6861\\n      Si   15.8113   10.3200  162.8461\\n      Si   16.5033   13.6155    2.4364\\n      Si   17.8035   12.1889    3.6805\\n      Si   17.7025   15.0528    1.0790\\n      Si   19.2916   10.8272    2.5042\\n      Si   19.5097   14.0744    0.1514\\n      Si   20.6069   12.3135    1.1081\\n      Si   20.2152   14.8056    3.8917\\n      Si   16.4592   10.8593    5.3508\\n      Si   16.3300   13.5531    7.9918\\n      Si   17.8522   12.3012    9.3684\\n      Si   17.6716   14.9807    6.6395\\n      Si   19.1707   10.9017    8.0787\\n      Si   18.8851   13.4910    5.2672\\n      Si   20.3634   12.2480    6.6619\\n      Si   20.3798   14.9853    9.4746\\n      Si   16.3765   10.8177   10.5568\\n      Si   16.0773   13.5821   13.4802\\n      Si   17.0452   11.8876   14.6303\\n      Si   17.6071   15.0231   12.2475\\n      Si   18.8559   10.8853   13.4684\\n      Si   19.0677   13.6823   10.9205\\n      Si   20.5021   12.3699   12.3102\\n      Si   21.0498   15.6823   14.6238\\n      Si   17.0466   16.9610  162.7449\\n      Si   16.4014   19.1450    2.7035\\n      Si   17.5818   17.7721    4.0905\\n      Si   18.0305   20.3455    1.3863\\n      Si   18.7415   16.2719    2.7285\\n      Si   18.6116   18.8285  162.6830\\n      Si   20.0333   17.3433    1.1299\\n      Si   20.5236   20.4287    3.9956\\n      Si   16.2721   16.2956    5.3041\\n      Si   16.2089   19.1059    8.0126\\n      Si   17.6570   17.7787    9.2659\\n      Si   17.7864   20.4575    6.7432\\n      Si   18.9444   16.3501    8.0257\\n      Si   19.0281   19.0300    5.3859\\n      Si   20.3991   17.6576    6.5483\\n      Si   20.6216   20.4645    9.4098\\n      Si   16.3719   16.4616   10.7305\\n      Si   16.6122   19.3024   13.3789\\n      Si   17.8525   17.8902   14.7714\\n      Si   17.9927   20.5036   12.0037\\n      Si   19.0604   16.4483   13.3922\\n      Si   19.1554   19.0830   10.6494\\n      Si   20.5630   17.7375   12.0236\\n      Si   21.1129   20.5257   14.6765\\n      Si   17.2059   22.5232    0.4016\\n      Si   16.5313   24.6346    3.0172\\n      Si   18.0568   23.2197    4.1450\\n      Si   17.8488   25.8545    1.6160\\n      Si   19.4653   21.8862    2.5659\\n      Si   18.9235   24.0837    0.3748\\n      Si   21.0430   23.0280    1.2247\\n      Si   20.7795   25.7447    4.0867\\n      Si   16.4117   21.8358    5.3020\\n      Si   16.4177   24.4778    8.0483\\n      Si   17.8437   23.2180    9.4122\\n      Si   17.9555   25.8842    6.9619\\n      Si   19.1823   21.7627    8.1326\\n      Si   19.3710   24.6414    5.5503\\n      Si   20.6171   23.2319    6.8506\\n      Si   20.6614   25.9659    9.4956\\n      Si   16.5051   21.7883   10.6855\\n      Si   16.3122   24.2971   13.3910\\n      Si   17.3436   22.4083   14.5542\\n      Si   17.6423   25.8805   12.2371\\n      Si   19.4177   21.6823   13.4596\\n      Si   19.1763   24.5642   10.8797\\n      Si   20.6116   23.2639   12.3082\\n      Si   20.1933   25.9938   14.9595\\n      Si   17.2423   27.6850    0.4414\\n      Si   16.4601   30.0891    2.9507\\n      Si   17.8159   28.6213    4.2081\\n      Si   17.9448   31.1193    1.2581\\n      Si   19.3190   27.1472    2.8571\\n      Si   18.8803   29.3259    0.3141\\n      Si   20.6203   28.4410    1.4605\\n      Si   20.2777   31.4659    4.2177\\n      Si   16.5456   27.2011    5.6185\\n      Si   16.2512   30.1029    8.2795\\n      Si   17.6483   28.6573    9.4805\\n      Si   17.6391   31.3520    6.8843\\n      Si   19.1480   27.3585    8.1721\\n      Si   18.9964   30.0665    5.4929\\n      Si   20.5635   28.6623    6.8487\\n      Si   20.4927   31.3632    9.5053\\n      Si   16.3547   27.3027   10.8418\\n      Si   16.2085   30.0134   13.6430\\n      Si   18.0283   28.9318   14.5903\\n      Si   17.5847   31.4255   12.2850\\n      Si   19.0433   27.2695   13.3565\\n      Si   19.1668   30.1042   10.9404\\n      Si   20.7105   28.5729   12.1541\\n      Si   20.1405   30.4666   14.5714\\n      Si   16.1013   32.2651    0.1716\\n      Si   16.5133   35.2837    2.6960\\n      Si   17.7392   33.8991    4.0865\\n      Si   17.9298   36.6425    1.2992\\n      Si   19.2036   32.5426    2.6257\\n      Si   19.8193   35.7752    0.0571\\n      Si   20.5220   33.8865    1.4690\\n      Si   20.3094   36.7409    4.1249\\n      Si   16.2396   32.6368    5.5191\\n      Si   16.2360   35.3543    8.2845\\n      Si   17.6965   34.1117    9.6739\\n      Si   17.5949   36.6948    6.8541\\n      Si   18.9772   32.7776    8.2544\\n      Si   18.9420   35.4087    5.5200\\n      Si   20.3406   34.0976    6.9161\\n      Si   20.3497   36.6447    9.6843\\n      Si   16.2233   32.8323   10.9935\\n      Si   16.2271   35.1897   13.7020\\n      Si   17.2302   33.2305   14.7782\\n      Si   17.6375   36.6677   12.4104\\n      Si   19.1557   32.4990   13.6972\\n      Si   19.0334   35.3962   11.0241\\n      Si   20.2916   33.9067   12.2958\\n      Si   20.8624   37.0990   15.0312\\n      Si   16.0849   37.5913    0.0565\\n      Si   16.2773   40.7184    2.4822\\n      Si   17.5498   39.5418    3.9059\\n      Si   17.7630   41.9811    1.2005\\n      Si   19.0395   38.2271    2.7256\\n      Si   19.6742   41.1013    0.1011\\n      Si   20.5327   39.4154    1.3992\\n      Si   20.3573   42.0722    4.0115\\n      Si   16.4285   38.0682    5.4243\\n      Si   16.2491   40.7340    8.0554\\n      Si   17.5471   39.4092    9.5909\\n      Si   17.6353   42.0211    6.6654\\n      Si   19.0177   38.0057    8.1690\\n      Si   18.9866   40.6651    5.3351\\n      Si   20.4510   39.3845    6.8101\\n      Si   20.2511   42.0752    9.5507\\n      Si   16.2762   37.9492   11.0286\\n      Si   16.3297   40.7367   13.5977\\n      Si   17.9769   39.9043   15.0343\\n      Si   17.5068   42.1670   12.2987\\n      Si   19.0662   38.1073   13.8116\\n      Si   18.9121   40.8180   11.0157\\n      Si   20.2810   39.3791   12.2527\\n      Si   19.7206   41.6952   14.9436\\n      Si   16.9978   44.0261    0.0614\\n      Si   16.3468   46.2255    2.7584\\n      Si   17.6294   44.7061    3.9694\\n      Si   17.6510   47.5219    1.3578\\n      Si   18.9470   43.3523    2.5849\\n      Si   18.6835   45.8830    0.0196\\n      Si   20.1958   44.7581    1.3640\\n      Si   20.3665   47.5219    4.0733\\n      Si   16.2991   43.4157    5.3201\\n      Si   16.2010   46.2654    8.0237\\n      Si   17.5973   44.7149    9.3301\\n      Si   17.6510   47.5219    6.7888\\n      Si   19.0180   43.3682    7.9546\\n      Si   18.9054   46.1576    5.3974\\n      Si   20.3920   44.7891    6.7035\\n      Si   20.3665   47.5219    9.5044\\n      Si   16.2673   43.3670   10.7526\\n      Si   16.2805   46.1864   13.6029\\n      Si   17.6710   44.8567   14.8843\\n      Si   17.6510   47.5219   12.2199\\n      Si   18.9084   43.4420   13.5306\\n      Si   18.9485   46.1535   10.7359\\n      Si   20.2497   44.8043   12.1178\\n      Si   20.3665   47.5219   14.9355\\n      Si   21.7243    0.0000    0.0000\\n      Si   21.6908    2.6072    2.7546\\n      Si   23.1534    1.3336    4.1264\\n      Si   23.0268    3.9308    1.3774\\n      Si   24.4398    0.0000    2.7155\\n      Si   24.7242    2.8011    0.1582\\n      Si   25.9598    1.4010    1.4737\\n      Si   25.8472    3.9367    4.2360\\n      Si   21.7243    0.0000    5.4311\\n      Si   21.6104    2.6920    8.2006\\n      Si   23.0554    1.3942    9.5614\\n      Si   23.1330    4.0188    6.9260\\n      Si   24.4398    0.0000    8.1466\\n      Si   24.4402    2.6469    5.5313\\n      Si   25.8572    1.3620    6.8673\\n      Si   25.9308    4.1939    9.6546\\n      Si   21.7243    0.0000   10.8621\\n      Si   21.8689    2.8611   13.5098\\n      Si   23.6424    2.0505   14.7850\\n      Si   23.1456    4.2287   11.9436\\n      Si   24.4398    0.0000   13.5777\\n      Si   24.5095    2.7285   10.8596\\n      Si   25.8359    1.4043   12.2532\\n      Si   25.3695    3.6259   14.8380\\n      Si   21.2231    4.7327    0.1552\\n      Si   21.9545    8.2684    2.5094\\n      Si   23.2200    6.9375    3.9236\\n      Si   23.4324    9.6354    1.3260\\n      Si   24.5297    5.3325    2.7680\\n      Si   25.2480    8.7122    0.1253\\n      Si   26.0708    6.7839    1.3252\\n      Si   26.0063    9.4489    4.0661\\n      Si   22.0103    5.5289    5.4660\\n      Si   21.8192    8.1930    8.0529\\n      Si   23.3117    6.9433    9.4651\\n      Si   23.0750    9.5978    6.6209\\n      Si   24.5926    5.4761    8.1931\\n      Si   24.6688    8.2468    5.2801\\n      Si   25.9600    6.8778    6.8026\\n      Si   25.9814    9.6770    9.5769\\n      Si   21.7628    5.6079   10.6343\\n      Si   21.6845    8.1689   13.6573\\n      Si   22.7292    6.4480   14.7386\\n      Si   23.1212    9.5909   12.3447\\n      Si   24.4653    5.3869   13.5298\\n      Si   24.5783    8.3226   10.9504\\n      Si   25.9335    6.9824   12.3949\\n      Si   26.3333   10.4031   14.8579\\n      Si   22.5570   11.4585    0.1768\\n      Si   21.6739   13.5834    2.6666\\n      Si   22.9917   12.3609    4.0784\\n      Si   23.0530   14.8366    1.2040\\n      Si   24.6106   10.9761    2.8492\\n      Si   24.3561   13.4181  162.9167\\n      Si   26.1605   12.3349    1.3142\\n      Si   25.7662   15.1775    4.0207\\n      Si   21.7120   10.9223    5.3206\\n      Si   21.6492   13.6797    8.0609\\n      Si   23.1048   12.3522    9.4513\\n      Si   22.9824   15.0383    6.5670\\n      Si   24.4663   10.8977    8.0378\\n      Si   24.4494   13.7177    5.2320\\n      Si   25.7363   12.2142    6.5853\\n      Si   25.9266   15.0116    9.2180\\n      Si   21.9131   11.0069   10.8392\\n      Si   21.9886   13.8979   13.5122\\n      Si   23.6649   12.9226   14.8350\\n      Si   23.3639   15.1358   11.9826\\n      Si   24.7241   11.2647   13.3875\\n      Si   24.6038   13.7310   10.7326\\n      Si   26.2005   12.6411   12.1124\\n      Si   25.3824   14.5871   14.9666\\n      Si   21.4572   15.8860  162.7997\\n      Si   21.6468   18.7364    2.2471\\n      Si   23.1113   17.4913    4.0651\\n      Si   24.0464   21.1531    1.7665\\n      Si   24.6246   16.5310    2.5203\\n      Si   20.7759   19.7786  161.8321\\n      Si   22.1937   17.7832  161.5977\\n      Si   27.7354   20.7503    2.2182\\n      Si   21.5650   16.2197    5.1755\\n      Si   21.7925   19.0583    7.9843\\n      Si   23.0365   17.6936    9.4129\\n      Si   23.2156   20.6924    6.9657\\n      Si   24.3626   16.3763    7.9142\\n      Si   23.3182   20.0635    3.7616\\n      Si   25.7829   17.7616    6.6988\\n      Si   26.2899   20.3223    9.6035\\n      Si   21.8812   16.3664   10.8318\\n      Si   22.0969   18.9013   13.3029\\n      Si   22.7196   17.1640   14.7130\\n      Si   23.4731   20.2362   11.8960\\n      Si   24.6882   16.3270   13.5644\\n      Si   24.8232   18.7264   10.8473\\n      Si   26.3941   17.3945   12.1333\\n      Si   27.0563   21.6083   13.9901\\n      Si   21.9701   20.7624    0.7443\\n      Si   22.2700   24.5451    2.6773\\n      Si   23.4005   22.9974    3.8904\\n      Si   23.8740   25.9939    1.6188\\n      Si   25.5888   22.5858    2.6768\\n      Si   25.1466   25.2258  162.7427\\n      Si   26.7197   23.7203    0.4627\\n      Si   25.9769   26.0839    4.4748\\n      Si   21.9857   21.9703    5.2777\\n      Si   22.0773   24.6333    8.1833\\n      Si   23.4326   22.9998    9.4547\\n      Si   23.3672   25.8249    6.9567\\n      Si   24.8029   21.6571    8.2247\\n      Si   24.5942   24.3279    5.5441\\n      Si   26.2504   23.0050    6.6987\\n      Si   26.0955   25.9540    9.6794\\n      Si   21.8992   21.6591   10.9387\\n      Si   21.7849   24.5397   13.7269\\n      Si   22.6513   22.3599   14.6467\\n      Si   23.3319   25.8260   12.4024\\n      Si   24.3325   21.5443   13.5365\\n      Si   24.6595   24.3371   11.0532\\n      Si   26.5152   23.2561   12.0162\\n      Si   26.8876   26.3218   14.4824\\n      Si   22.3198   27.2182    0.4978\\n      Si   21.6885   29.7791    3.1638\\n      Si   23.3633   28.5321    4.3398\\n      Si   23.2081   31.1610    1.9431\\n      Si   24.9629   27.8242    2.8171\\n      Si   25.0104   29.7455    1.2629\\n      Si   27.5936   27.9679    0.8558\\n      Si   25.9665   31.0943    4.3345\\n      Si   21.8785   27.1222    5.7003\\n      Si   21.9432   30.0672    8.2282\\n      Si   22.9789   28.4717    9.6379\\n      Si   23.2324   31.5755    7.0547\\n      Si   24.5990   27.2716    8.2892\\n      Si   24.5119   30.0292    5.7893\\n      Si   25.9224   28.6861    6.9829\\n      Si   25.8636   31.4078    9.4281\\n      Si   22.0454   27.0302   11.0230\\n      Si   22.0763   29.8309   13.4594\\n      Si   23.8195   28.8169   14.8586\\n      Si   23.2500   31.4204   12.1055\\n      Si   24.9234   27.4197   13.4121\\n      Si   24.5202   29.9341   10.6454\\n      Si   26.1952   29.1578   12.0337\\n      Si   25.3496   30.5806   14.5545\\n      Si   22.4220   32.9701    0.4889\\n      Si   21.7763   35.2907    2.8512\\n      Si   23.0710   34.0814    4.3030\\n      Si   23.1531   36.5725    1.3935\\n      Si   24.4476   32.5994    3.3095\\n      Si   24.1997   34.7436    0.3530\\n      Si   25.7199   33.7380    1.7412\\n      Si   25.9208   36.7312    4.0485\\n      Si   21.7300   32.7353    5.5970\\n      Si   21.7133   35.4307    8.2028\\n      Si   23.2094   34.0867    9.5443\\n      Si   23.0660   36.7111    6.7427\\n      Si   24.6441   32.8943    8.1824\\n      Si   24.5612   35.3051    5.4824\\n      Si   26.0111   34.0233    6.8129\\n      Si   25.9416   36.7833    9.5232\\n      Si   21.8440   32.6554   10.9372\\n      Si   21.7727   35.3202   13.7185\\n      Si   23.4593   34.0664   15.2271\\n      Si   23.2447   36.6681   12.3831\\n      Si   24.6408   32.6332   13.5188\\n      Si   24.6364   35.4369   10.9247\\n      Si   25.8302   34.0231   12.3226\\n      Si   26.5057   37.0266   14.8321\\n      Si   21.3807   37.6494    0.0566\\n      Si   21.8355   40.7735    2.7067\\n      Si   23.1773   39.4247    4.0469\\n      Si   23.1642   42.0867    1.2942\\n      Si   24.5818   38.0324    2.6217\\n      Si   24.4983   40.6923  162.8315\\n      Si   25.9403   39.4564    1.4286\\n      Si   25.7161   42.2802    4.1096\\n      Si   21.7758   38.0229    5.4370\\n      Si   21.7244   40.8008    8.2586\\n      Si   22.9992   39.5214    9.6943\\n      Si   23.0749   42.0889    6.8450\\n      Si   24.3569   38.0507    8.2623\\n      Si   24.4610   40.8840    5.4099\\n      Si   25.7322   39.4943    6.8041\\n      Si   25.7096   42.1661    9.6408\\n      Si   21.7493   38.0426   11.0107\\n      Si   21.4857   40.6179   13.7584\\n      Si   22.5958   38.8620   14.9399\\n      Si   22.8352   42.0752   12.4065\\n      Si   24.5720   38.0564   13.8304\\n      Si   24.2847   40.8718   11.0019\\n      Si   25.7447   39.5972   12.4405\\n      Si   25.5942   42.1289   15.1301\\n      Si   21.3099   42.9024    0.2397\\n      Si   21.6454   46.1124    2.5457\\n      Si   23.0930   44.8568    3.9760\\n      Si   23.0821   47.5219    1.3578\\n      Si   24.4889   43.5984    2.5008\\n      Si   25.3097   47.1822    0.2103\\n      Si   25.9776   44.9607    1.1126\\n      Si   25.7976   47.5219    4.0733\\n      Si   21.7567   43.4555    5.4034\\n      Si   21.7159   46.1275    8.0778\\n      Si   23.0579   44.7534    9.4626\\n      Si   23.0821   47.5219    6.7888\\n      Si   24.4841   43.4379    8.1376\\n      Si   24.4534   46.1880    5.4952\\n      Si   25.8307   44.8071    6.7911\\n      Si   25.7976   47.5219    9.5044\\n      Si   21.6141   43.4024   10.8857\\n      Si   21.5597   46.2686   13.4856\\n      Si   22.8594   44.7424   14.8548\\n      Si   23.0821   47.5219   12.2199\\n      Si   24.3624   43.4187   13.6017\\n      Si   24.4341   46.1350   10.8088\\n      Si   25.6805   44.7072   12.1531\\n      Si   25.7976   47.5219   14.9355\\n      Si   27.1554    0.0000    0.0000\\n      Si   27.3309    2.7784    2.8038\\n      Si   28.6076    1.3992    4.1890\\n      Si   28.7984    4.0538    1.3841\\n      Si   29.8709    0.0000    2.7155\\n      Si   30.6312    3.1865    0.2147\\n      Si   31.3868    1.3691    1.3767\\n      Si   31.5343    4.0647    4.1765\\n      Si   27.1554    0.0000    5.4311\\n      Si   27.1873    2.7356    8.2695\\n      Si   28.5288    1.3038    9.5101\\n      Si   28.5687    4.0944    6.9185\\n      Si   29.8709    0.0000    8.1466\\n      Si   29.9874    2.7356    5.5682\\n      Si   31.3155    1.3259    6.8797\\n      Si   31.3165    4.1977    9.5170\\n      Si   27.1554    0.0000   10.8621\\n      Si   27.1987    2.4882   13.7591\\n      Si   27.6896    0.3112   14.7618\\n      Si   28.5633    4.0617   12.3640\\n      Si   29.8709    0.0000   13.5777\\n      Si   29.7651    2.8709   10.8014\\n      Si   31.1542    1.4550   12.0689\\n      Si   32.1846    4.9102   14.6286\\n      Si   27.8382    5.8432    0.0081\\n      Si   27.3649    8.0366    2.6145\\n      Si   28.5965    6.7045    4.1964\\n      Si   28.5995    9.3156    1.0607\\n      Si   30.0839    5.3965    2.8734\\n      Si   29.5505    7.6092  162.8454\\n      Si   31.3374    6.6442    1.2845\\n      Si   31.3055    9.4269    4.2327\\n      Si   27.2201    5.3762    5.5313\\n      Si   27.2924    8.1459    8.2923\\n      Si   28.6144    6.8399    9.7191\\n      Si   28.5347    9.5362    6.8813\\n      Si   29.9211    5.4817    8.2578\\n      Si   29.9678    8.0877    5.6469\\n      Si   31.3268    6.7895    6.9483\\n      Si   31.1387    9.6212    9.4646\\n      Si   27.2561    5.4931   11.0376\\n      Si   27.1998    8.5913   13.7046\\n      Si   28.9896    7.4563   14.7958\\n      Si   28.5377    9.7410   12.1053\\n      Si   30.1114    5.5244   13.6185\\n      Si   29.9146    8.2867   10.8434\\n      Si   31.3862    7.0360   12.2121\\n      Si   30.7364    9.2771   14.8262\\n      Si   26.8557   10.3463    0.0091\\n      Si   27.1510   13.8206    2.7134\\n      Si   28.4432   12.1034    4.1972\\n      Si   30.4481   12.6965    1.6596\\n      Si   29.7247   10.6016    2.8201\\n      Si   36.4400   10.4941  161.8307\\n      Si   32.0831   14.4674    4.1895\\n      Si   30.8523   16.5374    3.0228\\n      Si   27.0752   10.7295    5.6107\\n      Si   27.2315   13.8078    7.7548\\n      Si   28.6281   12.5717    9.2983\\n      Si   28.6148   15.3873    6.3937\\n      Si   29.9418   11.0947    7.9509\\n      Si   29.8121   13.9041    4.9530\\n      Si   31.0562   12.4434    6.4987\\n      Si   31.2379   15.2788    9.2932\\n      Si   27.3909   11.1734   10.7425\\n      Si   27.3004   13.9282   13.6444\\n      Si   28.0546   12.0316   14.7616\\n      Si   28.4734   15.5062   12.1529\\n      Si   29.8418   11.0618   13.5359\\n      Si   29.8193   14.1322   10.8531\\n      Si   31.2202   12.3853   12.1349\\n      Si   31.4984   15.8365   14.3495\\n      Si   25.9964   16.7966  105.9059\\n      Si   25.4009   19.3126    0.3297\\n      Si   25.4775   14.5078  105.9059\\n      Si   26.8403   17.3930    1.6260\\n      Si   29.3397   14.6615    2.4717\\n      Si   23.5499   17.9650    0.8732\\n      Si   23.8786   17.8081  105.9059\\n      Si   31.8343   21.9263    2.3318\\n      Si   27.1956   16.9556    5.1041\\n      Si   24.8234   19.5924    5.6090\\n      Si   27.4282   18.5134    8.3798\\n      Si   29.4081   20.1137    5.3551\\n      Si   29.5047   16.2933    8.3274\\n      Si   28.0624   18.4942    3.4160\\n      Si   32.6639   17.0056   10.3202\\n      Si   32.1893   19.0333    7.8629\\n      Si   27.5799   16.5356   10.0289\\n      Si   27.6867   19.3027   13.0310\\n      Si   29.3013   18.7792   14.7428\\n      Si   28.6542   19.9593   11.0996\\n      Si   29.8309   16.8703   13.4302\\n      Si   30.0284   18.7441    9.3374\\n      Si   31.0725   18.2845   11.7796\\n      Si   30.7305   20.5878   14.3464\\n      Si   27.3576   20.9811    0.1045\\n      Si   27.3211   24.3421    3.1879\\n      Si   28.4268   23.2659    5.0079\\n      Si   28.2589   25.6357    1.3337\\n      Si   29.5630   21.6713    3.5294\\n      Si   24.1146   28.5961  162.3214\\n      Si   39.7142   20.1730  161.0882\\n      Si   31.3907   25.4149    4.3968\\n      Si   26.4387   21.0817    4.7598\\n      Si   27.2248   24.2534    8.5977\\n      Si   30.0969   21.2738    8.5656\\n      Si   28.9521   25.7451    7.8142\\n      Si   28.1075   20.6430    6.9555\\n      Si   30.1788   24.3872    6.2551\\n      Si   32.8651   16.3046    1.5279\\n      Si   31.5497   22.7667    7.3274\\n      Si   27.7701   22.5153   10.0200\\n      Si   27.9892   24.9655   12.8167\\n      Si   30.4856   23.7710   12.8215\\n      Si   29.7971   26.0629   11.4399\\n      Si   29.3351   22.5784   14.4757\\n      Si   30.2251   22.9358   10.4507\\n      Si   32.6853   21.0454    9.5810\\n      Si   25.9574   32.9028   15.8215\\n      Si   26.1387   27.4689  161.9519\\n      Si   27.2093   29.5036    3.0171\\n      Si   28.5847   28.0982    4.3572\\n      Si   28.5045   31.2199    1.6846\\n      Si   29.7984   26.6038    3.0035\\n      Si   29.4440   29.4399    0.4570\\n      Si   31.0505   28.2957    1.6151\\n      Si   31.2318   31.1287    4.1896\\n      Si   27.3781   27.0281    6.0974\\n      Si   27.2726   29.9113    8.2378\\n      Si   28.7752   28.5577    9.5204\\n      Si   28.6925   31.1561    6.7352\\n      Si   30.6969   26.9861    8.8756\\n      Si   30.0793   29.4644    5.4693\\n      Si   31.4107   28.3670    7.1720\\n      Si   31.4267   31.2434    9.5982\\n      Si   27.5181   27.0094   11.1942\\n      Si   27.5454   30.1928   14.1896\\n      Si   28.9980   27.8147   14.0418\\n      Si   28.3329   31.0554   12.1107\\n      Si   30.8553   25.8850   14.2918\\n      Si   29.9188   29.9193   10.9872\\n      Si   30.9014   28.6046   12.8508\\n      Si   34.7732   47.5550   73.3195\\n      Si   26.4927   31.7254    0.7436\\n      Si   27.3375   35.2036    2.6720\\n      Si   28.7419   33.9842    4.1081\\n      Si   28.6894   36.5992    1.2913\\n      Si   30.0671   32.5235    2.7325\\n      Si   30.5673   35.6634    0.1980\\n      Si   31.4635   33.7998    1.2324\\n      Si   31.2190   36.6235    4.0895\\n      Si   27.4133   32.6657    5.5254\\n      Si   27.1945   35.4647    8.0761\\n      Si   28.5450   34.1207    9.4859\\n      Si   28.6547   36.8139    6.7644\\n      Si   29.9941   32.6016    8.2450\\n      Si   29.9842   35.3487    5.5351\\n      Si   31.2296   33.9147    6.9021\\n      Si   31.2381   36.7103    9.6096\\n      Si   27.2386   32.6711   10.9315\\n      Si   27.3042   35.1980   13.4800\\n      Si   28.3129   33.1333   14.6192\\n      Si   28.6087   36.7402   12.2634\\n      Si   30.0889   32.2821   13.1037\\n      Si   29.7745   35.5369   10.8323\\n      Si   31.1225   34.1178   12.1677\\n      Si   31.6800   37.2254   15.1117\\n      Si   27.7658   38.5080    0.2463\\n      Si   27.1410   40.9560    2.8058\\n      Si   28.4626   39.5227    4.0652\\n      Si   28.5967   42.1033    1.3001\\n      Si   29.7829   37.9998    2.8428\\n      Si   29.4855   40.2557    0.1536\\n      Si   31.1725   39.2865    1.4587\\n      Si   31.2683   42.0765    4.0933\\n      Si   27.2573   38.1343    5.5053\\n      Si   27.0703   40.8660    8.2129\\n      Si   28.4198   39.4811    9.6557\\n      Si   28.4927   42.1606    6.7906\\n      Si   29.8869   38.1613    8.2354\\n      Si   29.8475   40.8239    5.3787\\n      Si   31.2236   39.4901    6.7982\\n      Si   31.1114   42.1287    9.5668\\n      Si   27.0876   38.1920   11.0957\\n      Si   27.1688   40.8043   13.8808\\n      Si   28.1386   38.9283   15.0857\\n      Si   28.4748   42.1569   12.4083\\n      Si   29.9053   38.0087   13.8371\\n      Si   29.8049   40.8738   10.9966\\n      Si   31.1247   39.3819   12.2292\\n      Si   30.9933   42.0176   15.0071\\n      Si   27.8223   43.9189  162.9304\\n      Si   27.1196   46.2591    2.6345\\n      Si   28.5080   44.8223    4.0009\\n      Si   28.5131   47.5219    1.3578\\n      Si   29.9843   43.4606    2.6238\\n      Si   29.4245   45.8242    0.0410\\n      Si   31.1825   44.9900    1.2855\\n      Si   31.2287   47.5219    4.0733\\n      Si   27.1592   43.5110    5.4128\\n      Si   27.2027   46.1635    8.1392\\n      Si   28.5875   44.8017    9.5277\\n      Si   28.5131   47.5219    6.7888\\n      Si   29.8736   43.4338    8.1432\\n      Si   29.8263   46.2070    5.4548\\n      Si   31.1136   44.8212    6.7620\\n      Si   31.2287   47.5219    9.5044\\n      Si   27.1694   43.4233   10.9492\\n      Si   26.9728   46.1435   13.3805\\n      Si   28.4159   44.9539   14.8188\\n      Si   28.5131   47.5219   12.2199\\n      Si   29.8878   43.5440   13.6319\\n      Si   29.8462   46.1526   10.9501\\n      Si   31.1958   44.8256   12.2266\\n      Si   31.2287   47.5219   14.9355\\n      Si   32.5864    0.0000    0.0000\\n      Si   32.8176    2.6721    2.7145\\n      Si   34.0329    1.3037    4.1316\\n      Si   34.1526    3.9730    1.2561\\n      Si   35.3020    0.0000    2.7155\\n      Si   35.3779    2.5430  162.7497\\n      Si   36.7341    1.3617    1.3750\\n      Si   36.8137    4.2526    3.9837\\n      Si   32.5864    0.0000    5.4311\\n      Si   32.6619    2.8186    8.1457\\n      Si   33.9851    1.3764    9.5020\\n      Si   34.0350    4.2389    6.7265\\n      Si   35.3020    0.0000    8.1466\\n      Si   35.4135    2.7609    5.3551\\n      Si   36.6674    1.3227    6.8036\\n      Si   36.5779    4.2548    9.4413\\n      Si   32.5864    0.0000   10.8621\\n      Si   32.6701    2.9075   13.4458\\n      Si   33.9223    1.4787   14.8412\\n      Si   34.0253    4.1466   11.9923\\n      Si   35.3020    0.0000   13.5777\\n      Si   35.3288    2.7079   10.8073\\n      Si   36.6705    1.3878   12.2733\\n      Si   36.6596    4.1612   14.8944\\n      Si   32.3751    4.8915  162.7869\\n      Si   32.5437    8.1331    2.6773\\n      Si   33.9999    6.8311    3.9392\\n      Si   33.7931    9.6268    1.4775\\n      Si   35.5325    5.5809    2.4215\\n      Si   35.3948    8.6136    0.0980\\n      Si   36.8977    7.1362    1.2923\\n      Si   36.6571    9.6510    4.0550\\n      Si   32.6670    5.6469    5.5004\\n      Si   32.5008    8.3343    8.2695\\n      Si   33.9557    6.9599    9.5158\\n      Si   33.8941    9.7213    6.7597\\n      Si   35.2733    5.7330    8.0853\\n      Si   35.3186    8.1886    5.4171\\n      Si   36.7171    6.9653    6.8092\\n      Si   36.5867    9.6949    9.5395\\n      Si   32.6027    5.6095   10.8269\\n      Si   32.6465    8.3553   13.7044\\n      Si   33.5672    6.4334   14.6791\\n      Si   33.8970    9.6964   12.2079\\n      Si   35.3747    5.5498   13.3701\\n      Si   35.2192    8.3566   10.8847\\n      Si   36.6971    7.0334   12.1199\\n      Si   36.5624    9.6271   14.9123\\n      Si   33.2609   11.7268  161.2299\\n      Si   32.9795   13.8625    1.7901\\n      Si   33.7033   12.4086    3.9342\\n      Si   35.2202   14.0263    0.6785\\n      Si   35.2925   11.0124    2.7495\\n      Si   35.3410   12.5819  161.7285\\n      Si   36.8250   12.3869    1.6362\\n      Si   36.7269   15.1080    3.8305\\n      Si   32.4514   11.0577    5.4063\\n      Si   32.5748   13.6788    7.9667\\n      Si   33.9746   12.4362    9.4097\\n      Si   34.0388   14.9968    6.7219\\n      Si   35.3290   11.0976    8.1178\\n      Si   35.2872   13.7264    5.2344\\n      Si   36.6041   12.4286    6.7135\\n      Si   36.6061   15.1021    9.4157\\n      Si   32.5641   11.0571   10.7002\\n      Si   32.6458   13.7479   13.3420\\n      Si   34.5062   12.9482   14.5001\\n      Si   33.7840   15.1727   11.6223\\n      Si   35.4401   11.0764   13.4876\\n      Si   35.2848   13.7125   10.6828\\n      Si   36.7239   12.3085   12.0315\\n      Si   36.0693   14.8541   14.3993\\n      Si   32.4127   11.4578    0.5548\\n      Si   33.1115   19.3117    2.6408\\n      Si   34.3442   17.5554    3.8038\\n      Si   35.0956   20.0768    1.1515\\n      Si   35.4091   16.3336    1.8638\\n      Si   37.3887   19.2669  161.4566\\n      Si   36.5600   18.1405    0.8359\\n      Si   36.9689   20.3238    4.0858\\n      Si   32.9608   16.5634    5.2798\\n      Si   34.0125   20.1509    6.5661\\n      Si   34.1041   18.1776    8.9687\\n      Si   33.3310   21.0090    4.2789\\n      Si   35.3398   16.4701    8.0356\\n      Si   35.5338   19.0080    5.2964\\n      Si   36.7364   17.7478    6.7569\\n      Si   36.8775   20.5614    9.4759\\n      Si   32.9229   17.7257   13.5911\\n      Si   30.7958   20.8554   11.8166\\n      Si   35.1360   18.6788   15.4607\\n      Si   33.4275   19.9344   11.8842\\n      Si   35.1134   16.8699   13.3178\\n      Si   35.4160   19.1846   10.5562\\n      Si   36.8024   18.0037   12.0334\\n      Si   36.7941   20.5246   14.6081\\n      Si   36.0161   21.1020  162.1925\\n      Si   32.7630   24.1557    3.0971\\n      Si   34.4832   22.8821    3.8470\\n      Si   34.0620   25.7097    1.5260\\n      Si   36.0643   21.6855    2.5254\\n      Si   35.9240   24.9375    0.4447\\n      Si   37.0303   22.8786    0.7778\\n      Si   36.7919   25.7817    4.1140\\n      Si   31.4995   20.7188    5.9844\\n      Si   31.5055   24.5197    9.2263\\n      Si   33.7002   23.5964    8.8555\\n      Si   34.2672   25.4361    6.9111\\n      Si   35.2054   21.6266    7.9575\\n      Si   35.5668   24.2113    5.4541\\n      Si   36.7823   22.9634    6.8811\\n      Si   36.7409   25.6395    9.8808\\n      Si   34.8727   24.0398   10.9202\\n      Si   41.2438   18.9984   16.0639\\n      Si   33.4362   20.4024   14.4998\\n      Si   32.6995   25.1321   11.5899\\n      Si   34.4377   22.2274   12.6226\\n      Si   36.7349   24.8180   12.5027\\n      Si   36.6751   22.0884   12.8838\\n      Si   33.0414   26.8676   13.3632\\n      Si   32.3230   26.5918    0.5069\\n      Si   32.5268   29.6641    2.7803\\n      Si   33.9525   28.3247    4.3464\\n      Si   33.9395   31.0961    1.4148\\n      Si   35.3036   27.1797    2.9166\\n      Si   35.8533   30.4026    0.2798\\n      Si   36.6655   28.5532    1.4777\\n      Si   36.6453   31.0277    4.1467\\n      Si   32.6351   26.9480    5.6533\\n      Si   32.7485   29.8703    8.1729\\n      Si   33.9153   28.4611    9.6550\\n      Si   34.0916   31.2436    6.8668\\n      Si   35.3618   27.0471    8.4534\\n      Si   35.2300   29.8229    5.5348\\n      Si   36.7622   28.6092    6.7910\\n      Si   36.6212   31.2838    9.5569\\n      Si   32.1653   27.4673   10.8153\\n      Si   31.8467   30.5717   13.5239\\n      Si   34.0051   29.2982   14.4186\\n      Si   33.7583   31.4454   12.1648\\n      Si   35.6524   26.7428   13.4752\\n      Si   35.2577   29.8706   11.0085\\n      Si   36.7196   28.4260   12.3009\\n      Si   35.9884   30.7505   14.6838\\n      Si   33.3441   33.1238    0.2304\\n      Si   32.6387   35.1566    2.7931\\n      Si   34.1041   33.7896    4.1249\\n      Si   34.0005   36.5599    1.4288\\n      Si   35.4126   32.4267    2.8375\\n      Si   35.0526   34.9516    0.1319\\n      Si   36.6742   33.8436    1.4143\\n      Si   36.7298   36.7344    4.1275\\n      Si   32.6012   32.4748    5.6088\\n      Si   32.5537   35.4534    8.1209\\n      Si   33.9987   34.0813    9.3791\\n      Si   33.9130   36.7304    6.7372\\n      Si   35.3372   32.7090    8.2195\\n      Si   35.3435   35.2939    5.5428\\n      Si   36.6619   33.8546    6.8314\\n      Si   36.6834   36.7733    9.4357\\n      Si   32.5932   32.8528   10.7754\\n      Si   32.6329   35.3992   13.7701\\n      Si   33.7301   33.8139   14.8204\\n      Si   33.9561   36.6720   12.3011\\n      Si   35.3066   32.7804   13.5623\\n      Si   35.3458   35.4633   10.7862\\n      Si   36.7107   34.1205   12.1166\\n      Si   37.0749   37.2051   14.7342\\n      Si   32.2016   37.4981    0.2500\\n      Si   32.6260   40.7900    2.6486\\n      Si   33.9704   39.4189    3.9847\\n      Si   33.9417   42.2927    1.2753\\n      Si   35.4001   38.1350    2.5419\\n      Si   35.8418   41.4163    0.0341\\n      Si   36.7909   39.5929    1.2509\\n      Si   36.5830   42.2258    4.1557\\n      Si   32.5452   38.1017    5.3234\\n      Si   32.4885   40.8114    8.2746\\n      Si   33.9231   39.3787    9.5350\\n      Si   33.7905   42.1523    6.9442\\n      Si   35.2741   38.0205    8.1195\\n      Si   35.2157   40.7577    5.5647\\n      Si   36.6798   39.4513    6.9235\\n      Si   36.6317   42.1848    9.5652\\n      Si   32.5552   38.0329   10.9713\\n      Si   32.4404   40.8110   13.6086\\n      Si   33.4838   38.9515   14.7064\\n      Si   33.8699   42.2407   12.3274\\n      Si   35.2771   38.0517   13.5847\\n      Si   35.2318   40.8844   10.8748\\n      Si   36.5775   39.4750   12.2711\\n      Si   37.0866   42.6193   14.9818\\n      Si   32.9959   44.0969    0.0054\\n      Si   32.5142   46.2256    2.7083\\n      Si   33.8216   44.7722    4.1349\\n      Si   33.9442   47.5219    1.3578\\n      Si   35.1806   43.5090    2.7912\\n      Si   34.8306   45.8493  162.9146\\n      Si   36.4851   44.7495    1.3584\\n      Si   36.6597   47.5219    4.0733\\n      Si   32.4852   43.4689    5.5367\\n      Si   32.5633   46.1265    8.0535\\n      Si   33.9378   44.8664    9.5078\\n      Si   33.9442   47.5219    6.7888\\n      Si   35.3054   43.5073    8.1392\\n      Si   35.2119   46.2366    5.4332\\n      Si   36.6660   44.8852    6.7253\\n      Si   36.6597   47.5219    9.5044\\n      Si   32.5198   43.5488   10.8875\\n      Si   32.5533   46.1404   13.5196\\n      Si   33.9311   44.9035   14.9361\\n      Si   33.9442   47.5219   12.2199\\n      Si   35.3463   43.5358   13.6076\\n      Si   35.2902   46.1931   10.8834\\n      Si   36.6761   44.8863   12.2075\\n      Si   36.6597   47.5219   14.9355\\n      Si   38.0175    0.0000    0.0000\\n      Si   38.1753    2.8510    2.6631\\n      Si   39.4312    1.4421    4.0576\\n      Si   39.5428    4.2923    1.3893\\n      Si   40.7330    0.0000    2.7155\\n      Si   41.3629    3.2659    0.3465\\n      Si   42.2123    1.3820    1.5541\\n      Si   42.1109    4.1736    4.1838\\n      Si   38.0175    0.0000    5.4311\\n      Si   37.9993    2.8168    8.1253\\n      Si   39.3239    1.3639    9.4656\\n      Si   39.4444    4.2502    6.8084\\n      Si   40.7330    0.0000    8.1466\\n      Si   40.7862    2.7554    5.4704\\n      Si   42.1334    1.3414    6.8213\\n      Si   42.1033    4.2035    9.5200\\n      Si   38.0175    0.0000   10.8621\\n      Si   38.0799    2.7598   13.6133\\n      Si   39.4489    1.4051   14.9753\\n      Si   39.3983    4.1459   12.2662\\n      Si   40.7330    0.0000   13.5777\\n      Si   40.6519    2.8455   10.8147\\n      Si   42.0695    1.5098   12.2291\\n      Si   42.6694    4.7641   14.9098\\n      Si   38.5748    6.0140    0.1433\\n      Si   38.2575    8.4277    2.7952\\n      Si   39.4451    7.0028    4.1753\\n      Si   39.5127    9.6248    1.2963\\n      Si   40.7535    5.6006    2.9139\\n      Si   40.2944    7.7087    0.0513\\n      Si   42.0217    6.8833    1.4329\\n      Si   42.1050    9.5585    4.1042\\n      Si   38.0288    5.6397    5.4346\\n      Si   37.9446    8.2980    8.1961\\n      Si   39.4179    6.9632    9.4650\\n      Si   39.3085    9.6878    6.8468\\n      Si   40.8047    5.5837    8.1901\\n      Si   40.7589    8.3265    5.5572\\n      Si   42.1402    6.9173    6.8355\\n      Si   42.0046    9.6098    9.5995\\n      Si   38.0851    5.5525   10.8557\\n      Si   37.9755    8.3592   13.5437\\n      Si   39.3299    7.0749   14.9421\\n      Si   39.3666    9.6920   12.2768\\n      Si   40.7591    5.6626   13.6230\\n      Si   40.6557    8.2766   10.9737\\n      Si   42.1618    7.0297   12.2784\\n      Si   42.4963   10.1764   14.8706\\n      Si   38.1781   11.1704    0.1261\\n      Si   38.3358   13.7643    2.7838\\n      Si   39.5609   12.2140    4.0334\\n      Si   39.6346   15.1184    1.2518\\n      Si   41.0104   10.9435    2.4824\\n      Si   41.4172   14.1429    0.0772\\n      Si   42.3242   12.4924    1.2691\\n      Si   42.3044   15.1374    4.1924\\n      Si   38.0691   10.9669    5.4245\\n      Si   38.0337   13.6969    8.1059\\n      Si   39.3476   12.4509    9.5716\\n      Si   39.4099   15.0529    6.7729\\n      Si   40.6520   11.0232    8.2292\\n      Si   40.8227   13.6835    5.5079\\n      Si   42.0721   12.2203    6.7608\\n      Si   42.1150   15.0391    9.5471\\n      Si   38.0954   10.9509   10.7457\\n      Si   38.0337   13.7053   13.4555\\n      Si   39.8810   12.9522   14.7615\\n      Si   39.4089   15.1751   12.3348\\n      Si   40.7318   11.1158   13.5912\\n      Si   40.6238   13.8410   10.8566\\n      Si   41.9640   12.4298   12.1132\\n      Si   41.6391   14.5163   14.9715\\n      Si   38.9764   17.3038    0.1759\\n      Si   38.1909   18.9684    2.5596\\n      Si   39.4667   17.6557    4.0406\\n      Si   39.7811   20.6198    1.6140\\n      Si   40.9183   16.4307    2.7101\\n      Si   40.4825   19.0251    0.0785\\n      Si   42.1177   17.8106    1.2196\\n      Si   42.2601   20.4583    4.1408\\n      Si   38.0663   16.3405    5.3127\\n      Si   38.0615   19.1320    8.0907\\n      Si   39.3670   17.7213    9.5734\\n      Si   39.6213   20.4279    6.8049\\n      Si   40.8081   16.4298    8.1123\\n      Si   40.7522   19.0813    5.4034\\n      Si   42.2134   17.8125    6.7029\\n      Si   42.2109   20.4753    9.4828\\n      Si   37.9600   16.4050   10.8287\\n      Si   38.2680   19.0174   13.4629\\n      Si   39.5916   17.7823   15.1555\\n      Si   39.6339   20.3627   12.1779\\n      Si   40.8624   16.4767   13.7568\\n      Si   40.9516   19.0212   10.9128\\n      Si   42.3690   17.8243   12.4401\\n      Si   42.6639   20.8113   14.8877\\n      Si   39.2946   22.1053  162.7985\\n      Si   38.1637   24.3810    2.6927\\n      Si   39.5422   23.1763    4.1402\\n      Si   39.5407   25.5487    1.2190\\n      Si   41.0177   22.0121    2.8494\\n      Si   40.6757   23.9352  162.7774\\n      Si   42.2488   23.2375    1.3502\\n      Si   42.0239   25.8115    4.1216\\n      Si   38.2205   21.7692    5.5031\\n      Si   37.9869   24.4234    8.3312\\n      Si   39.4666   23.1471    9.7451\\n      Si   39.3744   25.7011    6.8470\\n      Si   40.9609   21.8147    8.1761\\n      Si   40.7047   24.5038    5.4400\\n      Si   42.2238   23.2172    6.7787\\n      Si   42.1739   25.7343    9.6510\\n      Si   38.0883   21.7447   11.0350\\n      Si   42.5258   24.6996   16.4740\\n      Si   43.8167   22.7716   15.7057\\n      Si   39.2499   25.7714   12.3049\\n      Si   40.9741   21.7509   13.6427\\n      Si   40.8458   24.5018   11.1045\\n      Si   42.2620   23.2442   12.3877\\n      Si   42.6450   26.2667   14.7568\\n      Si   37.7303   26.7208    0.2273\\n      Si   38.1320   29.8429    2.8495\\n      Si   39.5055   28.3806    4.0628\\n      Si   39.3729   31.2288    1.3758\\n      Si   40.7788   27.0401    2.5874\\n      Si   40.7913   29.8440  162.9177\\n      Si   42.1666   28.4990    1.3805\\n      Si   42.1354   31.3177    4.0665\\n      Si   38.1532   27.1447    5.4299\\n      Si   38.1325   30.0198    8.0995\\n      Si   39.4574   28.5877    9.4285\\n      Si   39.4434   31.3153    6.7029\\n      Si   40.7673   27.0845    8.2006\\n      Si   40.8058   29.8355    5.3654\\n      Si   42.1296   28.4165    6.7394\\n      Si   42.0589   31.2611    9.5251\\n      Si   38.0634   27.3295   10.7585\\n      Si   38.0754   29.8866   13.6440\\n      Si   39.7303   29.1027   14.9618\\n      Si   39.2452   31.4164   12.1744\\n      Si   40.6577   27.1195   13.8275\\n      Si   40.6472   29.9597   10.8380\\n      Si   41.9357   28.4703   12.1569\\n      Si   41.3077   30.7383   14.8289\\n      Si   37.4391   32.0463    0.1728\\n      Si   38.1635   35.3536    2.5932\\n      Si   39.4771   34.0386    4.0638\\n      Si   39.5146   36.8611    1.2723\\n      Si   40.7910   32.6849    2.7030\\n      Si   41.3233   35.8395    0.1269\\n      Si   42.1320   34.0209    1.3390\\n      Si   42.1538   36.6338    4.2469\\n      Si   37.9652   32.6245    5.3474\\n      Si   37.9657   35.3225    8.1347\\n      Si   39.4485   34.0016    9.3941\\n      Si   39.3897   36.6979    6.8391\\n      Si   40.8258   32.6336    8.0996\\n      Si   40.8078   35.2957    5.5763\\n      Si   42.2782   33.9886    6.8479\\n      Si   42.0771   36.6268    9.5584\\n      Si   38.0199   32.7954   10.7426\\n      Si   38.0519   35.4411   13.5181\\n      Si   39.0352   33.9218   14.9817\\n      Si   39.5073   36.6781   12.2013\\n      Si   40.5710   32.6843   13.6713\\n      Si   40.7763   35.1801   10.8630\\n      Si   42.1051   34.0375   12.4719\\n      Si   42.6464   37.1545   14.8699\\n      Si   38.6495   38.6828    0.0661\\n      Si   38.0447   40.8570    2.8205\\n      Si   39.3506   39.4115    4.2336\\n      Si   39.3894   42.1530    1.4336\\n      Si   40.7603   38.0285    2.8902\\n      Si   40.3777   40.3801    0.2441\\n      Si   42.0866   39.3496    1.4490\\n      Si   42.0107   42.0304    4.0416\\n      Si   37.9678   38.0511    5.6153\\n      Si   37.9649   40.7329    8.3157\\n      Si   39.4078   39.3887    9.6000\\n      Si   39.4015   42.0985    6.9516\\n      Si   40.7131   38.0097    8.2117\\n      Si   40.7611   40.7383    5.6031\\n      Si   42.0840   39.3973    6.9584\\n      Si   42.1153   42.0457    9.5638\\n      Si   37.9776   38.0179   10.9437\\n      Si   37.9509   40.7508   13.7295\\n      Si   38.7788   38.9543   14.9560\\n      Si   39.4229   42.0708   12.3745\\n      Si   40.6733   37.9215   13.7697\\n      Si   40.8562   40.6611   11.0507\\n      Si   42.1057   39.2417   12.4348\\n      Si   41.8788   41.8480   15.2063\\n      Si   37.6082   43.0737    0.1911\\n      Si   38.0254   46.1509    2.6711\\n      Si   39.4843   44.7990    3.9732\\n      Si   39.3753   47.5219    1.3578\\n      Si   40.8386   43.4564    2.6817\\n      Si   40.8901   46.2180    0.0364\\n      Si   42.1988   44.7855    1.3087\\n      Si   42.0908   47.5219    4.0733\\n      Si   38.1470   43.5106    5.4881\\n      Si   37.9819   46.1256    8.1898\\n      Si   39.3832   44.8365    9.5386\\n      Si   39.3753   47.5219    6.7888\\n      Si   40.7892   43.4772    8.2065\\n      Si   40.8038   46.1678    5.3462\\n      Si   42.0705   44.8005    6.7548\\n      Si   42.0908   47.5219    9.5044\\n      Si   38.0859   43.4674   10.9177\\n      Si   38.0072   46.2117   13.5945\\n      Si   38.8833   44.3754   14.9303\\n      Si   39.3753   47.5219   12.2199\\n      Si   40.7517   43.3673   13.8483\\n      Si   40.7677   46.1615   10.8965\\n      Si   42.0623   44.7146   12.3417\\n      Si   42.0908   47.5219   14.9355\\n      Si   43.4486    0.0000    0.0000\\n      Si   43.4555    2.7263    2.9732\\n      Si   44.8014    1.3092    4.1999\\n      Si   44.7106    4.0091    1.5658\\n      Si   46.1641    0.0000    2.7155\\n      Si   46.2376    2.9153    0.0939\\n      Si   47.5219    1.3578    1.3578\\n      Si   47.5219    4.0733    4.0733\\n      Si   43.4486    0.0000    5.4311\\n      Si   43.4697    2.7554    8.2285\\n      Si   44.8587    1.3824    9.5601\\n      Si   44.8322    4.1448    6.8411\\n      Si   46.1641    0.0000    8.1466\\n      Si   46.1719    2.7811    5.4174\\n      Si   47.5219    1.3578    6.7888\\n      Si   47.5219    4.0733    9.5044\\n      Si   43.4486    0.0000   10.8621\\n      Si   43.4749    2.8945   13.6157\\n      Si   44.8237    1.4566   14.9214\\n      Si   44.7727    4.2093   12.1494\\n      Si   46.1641    0.0000   13.5777\\n      Si   46.1538    2.7612   10.9317\\n      Si   47.5219    1.3578   12.2199\\n      Si   47.5219    4.0733   14.9355\\n      Si   43.0783    5.1534    0.3237\\n      Si   43.4357    8.2737    2.6745\\n      Si   44.7312    6.8615    4.0123\\n      Si   44.8824    9.7335    1.4845\\n      Si   46.1151    5.4782    2.7047\\n      Si   46.1284    8.2392    0.1058\\n      Si   47.5219    6.7888    1.3578\\n      Si   47.5219    9.5044    4.0733\\n      Si   43.4967    5.5240    5.4731\\n      Si   43.4862    8.1975    8.2146\\n      Si   44.8429    6.8669    9.5728\\n      Si   44.9171    9.5584    6.8334\\n      Si   46.1444    5.5408    8.2246\\n      Si   46.1478    8.1267    5.4629\\n      Si   47.5219    6.7888    6.7888\\n      Si   47.5219    9.5044    9.5044\\n      Si   43.4074    5.5787   10.8382\\n      Si   43.5175    8.2861   13.7906\\n      Si   44.3205    6.4097   14.9112\\n      Si   44.8857    9.4929   12.3443\\n      Si   46.0458    5.5122   13.6208\\n      Si   46.1766    8.1629   10.9018\\n      Si   47.5219    6.7888   12.2199\\n      Si   47.5219    9.5044   14.9355\\n      Si   43.9035   11.3836    0.1086\\n      Si   43.5138   13.7671    2.7906\\n      Si   44.8160   12.3236    4.1076\\n      Si   44.7949   15.0459    1.3101\\n      Si   46.2747   11.0464    2.8589\\n      Si   45.6476   13.0769    0.2315\\n      Si   47.5219   12.2199    1.3578\\n      Si   47.5219   14.9355    4.0733\\n      Si   43.4971   10.8813    5.4405\\n      Si   43.4876   13.5931    8.0854\\n      Si   44.8667   12.3065    9.5584\\n      Si   44.8917   14.9202    6.7760\\n      Si   46.2113   10.9441    8.1826\\n      Si   46.2569   13.6089    5.4778\\n      Si   47.5219   12.2199    6.7888\\n      Si   47.5219   14.9355    9.5044\\n      Si   43.4457   11.0078   10.9706\\n      Si   43.3393   13.5522   13.5612\\n      Si   44.3528   11.8604   14.8297\\n      Si   44.7364   15.0199   12.2090\\n      Si   46.1905   10.9046   13.6011\\n      Si   46.2026   13.6495   10.9691\\n      Si   47.5219   12.2199   12.2199\\n      Si   47.5219   14.9355   14.9355\\n      Si   43.1332   15.9218    0.1794\\n      Si   43.5343   19.0915    2.6876\\n      Si   44.9011   17.7434    4.1385\\n      Si   44.8687   20.4620    1.2265\\n      Si   46.1700   16.3130    2.7484\\n      Si   46.3017   19.0336    0.0064\\n      Si   47.5219   17.6510    1.3578\\n      Si   47.5219   20.3665    4.0733\\n      Si   43.6613   16.3848    5.4934\\n      Si   43.5760   19.1342    8.2037\\n      Si   44.8518   17.6301    9.5311\\n      Si   44.8964   20.4412    6.9079\\n      Si   46.1755   16.3498    8.0796\\n      Si   46.2171   19.0650    5.5295\\n      Si   47.5219   17.6510    6.7888\\n      Si   47.5219   20.3665    9.5044\\n      Si   43.4945   16.3869   10.8789\\n      Si   43.8133   19.1615   13.7449\\n      Si   45.7437   18.3672   14.8049\\n      Si   44.9207   20.4825   12.1476\\n      Si   46.2033   16.2569   13.5098\\n      Si   46.2464   19.0640   10.7997\\n      Si   47.5219   17.6510   12.2199\\n      Si   47.5219   20.3665   14.9355\\n      Si   44.0731   22.3948    0.2300\\n      Si   43.5314   24.5513    2.7370\\n      Si   44.8122   23.1233    4.0798\\n      Si   44.9329   25.8560    1.2953\\n      Si   46.1481   21.7778    2.6819\\n      Si   45.8201   24.0472    0.0875\\n      Si   47.5219   23.0821    1.3578\\n      Si   47.5219   25.7976    4.0733\\n      Si   43.5547   21.8099    5.5417\\n      Si   43.6046   24.5280    8.3258\\n      Si   44.8093   23.1404    9.7169\\n      Si   44.8253   25.8399    6.8367\\n      Si   46.0664   21.8608    8.2903\\n      Si   46.1292   24.4179    5.4702\\n      Si   47.5219   23.0821    6.7888\\n      Si   47.5219   25.7976    9.5044\\n      Si   43.4071   21.7954   11.0119\\n      Si   43.7789   24.6926   13.3961\\n      Si   45.7059   23.9831   14.5745\\n      Si   45.0232   26.0334   12.0857\\n      Si   46.1888   21.7963   13.5857\\n      Si   46.2507   24.4126   10.8727\\n      Si   47.5219   23.0821   12.2199\\n      Si   47.5219   25.7976   14.9355\\n      Si   44.0023   27.7061    0.0333\\n      Si   43.4932   29.9378    2.7179\\n      Si   44.8338   28.5885    4.0887\\n      Si   44.7757   31.2114    1.1852\\n      Si   46.2912   27.2236    2.6998\\n      Si   45.7182   29.3427    0.0987\\n      Si   47.5219   28.5131    1.3578\\n      Si   47.5219   31.2287    4.0733\\n      Si   43.5036   27.1120    5.3934\\n      Si   43.3425   29.9074    8.0406\\n      Si   44.7439   28.6641    9.5114\\n      Si   44.8480   31.2407    6.8190\\n      Si   46.1622   27.1660    8.1906\\n      Si   46.1603   29.9572    5.4853\\n      Si   47.5219   28.5131    6.7888\\n      Si   47.5219   31.2287    9.5044\\n      Si   43.4643   27.2034   10.8544\\n      Si   43.2065   29.9030   13.6077\\n      Si   44.2448   28.1093   14.7657\\n      Si   44.7623   31.2958   12.3003\\n      Si   46.2464   27.3133   13.6251\\n      Si   46.2325   29.9561   10.9654\\n      Si   47.5219   28.5131   12.2199\\n      Si   47.5219   31.2287   14.9355\\n      Si   43.3972   32.6316  162.8730\\n      Si   43.4396   35.2397    2.8503\\n      Si   44.8463   33.8371    4.0902\\n      Si   44.7998   36.6083    1.4974\\n      Si   46.1706   32.5101    2.6365\\n      Si   46.1065   35.2578    0.0271\\n      Si   47.5219   33.9442    1.3578\\n      Si   47.5219   36.6597    4.0733\\n      Si   43.4882   32.5811    5.5024\\n      Si   43.5567   35.3146    8.2610\\n      Si   44.7745   33.9201    9.6315\\n      Si   44.8789   36.6671    6.9055\\n      Si   46.1387   32.6181    8.1599\\n      Si   46.1208   35.3138    5.4313\\n      Si   47.5219   33.9442    6.7888\\n      Si   47.5219   36.6597    9.5044\\n      Si   43.3287   32.6600   10.9734\\n      Si   43.6257   35.4116   13.7012\\n      Si   45.6810   34.6726   14.8262\\n      Si   44.8301   36.6706   12.1959\\n      Si   46.1842   32.6361   13.6049\\n      Si   46.1915   35.2635   10.8936\\n      Si   47.5219   33.9442   12.2199\\n      Si   47.5219   36.6597   14.9355\\n      Si   43.1085   37.6499    0.2203\\n      Si   43.4198   40.7098    2.7275\\n      Si   44.8129   39.4290    4.1551\\n      Si   44.8870   42.0919    1.4088\\n      Si   46.1317   38.0412    2.7757\\n      Si   46.2334   40.7097    0.0654\\n      Si   47.5219   39.3753    1.3578\\n      Si   47.5219   42.0908    4.0733\\n      Si   43.5567   38.0848    5.6086\\n      Si   43.4911   40.6824    8.3002\\n      Si   44.7421   39.3495    9.6197\\n      Si   44.8174   42.0323    6.9012\\n      Si   46.1607   38.0733    8.2591\\n      Si   46.2242   40.7408    5.4808\\n      Si   47.5219   39.3753    6.7888\\n      Si   47.5219   42.0908    9.5044\\n      Si   43.3492   38.0153   10.9521\\n      Si   43.4257   40.6828   13.7625\\n      Si   44.3441   38.8181   14.8383\\n      Si   44.7941   42.1153   12.3587\\n      Si   46.0848   37.9996   13.5829\\n      Si   46.0906   40.7501   10.9042\\n      Si   47.5219   39.3753   12.2199\\n      Si   47.5219   42.0908   14.9355\\n      Si   44.0508   43.9197    0.1878\\n      Si   43.4108   46.1406    2.7222\\n      Si   44.8133   44.7514    4.0348\\n      Si   44.8064   47.5219    1.3578\\n      Si   46.1973   43.4369    2.7702\\n      Si   45.7613   45.7378    0.0557\\n      Si   47.5219   44.8064    1.3578\\n      Si   47.5219   47.5219    4.0733\\n      Si   43.4236   43.3513    5.3831\\n      Si   43.4503   46.1001    8.2175\\n      Si   44.9143   44.8010    9.5569\\n      Si   44.8064   47.5219    6.7888\\n      Si   46.2008   43.4268    8.1714\\n      Si   46.1523   46.1217    5.4125\\n      Si   47.5219   44.8064    6.7888\\n      Si   47.5219   47.5219    9.5044\\n      Si   43.4710   43.4610   10.9031\\n      Si   43.5031   46.1473   13.6257\\n      Si   45.7280   45.6965   14.6662\\n      Si   44.8064   47.5219   12.2199\\n      Si   46.2381   43.5641   13.6588\\n      Si   46.2162   46.2205   10.9008\\n      Si   47.5219   44.8064   12.2199\\n      Si   47.5219   47.5219   14.9355\\n      Ga   30.9188   25.0508  105.9059\\n\",\"xyz\");\n",
       "\tviewer_1679600369830253.setStyle({\"sphere\": {}});\n",
       "\tviewer_1679600369830253.setBackgroundColor(\"0xeeeeee\");\n",
       "\tviewer_1679600369830253.render();\n",
       "viewer_1679600369830253.render();\n",
       "});\n",
       "</script>"
      ]
     },
     "metadata": {},
     "output_type": "display_data"
    },
    {
     "data": {
      "text/plain": [
       "<py3Dmol.view at 0x7fa5ce7bfd50>"
      ]
     },
     "execution_count": 13,
     "metadata": {},
     "output_type": "execute_result"
    }
   ],
   "source": [
    "#3dmol viewer\n",
    "#display(widgets.Text(value = 'control+click to slide'))\n",
    "#print('\\n')\n",
    "file = 'data/3dmol2.xyz'\n",
    "xyzout = open(file,'r').read()\n",
    "p.clear()\n",
    "\n",
    "\n",
    "p.addModel(xyzout,'xyz')\n",
    "p.setStyle({'sphere':{}})\n",
    "p.setBackgroundColor('0xeeeeee')\n",
    "#p.clear()\n",
    "#p.zoom()\n",
    "p.render()\n",
    "#display(widgets.Text(value = '\\n'))"
   ]
  },
  {
   "cell_type": "code",
   "execution_count": null,
   "metadata": {},
   "outputs": [],
   "source": []
  },
  {
   "cell_type": "code",
   "execution_count": null,
   "metadata": {},
   "outputs": [],
   "source": []
  }
 ],
 "metadata": {
  "extensions": {
   "jupyter_dashboards": {
    "activeView": "grid_default",
    "version": 1,
    "views": {
     "grid_default": {
      "cellMargin": 10,
      "defaultCellHeight": 20,
      "maxColumns": 12,
      "name": "grid",
      "type": "grid"
     },
     "report_default": {
      "name": "report",
      "type": "report"
     }
    }
   }
  },
  "kernelspec": {
   "display_name": "Python 3",
   "language": "python",
   "name": "python3"
  },
  "language_info": {
   "codemirror_mode": {
    "name": "ipython",
    "version": 3
   },
   "file_extension": ".py",
   "mimetype": "text/x-python",
   "name": "python",
   "nbconvert_exporter": "python",
   "pygments_lexer": "ipython3",
   "version": "3.7.7"
  },
  "tool": true
 },
 "nbformat": 4,
 "nbformat_minor": 2
}
