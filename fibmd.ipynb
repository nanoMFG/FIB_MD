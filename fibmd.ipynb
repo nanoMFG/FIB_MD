{
 "cells": [
  {
   "cell_type": "markdown",
   "metadata": {
    "extensions": {
     "jupyter_dashboards": {
      "version": 1,
      "views": {
       "grid_default": {
        "col": 0,
        "height": 2,
        "hidden": false,
        "row": 0,
        "width": 11
       },
       "report_default": {
        "hidden": false
       }
      }
     }
    }
   },
   "source": [
    "# Focused Ion Beam Molecular Dynamics (fibmd) Tool"
   ]
  },
  {
   "cell_type": "code",
   "execution_count": 43,
   "metadata": {
    "extensions": {
     "jupyter_dashboards": {
      "version": 1,
      "views": {
       "grid_default": {
        "col": 4,
        "height": 4,
        "hidden": true,
        "row": 0,
        "width": 4
       },
       "report_default": {
        "hidden": true
       }
      }
     }
    }
   },
   "outputs": [],
   "source": [
    "from IPython.display import display, HTML, clear_output\n",
    "import ipywidgets as widgets\n",
    "#from ipywidgets import Button, Layout\n",
    "from string import Template\n",
    "import moviepy.editor as mpy\n",
    "import hublib.use\n",
    "from hublib.cmd import runCommand\n",
    "from hublib.ui import FileUpload, Download\n",
    "from IPython.display import FileLink, FileLinks\n",
    "from hubzero.submit.SubmitCommand import SubmitCommand"
   ]
  },
  {
   "cell_type": "code",
   "execution_count": 44,
   "metadata": {
    "extensions": {
     "jupyter_dashboards": {
      "version": 1,
      "views": {
       "grid_default": {
        "col": 8,
        "height": 4,
        "hidden": true,
        "row": 0,
        "width": 4
       },
       "report_default": {
        "hidden": true
       }
      }
     }
    }
   },
   "outputs": [],
   "source": [
    "%use openmpi-1.6.3-gnu-4.7.2"
   ]
  },
  {
   "cell_type": "markdown",
   "metadata": {
    "extensions": {
     "jupyter_dashboards": {
      "version": 1,
      "views": {
       "grid_default": {
        "col": 0,
        "height": 4,
        "hidden": true,
        "row": 18,
        "width": 4
       },
       "report_default": {
        "hidden": false
       }
      }
     }
    },
    "slideshow": {
     "slide_type": "slide"
    }
   },
   "source": [
    "# Creating widgets for critical input"
   ]
  },
  {
   "cell_type": "code",
   "execution_count": 45,
   "metadata": {
    "extensions": {
     "jupyter_dashboards": {
      "version": 1,
      "views": {
       "grid_default": {
        "col": 4,
        "height": 4,
        "hidden": true,
        "row": 18,
        "width": 4
       },
       "report_default": {
        "hidden": true
       }
      }
     }
    }
   },
   "outputs": [],
   "source": [
    "#title = widgets.Label(value=\"FIBMD Tool\", width=10)\n",
    "\n",
    "box_layout = widgets.Layout(display='flex',\n",
    "                    jusitf='center'\n",
    "                   )\n",
    "keVin = widgets.BoundedFloatText(\n",
    "    value=2000,\n",
    "    min=1000,\n",
    "    max=60000,\n",
    "    step=100\n",
    ")\n",
    "\n",
    "xdimin = widgets.BoundedIntText(\n",
    "    value=6,\n",
    "    min=4,\n",
    "    max=40,\n",
    "    step=1,\n",
    "    description='X:'\n",
    ")\n",
    "\n",
    "ydimin = widgets.BoundedIntText(\n",
    "    value=6,\n",
    "    min=4,\n",
    "    max=40,\n",
    "    step=1,\n",
    "    description='Y: '\n",
    ")\n",
    "\n",
    "zdimin = widgets.BoundedIntText(\n",
    "    value=4,\n",
    "    min=1,\n",
    "    max=40,\n",
    "    step=1,\n",
    "    description='Z:'\n",
    ")\n",
    "\n",
    "pin = widgets.BoundedIntText(\n",
    "    value = 1,\n",
    "    min = 1,\n",
    "    max = 10,\n",
    "    step = 1\n",
    ")\n",
    "nin = widgets.BoundedIntText(\n",
    "    value = 1,\n",
    "    min = 1,\n",
    "    max = 100,\n",
    "    step = 1\n",
    ")\n",
    "\n",
    "ain  = widgets.BoundedIntText(\n",
    "    value = 500,\n",
    "    min = 0,\n",
    "    max = 1e6,\n",
    "    step = 100\n",
    ")\n",
    "\n",
    "din = widgets.FloatText(\n",
    "    value = 1,\n",
    "    step = 0.1\n",
    ")\n",
    "\n",
    "phizin = widgets.FloatText(\n",
    "    value = 0.0,\n",
    "    step = 1\n",
    ")\n",
    "phixyin = widgets.FloatText(\n",
    "    value = 0.0,\n",
    "    step = 1\n",
    ")\n",
    "\n",
    "fin = widgets.FloatText(\n",
    "    value = 2\n",
    ")\n",
    "\n",
    "dimlabel = widgets.Label(\" Target dimensions (in silicon unit cells)\",layout=box_layout)\n",
    "keVlabel = widgets.Label(\"Ion Energy:\")\n",
    "proclabel = widgets.Label(\"# of Processors:\")\n",
    "ionlabel = widgets.Label(\"# of Ions to fire:\")\n",
    "outlabel = widgets.Label(\".xyz output frequency:\")\n",
    "dtlabel = widgets.Label(\"Time between ion impacts in ps:\")\n",
    "anglezlabel = widgets.Label(\"Angle of incidence (from a-axis):\")\n",
    "anglexylabel = widgets.Label(\"Angle of incidence (from x-axis, xy plane):\")\n",
    "fwhmlabel = widgets.Label(\"FWHM of ion beam in nm:\")\n",
    "\n",
    "xcol = widgets.VBox([widgets.Label(\" \"),xdimin])\n",
    "ycol = widgets.VBox([dimlabel,ydimin],layout=box_layout)\n",
    "zcol = widgets.VBox([widgets.Label(\" \"),zdimin])\n",
    "\n",
    "dimensions = widgets.HBox([xcol,ycol,zcol])\n",
    "\n",
    "vlabels = widgets.VBox([keVlabel, proclabel, ionlabel, outlabel, dtlabel, anglezlabel, anglexylabel, fwhmlabel])\n",
    "vinput = widgets.VBox([keVin, pin, nin, ain, din, phizin, phixyin, fin])\n",
    "\n",
    "inputs2 = widgets.HBox([vlabels,vinput])\n",
    "\n",
    "#phizin2 = widgets.HBox([widgets.Label(\"Angle of Incidence (from z-axis)\"),phizin1])\n",
    "#phixyin2 = widgets.HBox([widgets.Label(\"Angel of Incidence (from x-axis, xy plane)\"),phixyin1])\n",
    "\n",
    "fwhmin = widgets.HBox([widgets.Label(\"FWHM of ion beam in nm:\"),fin])\n"
   ]
  },
  {
   "cell_type": "code",
   "execution_count": 46,
   "metadata": {
    "extensions": {
     "jupyter_dashboards": {
      "version": 1,
      "views": {
       "grid_default": {
        "col": 0,
        "height": 12,
        "hidden": false,
        "row": 2,
        "width": 9
       },
       "report_default": {
        "hidden": false
       }
      }
     }
    }
   },
   "outputs": [
    {
     "data": {
      "application/vnd.jupyter.widget-view+json": {
       "model_id": "2a012f8efb7e414c95900138bfc35056",
       "version_major": 2,
       "version_minor": 0
      },
      "text/html": [
       "<p>Failed to display Jupyter Widget of type <code>VBox</code>.</p>\n",
       "<p>\n",
       "  If you're reading this message in the Jupyter Notebook or JupyterLab Notebook, it may mean\n",
       "  that the widgets JavaScript is still loading. If this message persists, it\n",
       "  likely means that the widgets JavaScript library is either not installed or\n",
       "  not enabled. See the <a href=\"https://ipywidgets.readthedocs.io/en/stable/user_install.html\">Jupyter\n",
       "  Widgets Documentation</a> for setup instructions.\n",
       "</p>\n",
       "<p>\n",
       "  If you're reading this message in another frontend (for example, a static\n",
       "  rendering on GitHub or <a href=\"https://nbviewer.jupyter.org/\">NBViewer</a>),\n",
       "  it may mean that your frontend doesn't currently support widgets.\n",
       "</p>\n"
      ],
      "text/plain": [
       "VBox(children=(HBox(children=(VBox(children=(Label(value=' '), BoundedIntText(value=6, description='X:', max=40, min=4))), VBox(children=(Label(value=' Target dimensions (in silicon unit cells)', layout=Layout(display='flex')), BoundedIntText(value=6, description='Y: ', max=40, min=4)), layout=Layout(display='flex')), VBox(children=(Label(value=' '), BoundedIntText(value=4, description='Z:', max=40, min=1))))), HBox(children=(VBox(children=(Label(value='Ion Energy:'), Label(value='# of Processors:'), Label(value='# of Ions to fire:'), Label(value='.xyz output frequency:'), Label(value='Time between ion impacts in ps:'), Label(value='Angle of incidence (from a-axis):'), Label(value='Angle of incidence (from x-axis, xy plane):'), Label(value='FWHM of ion beam in nm:'))), VBox(children=(BoundedFloatText(value=2000.0, max=60000.0, min=1000.0, step=100.0), BoundedIntText(value=1, max=10, min=1), BoundedIntText(value=1, min=1), BoundedIntText(value=500, max=1000000, step=100), FloatText(value=1.0, step=0.1), FloatText(value=0.0, step=1.0), FloatText(value=0.0, step=1.0), FloatText(value=2.0)))))), layout=Layout(border='solid'))"
      ]
     },
     "metadata": {},
     "output_type": "display_data"
    }
   ],
   "source": [
    "widgets.VBox([dimensions,inputs2],layout=widgets.Layout(border='solid'))"
   ]
  },
  {
   "cell_type": "code",
   "execution_count": 47,
   "metadata": {
    "extensions": {
     "jupyter_dashboards": {
      "version": 1,
      "views": {
       "grid_default": {
        "col": 0,
        "height": 13,
        "hidden": false,
        "row": 14,
        "width": 7
       },
       "report_default": {}
      }
     }
    },
    "scrolled": true
   },
   "outputs": [
    {
     "data": {
      "application/vnd.jupyter.widget-view+json": {
       "model_id": "e2b0d8a2e4be461db6b5995ecae26484",
       "version_major": 2,
       "version_minor": 0
      },
      "text/html": [
       "<p>Failed to display Jupyter Widget of type <code>Button</code>.</p>\n",
       "<p>\n",
       "  If you're reading this message in the Jupyter Notebook or JupyterLab Notebook, it may mean\n",
       "  that the widgets JavaScript is still loading. If this message persists, it\n",
       "  likely means that the widgets JavaScript library is either not installed or\n",
       "  not enabled. See the <a href=\"https://ipywidgets.readthedocs.io/en/stable/user_install.html\">Jupyter\n",
       "  Widgets Documentation</a> for setup instructions.\n",
       "</p>\n",
       "<p>\n",
       "  If you're reading this message in another frontend (for example, a static\n",
       "  rendering on GitHub or <a href=\"https://nbviewer.jupyter.org/\">NBViewer</a>),\n",
       "  it may mean that your frontend doesn't currently support widgets.\n",
       "</p>\n"
      ],
      "text/plain": [
       "Button(description='Run Simulation', style=ButtonStyle())"
      ]
     },
     "metadata": {},
     "output_type": "display_data"
    },
    {
     "name": "stdout",
     "output_type": "stream",
     "text": [
      "<string.Template object at 0x7ff97206ac50>\n",
      "submit --parameters --local --tail out.log mpirun -np 1 bin/mdrun2 > out.log\n",
      " ----------------Parallel Environment Initialized, \n",
      "           1  processors are alive and running ....-------------------\n",
      " Initparallel done\n",
      " READING PARAMETERS\n",
      " Si atoms        1152\n",
      "   3.2586437999999998E-009\n",
      "   3.2586437999999998E-009\n",
      "   2.1724291999999999E-009\n",
      " called ionrun           1\n",
      " readprms done\n",
      " initran done\n",
      " initdata done\n",
      " initparaops done\n",
      " init_nlist done\n",
      " initio done\n",
      " mktables done\n",
      " initmeans done\n",
      " si_nlist done\n",
      " DONE INITIALIZING\n",
      " --------------------------------\n",
      "         0    0.1173337040E+02    0.4613962044E+02\n",
      "        50    0.1930247586E+03   -0.6572071544E-04\n",
      "       100    0.2588448461E+03    0.4796569859E-03\n",
      " Equalized to temperature    270.34439258422060     \n",
      "Total time for      0th impact is ********** seconds\n",
      "-----------------------------------------------------------------------------\n",
      "| at_time    0.1051425934E-03 at_count        2 average    0.5257129669E-04 |\n",
      "| nt_time    0.9342908859E-02 nt_count        2 average    0.4671454430E-02 |\n",
      "| ds_time    0.0000000000E+00 ds_count        0 average                 NaN |\n",
      "|  f_time    0.1717615843E+01  f_count      119 average    0.1443374658E-01 |\n",
      "| wr_time =     0.1913213730E-01\n",
      "-----------------------------------------------------------------------------\n",
      "at_time =   0.27% of whole\n",
      "nt_time =  24.04% of whole\n",
      "ds_time =    NaN% of whole\n",
      " f_time =  74.27% of whole\n",
      " TIME PER STEP:    1.4790118241510471E-002\n",
      " Total Time in simulation:    1.7600259780883789     \n",
      " called ionrun           1\n",
      "              |\n",
      "            .\\:/.\n",
      " KNOCK    --=>*<=--    RANINDEX        7911 ion ID        1153\n",
      "            //:\\\\\n",
      "       119    0.1609347200E-08    0.2229519000E-09    0.2715536500E-08   -0.7439994744E+05      1153\n",
      "       150    0.2662022437E+03   -0.7439994744E+05\n",
      "       200    0.2575385884E+03   -0.7439994744E+05\n",
      "       250    0.2464842163E+03   -0.7439994744E+05\n",
      "       300    0.2334416798E+03   -0.7439994646E+05\n",
      "       350    0.2188751176E+03   -0.7439961973E+05\n",
      "       400    0.2032921647E+03   -0.7439731221E+05\n",
      "       450    0.1872226533E+03   -0.7438345364E+05\n",
      "       500    0.1712241643E+03   -0.7431984097E+05\n",
      "       550    0.1562498152E+03   -0.7408835970E+05\n",
      "       600    0.1615892204E+03   -0.7250076139E+05\n",
      "       650    0.1440031674E+04   -0.6262545408E+05\n",
      "       700    0.3953622158E+04   -0.5761468832E+05\n",
      "       750    0.4043596843E+04   -0.5682893070E+05\n",
      "       800    0.3574858775E+04   -0.5627162300E+05\n",
      "       850    0.4181062485E+04   -0.5686463914E+05\n",
      "       900    0.4009256124E+04   -0.5709837936E+05\n",
      "       950    0.3175706562E+04   -0.5729611576E+05\n",
      "      1000    0.4177786055E+04   -0.5782823507E+05\n",
      "      1050    0.4329519834E+04   -0.5813324804E+05\n",
      "      1100    0.4300407749E+04   -0.5817912256E+05\n",
      "      1150    0.4234752164E+04   -0.5797183566E+05\n",
      "      1200    0.4164914336E+04   -0.5721734903E+05\n",
      "      1250    0.4154281554E+04   -0.5619368552E+05\n",
      "      1300    0.4176186462E+04   -0.5503285923E+05\n",
      "      1350    0.4164161752E+04   -0.4923018266E+05\n",
      "      1400    0.4114974967E+04   -0.4217111590E+05\n",
      "      1450    0.4026083683E+04   -0.4311659287E+05\n",
      "      1500    0.3865183736E+04   -0.4258099838E+05\n",
      "      1550    0.3428658349E+04   -0.4085395556E+05\n",
      "      1600    0.2650391324E+04   -0.4038834944E+05\n",
      "      1650    0.3224486883E+04   -0.3679871171E+05\n",
      "      1700    0.3360656024E+04   -0.2803307690E+05\n",
      "      1750    0.3169688694E+04   -0.2537763012E+05\n",
      "      1800    0.2867760430E+04   -0.2407732611E+05\n",
      "      1850    0.3190117948E+04   -0.1937798315E+05\n",
      "      1900    0.3434733512E+04   -0.1435943812E+05\n",
      "      1950    0.3575952473E+04   -0.1446489646E+05\n",
      "      2000    0.3851312505E+04   -0.1742496191E+05\n",
      "      2050    0.3956168261E+04   -0.1892640762E+05\n",
      "      2100    0.3909883354E+04   -0.1910735403E+05\n",
      "      2150    0.3869201830E+04   -0.1887362525E+05\n",
      "      2200    0.3855953620E+04   -0.1820541637E+05\n",
      "      2250    0.3831474025E+04   -0.1602585936E+05\n",
      "      2300    0.3849185572E+04   -0.1368128362E+05\n",
      "      2350    0.3814753578E+04   -0.1282438420E+05\n",
      "      2400    0.3736443989E+04   -0.1254242394E+05\n",
      "      2450    0.3654227268E+04   -0.1229063158E+05\n",
      "      2500    0.3607903588E+04   -0.1203843375E+05\n",
      "      2550    0.3615750527E+04   -0.1198593305E+05\n",
      "      2600    0.3677069922E+04   -0.1251924028E+05\n",
      "      2650    0.3735402107E+04   -0.1332349144E+05\n",
      "      2700    0.3763281204E+04   -0.1377413525E+05\n",
      "      2750    0.3753223972E+04   -0.1388614195E+05\n",
      "      2800    0.3706864414E+04   -0.1380197849E+05\n"
     ]
    },
    {
     "name": "stderr",
     "output_type": "stream",
     "text": [
      "mpirun: killing job...\n",
      "\n",
      "mpirun: abort is already in progress...hit ctrl-c again to forcibly terminate\n",
      "\n"
     ]
    }
   ],
   "source": [
    "runbut = widgets.Button(description='Run Simulation')\n",
    "display(runbut)"
   ]
  },
  {
   "cell_type": "code",
   "execution_count": 48,
   "metadata": {
    "extensions": {
     "jupyter_dashboards": {
      "version": 1,
      "views": {
       "grid_default": {
        "col": 0,
        "height": 4,
        "hidden": true,
        "row": 18,
        "width": 4
       },
       "report_default": {
        "hidden": true
       }
      }
     }
    }
   },
   "outputs": [],
   "source": [
    "def get_template():\n",
    "    if ain.value == 0:\n",
    "        atmoutin1 = -1\n",
    "        atmoutin2 = -1\n",
    "    else:\n",
    "        atmoutin1 = int(ain.value/10)\n",
    "        atmoutin2 = ain.value\n",
    "    inputs = list([str(keVin.value),str(xdimin.value),str(ydimin.value),str(zdimin.value),\n",
    "                         str(pin.value),str(1),str(1),str(nin.value),str(atmoutin1),str(atmoutin2),\n",
    "                         str(din.value*1e-12),str(fin.value),str(phizin.value),str(phixyin.value)])\n",
    "    tags = list(['keV','xdim','ydim','zdim',\n",
    "                 'procsx','procsy','procsz','nlj','atmout1','atmout2',\n",
    "                 'dtion','fwhm','phiz','phixy'])\n",
    "\n",
    "    input_dict = dict(zip(tags, inputs))\n",
    "    temp_contents = open('siga.in.template').read()\n",
    "    tempstr = Template(temp_contents)\n",
    "    print(tempstr)\n",
    "    # Python template strings replace \"${identifier}\" with the value.\n",
    "    # If substituting more than one value, use a dictionary.\n",
    "    return tempstr.substitute(input_dict)"
   ]
  },
  {
   "cell_type": "code",
   "execution_count": 49,
   "metadata": {
    "extensions": {
     "jupyter_dashboards": {
      "version": 1,
      "views": {
       "grid_default": {
        "col": 4,
        "height": 4,
        "hidden": true,
        "row": 18,
        "width": 4
       },
       "report_default": {
        "hidden": true
       }
      }
     }
    }
   },
   "outputs": [],
   "source": [
    "def run_mdrun2():\n",
    "    with open('siga.in', 'w') as tfile:\n",
    "        tfile.write(get_template())\n",
    "        \n",
    "    submitCommand = SubmitCommand()\n",
    "    submitCommand.setParameters('--local')\n",
    "#    submitCommand.setTailStdout(tailStdout=True, tailStdoutNlines=20)\n",
    "#    submitCommand.setTailFiles('out.log')\n",
    "#    submitCommand.setDetach(detach=True)    \n",
    "    submitCommand.setCommand('mpirun -np %i bin/mdrun2 > out.log'%(pin.value))\n",
    "    submitCommand.show()\n",
    "    submitCommand.submit()\n",
    "#    res, stdout, stderr = runCommand('mpirun -np %i bin/mdrun2'%(pin.value))\n",
    "#    res, stdout, stderr = runCommand('submit --local --detach mpirun -np %i bin/mdrun2 > out.log'%(pin.value))\n",
    "#    SubmitCommand.submit(['--local','--detach','mpirun -np %i bin/mdrun2 > out.log'%(pin.value)])\n",
    "    #!mpirun -np $procsin.value src/mdrun2 #> out.log | tail -10 out.log #> out.log# -10 out.log\n",
    "    return"
   ]
  },
  {
   "cell_type": "code",
   "execution_count": 50,
   "metadata": {
    "extensions": {
     "jupyter_dashboards": {
      "version": 1,
      "views": {
       "grid_default": {
        "col": 0,
        "height": 4,
        "hidden": true,
        "row": 18,
        "width": 4
       },
       "report_default": {
        "hidden": true
       }
      }
     }
    }
   },
   "outputs": [],
   "source": [
    "# This is the main function called when the Run button is clicked.\n",
    "def run_simulation(ignore):\n",
    "    # change label on Button\n",
    "    runbut.disabled=True\n",
    "    runbut.description='Running'\n",
    "\n",
    "    out2 = run_mdrun2()\n",
    "\n",
    "    # Change button label back and re-enable\n",
    "    runbut.description='Run Simulation'\n",
    "    runbut.disabled=False\n",
    "    \n",
    "\n",
    "out1 = runbut.on_click(run_simulation)"
   ]
  },
  {
   "cell_type": "code",
   "execution_count": 64,
   "metadata": {
    "extensions": {
     "jupyter_dashboards": {
      "version": 1,
      "views": {
       "grid_default": {
        "col": 7,
        "height": 3,
        "hidden": false,
        "row": 14,
        "width": 1
       },
       "report_default": {
        "hidden": true
       }
      }
     }
    }
   },
   "outputs": [
    {
     "data": {
      "text/html": [
       "<a href='out.log' target='_blank'>out.log</a><br>"
      ],
      "text/plain": [
       "/home/nanohub/jmstout2/notebooks/fib_md/out.log"
      ]
     },
     "metadata": {},
     "output_type": "display_data"
    },
    {
     "data": {
      "text/html": [
       "<a href='data/mdrun2.xyz' target='_blank'>data/mdrun2.xyz</a><br>"
      ],
      "text/plain": [
       "/home/nanohub/jmstout2/notebooks/fib_md/data/mdrun2.xyz"
      ]
     },
     "metadata": {},
     "output_type": "display_data"
    }
   ],
   "source": [
    "#file download links\n",
    "outfile = FileLink(\"out.log\")\n",
    "display(local_file)\n",
    "xyzfile = FileLink(\"data/mdrun2.xyz\")\n",
    "display(xyzfile)"
   ]
  },
  {
   "cell_type": "code",
   "execution_count": 53,
   "metadata": {
    "extensions": {
     "jupyter_dashboards": {
      "version": 1,
      "views": {
       "grid_default": {
        "col": 0,
        "height": 22,
        "hidden": true,
        "row": 14,
        "width": 7
       },
       "report_default": {
        "hidden": true
       }
      }
     }
    }
   },
   "outputs": [],
   "source": [
    "\n",
    "#requires detaching from the submit command, which is not working \n",
    "\n",
    "##This is a function call for refreshing an output box from the \n",
    "#tailbut = widgets.Button(description = \"Refresh Text Output\")\n",
    "#display(tailbut)\n",
    "\n",
    "#def check_output(ignore):\n",
    "#    clear_output()\n",
    "#    reso,stdouto,stderro = runCommand('tail --lines 30 -f out.log')\n",
    "    \n",
    "#out3 = tailbut.on_click(check_output)"
   ]
  },
  {
   "cell_type": "code",
   "execution_count": null,
   "metadata": {
    "extensions": {
     "jupyter_dashboards": {
      "version": 1,
      "views": {
       "grid_default": {
        "hidden": true
       },
       "report_default": {}
      }
     }
    }
   },
   "outputs": [],
   "source": []
  },
  {
   "cell_type": "code",
   "execution_count": null,
   "metadata": {
    "extensions": {
     "jupyter_dashboards": {
      "version": 1,
      "views": {
       "grid_default": {
        "hidden": true
       },
       "report_default": {}
      }
     }
    }
   },
   "outputs": [],
   "source": []
  }
 ],
 "metadata": {
  "extensions": {
   "jupyter_dashboards": {
    "activeView": "grid_default",
    "version": 1,
    "views": {
     "grid_default": {
      "cellMargin": 10,
      "defaultCellHeight": 20,
      "maxColumns": 12,
      "name": "grid",
      "type": "grid"
     },
     "report_default": {
      "name": "report",
      "type": "report"
     }
    }
   }
  },
  "kernelspec": {
   "display_name": "Python3",
   "language": "python",
   "name": "python3"
  },
  "language_info": {
   "codemirror_mode": {
    "name": "ipython",
    "version": 3
   },
   "file_extension": ".py",
   "mimetype": "text/x-python",
   "name": "python",
   "nbconvert_exporter": "python",
   "pygments_lexer": "ipython3",
   "version": "3.6.2"
  }
 },
 "nbformat": 4,
 "nbformat_minor": 2
}
