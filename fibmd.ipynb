{
 "cells": [
  {
   "cell_type": "markdown",
   "metadata": {
    "extensions": {
     "jupyter_dashboards": {
      "version": 1,
      "views": {
       "grid_default": {
        "col": 0,
        "height": 2,
        "hidden": false,
        "row": 0,
        "width": 11
       },
       "report_default": {
        "hidden": false
       }
      }
     }
    }
   },
   "source": [
    "# Focused Ion Beam Molecular Dynamics (fibmd) Tool"
   ]
  },
  {
   "cell_type": "code",
   "execution_count": 1,
   "metadata": {
    "extensions": {
     "jupyter_dashboards": {
      "version": 1,
      "views": {
       "grid_default": {
        "col": 4,
        "height": 4,
        "hidden": true,
        "row": 0,
        "width": 4
       },
       "report_default": {
        "hidden": true
       }
      }
     }
    },
    "scrolled": false
   },
   "outputs": [],
   "source": [
    "from IPython.display import display, clear_output\n",
    "import ipywidgets as widgets\n",
    "from string import Template\n",
    "import hublib.use\n",
    "from IPython.display import FileLink, FileLinks\n",
    "from hubzero.submit.SubmitCommand import SubmitCommand\n",
    "#from hublib.cmd import runCommand"
   ]
  },
  {
   "cell_type": "code",
   "execution_count": 2,
   "metadata": {
    "extensions": {
     "jupyter_dashboards": {
      "version": 1,
      "views": {
       "grid_default": {
        "col": 8,
        "height": 4,
        "hidden": true,
        "row": 0,
        "width": 4
       },
       "report_default": {
        "hidden": true
       }
      }
     }
    },
    "scrolled": false
   },
   "outputs": [],
   "source": [
    "%use openmpi-1.6.3-gnu-4.7.2"
   ]
  },
  {
   "cell_type": "markdown",
   "metadata": {
    "extensions": {
     "jupyter_dashboards": {
      "version": 1,
      "views": {
       "grid_default": {
        "col": 0,
        "height": 4,
        "hidden": true,
        "row": 18,
        "width": 4
       },
       "report_default": {
        "hidden": false
       }
      }
     }
    },
    "slideshow": {
     "slide_type": "slide"
    }
   },
   "source": [
    "# Creating widgets for critical input"
   ]
  },
  {
   "cell_type": "code",
   "execution_count": 3,
   "metadata": {
    "extensions": {
     "jupyter_dashboards": {
      "version": 1,
      "views": {
       "grid_default": {
        "col": 4,
        "height": 4,
        "hidden": true,
        "row": 18,
        "width": 4
       },
       "report_default": {
        "hidden": true
       }
      }
     }
    },
    "scrolled": false
   },
   "outputs": [],
   "source": [
    "#title = widgets.Label(value=\"FIBMD Tool\", width=10)\n",
    "\n",
    "box_layout = widgets.Layout(display='flex',\n",
    "                    justify_content='center')\n",
    "text_layout = widgets.Layout(width = '150px')\n",
    "text_layout2 = widgets.Layout(width ='100px')\n",
    "\n",
    "\n",
    "keVin = widgets.BoundedFloatText(\n",
    "    value=2000,\n",
    "    min=1000,\n",
    "    max=60000,\n",
    "    step=100,\n",
    "    layout=text_layout2\n",
    ")\n",
    "\n",
    "xdimin = widgets.BoundedIntText(\n",
    "    value=12,\n",
    "    min=4,\n",
    "    max=40,\n",
    "    step=1,\n",
    "    description='X: ',\n",
    "    layout=text_layout\n",
    ")\n",
    "\n",
    "ydimin = widgets.BoundedIntText(\n",
    "    value=12,\n",
    "    min=4,\n",
    "    max=40,\n",
    "    step=1,\n",
    "    description='Y: ',\n",
    "    layout=text_layout\n",
    ")\n",
    "\n",
    "zdimin = widgets.BoundedIntText(\n",
    "    value=4,\n",
    "    min=1,\n",
    "    max=40,\n",
    "    step=1,\n",
    "    description='Z: ',\n",
    "    layout=text_layout\n",
    ")\n",
    "\n",
    "pin = widgets.BoundedIntText(\n",
    "    value = 1,\n",
    "    min = 1,\n",
    "    max = 10,\n",
    "    step = 1,\n",
    "    layout=text_layout2\n",
    ")\n",
    "nin = widgets.BoundedIntText(\n",
    "    value = 1,\n",
    "    min = 1,\n",
    "    max = 100,\n",
    "    step = 1,\n",
    "    layout=text_layout2\n",
    ")\n",
    "\n",
    "ain  = widgets.BoundedIntText(\n",
    "    value = 500,\n",
    "    min = 0,\n",
    "    max = 1e6,\n",
    "    step = 100,\n",
    "    layout=text_layout2\n",
    ")\n",
    "\n",
    "din = widgets.FloatText(\n",
    "    value = 1,\n",
    "    step = 0.1,\n",
    "    layout=text_layout2\n",
    ")\n",
    "\n",
    "phizin = widgets.FloatText(\n",
    "    value = 0.0,\n",
    "    step = 1,\n",
    "    layout=text_layout2\n",
    ")\n",
    "phixyin = widgets.FloatText(\n",
    "    value = 0.0,\n",
    "    step = 1,\n",
    "    layout=text_layout2\n",
    ")\n",
    "\n",
    "fin = widgets.FloatText(\n",
    "    value = 2,\n",
    "    layout=text_layout2\n",
    ")\n",
    "\n",
    "dimlabel = widgets.Label(\" Target dimensions, Si unit cells\",layout=box_layout)\n",
    "keVlabel = widgets.Label(\"Ion Energy (eV):\")\n",
    "proclabel = widgets.Label(\"# of Processors:\")\n",
    "ionlabel = widgets.Label(\"# of Ions to fire:\")\n",
    "outlabel = widgets.Label(\".xyz output frequency:\")\n",
    "dtlabel = widgets.Label(\"Time between ion impacts in ps:\")\n",
    "anglezlabel = widgets.Label(\"Angle of incidence (from z-axis):\")\n",
    "anglexylabel = widgets.Label(\"Angle of incidence (from x-axis, xy plane):\")\n",
    "fwhmlabel = widgets.Label(\"FWHM of ion beam in nm:\")\n",
    "\n",
    "dimin = widgets.HBox([xdimin,ydimin,zdimin],layout=widgets.Layout(justify_content='center',width='90%'))\n",
    "#xcol = widgets.VBox([widgets.Label(\" \"),xdimin])\n",
    "#ycol = widgets.VBox([dimlabel,ydimin],layout=box_layout)\n",
    "#zcol = widgets.VBox([widgets.Label(\" \"),zdimin])\n",
    "\n",
    "#dimensions = widgets.HBox([xcol,ycol,zcol])\n",
    "\n",
    "vlabels = widgets.VBox([keVlabel, proclabel, ionlabel, outlabel, dtlabel, anglezlabel, anglexylabel, fwhmlabel])\n",
    "vinput = widgets.VBox([keVin, pin, nin, ain, din, phizin, phixyin, fin])\n",
    "\n",
    "inputs2 = widgets.HBox([vlabels,vinput])\n",
    "\n",
    "#phizin2 = widgets.HBox([widgets.Label(\"Angle of Incidence (from z-axis)\"),phizin1])\n",
    "#phixyin2 = widgets.HBox([widgets.Label(\"Angel of Incidence (from x-axis, xy plane)\"),phixyin1])\n",
    "\n",
    "#fwhmin = widgets.HBox([widgets.Label(\"FWHM of ion beam in nm:\"),fin])\n"
   ]
  },
  {
   "cell_type": "code",
   "execution_count": 4,
   "metadata": {
    "extensions": {
     "jupyter_dashboards": {
      "version": 1,
      "views": {
       "grid_default": {
        "col": 0,
        "height": 12,
        "hidden": false,
        "row": 2,
        "width": 5
       },
       "report_default": {
        "hidden": false
       }
      }
     }
    },
    "scrolled": false
   },
   "outputs": [
    {
     "data": {
      "application/vnd.jupyter.widget-view+json": {
       "model_id": "d98ae91aae584e43899513b15b4421f3",
       "version_major": 2,
       "version_minor": 0
      },
      "text/html": [
       "<p>Failed to display Jupyter Widget of type <code>VBox</code>.</p>\n",
       "<p>\n",
       "  If you're reading this message in the Jupyter Notebook or JupyterLab Notebook, it may mean\n",
       "  that the widgets JavaScript is still loading. If this message persists, it\n",
       "  likely means that the widgets JavaScript library is either not installed or\n",
       "  not enabled. See the <a href=\"https://ipywidgets.readthedocs.io/en/stable/user_install.html\">Jupyter\n",
       "  Widgets Documentation</a> for setup instructions.\n",
       "</p>\n",
       "<p>\n",
       "  If you're reading this message in another frontend (for example, a static\n",
       "  rendering on GitHub or <a href=\"https://nbviewer.jupyter.org/\">NBViewer</a>),\n",
       "  it may mean that your frontend doesn't currently support widgets.\n",
       "</p>\n"
      ],
      "text/plain": [
       "VBox(children=(Label(value=' Target dimensions, Si unit cells', layout=Layout(display='flex', justify_content='center')), HBox(children=(BoundedIntText(value=12, description='X: ', layout=Layout(width='150px'), max=40, min=4), BoundedIntText(value=12, description='Y: ', layout=Layout(width='150px'), max=40, min=4), BoundedIntText(value=4, description='Z: ', layout=Layout(width='150px'), max=40, min=1)), layout=Layout(justify_content='center', width='90%')), HBox(children=(VBox(children=(Label(value='Ion Energy (eV):'), Label(value='# of Processors:'), Label(value='# of Ions to fire:'), Label(value='.xyz output frequency:'), Label(value='Time between ion impacts in ps:'), Label(value='Angle of incidence (from z-axis):'), Label(value='Angle of incidence (from x-axis, xy plane):'), Label(value='FWHM of ion beam in nm:'))), VBox(children=(BoundedFloatText(value=2000.0, layout=Layout(width='100px'), max=60000.0, min=1000.0, step=100.0), BoundedIntText(value=1, layout=Layout(width='100px'), max=10, min=1), BoundedIntText(value=1, layout=Layout(width='100px'), min=1), BoundedIntText(value=500, layout=Layout(width='100px'), max=1000000, step=100), FloatText(value=1.0, layout=Layout(width='100px'), step=0.1), FloatText(value=0.0, layout=Layout(width='100px'), step=1.0), FloatText(value=0.0, layout=Layout(width='100px'), step=1.0), FloatText(value=2.0, layout=Layout(width='100px'))))))), layout=Layout(border='solid'))"
      ]
     },
     "metadata": {},
     "output_type": "display_data"
    }
   ],
   "source": [
    "widgets.VBox([dimlabel,dimin,inputs2],layout=widgets.Layout(border='solid'))"
   ]
  },
  {
   "cell_type": "code",
   "execution_count": 5,
   "metadata": {
    "extensions": {
     "jupyter_dashboards": {
      "version": 1,
      "views": {
       "grid_default": {
        "col": 0,
        "height": 4,
        "hidden": false,
        "row": 14,
        "width": 2
       },
       "report_default": {}
      }
     }
    },
    "scrolled": false
   },
   "outputs": [
    {
     "data": {
      "text/html": [
       "<a href='out.log' target='_blank'>out.log</a><br>"
      ],
      "text/plain": [
       "/home/nanohub/jmstout2/notebooks/fib_md/out.log"
      ]
     },
     "metadata": {},
     "output_type": "display_data"
    },
    {
     "data": {
      "text/html": [
       "<a href='data/mdrun2.xyz' target='_blank'>data/mdrun2.xyz</a><br>"
      ],
      "text/plain": [
       "/home/nanohub/jmstout2/notebooks/fib_md/data/mdrun2.xyz"
      ]
     },
     "metadata": {},
     "output_type": "display_data"
    },
    {
     "data": {
      "text/html": [
       "<a href='data/OvitoTemplate.ovito' target='_blank'>data/OvitoTemplate.ovito</a><br>"
      ],
      "text/plain": [
       "/home/nanohub/jmstout2/notebooks/fib_md/data/OvitoTemplate.ovito"
      ]
     },
     "metadata": {},
     "output_type": "display_data"
    }
   ],
   "source": [
    "#file download links\n",
    "!touch out.log data/mdrun2.xyz\n",
    "outfile = FileLink(\"out.log\")\n",
    "display(outfile)\n",
    "xyzfile = FileLink(\"data/mdrun2.xyz\")\n",
    "display(xyzfile)\n",
    "ovitofile = FileLink(\"data/OvitoTemplate.ovito\")\n",
    "display(ovitofile)"
   ]
  },
  {
   "cell_type": "code",
   "execution_count": 6,
   "metadata": {
    "extensions": {
     "jupyter_dashboards": {
      "version": 1,
      "views": {
       "grid_default": {
        "hidden": true
       },
       "report_default": {}
      }
     }
    },
    "scrolled": false
   },
   "outputs": [
    {
     "data": {
      "application/javascript": [
       "IPython.OutputArea.prototype._should_scroll = function(lines) {\n",
       "    return true;\n",
       "}"
      ],
      "text/plain": [
       "<IPython.core.display.Javascript object>"
      ]
     },
     "metadata": {},
     "output_type": "display_data"
    }
   ],
   "source": [
    "%%javascript\n",
    "IPython.OutputArea.prototype._should_scroll = function(lines) {\n",
    "    return true;\n",
    "}"
   ]
  },
  {
   "cell_type": "code",
   "execution_count": 7,
   "metadata": {
    "extensions": {
     "jupyter_dashboards": {
      "version": 1,
      "views": {
       "grid_default": {
        "col": 5,
        "height": 12,
        "hidden": false,
        "row": 2,
        "width": 6
       },
       "report_default": {}
      }
     }
    },
    "scrolled": false
   },
   "outputs": [
    {
     "data": {
      "application/vnd.jupyter.widget-view+json": {
       "model_id": "ff9a295c208a46e697fff93f28082592",
       "version_major": 2,
       "version_minor": 0
      },
      "text/html": [
       "<p>Failed to display Jupyter Widget of type <code>Button</code>.</p>\n",
       "<p>\n",
       "  If you're reading this message in the Jupyter Notebook or JupyterLab Notebook, it may mean\n",
       "  that the widgets JavaScript is still loading. If this message persists, it\n",
       "  likely means that the widgets JavaScript library is either not installed or\n",
       "  not enabled. See the <a href=\"https://ipywidgets.readthedocs.io/en/stable/user_install.html\">Jupyter\n",
       "  Widgets Documentation</a> for setup instructions.\n",
       "</p>\n",
       "<p>\n",
       "  If you're reading this message in another frontend (for example, a static\n",
       "  rendering on GitHub or <a href=\"https://nbviewer.jupyter.org/\">NBViewer</a>),\n",
       "  it may mean that your frontend doesn't currently support widgets.\n",
       "</p>\n"
      ],
      "text/plain": [
       "Button(description='Run Simulation', style=ButtonStyle())"
      ]
     },
     "metadata": {},
     "output_type": "display_data"
    },
    {
     "name": "stdout",
     "output_type": "stream",
     "text": [
      "\n",
      "\n",
      "\n",
      "\n",
      "\n",
      "\n",
      "\n",
      "\n",
      "\n",
      "\n",
      "\n",
      "\n",
      "\n",
      "\n",
      "\n",
      "\n",
      "\n",
      "\n",
      "\n",
      "\n",
      "\n"
     ]
    }
   ],
   "source": [
    "runbut = widgets.Button(description='Run Simulation')\n",
    "display(runbut)\n",
    "print('\\n'*20)"
   ]
  },
  {
   "cell_type": "code",
   "execution_count": 8,
   "metadata": {
    "extensions": {
     "jupyter_dashboards": {
      "version": 1,
      "views": {
       "grid_default": {
        "hidden": true
       },
       "report_default": {}
      }
     }
    },
    "scrolled": true
   },
   "outputs": [
    {
     "data": {
      "application/javascript": [
       "IPython.OutputArea.prototype._should_scroll = function(lines) {\n",
       "    return false;\n",
       "}"
      ],
      "text/plain": [
       "<IPython.core.display.Javascript object>"
      ]
     },
     "metadata": {},
     "output_type": "display_data"
    }
   ],
   "source": [
    "%%javascript\n",
    "IPython.OutputArea.prototype._should_scroll = function(lines) {\n",
    "    return false;\n",
    "}"
   ]
  },
  {
   "cell_type": "code",
   "execution_count": 9,
   "metadata": {
    "extensions": {
     "jupyter_dashboards": {
      "version": 1,
      "views": {
       "grid_default": {
        "col": 0,
        "height": 4,
        "hidden": true,
        "row": 18,
        "width": 4
       },
       "report_default": {
        "hidden": true
       }
      }
     }
    },
    "scrolled": false
   },
   "outputs": [],
   "source": [
    "def get_template():\n",
    "    if ain.value == 0:\n",
    "        atmoutin1 = -1\n",
    "        atmoutin2 = -1\n",
    "    else:\n",
    "        atmoutin1 = int(ain.value/10)\n",
    "        atmoutin2 = ain.value\n",
    "    inputs = list([str(keVin.value),str(xdimin.value),str(ydimin.value),str(zdimin.value),\n",
    "                         str(pin.value),str(1),str(1),str(nin.value),str(atmoutin1),str(atmoutin2),\n",
    "                         str(din.value*1e-12),str(fin.value),str(phizin.value),str(phixyin.value)])\n",
    "    tags = list(['keV','xdim','ydim','zdim',\n",
    "                 'procsx','procsy','procsz','nlj','atmout1','atmout2',\n",
    "                 'dtion','fwhm','phiz','phixy'])\n",
    "\n",
    "    input_dict = dict(zip(tags, inputs))\n",
    "    temp_contents = open('siga.in.template').read()\n",
    "    tempstr = Template(temp_contents)\n",
    "    print(tempstr)\n",
    "    # Python template strings replace \"${identifier}\" with the value.\n",
    "    # If substituting more than one value, use a dictionary.\n",
    "    return tempstr.substitute(input_dict)"
   ]
  },
  {
   "cell_type": "code",
   "execution_count": 10,
   "metadata": {
    "extensions": {
     "jupyter_dashboards": {
      "version": 1,
      "views": {
       "grid_default": {
        "col": 4,
        "height": 4,
        "hidden": true,
        "row": 18,
        "width": 4
       },
       "report_default": {
        "hidden": true
       }
      }
     }
    },
    "scrolled": false
   },
   "outputs": [],
   "source": [
    "def run_mdrun2():\n",
    "    !rm siga.in\n",
    "    with open('siga.in', 'w') as tfile:\n",
    "        tfile.write(get_template())\n",
    "        \n",
    "    submitCommand = SubmitCommand()\n",
    "#    submitCommand.setParameters('--local')\n",
    "    submitCommand.setLocal()\n",
    "#    submitCommand.setTailStdout(tailStdout=True, tailStdoutNlines=20)\n",
    "#    submitCommand.setTailFiles('out.log')\n",
    "#    submitCommand.setDetach(detach=True)    \n",
    "    submitCommand.setCommand('mpirun -np %i bin/mdrun2 > out.log'%(pin.value))\n",
    "    submitCommand.show()\n",
    "    submitCommand.submit()\n",
    "#    res, stdout, stderr = runCommand('mpirun -np %i bin/mdrun2'%(pin.value))\n",
    "#    res, stdout, stderr = runCommand('submit --local --detach mpirun -np %i bin/mdrun2 > out.log'%(pin.value))\n",
    "#    SubmitCommand.submit(['--local','--detach','mpirun -np %i bin/mdrun2 > out.log'%(pin.value)])\n",
    "    #!mpirun -np $procsin.value src/mdrun2 #> out.log | tail -10 out.log #> out.log# -10 out.log\n",
    "    return"
   ]
  },
  {
   "cell_type": "code",
   "execution_count": 11,
   "metadata": {
    "extensions": {
     "jupyter_dashboards": {
      "version": 1,
      "views": {
       "grid_default": {
        "col": 0,
        "height": 4,
        "hidden": true,
        "row": 18,
        "width": 4
       },
       "report_default": {
        "hidden": true
       }
      }
     }
    },
    "scrolled": false
   },
   "outputs": [],
   "source": [
    "# This is the main function called when the Run button is clicked.\n",
    "def run_simulation(ignore):\n",
    "    # change label on Button\n",
    "    runbut.disabled=True\n",
    "    runbut.description='Running'\n",
    "\n",
    "    out2 = run_mdrun2()\n",
    "\n",
    "    # Change button label back and re-enable\n",
    "    runbut.description='Run Simulation'\n",
    "    runbut.disabled=False\n",
    "    \n",
    "\n",
    "out1 = runbut.on_click(run_simulation)"
   ]
  },
  {
   "cell_type": "code",
   "execution_count": 12,
   "metadata": {
    "extensions": {
     "jupyter_dashboards": {
      "version": 1,
      "views": {
       "grid_default": {
        "col": 0,
        "height": 22,
        "hidden": true,
        "row": 14,
        "width": 7
       },
       "report_default": {
        "hidden": true
       }
      }
     }
    },
    "scrolled": false
   },
   "outputs": [],
   "source": [
    "\n",
    "#requires detaching from the submit command, which is not working \n",
    "\n",
    "##This is a function call for refreshing an output box from the \n",
    "#tailbut = widgets.Button(description = \"Refresh Text Output\")\n",
    "#display(tailbut)\n",
    "\n",
    "#def check_output(ignore):\n",
    "#    clear_output()\n",
    "#    reso,stdouto,stderro = runCommand('tail --lines 30 -f out.log')\n",
    "    \n",
    "#out3 = tailbut.on_click(check_output)"
   ]
  },
  {
   "cell_type": "code",
   "execution_count": null,
   "metadata": {
    "extensions": {
     "jupyter_dashboards": {
      "version": 1,
      "views": {
       "grid_default": {
        "hidden": true
       },
       "report_default": {}
      }
     }
    },
    "scrolled": false
   },
   "outputs": [],
   "source": []
  }
 ],
 "metadata": {
  "extensions": {
   "jupyter_dashboards": {
    "activeView": "grid_default",
    "version": 1,
    "views": {
     "grid_default": {
      "cellMargin": 10,
      "defaultCellHeight": 20,
      "maxColumns": 12,
      "name": "grid",
      "type": "grid"
     },
     "report_default": {
      "name": "report",
      "type": "report"
     }
    }
   }
  },
  "kernelspec": {
   "display_name": "Python3",
   "language": "python",
   "name": "python3"
  },
  "language_info": {
   "codemirror_mode": {
    "name": "ipython",
    "version": 3
   },
   "file_extension": ".py",
   "mimetype": "text/x-python",
   "name": "python",
   "nbconvert_exporter": "python",
   "pygments_lexer": "ipython3",
   "version": "3.6.2"
  },
  "tool": true
 },
 "nbformat": 4,
 "nbformat_minor": 2
}
