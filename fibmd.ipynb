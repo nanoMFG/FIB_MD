{
 "cells": [
  {
   "cell_type": "markdown",
   "metadata": {
    "extensions": {
     "jupyter_dashboards": {
      "version": 1,
      "views": {
       "grid_default": {
        "col": 0,
        "height": 2,
        "hidden": true,
        "row": 0,
        "width": 12
       },
       "report_default": {
        "hidden": false
       }
      }
     }
    }
   },
   "source": [
    "# Focused Ion Beam Molecular Dynamics (fibmd) Tool"
   ]
  },
  {
   "cell_type": "code",
   "execution_count": 58,
   "metadata": {
    "extensions": {
     "jupyter_dashboards": {
      "version": 1,
      "views": {
       "grid_default": {
        "col": 4,
        "height": 4,
        "hidden": true,
        "row": 0,
        "width": 4
       },
       "report_default": {
        "hidden": true
       }
      }
     }
    },
    "scrolled": false
   },
   "outputs": [],
   "source": [
    "from IPython.display import display, clear_output\n",
    "import ipywidgets as widgets\n",
    "import numpy as np\n",
    "from string import Template\n",
    "import hublib.use\n",
    "import py3Dmol\n",
    "from IPython.display import FileLink, FileLinks\n",
    "from hubzero.submit.SubmitCommand import SubmitCommand\n",
    "from hublib.ui import Submit\n",
    "from hublib.ui import FileUpload, Download\n",
    "#from hublib.cmd import runCommand"
   ]
  },
  {
   "cell_type": "code",
   "execution_count": 59,
   "metadata": {
    "extensions": {
     "jupyter_dashboards": {
      "version": 1,
      "views": {
       "grid_default": {
        "col": 8,
        "height": 4,
        "hidden": true,
        "row": 0,
        "width": 4
       },
       "report_default": {
        "hidden": true
       }
      }
     }
    },
    "scrolled": false
   },
   "outputs": [],
   "source": [
    "%use openmpi-1.6.3-gnu-4.7.2"
   ]
  },
  {
   "cell_type": "markdown",
   "metadata": {
    "extensions": {
     "jupyter_dashboards": {
      "version": 1,
      "views": {
       "grid_default": {
        "col": 0,
        "height": 4,
        "hidden": true,
        "row": 18,
        "width": 4
       },
       "report_default": {
        "hidden": false
       }
      }
     }
    },
    "slideshow": {
     "slide_type": "slide"
    }
   },
   "source": [
    "# Creating widgets for input"
   ]
  },
  {
   "cell_type": "code",
   "execution_count": 60,
   "metadata": {
    "extensions": {
     "jupyter_dashboards": {
      "version": 1,
      "views": {
       "grid_default": {
        "col": 4,
        "height": 4,
        "hidden": true,
        "row": 18,
        "width": 4
       },
       "report_default": {
        "hidden": true
       }
      }
     }
    },
    "scrolled": false
   },
   "outputs": [],
   "source": [
    "#title = widgets.Label(value=\"FIBMD Tool\", width=10)\n",
    "\n",
    "box_layout = widgets.Layout(display='flex',\n",
    "                    justify_content='center')\n",
    "text_layout = widgets.Layout(width = '150px')\n",
    "text_layout1 = widgets.Layout(width = '50px')#,justify_contents='center')\n",
    "text_layout2 = widgets.Layout(width ='100px',position = 'right')\n",
    "#text_layout3 = widgets.Layout(justify_content='left')\n",
    "\n",
    "keVin = widgets.BoundedFloatText(\n",
    "    value=2000,\n",
    "    min=1000,\n",
    "    max=60000,\n",
    "    step=100,\n",
    "    layout=text_layout2\n",
    ")\n",
    "\n",
    "xdimin = widgets.BoundedFloatText(\n",
    "    value=5,\n",
    "    min=4,\n",
    "    max=40,\n",
    "    step=1,\n",
    "    layout=text_layout1\n",
    ")\n",
    "\n",
    "ydimin = widgets.BoundedFloatText(\n",
    "    value=5,\n",
    "    min=4,\n",
    "    max=40,\n",
    "    step=1,\n",
    "    layout=text_layout1\n",
    ")\n",
    "\n",
    "zdimin = widgets.BoundedFloatText(\n",
    "    value=2,\n",
    "    min=1,\n",
    "    max=40,\n",
    "    step=1,\n",
    "    layout=text_layout1\n",
    ")\n",
    "\n",
    "pin = widgets.BoundedIntText(\n",
    "    value = 1,\n",
    "    min = 1,\n",
    "    max = 10,\n",
    "    step = 1,\n",
    "    layout=text_layout2\n",
    ")\n",
    "tempin = widgets.FloatText(\n",
    "    value = 300.0,\n",
    "    step = 10.0,\n",
    "    layout = text_layout2\n",
    ")\n",
    "nin = widgets.BoundedIntText(\n",
    "    value = 1,\n",
    "    min = 1,\n",
    "    max = 100,\n",
    "    step = 1,\n",
    "    layout=text_layout2\n",
    ")\n",
    "\n",
    "ain  = widgets.BoundedIntText(\n",
    "    value = 500,\n",
    "    min = 0,\n",
    "    max = 1e6,\n",
    "    step = 100,\n",
    "    layout=text_layout2\n",
    ")\n",
    "\n",
    "dtin = widgets.BoundedFloatText(\n",
    "    value = 1,\n",
    "    step = 0.1,\n",
    "    layout=text_layout2,\n",
    "    min = 0.1\n",
    ")\n",
    "\n",
    "phizin = widgets.FloatText(\n",
    "    value = 0.0,\n",
    "    step = 1,\n",
    "    layout=text_layout2\n",
    ")\n",
    "phixyin = widgets.FloatText(\n",
    "    value = 0.0,\n",
    "    step = 1,\n",
    "    layout=text_layout2\n",
    ")\n",
    "\n",
    "fin = widgets.FloatText(\n",
    "    value = 2,\n",
    "    layout=text_layout2\n",
    ")\n",
    "\n",
    "dimlabel = widgets.Label(\" Target dimensions, nm\",layout=box_layout)\n",
    "\n",
    "xlabel = widgets.Label(\"    X:\", position='right')\n",
    "ylabel = widgets.Label(\"    Y:\", position='right')\n",
    "zlabel = widgets.Label(\"    Z:\", position='right')\n",
    "xbox = widgets.HBox([xlabel,xdimin],layout = text_layout)\n",
    "ybox = widgets.HBox([ylabel,ydimin],layout = text_layout)\n",
    "zbox = widgets.HBox([zlabel,zdimin],layout = text_layout)\n",
    "\n",
    "keVlabel = widgets.Label(\"Ion Energy (eV):\")\n",
    "proclabel = widgets.Label(\"# of Processors:\")\n",
    "templabel = widgets.Label(\"Silicon Temperature (K):\")\n",
    "ionlabel = widgets.Label(\"# of Ions to fire:\")\n",
    "outlabel = widgets.Label(\".xyz output frequency:\")\n",
    "dtlabel = widgets.Label(\"Time between ion impacts in ps:\")\n",
    "anglezlabel = widgets.Label(\"Beam Angle $\\\\theta$ (from z-axis):\")\n",
    "anglexylabel = widgets.Label(\"Beam Angle $\\Phi$ (from x-axis):\")\n",
    "fwhmlabel = widgets.Label(\"FWHM of ion beam in nm:\")\n",
    "beamlabel = widgets.Label(\"Effective Beam Current (nA): \")\n",
    "sizelabel = widgets.Label(\"Estimated Total File Size (MB)\")\n",
    "fluxlabel = widgets.Label(\"$4\\sigma$ Surface Flux (ions/cm$^2$ps): \")\n",
    "\n",
    "dimin = widgets.HBox([xbox,ybox,zbox])\n",
    "vlabels = widgets.VBox([keVlabel, proclabel, templabel, ionlabel, outlabel, dtlabel, anglezlabel, anglexylabel, fwhmlabel])\n",
    "vinput = widgets.VBox([keVin, pin, tempin, nin, ain, dtin, phizin, phixyin, fin])\n",
    "\n",
    "inputs2 = widgets.HBox([vlabels,vinput])\n",
    "\n",
    "silat = 0.5431\n",
    "\n",
    "\n",
    "\n",
    "## dynamically updating boxes for current, estimated file size, flux\n",
    "BeamCurrent = widgets.Text(\n",
    "#    description='Effective Beam Current (nA):',\n",
    "    value = '%0.3f'%(1.602e-19/(dtin.value*1e-12)*1e9),\n",
    "    layout = text_layout2,\n",
    "    position = 'right'\n",
    ")\n",
    "    \n",
    "    #6.44e-5 is estimate of MB per atom per snapshot\n",
    "    #floors of dimin are unit cells, 8 is atoms per unit cell\n",
    "    #.1/.02e-3 is estimating number of timesteps in fast regime (lasting .1 ps, with .02e-3 step size)\n",
    "    #(dtin.value-.1)/.2e-3 is # of timesteps during the rest of the time\n",
    "    #ain.value/10 and ain.value normalize total timesteps by output frequency in each case\n",
    "    #whole process happens nin.value times\n",
    "EstimatedSize = widgets.Text( \n",
    "    value = '%0.3f'%(6.5e-05*(np.floor(xdimin.value/silat) * \n",
    "                      np.floor(ydimin.value/silat) * \n",
    "                      np.floor(zdimin.value/silat))*8 *\n",
    "             (.1/.02e-3 /(ain.value/10) + (dtin.value-.1)/.2e-3/(ain.value))*nin.value\n",
    "),\n",
    "        layout = text_layout2,\n",
    "        position = 'right'\n",
    ")\n",
    "\n",
    "SurfFlux = widgets.Text(\n",
    "    value = '%1.4E'%(1/dtin.value/((fin.value/2.355*4*1e-7)**2*np.pi/4)\n",
    "    ),\n",
    "    layout = text_layout2,\n",
    "        position = 'right'\n",
    ")\n",
    "\n",
    "vlabels2 = widgets.VBox([beamlabel,sizelabel,fluxlabel])\n",
    "outlabels = widgets.VBox([BeamCurrent,EstimatedSize,SurfFlux])\n",
    "outlabels2 = widgets.HBox([vlabels2,outlabels])\n",
    "\n",
    "#observed widgets for updating\n",
    "logcount = widgets.FloatText(\n",
    "    value = 0.0)\n",
    "plotcount = widgets.FloatText(\n",
    "    value = 0.0)\n",
    "\n",
    "\n",
    "#update buttons\n",
    "logbut = widgets.Button(description='Refresh out.log')\n",
    "rbut = widgets.Button(description='Refresh Viewer')\n",
    "outbox = widgets.Textarea(\n",
    "    value = 'placeholder')\n"
   ]
  },
  {
   "cell_type": "code",
   "execution_count": 61,
   "metadata": {
    "extensions": {
     "jupyter_dashboards": {
      "version": 1,
      "views": {
       "grid_default": {
        "col": 0,
        "height": 16,
        "hidden": false,
        "row": 0,
        "width": 3
       },
       "report_default": {
        "hidden": false
       }
      }
     }
    },
    "scrolled": false
   },
   "outputs": [
    {
     "data": {
      "application/vnd.jupyter.widget-view+json": {
       "model_id": "71c38ee66aa247dc9c1df0bfb063c500",
       "version_major": 2,
       "version_minor": 0
      },
      "text/html": [
       "<p>Failed to display Jupyter Widget of type <code>VBox</code>.</p>\n",
       "<p>\n",
       "  If you're reading this message in the Jupyter Notebook or JupyterLab Notebook, it may mean\n",
       "  that the widgets JavaScript is still loading. If this message persists, it\n",
       "  likely means that the widgets JavaScript library is either not installed or\n",
       "  not enabled. See the <a href=\"https://ipywidgets.readthedocs.io/en/stable/user_install.html\">Jupyter\n",
       "  Widgets Documentation</a> for setup instructions.\n",
       "</p>\n",
       "<p>\n",
       "  If you're reading this message in another frontend (for example, a static\n",
       "  rendering on GitHub or <a href=\"https://nbviewer.jupyter.org/\">NBViewer</a>),\n",
       "  it may mean that your frontend doesn't currently support widgets.\n",
       "</p>\n"
      ],
      "text/plain": [
       "VBox(children=(Label(value=' Target dimensions, nm', layout=Layout(display='flex', justify_content='center')), HBox(children=(HBox(children=(Label(value='    X:'), BoundedFloatText(value=5.0, layout=Layout(width='50px'), max=40.0, min=4.0, step=1.0)), layout=Layout(width='150px')), HBox(children=(Label(value='    Y:'), BoundedFloatText(value=5.0, layout=Layout(width='50px'), max=40.0, min=4.0, step=1.0)), layout=Layout(width='150px')), HBox(children=(Label(value='    Z:'), BoundedFloatText(value=2.0, layout=Layout(width='50px'), max=40.0, min=1.0, step=1.0)), layout=Layout(width='150px')))), HBox(children=(VBox(children=(Label(value='Ion Energy (eV):'), Label(value='# of Processors:'), Label(value='Silicon Temperature (K):'), Label(value='# of Ions to fire:'), Label(value='.xyz output frequency:'), Label(value='Time between ion impacts in ps:'), Label(value='Beam Angle $\\\\theta$ (from z-axis):'), Label(value='Beam Angle $\\\\Phi$ (from x-axis):'), Label(value='FWHM of ion beam in nm:'))), VBox(children=(BoundedFloatText(value=2000.0, layout=Layout(width='100px'), max=60000.0, min=1000.0, step=100.0), BoundedIntText(value=1, layout=Layout(width='100px'), max=10, min=1), FloatText(value=300.0, layout=Layout(width='100px'), step=10.0), BoundedIntText(value=1, layout=Layout(width='100px'), min=1), BoundedIntText(value=500, layout=Layout(width='100px'), max=1000000, step=100), BoundedFloatText(value=1.0, layout=Layout(width='100px'), min=0.1, step=0.1), FloatText(value=0.0, layout=Layout(width='100px'), step=1.0), FloatText(value=0.0, layout=Layout(width='100px'), step=1.0), FloatText(value=2.0, layout=Layout(width='100px'))))))), layout=Layout(border='solid'))"
      ]
     },
     "metadata": {},
     "output_type": "display_data"
    },
    {
     "data": {
      "application/vnd.jupyter.widget-view+json": {
       "model_id": "ae103df3e1e64e65bfb7c1ad8017744b",
       "version_major": 2,
       "version_minor": 0
      },
      "text/html": [
       "<p>Failed to display Jupyter Widget of type <code>HBox</code>.</p>\n",
       "<p>\n",
       "  If you're reading this message in the Jupyter Notebook or JupyterLab Notebook, it may mean\n",
       "  that the widgets JavaScript is still loading. If this message persists, it\n",
       "  likely means that the widgets JavaScript library is either not installed or\n",
       "  not enabled. See the <a href=\"https://ipywidgets.readthedocs.io/en/stable/user_install.html\">Jupyter\n",
       "  Widgets Documentation</a> for setup instructions.\n",
       "</p>\n",
       "<p>\n",
       "  If you're reading this message in another frontend (for example, a static\n",
       "  rendering on GitHub or <a href=\"https://nbviewer.jupyter.org/\">NBViewer</a>),\n",
       "  it may mean that your frontend doesn't currently support widgets.\n",
       "</p>\n"
      ],
      "text/plain": [
       "HBox(children=(VBox(children=(Label(value='Effective Beam Current (nA): '), Label(value='Estimated Total File Size (MB)'), Label(value='$4\\\\sigma$ Surface Flux (ions/cm$^2$ps): '))), VBox(children=(Text(value='160.200', layout=Layout(width='100px')), Text(value='13.773', layout=Layout(width='100px')), Text(value='1.1033E+13', layout=Layout(width='100px'))))))"
      ]
     },
     "metadata": {},
     "output_type": "display_data"
    }
   ],
   "source": [
    "input1 = widgets.VBox([dimlabel,dimin,inputs2],layout=widgets.Layout(border='solid'))\n",
    "display(input1)\n",
    "display(outlabels2)\n",
    "#display(widgets.HBox([beamlabel, BeamCurrent]))\n",
    "#display(widgets.HBox([sizelabel, EstimatedSize]))\n",
    "#display(widgets.HBox([fluxlabel, SurfFlux]))"
   ]
  },
  {
   "cell_type": "code",
   "execution_count": 62,
   "metadata": {
    "extensions": {
     "jupyter_dashboards": {
      "version": 1,
      "views": {
       "grid_default": {
        "col": 0,
        "height": 3,
        "hidden": false,
        "row": 16,
        "width": 3
       },
       "report_default": {}
      }
     }
    },
    "scrolled": false
   },
   "outputs": [
    {
     "data": {
      "text/html": [
       "<a href='out.log' target='_blank'>out.log</a><br>"
      ],
      "text/plain": [
       "/home/nanohub/jmstout2/notebooks/fib_md/out.log"
      ]
     },
     "metadata": {},
     "output_type": "display_data"
    },
    {
     "data": {
      "text/html": [
       "<a href='data/mdrun2.xyz' target='_blank'>data/mdrun2.xyz</a><br>"
      ],
      "text/plain": [
       "/home/nanohub/jmstout2/notebooks/fib_md/data/mdrun2.xyz"
      ]
     },
     "metadata": {},
     "output_type": "display_data"
    },
    {
     "data": {
      "text/html": [
       "<a href='data/OvitoTemplate.ovito' target='_blank'>data/OvitoTemplate.ovito</a><br>"
      ],
      "text/plain": [
       "/home/nanohub/jmstout2/notebooks/fib_md/data/OvitoTemplate.ovito"
      ]
     },
     "metadata": {},
     "output_type": "display_data"
    }
   ],
   "source": [
    "!touch out.log data/mdrun2.xyz data/3dmol2.xyz\n",
    "#file download links\n",
    "outfile = FileLink(\"out.log\")\n",
    "xyzfile = FileLink(\"data/mdrun2.xyz\")\n",
    "ovitofile = FileLink(\"data/OvitoTemplate.ovito\")\n",
    "display(outfile,xyzfile,ovitofile)\n",
    "\n"
   ]
  },
  {
   "cell_type": "markdown",
   "metadata": {
    "extensions": {
     "jupyter_dashboards": {
      "version": 1,
      "views": {
       "grid_default": {
        "col": 5,
        "height": 4,
        "hidden": true,
        "row": 37,
        "width": 4
       },
       "report_default": {}
      }
     }
    }
   },
   "source": [
    "# Function Definitions"
   ]
  },
  {
   "cell_type": "code",
   "execution_count": 63,
   "metadata": {
    "extensions": {
     "jupyter_dashboards": {
      "version": 1,
      "views": {
       "grid_default": {
        "hidden": true
       },
       "report_default": {}
      }
     }
    }
   },
   "outputs": [],
   "source": [
    "#list of prime factors for some number 'n'\n",
    "def prime_factors(n):\n",
    "    i = 2\n",
    "    factors = []\n",
    "    while i * i <= n:\n",
    "        if n % i:\n",
    "            i += 1\n",
    "        else:\n",
    "            n //= i\n",
    "            factors.append(i)\n",
    "    if n > 1:\n",
    "        factors.append(n)\n",
    "    return factors\n",
    "\n",
    "#determine 3 integer factors of nc that are closest together\n",
    "def primefactors3(nc):\n",
    "#    print('Base Number: \\t \\t', nc)\n",
    "    a=prime_factors(nc)\n",
    "#    print('Prime factors: \\t \\t', a)\n",
    "    z = np.ones(3,dtype=np.int8)\n",
    "    zb = []\n",
    "\n",
    "    if len(a) < 3:\n",
    "        z[3-len(a):] = a\n",
    "        b = range(0)\n",
    "    else:\n",
    "        z = z = a[len(a)-3:]\n",
    "        b = range(len(a)-4,-1,-1)\n",
    "\n",
    "    for i in b:\n",
    "    #    print(z)\n",
    "        indmin = np.argmin(z)\n",
    "    #    print(i,indmin,a[i])\n",
    "        z[indmin]=z[indmin]*a[i]    \n",
    "\n",
    "#    print('Closest 3 factors: \\t', z)\n",
    "#    print('Product of factors: \\t', z[0]*z[1]*z[2])\n",
    "    zb.append(z[np.argmax(z)])\n",
    "    zb.append(int(np.sum(z)-z[np.argmin(z)]-z[np.argmax(z)]))\n",
    "    zb.append(z[np.argmin(z)])\n",
    "#    print('Reversed Factors:  \\t', zb)\n",
    "    return zb\n",
    "\n",
    "#Create the input file from siga.in.template\n",
    "def get_template():\n",
    "    procs = primefactors3(pin.value)\n",
    "    if ain.value == 0:\n",
    "        atmoutin1 = -1\n",
    "        atmoutin2 = -1\n",
    "    else:\n",
    "        atmoutin1 = int(ain.value/10)\n",
    "        atmoutin2 = ain.value\n",
    "        dims = [int(xdimin.value/silat), int(ydimin.value/silat), int(zdimin.value/silat)]\n",
    "        \n",
    "    inputs = list([str(keVin.value),str(dims[0]),str(dims[1]),str(dims[2]),\n",
    "                         str(procs[0]),str(procs[1]),str(procs[2]),str(tempin.value),str(nin.value),str(atmoutin1),str(atmoutin2),\n",
    "                         str(dtin.value*1e-12),str(fin.value),str(phizin.value),str(phixyin.value)])\n",
    "    \n",
    "    tags = list(['keV','xdim','ydim','zdim',\n",
    "                 'procsx','procsy','procsz','Ttar1','nlj','atmout1','atmout2',\n",
    "                 'dtion','fwhm','phiz','phixy'])\n",
    "\n",
    "    input_dict = dict(zip(tags, inputs))\n",
    "    temp_contents = open('siga.in.template').read()\n",
    "    tempstr = Template(temp_contents)\n",
    "#    print(tempstr)\n",
    "    # Python template strings replace \"${identifier}\" with the value.\n",
    "    # If substituting more than one value, use a dictionary.\n",
    "    return tempstr.substitute(input_dict)\n",
    "\n",
    "\n",
    "\n",
    "\n",
    "\n",
    "##Callback functions \n",
    "\n",
    "def BC_cb(change):\n",
    "    BeamCurrent.value = str(1.602e-19/(dtin.value*1e-12)*1e9) #atoms/ps to nA\n",
    "    \n",
    "def ES_cb(change):\n",
    "    if ain.value <= 0:\n",
    "        EstimatedSize.value = '0'\n",
    "    else:\n",
    "        EstimatedSize.value = '%0.3f'%(6.5e-05*(np.floor(xdimin.value/silat) * \n",
    "                      np.floor(ydimin.value/silat) * \n",
    "                      np.floor(zdimin.value/silat))*8*\n",
    "             (.1/.02e-3 /(ain.value/10) + (dtin.value-.1)/.2e-3/(ain.value))*nin.value\n",
    ")\n",
    "\n",
    "def SF_cb(change):\n",
    "        SurfFlux.value = '%1.4E'%(1/dtin.value/((fin.value/2.355*4*1e-7)**2*np.pi/4))\n",
    "        \n",
    "        \n",
    "#def log_cb(change):\n",
    "#    logtext.value = open('out.log','r').read()\n",
    "    \n",
    "#def plot_cb(change):\n",
    "#    global p\n",
    "#    xyzout = open('data/3dmol2.xyz','r').read()\n",
    "#    outbox.value = xyzout\n",
    "#    p.clear()\n",
    "#    p.addModel(xyzout,'xyz')\n",
    "#    p.zoomTo()\n",
    "#    p.render()\n",
    "#    return p\n",
    "\n",
    "#def out_cb(out):    \n",
    "#    outbox.value = str(out)\n",
    "    \n",
    "#def logincrement_cb(change):\n",
    "#    logcount.value +=1\n",
    "\n",
    "#def plotincrement_cb(change):\n",
    "#    plotcount.value +=1\n",
    "    \n",
    "##button click functions\n",
    "\n",
    "def my_start(s):\n",
    "    # get a unique runname \n",
    "    rname = s.make_rname(pin.value)\n",
    "    !rm siga.in\n",
    "    with open('siga.in', 'w') as tfile:\n",
    "        tfile.write(get_template())\n",
    "\n",
    "    # run locally for now\n",
    "    submit_str = '--local mpirun -np %i bin/mdrun2 | tee out.log'%(pin.value)\n",
    "    s.run(rname, submit_str)\n",
    "    \n",
    "## Observers\n",
    "dtin.observe(BC_cb,names = 'value')\n",
    "dtin.observe(ES_cb,names = 'value')\n",
    "dtin.observe(SF_cb,names = 'value')\n",
    "ain.observe(ES_cb,names = 'value')\n",
    "nin.observe(ES_cb,names = 'value')\n",
    "xdimin.observe(ES_cb,names = 'value')\n",
    "ydimin.observe(ES_cb,names = 'value')\n",
    "zdimin.observe(ES_cb,names = 'value')\n",
    "fin.observe(SF_cb,names = 'value')\n",
    "#outbox.observe(out_cb, names = 'value')\n",
    "\n",
    "p = py3Dmol.view(width=520,height=550)\n",
    "#logcount.observe(log_cb,names = 'value')\n",
    "#plotcount.observe(plot_cb,names = 'value')"
   ]
  },
  {
   "cell_type": "code",
   "execution_count": 64,
   "metadata": {
    "extensions": {
     "jupyter_dashboards": {
      "version": 1,
      "views": {
       "grid_default": {
        "col": 6,
        "height": 12,
        "hidden": true,
        "row": 15,
        "width": 3
       },
       "report_default": {}
      }
     }
    }
   },
   "outputs": [],
   "source": [
    "#Log output widget\n",
    "#logtext = widgets.Textarea(\n",
    "#    value = open('out.log','r').read()\n",
    "#)\n",
    "#display(logtext)"
   ]
  },
  {
   "cell_type": "code",
   "execution_count": 65,
   "metadata": {
    "extensions": {
     "jupyter_dashboards": {
      "version": 1,
      "views": {
       "grid_default": {
        "col": 3,
        "height": 19,
        "hidden": false,
        "row": 0,
        "width": 5
       },
       "report_default": {
        "hidden": true
       }
      }
     }
    },
    "scrolled": true
   },
   "outputs": [
    {
     "data": {
      "text/html": [
       "<div id=\"3dmolviewer_15230040903706617\"  style=\"position: relative; width: 520px; height: 550px\">\n",
       "<script>\n",
       "if(typeof $3Dmolpromise === 'undefined') $3Dmolpromise = $.when($.getScript('https://3dmol.csb.pitt.edu/build/3Dmol.js'))\n",
       "var viewer_15230040903706617 = null;\n",
       "$3Dmolpromise.done(function() {\n",
       "viewer_15230040903706617 = $3Dmol.createViewer($(\"#3dmolviewer_15230040903706617\"),{backgroundColor:\"white\"});\n",
       "\tviewer_15230040903706617.clear();\n",
       "\tviewer_15230040903706617.addModel(\"     1946\\n        type       x (A)       y (A)       z (A)Time (ps) =      0.07200\\n      Si   0.00000   0.00000   0.00000\\n      Si   0.00000   2.71554   2.71554\\n      Si   1.32515   1.32931   4.08333\\n      Si   1.37171   4.13524   1.24371\\n      Si   2.71554   0.00000   2.71554\\n      Si   2.53321   2.72987 162.73280\\n      Si   3.91142   1.33883   1.17592\\n      Si   4.09240   4.07861   4.13892\\n      Si   0.00000   0.00000   5.43107\\n      Si   0.00000   2.71554   8.14661\\n      Si   1.33978   1.29361   9.52311\\n      Si   1.40465   4.05803   6.89617\\n      Si   2.71554   0.00000   8.14661\\n      Si   2.60528   2.71585   5.44932\\n      Si   3.98642   1.33050   6.71534\\n      Si   4.04005   4.12459   9.44910\\n      Si   0.00000   0.00000  10.86215\\n      Si   0.00000   2.71554  13.57768\\n      Si   1.38280   1.37862  14.89786\\n      Si   1.32434   4.09113  12.25951\\n      Si   2.71554   0.00000  13.57768\\n      Si   2.62753   2.70067  10.86577\\n      Si   4.01566   1.34338  12.29025\\n      Si   3.89302   4.18132  15.02568\\n      Si   0.00000   5.43107   0.00000\\n      Si   0.00000   8.14661   2.71554\\n      Si   1.35811   6.71742   4.05930\\n      Si   1.37281   9.55900   1.40471\\n      Si   2.82178   5.38269   2.67562\\n      Si   2.77827   8.09463   0.11465\\n      Si   4.26670   6.71227   1.27352\\n      Si   4.03503   9.54521   4.02192\\n      Si   0.00000   5.43107   5.43107\\n      Si   0.00000   8.14661   8.14661\\n      Si   1.34125   6.81483   9.38406\\n      Si   1.38208   9.58574   6.80521\\n      Si   2.72905   5.49784   8.10601\\n      Si   2.72204   8.11625   5.38956\\n      Si   4.11301   6.84392   6.80033\\n      Si   4.14468   9.44326   9.34124\\n      Si   0.00000   5.43107  10.86215\\n      Si   0.00000   8.14661  13.57768\\n      Si   1.26410   6.85241  15.04179\\n      Si   1.33884   9.50686  12.16135\\n      Si   2.54585   5.50159  13.63642\\n      Si   2.71399   8.18930  10.72188\\n      Si   3.94107   6.70407  12.23817\\n      Si   4.01932   9.54411  14.80620\\n      Si   0.00000  10.86215   0.00000\\n      Si   0.00000  13.57768   2.71554\\n      Si   1.38474  12.29331   4.09897\\n      Si   1.32857  15.00879   1.40264\\n      Si   2.69267  10.99590   2.68971\\n      Si   2.70947  13.83951 162.77004\\n      Si   4.00147  12.49057   1.41837\\n      Si   4.10222  14.95634   4.14185\\n      Si   0.00000  10.86215   5.43107\\n      Si   0.00000  13.57768   8.14661\\n      Si   1.37841  12.25764   9.48481\\n      Si   1.35952  14.98394   6.85922\\n      Si   2.73506  10.89938   8.09104\\n      Si   2.78835  13.59908   5.52631\\n      Si   4.19082  12.20943   6.83002\\n      Si   4.19278  15.07151   9.59362\\n      Si   0.00000  10.86215  10.86215\\n      Si   0.00000  13.57768  13.57768\\n      Si   1.12780  11.91808  14.87703\\n      Si   1.33616  15.04943  12.21767\\n      Si   2.67695  10.93590  13.43835\\n      Si   2.75919  13.65998  10.86514\\n      Si   4.06727  12.37936  12.23606\\n      Si   3.92486  14.88797  15.14162\\n      Si   0.00000  16.29322   0.00000\\n      Si   0.00000  19.00876   2.71554\\n      Si   1.29637  17.72530   4.20811\\n      Si   1.35675  20.41889   1.32966\\n      Si   2.60367  16.25259   2.98310\\n      Si   2.73461  18.88072   0.16283\\n      Si   4.03684  17.69921   1.74206\\n      Si   4.14273  20.56285   4.04596\\n      Si   0.00000  16.29322   5.43107\\n      Si   0.00000  19.00876   8.14661\\n      Si   1.41852  17.63417   9.54158\\n      Si   1.37514  20.37786   6.89521\\n      Si   2.79640  16.29758   8.21120\\n      Si   2.73594  19.09440   5.49528\\n      Si   4.09735  17.64029   6.76703\\n      Si   4.12282  20.34965   9.43895\\n      Si   0.00000  16.29322  10.86215\\n      Si   0.00000  19.00876  13.57768\\n      Si   1.54463  17.86248  14.91625\\n      Si   1.33006  20.22101  12.12085\\n      Si   2.70380  16.28278  13.61682\\n      Si   2.77261  18.96201  10.83547\\n      Si   4.03691  17.83246  12.41929\\n      Si   4.05734  20.51900  15.20126\\n      Si   0.00000  21.72429   0.00000\\n      Si   0.00000  24.43983   2.71554\\n      Si   1.39574  23.22211   4.00078\\n      Si   1.40641  25.80103   1.36444\\n      Si   2.78734  21.86934   2.58248\\n      Si   2.63699  24.41117 162.81306\\n      Si   4.17166  23.14685   1.09628\\n      Si   4.18764  25.79959   4.25437\\n      Si   0.00000  21.72429   5.43107\\n      Si   0.00000  24.43983   8.14661\\n      Si   1.34173  23.08878   9.49790\\n      Si   1.33749  25.86264   6.92766\\n      Si   2.73564  21.76750   8.22622\\n      Si   2.65988  24.54119   5.48367\\n      Si   4.04376  23.19822   6.83116\\n      Si   4.08882  25.80260   9.69181\\n      Si   0.00000  21.72429  10.86215\\n      Si   0.00000  24.43983  13.57768\\n      Si   1.29590  22.91874  14.88999\\n      Si   1.41149  25.75720  12.29287\\n      Si   2.62393  21.45921  13.61897\\n      Si   2.73889  24.37376  10.99970\\n      Si   3.98848  22.90134  12.33612\\n      Si   3.92031  25.24598  14.99418\\n      Si   0.00000  27.15537   0.00000\\n      Si   0.00000  29.87090   2.71554\\n      Si   1.47649  28.51721   4.21904\\n      Si   1.42245  31.25158   1.31703\\n      Si   2.74283  26.98939   2.93746\\n      Si   2.86425  29.68122   0.14481\\n      Si   4.18035  28.48216   1.69701\\n      Si   4.03080  31.35959   4.24110\\n      Si   0.00000  27.15537   5.43107\\n      Si   0.00000  29.87090   8.14661\\n      Si   1.35914  28.63859   9.64205\\n      Si   1.35117  31.17114   6.80905\\n      Si   2.73645  27.20408   8.36495\\n      Si   2.86296  29.81904   5.58793\\n      Si   4.23069  28.46842   6.95171\\n      Si   4.02214  31.26925   9.58133\\n      Si   0.00000  27.15537  10.86215\\n      Si   0.00000  29.87090  13.57768\\n      Si   1.42711  28.47428  14.78923\\n      Si   1.33001  31.24772  12.19138\\n      Si   2.94777  27.01006  13.66250\\n      Si   2.75318  29.93198  11.00144\\n      Si   4.17020  28.53296  12.25175\\n      Si   3.95733  31.23112  14.81504\\n      Si   0.00000  32.58644   0.00000\\n      Si   0.00000  35.30197   2.71554\\n      Si   1.41797  33.89905   4.05136\\n      Si   1.40326  36.74224   1.46895\\n      Si   2.73095  32.56270   2.68330\\n      Si   2.79944  35.45958   0.05234\\n      Si   4.07744  34.00437   1.39613\\n      Si   3.90702  36.89348   4.24548\\n      Si   0.00000  32.58644   5.43107\\n      Si   0.00000  35.30197   8.14661\\n      Si   1.37224  34.06385   9.64931\\n      Si   1.32322  36.67529   6.76910\\n      Si   2.67535  32.61185   8.23502\\n      Si   2.67657  35.27867   5.49505\\n      Si   4.05252  34.07628   6.98680\\n      Si   4.04898  36.74625   9.51154\\n      Si   0.00000  32.58644  10.86215\\n      Si   0.00000  35.30197  13.57768\\n      Si   0.87605  33.49025  14.92599\\n      Si   1.39252  36.70855  12.29751\\n      Si   2.59486  32.66800  13.49015\\n      Si   2.71478  35.41078  10.93019\\n      Si   4.11494  34.13065  12.32072\\n      Si   3.96811  36.83682  15.03255\\n      Si   0.00000  38.01751   0.00000\\n      Si   0.00000  40.73305   2.71554\\n      Si   1.36392  39.48069   4.13188\\n      Si   1.42356  42.06116   1.33868\\n      Si   2.69853  38.22983   2.72160\\n      Si   2.94333  41.03218 162.73805\\n      Si   4.04703  39.44440   1.17801\\n      Si   4.11459  42.21831   4.00812\\n      Si   0.00000  38.01751   5.43107\\n      Si   0.00000  40.73305   8.14661\\n      Si   1.38608  39.41619   9.50030\\n      Si   1.35532  42.18927   6.89394\\n      Si   2.73761  38.04589   8.13858\\n      Si   2.84708  40.84609   5.55299\\n      Si   4.23638  39.47189   6.94083\\n      Si   4.12110  42.14311   9.58566\\n      Si   0.00000  38.01751  10.86215\\n      Si   0.00000  40.73305  13.57768\\n      Si   1.95042  39.89963  14.93696\\n      Si   1.39788  42.10819  12.15238\\n      Si   2.74344  38.14326  13.53662\\n      Si   2.75942  40.76766  10.85414\\n      Si   4.09292  39.44130  12.20203\\n      Si   3.66625  41.61480  14.91332\\n      Si   0.00000  43.44858   0.00000\\n      Si   0.00000  46.16412   2.71554\\n      Si   1.37529  44.79533   3.96981\\n      Si   1.35777  47.52189   1.35777\\n      Si   2.83262  43.46836   2.57804\\n      Si   2.90143  46.36536 162.93023\\n      Si   4.21285  44.68518   1.10230\\n      Si   4.07330  47.52189   4.07330\\n      Si   0.00000  43.44858   5.43107\\n      Si   0.00000  46.16412   8.14661\\n      Si   1.32288  44.79763   9.51201\\n      Si   1.35777  47.52189   6.78884\\n      Si   2.70276  43.46168   8.21435\\n      Si   2.65348  46.19254   5.37922\\n      Si   3.89172  44.84838   6.70288\\n      Si   4.07330  47.52189   9.50438\\n      Si   0.00000  43.44858  10.86215\\n      Si   0.00000  46.16412  13.57768\\n      Si   1.24712  44.59039  14.80645\\n      Si   1.35777  47.52189  12.21991\\n      Si   2.81686  43.39212  13.55279\\n      Si   2.72724  46.10961  10.85627\\n      Si   4.09997  44.81973  12.25035\\n      Si   4.07330  47.52189  14.93545\\n      Si   5.43107   0.00000   0.00000\\n      Si   5.23951   2.68525   2.65026\\n      Si   6.64081   1.27887   3.98764\\n      Si   6.73591   4.12493   1.52001\\n      Si   8.14661   0.00000   2.71554\\n      Si   7.76093   2.52874   0.16918\\n      Si   9.40423   1.33021   1.41800\\n      Si   9.32103   4.11758   4.14343\\n      Si   5.43107   0.00000   5.43107\\n      Si   5.31693   2.66137   8.14854\\n      Si   6.77493   1.28128   9.47125\\n      Si   6.66753   4.05471   6.87002\\n      Si   8.14661   0.00000   8.14661\\n      Si   7.93937   2.71121   5.43304\\n      Si   9.41819   1.35862   6.75829\\n      Si   9.51639   3.95117   9.67038\\n      Si   5.43107   0.00000  10.86215\\n      Si   5.18331   2.64627  13.79757\\n      Si   6.64170   1.15680  14.94026\\n      Si   6.59573   3.92751  12.35531\\n      Si   8.14661   0.00000  13.57768\\n      Si   7.97034   2.64312  10.91352\\n      Si   9.47635   1.36984  12.12703\\n      Si   9.47200   3.75836  14.92725\\n      Si   5.85637   5.58658 162.93159\\n      Si   5.47180   8.19427   2.67244\\n      Si   6.84276   6.85190   4.08307\\n      Si   6.75885   9.53209   1.30780\\n      Si   8.10051   5.50458   2.72811\\n      Si   7.90088   7.95450 162.88189\\n      Si   9.42501   6.75519   1.29317\\n      Si   9.58475   9.47339   4.04135\\n      Si   5.42043   5.54014   5.46643\\n      Si   5.60024   8.05844   8.12782\\n      Si   6.77899   6.71284   9.64376\\n      Si   6.78862   9.48135   6.71023\\n      Si   8.08144   5.34222   8.36459\\n      Si   8.26326   8.14492   5.49304\\n      Si   9.46864   6.65464   6.95135\\n      Si   9.44405   9.49297   9.57544\\n      Si   5.35724   5.39238  10.94792\\n      Si   5.33462   8.04662  13.68232\\n      Si   6.74112   6.66158  15.02528\\n      Si   6.62530   9.41100  12.28515\\n      Si   8.10396   5.22805  13.65030\\n      Si   8.01214   8.13289  10.95744\\n      Si   9.37122   6.77041  12.32085\\n      Si   9.45449   9.79913  14.91832\\n      Si   5.38493  11.05310   0.15891\\n      Si   5.47186  13.78355   2.73035\\n      Si   6.72957  12.28245   3.93095\\n      Si   6.77281  15.02055   1.24053\\n      Si   8.16551  10.88705   2.69903\\n      Si   8.21365  13.66215 162.68624\\n      Si   9.43315  12.38804   1.34822\\n      Si   9.52048  14.91208   4.04364\\n      Si   5.45169  10.87428   5.31188\\n      Si   5.42493  13.48423   8.32661\\n      Si   6.72549  12.06292   9.55313\\n      Si   6.80831  14.82302   6.82479\\n      Si   8.10819  10.80375   8.12838\\n      Si   8.16776  13.45614   5.35425\\n      Si   9.52219  12.09032   6.76231\\n      Si   9.51824  14.82570   9.42356\\n      Si   5.30117  10.79705  10.88316\\n      Si   5.38554  13.69543  13.73976\\n      Si   6.60936  12.07568  14.85598\\n      Si   6.77569  15.02859  12.31763\\n      Si   8.08638  10.95357  13.44351\\n      Si   8.05708  13.63093  10.80069\\n      Si   9.44405  12.37914  12.26334\\n      Si  10.28898  15.56137  14.75515\\n      Si   5.20247  16.43431   0.12336\\n      Si   5.59474  19.09722   2.90155\\n      Si   6.78581  17.62789   4.22677\\n      Si   6.79196  20.42514   1.26619\\n      Si   8.05515  16.27107   2.78773\\n      Si   8.15499  18.98049   0.08913\\n      Si   9.41795  17.61258   1.47824\\n      Si   9.48427  20.44611   3.94078\\n      Si   5.40465  16.27716   5.49745\\n      Si   5.47412  19.00989   8.14712\\n      Si   6.78131  17.71497   9.51329\\n      Si   6.76550  20.45378   6.72304\\n      Si   8.17602  16.27582   8.09947\\n      Si   8.21028  19.03135   5.40655\\n      Si   9.51541  17.54470   6.71208\\n      Si   9.31793  20.31380   9.49027\\n      Si   5.44073  16.41337  11.03595\\n      Si   5.37279  18.98399  13.94663\\n      Si   6.61228  17.33526  15.11216\\n      Si   6.81322  20.29174  12.54300\\n      Si   8.20263  16.29314  13.76084\\n      Si   8.06052  18.96832  10.97519\\n      Si   9.37362  17.61337  12.15393\\n      Si   9.77720  20.40424  15.26558\\n      Si   5.53427  21.74462 162.67034\\n      Si   5.43000  24.43405   2.59077\\n      Si   6.80212  23.11476   4.00155\\n      Si   6.90486  25.74807   1.37803\\n      Si   8.14743  21.81458   2.54790\\n      Si   8.10814  24.49403 162.72197\\n      Si   9.46595  23.04496   1.04193\\n      Si   9.49331  25.72930   3.96544\\n      Si   5.46604  21.93609   5.46155\\n      Si   5.41849  24.42571   8.24495\\n      Si   6.73546  23.08624   9.64209\\n      Si   6.98950  25.69679   6.97560\\n      Si   8.08162  21.78167   8.21439\\n      Si   8.19253  24.38465   5.44275\\n      Si   9.47520  23.03153   6.84264\\n      Si   9.54558  25.75417   9.64301\\n      Si   5.46913  21.57351  10.98235\\n      Si   5.48204  24.15508  13.66999\\n      Si   7.09916  23.20705  14.99439\\n      Si   6.67414  25.66240  12.25402\\n      Si   8.35540  21.63800  13.82942\\n      Si   8.13540  24.38958  10.93699\\n      Si   9.49086  22.98245  12.25169\\n      Si   9.28624  25.57693  14.85846\\n      Si   5.50563  27.14489   0.24265\\n      Si   5.45401  29.93325   3.01827\\n      Si   6.80439  28.48117   4.19211\\n      Si   6.89796  31.18490   1.41899\\n      Si   8.16981  27.28696   2.63591\\n      Si   7.98474  29.88584 162.75873\\n      Si   9.57338  28.70005   1.26653\\n      Si   9.45539  31.33616   4.06233\\n      Si   5.61540  27.03545   5.65375\\n      Si   5.41057  29.89837   8.29519\\n      Si   6.88333  28.57427   9.51802\\n      Si   6.78906  31.26994   6.93730\\n      Si   8.26719  27.11952   8.23165\\n      Si   8.10476  29.98772   5.43076\\n      Si   9.46707  28.54935   6.81697\\n      Si   9.36515  31.46954   9.69205\\n      Si   5.50506  27.20089  10.93738\\n      Si   5.46921  29.92479  13.58095\\n      Si   6.87124  28.48061  14.87332\\n      Si   6.71682  31.38091  12.22887\\n      Si   8.26147  27.18818  13.40876\\n      Si   8.16648  29.93508  10.94225\\n      Si   9.65053  28.81398  12.28996\\n      Si   9.38760  31.24145  15.01733\\n      Si   5.58060  32.65376   0.16212\\n      Si   5.18706  35.41534   2.92371\\n      Si   6.70638  33.94646   4.12215\\n      Si   6.84678  36.53986   1.56873\\n      Si   8.15097  32.65015   2.70920\\n      Si   8.51873  35.51890   0.13869\\n      Si   9.66145  33.88918   1.40314\\n      Si   9.69780  36.58952   4.02948\\n      Si   5.39527  32.67241   5.64118\\n      Si   5.44590  35.45887   8.24883\\n      Si   6.70564  34.09075   9.61167\\n      Si   6.83798  36.69056   6.82279\\n      Si   8.03918  32.70306   8.32298\\n      Si   8.22483  35.34636   5.38680\\n      Si   9.46531  33.97079   6.85916\\n      Si   9.62284  36.52904   9.62718\\n      Si   5.32592  32.65774  10.91295\\n      Si   5.41998  35.30322  13.95228\\n      Si   6.68844  33.77131  15.37891\\n      Si   6.67472  36.61101  12.40606\\n      Si   8.01019  32.66502  13.75482\\n      Si   8.07389  35.33965  11.02241\\n      Si   9.42963  34.03799  12.49589\\n      Si   9.81345  36.87893  14.83400\\n      Si   5.60048  37.99380   0.12596\\n      Si   5.34535  40.71830   2.68771\\n      Si   6.66295  39.36842   4.10850\\n      Si   6.78912  42.15200   1.47791\\n      Si   8.12292  38.02408   2.88665\\n      Si   8.11002  40.84134   0.12569\\n      Si   9.40243  39.36601   1.42517\\n      Si   9.57876  42.17449   4.08764\\n      Si   5.39109  38.02006   5.61689\\n      Si   5.58321  40.79665   8.28172\\n      Si   6.87276  39.24820   9.49355\\n      Si   6.73992  42.12952   6.68738\\n      Si   8.31180  37.86245   8.19846\\n      Si   8.20724  40.65504   5.42442\\n      Si   9.56203  39.18059   6.73509\\n      Si   9.44138  42.13591   9.36369\\n      Si   5.43628  38.04667  10.97238\\n      Si   5.47511  40.64456  13.64326\\n      Si   6.98649  39.23524  14.92062\\n      Si   6.83865  42.03415  12.29078\\n      Si   8.30914  37.98734  13.48245\\n      Si   8.16649  40.74788  10.77063\\n      Si   9.57122  39.30896  12.01018\\n      Si   9.58166  41.90946  14.67434\\n      Si   5.51527  43.12166 162.70672\\n      Si   5.43090  46.09392   2.63154\\n      Si   6.85395  44.87300   3.98232\\n      Si   6.78884  47.52189   1.35777\\n      Si   8.15511  43.48038   2.79234\\n      Si   8.40025  46.39809 162.86717\\n      Si   9.57750  44.89675   1.37285\\n      Si   9.50438  47.52189   4.07330\\n      Si   5.46754  43.63912   5.39883\\n      Si   5.34017  46.22832   7.98950\\n      Si   6.63273  44.88952   9.42114\\n      Si   6.78884  47.52189   6.78884\\n      Si   8.07988  43.55399   8.00487\\n      Si   8.20104  46.18007   5.31597\\n      Si   9.52600  44.82740   6.71335\\n      Si   9.50438  47.52189   9.50438\\n      Si   5.49515  43.44951  10.89226\\n      Si   5.51899  46.14899  13.60956\\n      Si   6.70614  44.66279  15.02732\\n      Si   6.78884  47.52189  12.21991\\n      Si   8.12616  43.38684  13.65048\\n      Si   8.01024  46.21058  10.76154\\n      Si   9.32115  44.82041  12.19129\\n      Si   9.50438  47.52189  14.93545\\n      Si  10.86215   0.00000   0.00000\\n      Si  10.73831   2.69948   2.79315\\n      Si  12.20647   1.33559   4.06595\\n      Si  12.13746   4.08981   1.36109\\n      Si  13.57768   0.00000   2.71554\\n      Si  13.33649   2.52789   0.03165\\n      Si  14.93641   1.38004   1.32936\\n      Si  14.96241   4.03985   4.16735\\n      Si  10.86215   0.00000   5.43107\\n      Si  10.75830   2.71011   8.12118\\n      Si  12.09774   1.41863   9.48163\\n      Si  12.09931   4.06418   6.80348\\n      Si  13.57768   0.00000   8.14661\\n      Si  13.56625   2.72097   5.46653\\n      Si  14.99730   1.38841   6.89723\\n      Si  14.89916   4.20798   9.50400\\n      Si  10.86215   0.00000  10.86215\\n      Si  10.89339   2.71693  13.38699\\n      Si  11.83536   1.08614  14.78369\\n      Si  12.20306   4.29047  12.23208\\n      Si  13.57768   0.00000  13.57768\\n      Si  13.46923   2.81593  10.85341\\n      Si  14.79669   1.38802  12.15730\\n      Si  14.98265   4.13951  14.99207\\n      Si  10.81979   5.42574 162.82652\\n      Si  10.88523   8.07578   2.58505\\n      Si  12.16119   6.74075   4.05466\\n      Si  12.05996   9.67101   1.32484\\n      Si  13.58354   5.32402   2.73786\\n      Si  13.44597   8.22176   0.03763\\n      Si  14.86332   6.81339   1.39120\\n      Si  14.81864   9.71358   3.83259\\n      Si  10.74435   5.42648   5.44061\\n      Si  10.85793   8.23890   8.07362\\n      Si  12.16842   6.95430   9.50932\\n      Si  12.30293   9.63598   6.82868\\n      Si  13.46346   5.45181   8.11833\\n      Si  13.55244   8.24846   5.29351\\n      Si  14.88640   6.76754   6.66055\\n      Si  14.84537   9.61694   9.62786\\n      Si  10.81308   5.56532  10.82032\\n      Si  10.66095   8.16532  13.76294\\n      Si  11.98512   6.67195  15.11869\\n      Si  12.01511   9.48214  12.34056\\n      Si  13.54735   5.53549  13.69133\\n      Si  13.48530   8.20101  10.99740\\n      Si  14.96803   6.90447  12.35953\\n      Si  14.85413   9.46941  14.93976\\n      Si  10.73024  10.98986 162.88640\\n      Si  10.89410  13.70773   2.64708\\n      Si  12.18935  12.29285   4.07612\\n      Si  12.26838  15.05854   1.32044\\n      Si  13.40364  11.05162   2.49186\\n      Si  13.37460  13.85092 162.61379\\n      Si  14.72416  12.41154   1.10642\\n      Si  14.91675  15.01436   4.02796\\n      Si  10.96105  10.85154   5.41463\\n      Si  10.85927  13.47112   8.09347\\n      Si  12.28580  12.25346   9.54559\\n      Si  12.07678  14.94096   6.71744\\n      Si  13.58493  10.97320   8.16450\\n      Si  13.43612  13.69851   5.39533\\n      Si  14.82593  12.38389   6.75262\\n      Si  14.89303  14.92085   9.46278\\n      Si  10.75727  10.98769  10.90337\\n      Si  10.95717  13.57452  13.58523\\n      Si  12.25086  12.28514  15.00509\\n      Si  12.21329  14.84272  12.15721\\n      Si  13.49479  10.87726  13.61726\\n      Si  13.72535  13.52850  10.92536\\n      Si  14.99249  12.35494  12.42359\\n      Si  15.24250  15.53247  14.82506\\n      Si  10.74975  16.36233   0.09617\\n      Si  10.75415  18.98747   2.69179\\n      Si  12.16500  17.51593   3.93926\\n      Si  12.09041  20.17624   1.13480\\n      Si  13.65183  16.38602   2.63712\\n      Si  13.34570  18.66238 162.80657\\n      Si  15.03456  17.56994   1.18659\\n      Si  14.77851  20.23144   4.03183\\n      Si  10.84991  16.22999   5.34525\\n      Si  10.68391  18.85713   8.26342\\n      Si  12.17774  17.63019   9.49415\\n      Si  11.98704  20.20157   6.79827\\n      Si  13.50252  16.30965   8.13571\\n      Si  13.40361  18.85457   5.41265\\n      Si  14.86609  17.65975   6.76960\\n      Si  14.89775  20.42872   9.43170\\n      Si  10.79543  16.22884  10.87651\\n      Si  10.71992  18.97977  13.50323\\n      Si  11.58344  17.07809  14.77564\\n      Si  12.10743  20.35474  12.07600\\n      Si  13.47787  16.36348  13.48913\\n      Si  13.58187  19.06101  10.69446\\n      Si  14.82222  17.67759  11.98219\\n      Si  14.40093  19.91587  14.89794\\n      Si  10.83291  21.64433 162.69454\\n      Si  10.77808  24.26569   2.62584\\n      Si  12.13903  22.99662   4.11942\\n      Si  12.27469  25.60552   1.39298\\n      Si  13.41290  21.54971   2.66219\\n      Si  13.39255  24.15131 162.89030\\n      Si  14.83765  22.96059   1.39288\\n      Si  14.97637  25.75369   4.22505\\n      Si  10.75886  21.64908   5.47851\\n      Si  10.80405  24.39858   8.19241\\n      Si  12.20603  22.99730   9.46469\\n      Si  12.19998  25.77021   6.94628\\n      Si  13.47120  21.64707   8.13795\\n      Si  13.53046  24.41605   5.56517\\n      Si  14.94967  23.00936   6.86209\\n      Si  14.85983  25.98143   9.66594\\n      Si  10.71979  21.65491  10.73074\\n      Si  10.77643  24.43496  13.44688\\n      Si  12.26712  23.23961  14.80321\\n      Si  12.16089  25.88977  12.12674\\n      Si  13.41230  21.61279  13.55393\\n      Si  13.45092  24.44014  10.81294\\n      Si  14.77657  22.99317  12.21053\\n      Si  15.08364  25.82270  14.82404\\n      Si  11.18930  27.31222   0.19408\\n      Si  10.84752  29.90711   2.79081\\n      Si  12.05210  28.42305   4.17218\\n      Si  12.39172  31.10377   1.43367\\n      Si  13.47893  26.94411   2.95473\\n      Si  13.92201  29.67133   0.16896\\n      Si  14.96206  28.41018   1.79046\\n      Si  14.84702  31.40107   4.21894\\n      Si  10.75766  27.04380   5.54689\\n      Si  10.65762  29.94845   8.34597\\n      Si  12.18894  28.63573   9.64287\\n      Si  12.01787  31.29000   6.91739\\n      Si  13.51127  27.31593   8.18732\\n      Si  13.33745  30.02321   5.44584\\n      Si  14.79983  28.68864   6.81067\\n      Si  14.91920  31.20823   9.63204\\n      Si  10.82079  27.28728  10.91440\\n      Si  10.95548  30.07093  13.73523\\n      Si  12.25113  28.60427  14.97424\\n      Si  12.30082  31.37670  12.38739\\n      Si  13.64185  27.22680  13.55755\\n      Si  13.59302  29.90048  11.02696\\n      Si  15.06198  28.64080  12.36937\\n      Si  15.06407  31.57562  14.95484\\n      Si  11.10061  32.58288   0.08206\\n      Si  11.06405  35.29686   2.66202\\n      Si  12.20465  33.90936   4.25681\\n      Si  12.30067  36.74370   1.18761\\n      Si  13.52100  32.67212   2.81349\\n      Si  13.71075  35.51609 162.68917\\n      Si  14.93370  34.05344   1.34430\\n      Si  15.02373  36.68005   4.08756\\n      Si  10.70717  32.63625   5.51015\\n      Si  10.91150  35.22241   8.16688\\n      Si  12.13349  33.85606   9.68204\\n      Si  12.33283  36.55789   6.85367\\n      Si  13.47234  32.54844   8.27904\\n      Si  13.73624  35.24614   5.49404\\n      Si  15.03496  33.83990   7.03716\\n      Si  14.96035  36.62102   9.52039\\n      Si  10.80274  32.66318  11.15608\\n      Si  10.90818  35.36031  13.55232\\n      Si  11.88690  33.74309  14.81204\\n      Si  12.29713  36.63505  12.24329\\n      Si  13.62738  32.79187  13.64156\\n      Si  13.57880  35.32947  10.85760\\n      Si  15.04423  34.07410  12.17656\\n      Si  15.16264  36.84893  14.92789\\n      Si  10.46705  37.77261   0.08508\\n      Si  10.91691  40.75166   2.67757\\n      Si  12.29833  39.27081   4.04587\\n      Si  12.22004  42.16958   1.26284\\n      Si  13.65969  38.01670   2.61889\\n      Si  13.10372  40.39997   0.02594\\n      Si  14.81688  39.34854   1.22876\\n      Si  14.92952  42.05279   4.15467\\n      Si  11.01278  37.92530   5.37813\\n      Si  10.79587  40.71054   8.04211\\n      Si  12.27969  39.45394   9.39525\\n      Si  12.13576  42.07750   6.75865\\n      Si  13.61613  38.00354   8.16757\\n      Si  13.56275  40.63935   5.48441\\n      Si  15.00409  39.33302   6.80789\\n      Si  15.05506  42.10113   9.35221\\n      Si  11.04270  38.00386  10.81776\\n      Si  11.02347  40.74747  13.28689\\n      Si  12.15916  39.39949  14.85532\\n      Si  12.33428  42.23546  12.02989\\n      Si  13.61721  38.01359  13.58664\\n      Si  13.63420  40.83133  10.69254\\n      Si  14.87584  39.39717  12.09634\\n      Si  15.11756  42.30226  14.78783\\n      Si  11.00742  43.66916 162.81438\\n      Si  10.91602  46.24041   2.77676\\n      Si  12.26574  44.83181   4.07933\\n      Si  12.21991  47.52189   1.35777\\n      Si  13.64226  43.46656   2.71702\\n      Si  13.43340  46.08238   0.07118\\n      Si  14.98907  44.92046   1.37063\\n      Si  14.93545  47.52189   4.07330\\n      Si  10.94580  43.54225   5.45454\\n      Si  10.81033  46.20675   8.06688\\n      Si  12.08912  44.83786   9.44770\\n      Si  12.21991  47.52189   6.78884\\n      Si  13.53967  43.40934   8.14727\\n      Si  13.61578  46.20602   5.45521\\n      Si  14.87854  44.84302   6.87937\\n      Si  14.93545  47.52189   9.50438\\n      Si  10.74149  43.48336  10.75899\\n      Si  10.72862  46.17694  13.51874\\n      Si  12.15590  44.90973  14.85293\\n      Si  12.21991  47.52189  12.21991\\n      Si  13.58172  43.54658  13.54489\\n      Si  13.44262  46.16754  10.77564\\n      Si  14.83009  44.81743  12.15222\\n      Si  14.93545  47.52189  14.93545\\n      Si  16.29322   0.00000   0.00000\\n      Si  16.38285   2.72354   2.76140\\n      Si  17.66947   1.31932   4.17818\\n      Si  17.89220   4.20985   1.59789\\n      Si  19.00876   0.00000   2.71554\\n      Si  18.91809   2.58198   0.26156\\n      Si  20.44779   1.36756   1.43422\\n      Si  20.46761   4.12258   4.16860\\n      Si  16.29322   0.00000   5.43107\\n      Si  16.36939   2.70177   8.29942\\n      Si  17.77514   1.37907   9.67103\\n      Si  17.80770   4.02988   6.94635\\n      Si  19.00876   0.00000   8.14661\\n      Si  19.03550   2.71203   5.47089\\n      Si  20.38739   1.35095   6.83980\\n      Si  20.41572   4.08667   9.64119\\n      Si  16.29322   0.00000  10.86215\\n      Si  16.25852   2.71156  13.53865\\n      Si  17.83430   1.52304  14.85671\\n      Si  17.63131   4.21443  12.27477\\n      Si  19.00876   0.00000  13.57768\\n      Si  18.96353   2.81347  10.99502\\n      Si  20.37323   1.43901  12.28815\\n      Si  20.28290   4.24658  14.91270\\n      Si  16.57110   5.49075   0.13821\\n      Si  16.32900   8.25741   2.61402\\n      Si  17.59906   6.83917   4.10466\\n      Si  17.55738   9.60058   1.10086\\n      Si  19.23843   5.67804   2.86343\\n      Si  19.09550   8.17143 162.90531\\n      Si  20.61515   6.92604   1.30497\\n      Si  20.20153   9.63027   4.01209\\n      Si  16.44289   5.28579   5.47324\\n      Si  16.16527   8.18310   8.16604\\n      Si  17.67785   6.82664   9.40796\\n      Si  17.38706   9.61980   6.70025\\n      Si  19.22349   5.49216   8.12769\\n      Si  18.85436   8.26822   5.48169\\n      Si  20.50167   7.05289   6.77614\\n      Si  20.33762   9.58134   9.42430\\n      Si  16.24391   5.56349  10.90602\\n      Si  16.33687   8.20124  13.68275\\n      Si  17.91201   7.30882  15.19959\\n      Si  17.65371   9.59377  12.21931\\n      Si  18.92129   5.68825  13.66146\\n      Si  18.97102   8.20346  10.79618\\n      Si  20.35401   6.77362  12.10042\\n      Si  20.40128   9.65439  14.77043\\n      Si  16.17164  11.06541 162.74740\\n      Si  16.12174  13.62674   2.63547\\n      Si  17.57034  12.33422   3.97766\\n      Si  17.73325  14.99020   1.52406\\n      Si  18.92097  10.98606   2.46229\\n      Si  18.93869  13.65112   0.04297\\n      Si  20.44624  12.34813   1.26727\\n      Si  20.41289  15.00753   4.12904\\n      Si  16.09118  11.08207   5.28748\\n      Si  16.26058  13.68186   8.05665\\n      Si  17.58930  12.27501   9.36334\\n      Si  17.61757  15.11479   6.73352\\n      Si  18.82840  10.73200   8.05739\\n      Si  18.90757  13.66286   5.37817\\n      Si  20.15743  12.17081   6.76646\\n      Si  20.27429  14.85800   9.39657\\n      Si  16.28462  11.04140  10.89379\\n      Si  16.42229  13.82290  13.66292\\n      Si  18.17319  12.80150  15.00086\\n      Si  17.66926  14.91723  12.05798\\n      Si  18.95829  11.05983  13.55933\\n      Si  18.96745  13.52076  10.75051\\n      Si  20.36392  12.39750  12.27430\\n      Si  20.10910  14.83842  14.83413\\n      Si  16.33557  16.11230 162.84586\\n      Si  16.26051  18.99949   2.73954\\n      Si  17.69087  17.77543   4.12154\\n      Si  17.59281  20.32689   1.27084\\n      Si  19.05012  16.40482   2.86130\\n      Si  18.87271  19.06033 162.69989\\n      Si  20.24531  17.68259   1.23697\\n      Si  20.24143  20.37433   4.00379\\n      Si  16.25176  16.37649   5.41832\\n      Si  16.21202  19.12834   8.05673\\n      Si  17.52556  17.74706   9.34306\\n      Si  17.61764  20.33665   6.65224\\n      Si  18.95617  16.35011   8.18220\\n      Si  19.08318  18.96144   5.41562\\n      Si  20.37269  17.62750   6.84151\\n      Si  20.33279  20.29714   9.43122\\n      Si  16.32475  16.30697  10.74810\\n      Si  16.12555  19.00995  13.51001\\n      Si  17.32593  17.40073  14.75249\\n      Si  17.56152  20.32844  12.19915\\n      Si  18.92957  16.25636  13.44944\\n      Si  18.92540  19.01755  10.73623\\n      Si  20.25324  17.56640  12.07382\\n      Si  20.48433  20.18517  14.95587\\n      Si  16.18916  21.67895   0.01209\\n      Si  16.10829  24.36331   2.76620\\n      Si  17.55500  23.01952   4.03198\\n      Si  17.61928  25.63064   1.44347\\n      Si  18.88454  21.71523   2.62682\\n      Si  19.18507  24.60119 162.80464\\n      Si  20.34892  23.10466   1.35713\\n      Si  20.32893  25.64489   4.27075\\n      Si  16.15937  21.71682   5.32293\\n      Si  16.17563  24.49881   8.35577\\n      Si  17.60864  23.08600   9.61933\\n      Si  17.54473  25.79232   6.98583\\n      Si  18.97581  21.67012   8.11077\\n      Si  18.79845  24.35099   5.56864\\n      Si  20.42022  23.02119   6.71146\\n      Si  20.49161  25.75808   9.48328\\n      Si  16.17070  21.68175  10.86996\\n      Si  16.25990  24.26643  13.43505\\n      Si  17.36119  22.74416  14.83043\\n      Si  17.78674  25.56067  12.27302\\n      Si  19.04133  21.57669  13.61802\\n      Si  19.18164  24.34577  10.81613\\n      Si  20.44369  22.97538  12.30823\\n      Si  20.71276  25.77226  14.94438\\n      Si  16.39653  27.27592   0.30722\\n      Si  16.33828  29.99634   2.99047\\n      Si  17.69944  28.50752   4.26826\\n      Si  17.74527  31.34126   1.44374\\n      Si  19.01134  27.04925   2.85353\\n      Si  18.81794  29.79168   0.00630\\n      Si  20.23559  28.52654   1.44853\\n      Si  20.37928  31.06013   4.14380\\n      Si  16.25081  27.19917   5.62358\\n      Si  16.22220  29.94807   8.17976\\n      Si  17.53413  28.55105   9.59177\\n      Si  17.69147  31.18195   6.80181\\n      Si  19.01900  27.11847   8.31669\\n      Si  19.16378  29.72337   5.62966\\n      Si  20.48166  28.27341   6.90621\\n      Si  20.41051  31.10121   9.51338\\n      Si  16.40539  27.19055  11.04770\\n      Si  16.27898  29.96265  13.78130\\n      Si  17.61456  28.43819  15.11815\\n      Si  17.51860  31.20446  12.32852\\n      Si  19.00033  26.96041  13.72654\\n      Si  18.93146  29.90140  10.95652\\n      Si  20.24128  28.37593  12.16274\\n      Si  20.00757  31.18220  14.91825\\n      Si  16.43374  32.76418   0.02046\\n      Si  16.46105  35.35772   2.70003\\n      Si  17.75174  33.91710   4.18168\\n      Si  17.77348  36.73826   1.29268\\n      Si  19.10843  32.53779   2.90263\\n      Si  19.06341  35.13011   0.11056\\n      Si  20.47469  33.85361   1.48310\\n      Si  20.34119  36.70458   4.10164\\n      Si  16.31796  32.60407   5.54935\\n      Si  16.42166  35.31948   8.24923\\n      Si  17.69924  33.96099   9.52084\\n      Si  17.73838  36.64316   6.83181\\n      Si  18.94865  32.52894   8.14800\\n      Si  19.10577  35.27633   5.49473\\n      Si  20.34614  33.90576   6.89860\\n      Si  20.53096  36.60657   9.42095\\n      Si  16.33618  32.63509  10.82829\\n      Si  16.33289  35.47885  13.48756\\n      Si  17.50430  34.18615  14.98708\\n      Si  17.62306  36.87617  12.09248\\n      Si  18.79127  32.71263  13.69782\\n      Si  18.48458  34.21880   9.96393\\n      Si  20.16324  33.83110  12.16666\\n      Si  21.15635  36.90574  14.66561\\n      Si  16.44137  38.19339 162.87393\\n      Si  16.27462  40.82597   2.50400\\n      Si  17.69213  39.48371   3.91638\\n      Si  17.63501  42.25105   1.12630\\n      Si  19.11295  38.10255   2.56524\\n      Si  19.19444  41.05666 162.74981\\n      Si  20.37166  39.49001   1.16586\\n      Si  20.30017  42.04916   4.05068\\n      Si  16.42956  38.03677   5.40534\\n      Si  16.32976  40.69803   8.05387\\n      Si  17.71096  39.30800   9.31410\\n      Si  17.69054  42.13624   6.79692\\n      Si  19.16481  38.01300   8.06706\\n      Si  18.96008  40.76892   5.42467\\n      Si  20.41834  39.35581   6.65670\\n      Si  20.30133  41.94428   9.53746\\n      Si  16.27490  38.12792  10.71000\\n      Si  16.38670  40.72470  13.50872\\n      Si  18.04363  39.68977  14.87919\\n      Si  17.58481  42.05514  12.05227\\n      Si  19.04501  38.06430  13.61668\\n      Si  18.93089  40.57276  10.78684\\n      Si  20.33259  39.29633  12.16519\\n      Si  20.43499  42.22735  14.70593\\n      Si  16.67467  44.06289 162.89638\\n      Si  16.38031  46.17554   2.73193\\n      Si  17.59361  44.71660   4.12017\\n      Si  17.65099  47.52189   1.35777\\n      Si  18.95863  43.37283   2.77089\\n      Si  18.60070  45.70466   0.11561\\n      Si  20.34971  44.70447   1.41516\\n      Si  20.36652  47.52189   4.07330\\n      Si  16.27184  43.48546   5.55406\\n      Si  16.37903  46.17850   8.18986\\n      Si  17.72605  44.88740   9.57169\\n      Si  17.65099  47.52189   6.78884\\n      Si  19.04311  43.41148   8.24728\\n      Si  18.99810  46.10733   5.41216\\n      Si  20.34040  44.79559   6.81346\\n      Si  20.36652  47.52189   9.50438\\n      Si  16.22482  43.45873  10.80033\\n      Si  16.14614  46.25391  13.49098\\n      Si  17.70220  45.00136  14.58617\\n      Si  17.65099  47.52189  12.21991\\n      Si  18.99014  43.44988  13.32201\\n      Si  19.02365  46.21789  10.92366\\n      Si  20.47066  44.83551  12.11749\\n      Si  20.36652  47.52189  14.93545\\n      Si  21.72429   0.00000   0.00000\\n      Si  21.91033   2.78992   2.63730\\n      Si  23.12639   1.30613   4.07779\\n      Si  23.21832   4.04599   1.02143\\n      Si  24.43983   0.00000   2.71554\\n      Si  24.70719   2.70112 162.76164\\n      Si  25.78951   1.35351   1.38763\\n      Si  25.84864   3.99413   4.08441\\n      Si  21.72429   0.00000   5.43107\\n      Si  21.67036   2.64476   8.26161\\n      Si  23.14259   1.28884   9.50959\\n      Si  23.09712   4.02411   6.89549\\n      Si  24.43983   0.00000   8.14661\\n      Si  24.51768   2.66273   5.47762\\n      Si  25.93950   1.41581   6.86671\\n      Si  25.87591   4.10714   9.42736\\n      Si  21.72429   0.00000  10.86215\\n      Si  21.62455   2.85387  13.59794\\n      Si  22.65164   1.13040  14.82940\\n      Si  23.07924   4.21789  12.32386\\n      Si  24.43983   0.00000  13.57768\\n      Si  24.43954   2.78471  10.85111\\n      Si  25.73027   1.43471  12.25480\\n      Si  25.59734   4.26220  14.97501\\n      Si  22.51585   6.09892 162.83330\\n      Si  21.78091   8.29869   2.78630\\n      Si  23.18797   6.71635   3.90882\\n      Si  23.17979   9.56917   1.32844\\n      Si  24.53519   5.25782   2.54248\\n      Si  24.23517   7.78616   0.04006\\n      Si  25.93217   6.54314   1.16118\\n      Si  25.68756   9.52531   3.86388\\n      Si  21.89713   5.50617   5.48231\\n      Si  21.87583   8.29398   8.16334\\n      Si  23.10815   6.73923   9.42368\\n      Si  23.06741   9.56828   6.62192\\n      Si  24.53479   5.41039   8.10743\\n      Si  24.46817   8.13561   5.27210\\n      Si  25.83452   6.76639   6.64009\\n      Si  25.79246   9.53473   9.37195\\n      Si  21.75623   5.44079  10.84078\\n      Si  21.69702   8.23681  13.37188\\n      Si  23.17651   7.26594  15.04422\\n      Si  23.22224   9.59175  12.13264\\n      Si  24.36890   5.73706  13.67395\\n      Si  24.44413   8.09143  10.73726\\n      Si  25.82568   6.93303  12.17327\\n      Si  25.89246   9.54133  14.99386\\n      Si  22.05905  11.21145 162.83840\\n      Si  21.71077  13.81460   2.59747\\n      Si  23.02778  12.31851   3.89873\\n      Si  23.13479  15.06611   1.20829\\n      Si  24.46158  11.04150   2.59281\\n      Si  24.23951  13.43253 162.80624\\n      Si  25.84420  12.35818   1.29296\\n      Si  25.81265  14.89974   4.26489\\n      Si  21.64476  10.98115   5.30250\\n      Si  21.57065  13.34335   8.20072\\n      Si  23.02942  12.18233   9.61138\\n      Si  23.08575  14.58676   6.90509\\n      Si  24.32466  10.85167   8.10808\\n      Si  24.46275  13.46034   5.32037\\n      Si  25.80330  12.09304   6.66475\\n      Si  25.95500  14.73722   9.45918\\n      Si  21.64149  10.89139  10.93508\\n      Si  21.71151  13.71875  13.60701\\n      Si  23.08117  12.19311  14.85634\\n      Si  23.05099  14.90611  12.08014\\n      Si  24.59572  10.94072  13.64027\\n      Si  24.47677  13.56549  10.85583\\n      Si  25.85637  12.34407  12.24031\\n      Si  25.97500  15.35907  14.59842\\n      Si  21.74158  16.46217 162.81160\\n      Si  21.55494  18.96015   2.72840\\n      Si  22.99391  17.53610   4.09746\\n      Si  22.94751  20.36116   1.47308\\n      Si  24.48572  16.26010   2.74601\\n      Si  24.43226  19.06854   0.22753\\n      Si  25.82682  17.62839   1.40961\\n      Si  25.83052  20.12891   4.07666\\n      Si  21.76609  16.10040   5.58923\\n      Si  21.76389  18.96966   8.10193\\n      Si  23.16374  17.52215   9.37290\\n      Si  23.08185  20.36292   6.71936\\n      Si  24.49644  15.95274   8.20708\\n      Si  24.37835  18.84617   5.48031\\n      Si  25.69003  17.56362   6.93953\\n      Si  25.74311  20.48234   9.48771\\n      Si  21.61918  16.24848  10.67562\\n      Si  21.76180  18.84467  13.49906\\n      Si  23.45270  17.72756  14.76624\\n      Si  23.06355  20.24018  12.08155\\n      Si  24.48286  16.44870  13.21917\\n      Si  24.39819  18.99442  10.69236\\n      Si  25.91030  17.78530  11.97293\\n      Si  25.91990  20.37112  14.90522\\n      Si  21.92679  21.96294   0.08696\\n      Si  21.68095  24.42430   2.82851\\n      Si  23.16906  23.06101   4.13559\\n      Si  23.12758  25.61848   1.45695\\n      Si  24.50095  21.56877   2.82879\\n      Si  24.21267  24.07971   0.13144\\n      Si  25.76950  22.94820   1.43419\\n      Si  26.03677  25.86991   4.16232\\n      Si  21.73931  21.61186   5.27675\\n      Si  21.82942  24.36205   8.10139\\n      Si  23.09679  22.95201   9.46991\\n      Si  23.27158  25.74251   6.89004\\n      Si  24.46413  21.70972   8.07333\\n      Si  24.65272  24.50070   5.42235\\n      Si  25.92960  23.06401   6.73806\\n      Si  25.94686  25.76835   9.43639\\n      Si  21.71766  21.58392  10.77146\\n      Si  21.88781  24.47384  13.42532\\n      Si  23.18822  23.10390  14.75494\\n      Si  23.17492  25.81471  12.00746\\n      Si  24.46992  21.61111  13.40852\\n      Si  24.55127  24.39473  10.71923\\n      Si  25.87238  23.15626  12.16817\\n      Si  25.92673  25.85061  14.81405\\n      Si  21.60724  26.96588   0.35412\\n      Si  21.75741  29.74389   2.77479\\n      Si  23.09890  28.28569   4.12470\\n      Si  23.05506  31.17844   1.39446\\n      Si  24.54058  26.97265   2.80518\\n      Si  24.37753  29.84100 162.91791\\n      Si  25.73510  28.45697   1.37082\\n      Si  25.68396  31.29091   4.16012\\n      Si  21.80532  26.92187   5.57235\\n      Si  21.82344  29.73582   8.22110\\n      Si  23.23062  28.51265   9.57145\\n      Si  23.18373  31.20587   6.74944\\n      Si  24.56826  27.21188   8.23546\\n      Si  24.48234  29.75896   5.47466\\n      Si  25.83464  28.57652   6.91714\\n      Si  25.74232  31.41641   9.51563\\n      Si  21.78226  27.20839  10.82933\\n      Si  21.33321  29.89002  13.51955\\n      Si  22.82418  28.55971  14.63134\\n      Si  22.84733  31.27060  12.25076\\n      Si  24.43201  27.12303  13.50466\\n      Si  24.38497  30.07163  10.93599\\n      Si  25.79907  28.54551  12.17662\\n      Si  25.91479  31.35696  14.90671\\n      Si  21.80964  32.52611   0.04777\\n      Si  21.67915  35.46524   2.62380\\n      Si  22.96870  34.05150   4.11931\\n      Si  23.01395  36.88436   1.25724\\n      Si  24.26193  32.65821   2.81916\\n      Si  24.44595  35.46629   0.12255\\n      Si  25.70865  33.95546   1.49011\\n      Si  25.71886  36.84398   4.07353\\n      Si  21.67978  32.54430   5.42553\\n      Si  21.80045  35.23092   8.22189\\n      Si  23.15256  33.86281   9.41997\\n      Si  23.09212  36.65063   6.81483\\n      Si  24.53030  32.68778   8.01289\\n      Si  24.43895  35.40203   5.39484\\n      Si  25.82648  34.12502   6.73378\\n      Si  25.74160  36.67507   9.48481\\n      Si  21.66203  32.65862  10.77701\\n      Si  21.69941  35.04261  13.44863\\n      Si  23.14940  33.94375  14.90395\\n      Si  23.06920  36.44869  12.18128\\n      Si  24.35210  32.52419  13.50667\\n      Si  24.42398  35.25119  10.79679\\n      Si  25.71555  33.94784  12.20122\\n      Si  25.49913  36.58784  15.07487\\n      Si  21.71816  38.20759 162.67593\\n      Si  21.62294  40.70970   2.71720\\n      Si  23.01731  39.41879   4.02085\\n      Si  23.09263  42.00005   1.61740\\n      Si  24.38092  38.21486   2.64576\\n      Si  23.93451  40.64905 162.78990\\n      Si  25.68535  39.59787   1.22419\\n      Si  25.77248  42.12760   4.13445\\n      Si  21.79136  38.00891   5.38338\\n      Si  21.63660  40.73182   8.07867\\n      Si  22.98324  39.35022   9.40898\\n      Si  22.94213  42.13345   6.77128\\n      Si  24.38570  37.98599   8.16284\\n      Si  24.31417  40.81045   5.41940\\n      Si  25.72322  39.35891   6.81062\\n      Si  25.73281  42.10271   9.45510\\n      Si  21.69878  37.92147  10.86831\\n      Si  21.66930  40.65000  13.45353\\n      Si  23.09260  39.34603  14.68261\\n      Si  22.98002  42.12974  12.22632\\n      Si  24.42179  37.89118  13.48339\\n      Si  24.24743  40.75002  10.82249\\n      Si  25.65783  39.45249  12.15664\\n      Si  25.84886  41.94173  14.64093\\n      Si  21.85313  43.31469   0.20478\\n      Si  21.71683  46.13040   2.69273\\n      Si  23.13068  44.85189   4.16225\\n      Si  23.08206  47.52189   1.35777\\n      Si  24.44328  43.52601   2.83265\\n      Si  24.67022  46.17577   0.06098\\n      Si  25.89880  44.71360   1.47499\\n      Si  25.79760  47.52189   4.07330\\n      Si  21.69288  43.47444   5.46857\\n      Si  21.68441  46.24856   8.10688\\n      Si  23.01781  44.83241   9.34235\\n      Si  23.08206  47.52189   6.78884\\n      Si  24.42124  43.44415   8.11910\\n      Si  24.56424  46.19186   5.49052\\n      Si  25.87125  44.83584   6.91274\\n      Si  25.79760  47.52189   9.50438\\n      Si  21.77752  43.43233  10.72246\\n      Si  21.74982  46.16189  13.65204\\n      Si  23.20536  44.88603  15.04305\\n      Si  23.08206  47.52189  12.21991\\n      Si  24.37256  43.35265  13.59255\\n      Si  24.36267  46.07779  10.91256\\n      Si  25.67096  44.76221  12.29672\\n      Si  25.79760  47.52189  14.93545\\n      Si  27.15537   0.00000   0.00000\\n      Si  27.19278   2.62508   2.65029\\n      Si  28.56240   1.35465   4.02896\\n      Si  28.52846   3.94200   1.29172\\n      Si  29.87090   0.00000   2.71554\\n      Si  29.84025   2.55183   0.01249\\n      Si  31.26548   1.31636   1.35920\\n      Si  31.19943   4.28794   3.96310\\n      Si  27.15537   0.00000   5.43107\\n      Si  27.31047   2.84178   8.10981\\n      Si  28.56182   1.41160   9.40938\\n      Si  28.68552   4.15939   6.82841\\n      Si  29.87090   0.00000   8.14661\\n      Si  29.96486   2.76817   5.32678\\n      Si  31.17673   1.32150   6.73743\\n      Si  31.34680   4.00208   9.61849\\n      Si  27.15537   0.00000  10.86215\\n      Si  26.95621   3.01497  13.48827\\n      Si  28.32772   1.53099  14.64013\\n      Si  28.46587   4.15401  12.08079\\n      Si  29.87090   0.00000  13.57768\\n      Si  29.89371   2.68596  10.86250\\n      Si  31.22182   1.31843  12.21097\\n      Si  31.16879   3.99476  14.72738\\n      Si  27.48234   5.40643 162.67762\\n      Si  27.02994   8.08556   2.56003\\n      Si  28.56246   6.90237   3.92437\\n      Si  28.45551   9.39460   1.22229\\n      Si  29.84507   5.43883   2.55380\\n      Si  29.46927   7.82272 162.67548\\n      Si  31.14819   6.83469   1.19315\\n      Si  31.27645   9.47538   4.22012\\n      Si  27.39141   5.43453   5.32297\\n      Si  27.08671   8.08831   8.06734\\n      Si  28.51633   6.87668   9.40508\\n      Si  28.41554   9.48681   6.76587\\n      Si  30.04388   5.44902   8.28178\\n      Si  29.82779   8.10292   5.54429\\n      Si  31.30068   6.83658   6.78068\\n      Si  31.09016   9.42781   9.55547\\n      Si  27.13668   5.51301  10.80455\\n      Si  27.21250   8.31479  13.51959\\n      Si  28.67081   6.93211  14.78508\\n      Si  28.45114   9.67521  12.24153\\n      Si  29.88560   5.43775  13.45037\\n      Si  29.72976   8.18991  10.94652\\n      Si  31.30375   6.78575  12.12797\\n      Si  31.64791   9.85180  14.64570\\n      Si  27.63483  11.30530   0.09781\\n      Si  27.12982  13.63585   2.81591\\n      Si  28.56922  12.10524   4.02250\\n      Si  28.58002  14.92029   1.40732\\n      Si  29.85796  10.62564   2.75485\\n      Si  30.12387  13.60885   0.09079\\n      Si  31.28009  12.04783   1.44820\\n      Si  31.27177  14.82359   4.08841\\n      Si  27.09051  10.74009   5.31549\\n      Si  27.19554  13.44037   8.08991\\n      Si  28.47045  12.13744   9.60174\\n      Si  28.48382  14.87142   6.87981\\n      Si  29.79050  10.79534   8.15685\\n      Si  29.89706  13.50936   5.46028\\n      Si  31.25707  12.23149   6.88021\\n      Si  31.26505  14.91999   9.58871\\n      Si  27.03146  10.91068  10.90409\\n      Si  27.17668  13.67293  13.61602\\n      Si  28.43571  12.40067  15.06184\\n      Si  28.64256  14.92994  12.27249\\n      Si  29.75035  10.96225  13.67238\\n      Si  29.86941  13.54843  10.91920\\n      Si  31.25529  12.26476  12.35792\\n      Si  31.14151  14.61937  15.18534\\n      Si  27.10282  16.31581   0.01769\\n      Si  27.22676  18.88001   2.69902\\n      Si  28.49327  17.55426   4.16273\\n      Si  28.44373  20.23017   1.23187\\n      Si  29.90766  16.23644   2.77121\\n      Si  29.92627  18.84414 162.80154\\n      Si  31.33961  17.57612   1.28132\\n      Si  31.17962  20.40310   4.02968\\n      Si  27.14413  16.26288   5.59161\\n      Si  27.11505  18.99823   8.18329\\n      Si  28.55773  17.73882   9.60713\\n      Si  28.45365  20.28776   6.73436\\n      Si  29.86211  16.18737   8.25538\\n      Si  29.88488  18.93309   5.44903\\n      Si  31.19563  17.53732   6.91916\\n      Si  31.21118  20.31542   9.46856\\n      Si  27.21607  16.20866  10.82723\\n      Si  27.26016  18.98374  13.58307\\n      Si  28.30401  17.39392  15.05241\\n      Si  28.62631  20.44962  12.38512\\n      Si  30.05562  16.26130  13.79679\\n      Si  29.93551  19.09718  11.07356\\n      Si  31.35133  17.68822  12.33132\\n      Si  31.57250  20.56392  14.97175\\n      Si  26.71673  21.29156 162.92715\\n      Si  27.22338  24.37228   2.69045\\n      Si  28.50834  22.94838   3.97159\\n      Si  28.43739  25.82893   1.34343\\n      Si  29.80492  21.66701   2.53132\\n      Si  29.68357  24.45651 162.85857\\n      Si  31.14567  23.17482   1.34161\\n      Si  31.17153  25.90842   4.02600\\n      Si  27.16930  21.65014   5.39774\\n      Si  27.31703  24.38077   8.07572\\n      Si  28.59269  23.04449   9.53139\\n      Si  28.63105  25.79282   6.69101\\n      Si  29.81126  21.68455   8.07211\\n      Si  29.89819  24.41336   5.19548\\n      Si  31.13964  23.10081   6.70273\\n      Si  31.25931  25.77109   9.58692\\n      Si  27.24335  21.71424  10.91668\\n      Si  27.29153  24.57470  13.39043\\n      Si  28.54515  23.29968  14.89268\\n      Si  28.71466  25.87348  12.11991\\n      Si  29.99121  21.86445  13.69836\\n      Si  30.01492  24.37442  10.89087\\n      Si  31.45245  23.14535  12.29679\\n      Si  31.47180  25.89809  14.84678\\n      Si  27.15267  27.22699 162.83451\\n      Si  26.98933  29.92622   2.79647\\n      Si  28.39584  28.61514   4.11383\\n      Si  28.39375  30.93203   1.32156\\n      Si  29.76415  27.25803   2.70292\\n      Si  29.89177  29.65736   0.04919\\n      Si  31.24225  28.44913   1.38210\\n      Si  31.31504  31.14524   3.96429\\n      Si  27.22513  27.31581   5.60358\\n      Si  27.10791  29.98132   8.24473\\n      Si  28.43206  28.51937   9.42711\\n      Si  28.43259  31.32335   6.87707\\n      Si  29.85821  26.99080   8.23358\\n      Si  29.85349  29.93084   5.48214\\n      Si  31.16659  28.46716   6.88196\\n      Si  31.12109  31.07483   9.43567\\n      Si  27.20233  27.20004  10.93890\\n      Si  27.10359  29.86546  13.61949\\n      Si  27.90432  27.99555  14.89574\\n      Si  28.48360  31.18118  12.12613\\n      Si  29.93011  27.27085  13.61361\\n      Si  29.74140  29.83804  10.75012\\n      Si  31.20214  28.58952  12.00136\\n      Si  30.76491  31.09375  15.07927\\n      Si  27.10803  32.50339   0.16304\\n      Si  27.05614  35.32658   2.79483\\n      Si  28.48855  33.83002   3.98409\\n      Si  28.47051  36.68295   1.47921\\n      Si  29.78241  32.34871   2.55430\\n      Si  29.93837  35.52454   0.08087\\n      Si  31.13267  33.87087   1.29184\\n      Si  31.16779  36.59003   4.11215\\n      Si  27.10409  32.70940   5.43645\\n      Si  27.12634  35.32041   8.19516\\n      Si  28.48101  34.01170   9.58585\\n      Si  28.50116  36.69718   6.87557\\n      Si  29.92395  32.57960   8.17727\\n      Si  29.76983  35.25553   5.42873\\n      Si  31.15457  33.88515   6.63819\\n      Si  31.20234  36.65854   9.58546\\n      Si  27.14716  32.61077  10.90732\\n      Si  26.93206  35.31400  13.68104\\n      Si  28.42539  33.91437  14.87830\\n      Si  28.18524  36.72263  12.27268\\n      Si  29.74601  32.52351  13.56103\\n      Si  29.75039  35.34473  11.06382\\n      Si  31.16660  33.88425  12.24757\\n      Si  31.14476  36.43270  14.59722\\n      Si  27.06601  37.94737   0.08549\\n      Si  27.12757  40.76740   2.74266\\n      Si  28.47278  39.29956   4.09025\\n      Si  28.58132  41.99153   1.45292\\n      Si  29.89843  38.00959   2.74872\\n      Si  30.21354  41.11267   0.01479\\n      Si  31.24803  39.40461   1.33287\\n      Si  31.29933  42.10390   4.11445\\n      Si  27.09108  38.06638   5.53323\\n      Si  27.10072  40.66861   8.16051\\n      Si  28.44195  39.47699   9.56257\\n      Si  28.46400  42.01621   6.84088\\n      Si  29.79332  38.13545   8.27386\\n      Si  29.81504  40.76048   5.35031\\n      Si  31.14788  39.40279   6.82582\\n      Si  31.20922  42.10166   9.34220\\n      Si  26.99565  38.13181  10.76432\\n      Si  27.25924  40.74348  13.32092\\n      Si  28.38793  39.36908  14.75384\\n      Si  28.59614  42.18448  12.13662\\n      Si  29.75464  37.96928  13.46452\\n      Si  29.89144  40.78066  10.78715\\n      Si  31.17480  39.23838  12.14982\\n      Si  31.87889  42.62342  14.74770\\n      Si  27.02337  43.14809   0.13420\\n      Si  27.24482  46.13264   2.79214\\n      Si  28.47700  44.68110   4.26040\\n      Si  28.51313  47.52189   1.35777\\n      Si  29.84734  43.44054   2.81065\\n      Si  29.96621  46.30532 162.90937\\n      Si  31.14191  44.74213   1.37064\\n      Si  31.22867  47.52189   4.07330\\n      Si  27.02966  43.39126   5.56098\\n      Si  27.27186  46.19000   8.14081\\n      Si  28.43644  44.80163   9.59824\\n      Si  28.51313  47.52189   6.78884\\n      Si  29.75133  43.51302   8.13140\\n      Si  29.89037  46.19886   5.41652\\n      Si  31.21604  44.84081   6.77009\\n      Si  31.22867  47.52189   9.50438\\n      Si  27.10056  43.46237  10.92267\\n      Si  27.10589  46.03575  13.65392\\n      Si  28.23353  44.56524  15.15213\\n      Si  28.51313  47.52189  12.21991\\n      Si  29.83734  43.50542  13.67515\\n      Si  29.81663  46.19756  10.83212\\n      Si  31.17135  44.88238  12.23870\\n      Si  31.22867  47.52189  14.93545\\n      Si  32.58644   0.00000   0.00000\\n      Si  32.54533   2.84381   2.64695\\n      Si  33.84876   1.30005   4.02683\\n      Si  34.02385   4.15696   1.32954\\n      Si  35.30197   0.00000   2.71554\\n      Si  34.84307   2.31254   0.09327\\n      Si  36.63079   1.34507   1.29028\\n      Si  36.67336   4.08118   3.95682\\n      Si  32.58644   0.00000   5.43107\\n      Si  32.61008   2.63187   8.17347\\n      Si  33.95048   1.26646   9.48794\\n      Si  33.82243   4.09305   6.76325\\n      Si  35.30197   0.00000   8.14661\\n      Si  35.23033   2.66372   5.31110\\n      Si  36.63437   1.35493   6.72535\\n      Si  36.72166   4.02047   9.40105\\n      Si  32.58644   0.00000  10.86215\\n      Si  32.62702   2.81819  13.36070\\n      Si  33.91258   1.48283  14.77869\\n      Si  34.15539   4.11132  12.16375\\n      Si  35.30197   0.00000  13.57768\\n      Si  35.39475   2.70187  10.75514\\n      Si  36.66334   1.33185  12.23046\\n      Si  36.96785   4.51423  14.84646\\n      Si  33.05202   5.87687 162.88034\\n      Si  32.52798   8.14449   2.76611\\n      Si  33.89821   6.78486   4.01576\\n      Si  33.97697   9.37852   1.33011\\n      Si  35.31451   5.54082   2.67179\\n      Si  35.35051   8.05771 162.87376\\n      Si  36.71985   6.97296   1.49805\\n      Si  36.72169   9.54516   4.23680\\n      Si  32.54369   5.51935   5.35858\\n      Si  32.58641   8.13536   8.20777\\n      Si  34.04105   6.80943   9.42570\\n      Si  33.95622   9.53009   6.82447\\n      Si  35.30494   5.35183   8.12317\\n      Si  35.26480   8.09760   5.39282\\n      Si  36.62310   6.70456   6.73953\\n      Si  36.70870   9.53035   9.37536\\n      Si  32.75698   5.47753  10.84678\\n      Si  32.72509   8.10052  13.47824\\n      Si  33.98260   6.77084  14.95154\\n      Si  34.05498   9.48151  12.10293\\n      Si  35.42586   5.63499  13.53705\\n      Si  35.39681   8.15597  10.68648\\n      Si  36.64434   6.91362  12.12937\\n      Si  36.82028   9.59476  15.10264\\n      Si  32.63846  10.80251 162.91237\\n      Si  32.64020  13.50110   2.72237\\n      Si  33.95541  12.18121   4.08725\\n      Si  34.00314  14.85696   1.29555\\n      Si  35.34796  10.79632   2.77868\\n      Si  35.28907  13.45624 162.88414\\n      Si  36.62973  12.12668   1.32458\\n      Si  36.73214  14.90118   3.98346\\n      Si  32.62505  10.90438   5.46896\\n      Si  32.67772  13.57859   8.18846\\n      Si  33.92600  12.18372   9.53706\\n      Si  34.08127  14.96597   6.84761\\n      Si  35.30934  10.84539   8.10746\\n      Si  35.29413  13.60185   5.36978\\n      Si  36.57347  12.22454   6.74363\\n      Si  36.72807  14.76429   9.61850\\n      Si  32.50705  10.84050  10.94774\\n      Si  32.68044  13.56960  13.78163\\n      Si  33.92572  12.00771  15.01893\\n      Si  33.93188  14.87187  12.30954\\n      Si  35.37056  10.74761  13.65749\\n      Si  35.31577  13.40252  10.96416\\n      Si  36.75591  12.08233  12.26982\\n      Si  36.79323  15.00570  14.76913\\n      Si  33.25716  16.73503 162.90639\\n      Si  32.64478  18.86809   2.83884\\n      Si  34.06634  17.50468   4.19113\\n      Si  33.96676  20.31711   1.47358\\n      Si  35.34327  16.18942   2.64267\\n      Si  34.66919  18.31883   0.05430\\n      Si  36.74640  17.47855   1.14984\\n      Si  36.61043  20.34972   4.10414\\n      Si  32.55427  16.24810   5.56454\\n      Si  32.59316  18.94980   8.16419\\n      Si  34.07788  17.67888   9.46943\\n      Si  33.87270  20.28552   6.68849\\n      Si  35.47979  16.29469   8.20267\\n      Si  35.35824  18.98232   5.52840\\n      Si  36.82459  17.74813   6.90116\\n      Si  36.75500  20.47752   9.42236\\n      Si  32.70115  16.30503  10.90607\\n      Si  32.80002  19.06521  13.59945\\n      Si  34.28855  17.90275  14.95251\\n      Si  34.14144  20.43265  12.26520\\n      Si  35.28334  16.33827  13.54567\\n      Si  35.43733  19.10928  10.82981\\n      Si  36.70103  17.60972  12.23743\\n      Si  36.82765  20.15225  15.24054\\n      Si  32.47290  21.62596   0.11744\\n      Si  32.49409  24.40085   2.81034\\n      Si  33.93804  23.18873   4.08136\\n      Si  33.92976  25.76916   1.43100\\n      Si  35.30819  21.74958   2.79185\\n      Si  35.25498  24.38128   0.00057\\n      Si  36.66253  23.02328   1.36406\\n      Si  36.71605  25.67367   4.09782\\n      Si  32.63169  21.71765   5.34805\\n      Si  32.55665  24.40803   8.18581\\n      Si  33.84447  22.98108   9.46838\\n      Si  33.96388  25.79418   6.91146\\n      Si  35.32924  21.70569   8.03472\\n      Si  35.25521  24.44877   5.49956\\n      Si  36.72679  23.11169   6.72009\\n      Si  36.73967  25.59665   9.41064\\n      Si  32.58003  21.57945  10.93971\\n      Si  32.90832  24.58215  13.51053\\n      Si  34.45768  23.52057  14.98360\\n      Si  34.06340  26.02225  12.00739\\n      Si  35.50198  21.70144  13.80029\\n      Si  35.36686  24.37123  10.77502\\n      Si  36.68958  23.06305  12.30738\\n      Si  36.46467  25.95695  15.07454\\n      Si  32.56216  27.10745   0.05696\\n      Si  32.71810  29.73951   2.62626\\n      Si  33.94405  28.43195   4.23487\\n      Si  33.86439  31.20088   1.16801\\n      Si  35.32795  27.10285   2.82978\\n      Si  35.31659  29.77858   0.09136\\n      Si  36.73004  28.38284   1.33002\\n      Si  36.49150  31.05856   3.94035\\n      Si  32.50086  27.06987   5.52656\\n      Si  32.62694  29.89217   8.11405\\n      Si  33.99489  28.49936   9.36040\\n      Si  33.99324  31.10497   6.75102\\n      Si  35.48758  27.17524   8.13916\\n      Si  35.38435  29.74930   5.39543\\n      Si  36.86165  28.51241   6.73088\\n      Si  36.60970  31.24961   9.58598\\n      Si  32.62235  27.26549  10.67597\\n      Si  32.35865  29.98367  13.57373\\n      Si  33.74304  28.59700  14.92972\\n      Si  33.78785  31.18046  12.06351\\n      Si  35.24070  27.30644  13.59292\\n      Si  35.22673  29.83400  10.83250\\n      Si  36.66968  28.46754  12.12634\\n      Si  36.72968  31.22898  14.86880\\n      Si  32.58723  32.65927 162.77410\\n      Si  32.48378  35.23432   2.71756\\n      Si  33.98546  33.96570   4.05498\\n      Si  33.81717  36.73523   1.35030\\n      Si  35.17973  32.43718   2.60279\\n      Si  35.01726  35.36549 162.79424\\n      Si  36.32402  33.93740   1.25215\\n      Si  36.73031  36.66469   4.17011\\n      Si  32.66991  32.48378   5.35077\\n      Si  32.34039  35.40095   7.97465\\n      Si  33.69700  33.85621   9.27651\\n      Si  33.91512  36.69150   6.86898\\n      Si  35.30562  32.51085   8.05974\\n      Si  35.31341  35.31704   5.56230\\n      Si  36.67562  33.89002   6.81650\\n      Si  36.74566  36.55787   9.37162\\n      Si  32.36114  32.49842  10.78738\\n      Si  32.71530  35.17949  13.40730\\n      Si  34.06872  33.74203  14.74935\\n      Si  34.08618  36.56027  12.15977\\n      Si  35.38130  32.43099  13.36866\\n      Si  35.28163  35.14942  10.71441\\n      Si  36.66389  33.86935  12.02191\\n      Si  36.79312  36.85361  14.94978\\n      Si  32.79962  38.25976 162.83710\\n      Si  32.71576  40.66330   2.73846\\n      Si  33.96838  39.32636   4.21611\\n      Si  34.06364  42.00030   1.36527\\n      Si  35.26028  37.92153   2.82286\\n      Si  35.85610  41.07079   0.05545\\n      Si  36.69766  39.20395   1.37299\\n      Si  36.80065  42.04480   3.91604\\n      Si  32.53460  37.94015   5.50409\\n      Si  32.59642  40.79179   8.01673\\n      Si  33.82472  39.40761   9.41203\\n      Si  34.06351  42.11910   6.74688\\n      Si  35.28686  38.07850   8.18587\\n      Si  35.43276  40.77385   5.39017\\n      Si  36.87579  39.49243   6.77180\\n      Si  36.55159  42.19556   9.39672\\n      Si  32.65848  37.94463  10.82171\\n      Si  32.56973  40.52509  13.63279\\n      Si  33.80134  39.06653  15.07031\\n      Si  33.77365  42.00864  12.17536\\n      Si  35.26415  37.99630  13.58207\\n      Si  35.14448  40.79045  10.72110\\n      Si  36.46390  39.33897  12.03061\\n      Si  36.36432  41.83700  14.57771\\n      Si  32.19102  42.95100   0.17827\\n      Si  32.52413  46.19083   2.72809\\n      Si  33.89522  44.87656   4.05217\\n      Si  33.94421  47.52189   1.35777\\n      Si  35.30213  43.50787   2.79078\\n      Si  35.13628  46.04935 162.81752\\n      Si  36.57101  44.87355   1.37068\\n      Si  36.65974  47.52189   4.07330\\n      Si  32.70727  43.45835   5.49395\\n      Si  32.61522  46.14388   8.13427\\n      Si  33.82987  44.74431   9.52560\\n      Si  33.94421  47.52189   6.78884\\n      Si  35.23016  43.57723   8.05675\\n      Si  35.26553  46.25139   5.41879\\n      Si  36.62565  44.82088   6.68475\\n      Si  36.65974  47.52189   9.50438\\n      Si  32.45962  43.41042  10.84867\\n      Si  32.60336  46.23259  13.58578\\n      Si  33.48505  44.36636  14.79149\\n      Si  33.94421  47.52189  12.21991\\n      Si  35.14870  43.43979  13.43405\\n      Si  35.15973  46.13434  10.87129\\n      Si  36.53872  44.82615  12.18300\\n      Si  36.65974  47.52189  14.93545\\n      Si  38.01751   0.00000   0.00000\\n      Si  38.07285   2.71031   2.59665\\n      Si  39.48813   1.30903   4.02894\\n      Si  39.29451   4.12772   1.17566\\n      Si  40.73305   0.00000   2.71554\\n      Si  40.56486   2.70480 162.72209\\n      Si  42.07904   1.42092   1.21461\\n      Si  42.06392   4.11825   4.03789\\n      Si  38.01751   0.00000   5.43107\\n      Si  38.06528   2.70217   8.04682\\n      Si  39.29927   1.35809   9.54211\\n      Si  39.37682   4.11039   6.69347\\n      Si  40.73305   0.00000   8.14661\\n      Si  40.75820   2.67590   5.44487\\n      Si  42.16575   1.38188   6.77165\\n      Si  42.05745   4.23598   9.47018\\n      Si  38.01751   0.00000  10.86215\\n      Si  37.94908   2.75887  13.57544\\n      Si  39.31139   1.29431  14.82917\\n      Si  39.41638   4.00911  12.23812\\n      Si  40.73305   0.00000  13.57768\\n      Si  40.79195   2.74335  10.80846\\n      Si  42.21048   1.43346  12.28060\\n      Si  42.29920   4.14263  15.15808\\n      Si  37.81267   5.55763   0.02453\\n      Si  38.11444   8.24278   2.84158\\n      Si  39.50117   6.85066   4.21522\\n      Si  39.38061   9.65115   1.51569\\n      Si  40.63371   5.44961   2.68586\\n      Si  41.07546   8.48268   0.27168\\n      Si  42.08213   6.79945   1.44948\\n      Si  42.29821   9.60131   4.10352\\n      Si  38.00110   5.43283   5.34830\\n      Si  37.98997   8.17679   7.96200\\n      Si  39.27965   6.78035   9.38224\\n      Si  39.53777   9.55447   6.76295\\n      Si  40.74833   5.56380   8.01337\\n      Si  40.94042   8.20808   5.44679\\n      Si  42.29997   6.90644   6.75889\\n      Si  42.12309   9.37162   9.55874\\n      Si  37.93856   5.41058  10.88826\\n      Si  37.98245   8.15207  13.64549\\n      Si  39.17511   6.52034  14.85222\\n      Si  39.33943   9.41933  12.21687\\n      Si  40.84475   5.26624  13.64818\\n      Si  40.67783   8.00915  10.87920\\n      Si  42.04623   6.68968  12.31118\\n      Si  41.65596   9.14554  15.05517\\n      Si  37.78981  10.62601 162.85282\\n      Si  38.05637  13.52117   2.57348\\n      Si  39.42531  12.41482   4.20344\\n      Si  39.49655  14.94236   1.32971\\n      Si  40.83648  10.99078   2.85356\\n      Si  40.93461  13.59287   0.05010\\n      Si  42.19301  12.19416   1.44260\\n      Si  42.30010  14.86616   4.19891\\n      Si  38.17232  10.95010   5.52480\\n      Si  38.06553  13.46799   8.15480\\n      Si  39.36425  12.08954   9.51595\\n      Si  39.42362  14.83501   6.82476\\n      Si  40.83143  10.74634   8.27610\\n      Si  40.96988  13.56959   5.53579\\n      Si  42.26396  12.16381   6.95136\\n      Si  41.99531  14.89297   9.50979\\n      Si  38.03631  10.82962  10.90046\\n      Si  38.13824  13.43410  13.62843\\n      Si  39.56584  12.10070  14.88385\\n      Si  39.48322  14.81757  12.27526\\n      Si  40.76411  10.70153  13.54615\\n      Si  40.71392  13.57809  10.88220\\n      Si  42.08825  12.12550  12.20718\\n      Si  41.83088  14.51350  14.78164\\n      Si  38.46394  16.41886 162.61064\\n      Si  37.95334  18.86366   2.73593\\n      Si  39.47044  17.57125   4.05170\\n      Si  39.16245  20.22672   1.30232\\n      Si  40.88454  16.13562   2.81923\\n      Si  40.29899  18.68045 162.87514\\n      Si  41.97479  17.56601   1.23691\\n      Si  42.01122  20.23355   4.06683\\n      Si  38.10001  16.26653   5.42544\\n      Si  38.28898  19.09717   8.17789\\n      Si  39.42487  17.65745   9.61763\\n      Si  39.45773  20.28460   6.58225\\n      Si  40.67498  16.32317   8.17922\\n      Si  40.74756  18.90896   5.41332\\n      Si  42.05058  17.60078   6.81501\\n      Si  42.10662  20.17780   9.49257\\n      Si  38.07418  16.21157  10.90792\\n      Si  38.05597  18.78425  13.83890\\n      Si  39.56923  17.52524  15.06702\\n      Si  39.27229  20.16582  12.38998\\n      Si  40.83488  16.29540  13.55021\\n      Si  40.73219  18.98128  11.02019\\n      Si  42.24581  17.71116  12.25729\\n      Si  42.07707  20.62865  14.86938\\n      Si  37.81110  21.56859 162.92944\\n      Si  38.00041  24.45127   2.52589\\n      Si  39.28413  23.01155   3.88035\\n      Si  39.61072  25.80686   1.23276\\n      Si  40.58848  21.52632   2.59704\\n      Si  41.34155  24.85926 162.88763\\n      Si  42.13300  22.95108   1.33422\\n      Si  42.03983  25.76061   4.11013\\n      Si  37.98655  21.69140   5.38472\\n      Si  38.10452  24.24286   8.20299\\n      Si  39.39189  22.84745   9.47754\\n      Si  39.31453  25.60724   6.89153\\n      Si  40.72177  21.46351   8.11191\\n      Si  40.63934  24.33680   5.37255\\n      Si  42.01600  22.91054   6.78233\\n      Si  42.16148  25.66559   9.45894\\n      Si  38.11081  21.66061  11.01787\\n      Si  37.85289  24.63295  13.64719\\n      Si  39.44082  23.36406  14.75873\\n      Si  39.20443  25.62822  12.08441\\n      Si  40.55379  21.68500  13.49716\\n      Si  40.79497  24.29012  10.82022\\n      Si  42.11733  22.86968  12.18594\\n      Si  41.73406  25.31741  14.78713\\n      Si  38.46779  27.43367 162.91202\\n      Si  37.99434  29.70959   2.67911\\n      Si  39.44575  28.43113   3.98556\\n      Si  39.19401  31.29505   1.39044\\n      Si  40.82756  27.12967   2.64696\\n      Si  40.93889  30.21685   0.07826\\n      Si  42.16563  28.64077   1.42604\\n      Si  42.12857  31.20633   4.09320\\n      Si  38.15902  27.02273   5.36280\\n      Si  38.05079  29.97675   8.22294\\n      Si  39.36020  28.48100   9.41463\\n      Si  39.47172  31.27579   6.82663\\n      Si  40.75957  26.99312   8.08405\\n      Si  40.75744  29.83942   5.37355\\n      Si  42.08111  28.46448   6.75485\\n      Si  42.34754  31.07411   9.42332\\n      Si  37.99725  27.08899  10.73386\\n      Si  38.10109  29.70454  13.59746\\n      Si  39.11760  28.07419  14.94784\\n      Si  39.44113  31.06568  12.15190\\n      Si  40.62856  26.95718  13.47091\\n      Si  40.92939  29.77554  10.79961\\n      Si  42.13907  28.37042  12.25998\\n      Si  42.01118  31.31094  14.96178\\n      Si  37.53576  32.44899 162.86592\\n      Si  37.85173  35.10743   2.69336\\n      Si  39.26832  33.85217   4.19203\\n      Si  39.27667  36.31071   1.30563\\n      Si  40.69395  32.52851   2.81455\\n      Si  40.74498  35.14134 162.92399\\n      Si  42.04009  33.92058   1.47052\\n      Si  41.95682  36.60118   4.08560\\n      Si  37.85859  32.45533   5.42284\\n      Si  38.12114  35.12210   8.16924\\n      Si  39.49826  33.75556   9.54274\\n      Si  39.44845  36.72836   6.93196\\n      Si  41.02052  32.57427   8.20020\\n      Si  40.65271  35.28110   5.56731\\n      Si  42.24381  34.11745   6.85936\\n      Si  42.02633  36.74176   9.59850\\n      Si  38.13694  32.47141  10.90100\\n      Si  37.89661  35.34612  13.43108\\n      Si  39.90854  34.54377  14.51344\\n      Si  39.29562  36.74326  12.21779\\n      Si  40.82475  32.56390  13.44886\\n      Si  40.74187  35.26061  10.87510\\n      Si  42.24066  33.81329  12.04552\\n      Si  41.95707  36.14257  14.69201\\n      Si  37.85180  37.65347   0.01353\\n      Si  38.15058  40.59693   2.59468\\n      Si  39.49215  39.29045   3.90262\\n      Si  39.43963  42.00008   1.05358\\n      Si  40.68805  37.85486   2.49256\\n      Si  41.03951  40.89849 162.51781\\n      Si  42.11172  39.36424   1.08417\\n      Si  42.18737  42.10903   3.97826\\n      Si  38.20245  38.06410   5.39609\\n      Si  38.10263  40.94596   8.18003\\n      Si  39.33637  39.49278   9.55187\\n      Si  39.42810  42.19077   6.62480\\n      Si  40.71905  38.11990   8.28642\\n      Si  40.71736  40.67811   5.32040\\n      Si  42.06872  39.40714   6.78028\\n      Si  42.15854  41.97941   9.46965\\n      Si  37.93484  38.01304  10.79066\\n      Si  37.88553  40.51093  13.39700\\n      Si  39.12701  39.27981  14.96197\\n      Si  39.25638  42.03753  12.23998\\n      Si  40.71320  37.93206  13.73341\\n      Si  40.75364  40.66988  10.92064\\n      Si  42.06976  39.25360  12.40932\\n      Si  42.09916  42.16281  14.95182\\n      Si  37.50766  43.09609   0.07847\\n      Si  38.01310  46.15543   2.67034\\n      Si  39.56649  44.75505   3.84853\\n      Si  39.37528  47.52189   1.35777\\n      Si  40.83359  43.32872   2.43035\\n      Si  40.87359  46.34091   0.08952\\n      Si  42.29837  44.81762   1.26576\\n      Si  42.09082  47.52189   4.07330\\n      Si  38.13031  43.51003   5.24388\\n      Si  37.91006  46.21115   8.17553\\n      Si  39.33290  44.76824   9.44299\\n      Si  39.37528  47.52189   6.78884\\n      Si  40.80544  43.42083   8.12028\\n      Si  40.75725  46.14799   5.38902\\n      Si  42.06869  44.84555   6.81154\\n      Si  42.09082  47.52189   9.50438\\n      Si  37.88542  43.44271  10.84274\\n      Si  37.93000  46.15822  13.56785\\n      Si  39.29507  44.82327  14.89042\\n      Si  39.37528  47.52189  12.21991\\n      Si  40.63606  43.39953  13.54472\\n      Si  40.71978  46.13577  10.86523\\n      Si  42.02295  44.65523  12.12707\\n      Si  42.09082  47.52189  14.93545\\n      Si  43.44858   0.00000   0.00000\\n      Si  43.40200   2.74382   2.59282\\n      Si  44.73794   1.32297   3.91630\\n      Si  44.67402   4.25192   1.39254\\n      Si  46.16412   0.00000   2.71554\\n      Si  46.35549   3.11580   0.22892\\n      Si  47.52189   1.35777   1.35777\\n      Si  47.52189   4.07330   4.07330\\n      Si  43.44858   0.00000   5.43107\\n      Si  43.47809   2.78222   8.20610\\n      Si  44.83519   1.37829   9.58597\\n      Si  44.74613   4.04865   6.66893\\n      Si  46.16412   0.00000   8.14661\\n      Si  46.05912   2.65826   5.29476\\n      Si  47.52189   1.35777   6.78884\\n      Si  47.52189   4.07330   9.50438\\n      Si  43.44858   0.00000  10.86215\\n      Si  43.55260   2.70251  13.83785\\n      Si  44.91775   1.22391  15.12182\\n      Si  44.77200   4.20604  12.42832\\n      Si  46.16412   0.00000  13.57768\\n      Si  46.13264   2.83468  11.02383\\n      Si  47.52189   1.35777  12.21991\\n      Si  47.52189   4.07330  14.93545\\n      Si  43.17032   5.40860 162.91387\\n      Si  43.58141   8.17580   2.65099\\n      Si  44.85669   6.89553   4.13788\\n      Si  44.85011   9.47162   1.13074\\n      Si  46.11087   5.52736   2.73482\\n      Si  46.14063   7.95026 162.76406\\n      Si  47.52189   6.78884   1.35777\\n      Si  47.52189   9.50438   4.07330\\n      Si  43.45214   5.42191   5.39551\\n      Si  43.60914   8.10446   8.25096\\n      Si  44.83914   6.67192   9.50878\\n      Si  44.95038   9.49759   7.00450\\n      Si  46.12889   5.32457   8.07335\\n      Si  46.22228   8.14985   5.52016\\n      Si  47.52189   6.78884   6.78884\\n      Si  47.52189   9.50438   9.50438\\n      Si  43.52092   5.45331  10.93107\\n      Si  43.27098   8.16897  13.60285\\n      Si  44.67553   7.04246  15.08521\\n      Si  44.75171   9.47247  12.26008\\n      Si  46.10239   5.64732  13.81744\\n      Si  46.12922   8.11298  10.83514\\n      Si  47.52189   6.78884  12.21991\\n      Si  47.52189   9.50438  14.93545\\n      Si  43.43981  10.86640 162.75364\\n      Si  43.55749  13.53353   2.78751\\n      Si  44.99178  12.18630   4.10414\\n      Si  44.76965  14.82936   1.20661\\n      Si  46.18302  10.75717   2.67337\\n      Si  46.35533  13.53767 162.83617\\n      Si  47.52189  12.21991   1.35777\\n      Si  47.52189  14.93545   4.07330\\n      Si  43.65435  10.86002   5.57323\\n      Si  43.44353  13.64750   8.33644\\n      Si  44.87121  12.24649   9.59787\\n      Si  44.87314  14.94377   6.96455\\n      Si  46.24221  10.93931   8.17555\\n      Si  46.19275  13.63268   5.50630\\n      Si  47.52189  12.21991   6.78884\\n      Si  47.52189  14.93545   9.50438\\n      Si  43.46114  10.83114  10.87046\\n      Si  43.47527  13.54911  13.50817\\n      Si  44.44722  11.97080  14.92436\\n      Si  44.73472  15.04878  12.20744\\n      Si  46.08878  10.96358  13.54437\\n      Si  46.13808  13.66383  10.93516\\n      Si  47.52189  12.21991  12.21991\\n      Si  47.52189  14.93545  14.93545\\n      Si  43.12283  16.05435 162.80026\\n      Si  43.29787  18.90864   2.64582\\n      Si  44.78726  17.63011   4.05229\\n      Si  44.79891  20.41893   1.64126\\n      Si  46.12372  16.23047   2.63947\\n      Si  45.96107  18.94343   0.33814\\n      Si  47.52189  17.65099   1.35777\\n      Si  47.52189  20.36652   4.07330\\n      Si  43.49428  16.26318   5.53636\\n      Si  43.54447  18.91697   8.17421\\n      Si  44.87398  17.59040   9.57709\\n      Si  44.94334  20.27039   6.79384\\n      Si  46.23752  16.29192   8.20710\\n      Si  46.23477  18.91686   5.42576\\n      Si  47.52189  17.65099   6.78884\\n      Si  47.52189  20.36652   9.50438\\n      Si  43.40741  16.22022  10.74537\\n      Si  43.53908  19.13124  13.70363\\n      Si  44.81220  17.76346  15.13939\\n      Si  44.88066  20.41128  12.27178\\n      Si  46.04803  16.43816  13.57946\\n      Si  46.17485  19.01197  10.92299\\n      Si  47.52189  17.65099  12.21991\\n      Si  47.52189  20.36652  14.93545\\n      Si  43.72636  21.70629   0.04369\\n      Si  43.41485  24.33343   2.77968\\n      Si  44.71195  23.01508   4.25147\\n      Si  44.67045  25.69702   1.38684\\n      Si  46.16312  21.78983   2.89817\\n      Si  46.53872  24.88811   0.19740\\n      Si  47.52189  23.08206   1.35777\\n      Si  47.52189  25.79760   4.07330\\n      Si  43.41883  21.49503   5.46798\\n      Si  43.44579  24.31019   8.06383\\n      Si  44.76147  23.07377   9.46260\\n      Si  44.59948  25.71392   6.74720\\n      Si  46.18053  21.74317   8.09358\\n      Si  46.08314  24.40468   5.50300\\n      Si  47.52189  23.08206   6.78884\\n      Si  47.52189  25.79760   9.50438\\n      Si  43.56854  21.56436  10.75844\\n      Si  43.48113  24.21902  13.61431\\n      Si  45.08372  23.33549  15.10750\\n      Si  44.86228  25.68084  12.43392\\n      Si  46.17969  21.80998  13.63585\\n      Si  46.10961  24.37161  10.90091\\n      Si  47.52189  23.08206  12.21991\\n      Si  47.52189  25.79760  14.93545\\n      Si  43.02948  26.80440   0.12171\\n      Si  43.55725  29.91519   2.80834\\n      Si  44.75698  28.39274   4.15796\\n      Si  44.97217  31.11860   1.37710\\n      Si  46.07063  27.06890   2.71086\\n      Si  46.10712  29.65579 162.90701\\n      Si  47.52189  28.51313   1.35777\\n      Si  47.52189  31.22867   4.07330\\n      Si  43.34477  27.07958   5.40983\\n      Si  43.59424  29.69289   8.06466\\n      Si  44.89623  28.33830   9.52018\\n      Si  44.83181  31.23258   6.71351\\n      Si  46.09210  27.04706   8.01300\\n      Si  46.19514  29.82195   5.46119\\n      Si  47.52189  28.51313   6.78884\\n      Si  47.52189  31.22867   9.50438\\n      Si  43.63071  26.89986  10.91056\\n      Si  43.31764  29.95215  13.60930\\n      Si  44.66665  28.76829  15.01856\\n      Si  44.77959  31.21801  12.29165\\n      Si  46.06142  27.25484  13.74478\\n      Si  46.12088  29.89792  10.81034\\n      Si  47.52189  28.51313  12.21991\\n      Si  47.52189  31.22867  14.93545\\n      Si  44.11705  33.22904   0.49451\\n      Si  43.34807  35.38949   2.69867\\n      Si  44.89252  34.01918   4.02496\\n      Si  44.67287  36.67122   1.15293\\n      Si  46.23084  32.57850   2.73985\\n      Si  45.38503  34.55733   0.14119\\n      Si  47.52189  33.94421   1.35777\\n      Si  47.52189  36.65974   4.07330\\n      Si  43.43751  32.67130   5.36491\\n      Si  43.49127  35.54899   8.20326\\n      Si  44.87297  33.97748   9.36504\\n      Si  44.82082  36.78413   6.73781\\n      Si  46.20492  32.61630   8.05511\\n      Si  46.21616  35.39746   5.48531\\n      Si  47.52189  33.94421   6.78884\\n      Si  47.52189  36.65974   9.50438\\n      Si  43.69370  32.49761  10.70750\\n      Si  43.67084  35.04079  13.58761\\n      Si  44.94775  33.94243  15.10303\\n      Si  44.88427  36.43968  12.23231\\n      Si  46.12867  32.62873  13.54323\\n      Si  46.20965  35.17408  10.80870\\n      Si  47.52189  33.94421  12.21991\\n      Si  47.52189  36.65974  14.93545\\n      Si  43.81520  38.36987 162.66360\\n      Si  43.48898  40.68436   2.56921\\n      Si  44.77235  39.32730   3.95050\\n      Si  44.81115  42.10579   1.26123\\n      Si  46.15650  37.90062   2.56283\\n      Si  45.99689  40.67842 162.89534\\n      Si  47.52189  39.37528   1.35777\\n      Si  47.52189  42.09082   4.07330\\n      Si  43.40692  38.04813   5.33936\\n      Si  43.50849  40.56794   8.25547\\n      Si  44.76668  39.23334   9.61841\\n      Si  44.84907  41.93545   6.92626\\n      Si  46.12109  37.97816   8.21304\\n      Si  46.12961  40.66419   5.37640\\n      Si  47.52189  39.37528   6.78884\\n      Si  47.52189  42.09082   9.50438\\n      Si  43.47873  37.88387  11.03204\\n      Si  43.40936  40.59045  13.81332\\n      Si  44.77409  39.08520  14.91352\\n      Si  44.70914  41.89962  12.25688\\n      Si  46.20431  37.96242  13.48188\\n      Si  46.12804  40.67288  10.84479\\n      Si  47.52189  39.37528  12.21991\\n      Si  47.52189  42.09082  14.93545\\n      Si  43.79800  43.61411 162.78133\\n      Si  43.50274  46.18068   2.81704\\n      Si  44.86953  44.71348   4.17635\\n      Si  44.80635  47.52189   1.35777\\n      Si  46.15346  43.39643   2.70610\\n      Si  46.27066  46.40389 162.89536\\n      Si  47.52189  44.80635   1.35777\\n      Si  47.52189  47.52189   4.07330\\n      Si  43.47127  43.36881   5.60709\\n      Si  43.41441  46.12371   8.21146\\n      Si  44.81099  44.71765   9.60543\\n      Si  44.80635  47.52189   6.78884\\n      Si  46.17200  43.33508   8.17801\\n      Si  46.19006  46.16958   5.53597\\n      Si  47.52189  44.80635   6.78884\\n      Si  47.52189  47.52189   9.50438\\n      Si  43.42628  43.29845  10.93627\\n      Si  43.41664  46.08762  13.47064\\n      Si  45.10784  45.02200  14.75050\\n      Si  44.80635  47.52189  12.21991\\n      Si  46.18232  43.34276  13.47260\\n      Si  46.17739  46.14798  10.86692\\n      Si  47.52189  44.80635  12.21991\\n      Si  47.52189  47.52189  14.93545\\n      Ga  19.33070  36.29457   9.32297\\n      Ga  25.74028  46.20734  89.61270\\n\",\"xyz\");\n",
       "\tviewer_15230040903706617.setStyle({\"sphere\": {}});\n",
       "\tviewer_15230040903706617.setBackgroundColor(\"0xeeeeee\");\n",
       "\tviewer_15230040903706617.zoom();\n",
       "\tviewer_15230040903706617.render();\n",
       "viewer_15230040903706617.render();\n",
       "});\n",
       "</script>"
      ],
      "text/plain": [
       "<py3Dmol.view at 0x7fb97b3f8fd0>"
      ]
     },
     "execution_count": 65,
     "metadata": {},
     "output_type": "execute_result"
    }
   ],
   "source": [
    "#3dmol viewer\n",
    "file = 'data/3dmol2.xyz'\n",
    "xyzout = open(file,'r').read()\n",
    "p.clear()\n",
    "p.addModel(xyzout,'xyz')\n",
    "p.setStyle({'sphere':{}})\n",
    "p.setBackgroundColor('0xeeeeee')\n",
    "#p.clear()\n",
    "p.zoom()\n",
    "p.render()\n"
   ]
  },
  {
   "cell_type": "code",
   "execution_count": 66,
   "metadata": {
    "extensions": {
     "jupyter_dashboards": {
      "version": 1,
      "views": {
       "grid_default": {
        "col": 4,
        "height": 12,
        "hidden": true,
        "row": 20,
        "width": 4
       },
       "report_default": {}
      }
     }
    }
   },
   "outputs": [],
   "source": [
    "#%%javascript\n",
    "#IPython.OutputArea.prototype._should_scroll = function(lines) {\n",
    "#    return false;\n",
    "#}"
   ]
  },
  {
   "cell_type": "code",
   "execution_count": 67,
   "metadata": {
    "extensions": {
     "jupyter_dashboards": {
      "version": 1,
      "views": {
       "grid_default": {
        "col": 8,
        "height": 19,
        "hidden": false,
        "row": 0,
        "width": 4
       },
       "report_default": {}
      }
     }
    },
    "scrolled": true
   },
   "outputs": [
    {
     "data": {
      "application/vnd.jupyter.widget-view+json": {
       "model_id": "81a1b68d46fb431491d9f578dad63e79",
       "version_major": 2,
       "version_minor": 0
      },
      "text/html": [
       "<p>Failed to display Jupyter Widget of type <code>VBox</code>.</p>\n",
       "<p>\n",
       "  If you're reading this message in the Jupyter Notebook or JupyterLab Notebook, it may mean\n",
       "  that the widgets JavaScript is still loading. If this message persists, it\n",
       "  likely means that the widgets JavaScript library is either not installed or\n",
       "  not enabled. See the <a href=\"https://ipywidgets.readthedocs.io/en/stable/user_install.html\">Jupyter\n",
       "  Widgets Documentation</a> for setup instructions.\n",
       "</p>\n",
       "<p>\n",
       "  If you're reading this message in another frontend (for example, a static\n",
       "  rendering on GitHub or <a href=\"https://nbviewer.jupyter.org/\">NBViewer</a>),\n",
       "  it may mean that your frontend doesn't currently support widgets.\n",
       "</p>\n"
      ],
      "text/plain": [
       "VBox(children=(Button(button_style='success', description='Run', style=ButtonStyle(), tooltip='Run Simulation'),))"
      ]
     },
     "metadata": {},
     "output_type": "display_data"
    }
   ],
   "source": [
    "Submit(start_func=my_start, cachename='SubmitTest')"
   ]
  },
  {
   "cell_type": "code",
   "execution_count": 68,
   "metadata": {
    "extensions": {
     "jupyter_dashboards": {
      "version": 1,
      "views": {
       "grid_default": {
        "hidden": true
       },
       "report_default": {}
      }
     }
    }
   },
   "outputs": [],
   "source": [
    "#%%javascript\n",
    "#IPython.OutputArea.prototype._should_scroll = function(lines) {\n",
    "#    return false;\n",
    "#}"
   ]
  },
  {
   "cell_type": "code",
   "execution_count": null,
   "metadata": {
    "extensions": {
     "jupyter_dashboards": {
      "version": 1,
      "views": {
       "grid_default": {
        "hidden": true
       },
       "report_default": {}
      }
     }
    }
   },
   "outputs": [],
   "source": []
  },
  {
   "cell_type": "code",
   "execution_count": null,
   "metadata": {
    "extensions": {
     "jupyter_dashboards": {
      "version": 1,
      "views": {
       "grid_default": {
        "hidden": true
       },
       "report_default": {}
      }
     }
    }
   },
   "outputs": [],
   "source": []
  },
  {
   "cell_type": "code",
   "execution_count": null,
   "metadata": {
    "extensions": {
     "jupyter_dashboards": {
      "version": 1,
      "views": {
       "grid_default": {
        "hidden": true
       },
       "report_default": {}
      }
     }
    }
   },
   "outputs": [],
   "source": []
  }
 ],
 "metadata": {
  "extensions": {
   "jupyter_dashboards": {
    "activeView": "grid_default",
    "version": 1,
    "views": {
     "grid_default": {
      "cellMargin": 10,
      "defaultCellHeight": 20,
      "maxColumns": 12,
      "name": "grid",
      "type": "grid"
     },
     "report_default": {
      "name": "report",
      "type": "report"
     }
    }
   }
  },
  "kernelspec": {
   "display_name": "Python3",
   "language": "python",
   "name": "python3"
  },
  "language_info": {
   "codemirror_mode": {
    "name": "ipython",
    "version": 3
   },
   "file_extension": ".py",
   "mimetype": "text/x-python",
   "name": "python",
   "nbconvert_exporter": "python",
   "pygments_lexer": "ipython3",
   "version": "3.6.2"
  },
  "tool": false
 },
 "nbformat": 4,
 "nbformat_minor": 2
}
