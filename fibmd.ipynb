{
 "cells": [
  {
   "cell_type": "markdown",
   "metadata": {
    "extensions": {
     "jupyter_dashboards": {
      "version": 1,
      "views": {
       "grid_default": {
        "col": 0,
        "height": 3,
        "hidden": false,
        "row": 0,
        "width": 12
       },
       "report_default": {
        "hidden": false
       }
      }
     }
    }
   },
   "source": [
    "# Focused Ion Beam Molecular Dynamics (fibmd) Tool"
   ]
  },
  {
   "cell_type": "code",
   "execution_count": 1,
   "metadata": {
    "extensions": {
     "jupyter_dashboards": {
      "version": 1,
      "views": {
       "grid_default": {
        "col": 4,
        "height": 4,
        "hidden": true,
        "row": 0,
        "width": 4
       },
       "report_default": {
        "hidden": true
       }
      }
     }
    },
    "scrolled": false
   },
   "outputs": [
    {
     "data": {
      "application/javascript": [
       "\n",
       "requirejs.undef('filepicker');\n",
       "\n",
       "define('filepicker', [\"jupyter-js-widgets\"], function(widgets) {\n",
       "\n",
       "    var FilePickerView = widgets.DOMWidgetView.extend({\n",
       "        render: function(){\n",
       "            this.file = document.createElement('input');\n",
       "            this.file.setAttribute('class', 'fileinput');\n",
       "            this.file.setAttribute('id', this.cid);\n",
       "            this.file.multiple = this.model.get('multiple');\n",
       "            this.file.required = true;\n",
       "            this.file.setAttribute('type', 'file');\n",
       "            this.file.setAttribute('style', 'display:none');\n",
       "\n",
       "            this.label = document.createElement('label');\n",
       "            this.label.setAttribute('for', this.cid);\n",
       "            this.label.setAttribute('style', 'border: 1px solid; border-radius: 5px; display: inline-block; padding: 6px 12px');\n",
       "\n",
       "            this.icon = document.createElement('i');\n",
       "            this.icon.setAttribute(\"class\", \"fa fa-upload\");\n",
       "\n",
       "            if (this.file.multiple) {\n",
       "                this.labelstr = \"  Upload Files\";\n",
       "            } else {\n",
       "                this.labelstr = \"  Upload File\";\n",
       "            }\n",
       "            this.label.innerHTML = this.labelstr;\n",
       "            this.label.prepend(this.icon);\n",
       "            this.el.appendChild(this.label);\n",
       "            this.el.appendChild(this.file);\n",
       "            this.update();\n",
       "        },\n",
       "\n",
       "        events: {\n",
       "            // List of events and their handlers.\n",
       "            'change': 'handle_file_change',\n",
       "        },\n",
       "\n",
       "        handle_file_change: function(evt) {\n",
       "\n",
       "            var that = this;\n",
       "            var files = evt.target.files;\n",
       "            var filenames = [];\n",
       "            var skipped = [];\n",
       "            var file_readers = [];\n",
       "\n",
       "            for (var i = 0; i < files.length; i++) {\n",
       "                var file = files[i];\n",
       "                console.log(\"Filename: \" + file.name);\n",
       "                console.log(\"Type: \" + file.type);\n",
       "                console.log(\"Size: \" + file.size + \" bytes\");\n",
       "                if (file.size > this.model.get('maxsize')) {\n",
       "                    skipped.push(file.name);\n",
       "                    continue;\n",
       "                };\n",
       "                filenames.push(file.name);\n",
       "\n",
       "                // Read the file's textual content and set value_i to those contents.\n",
       "                file_readers.push(new FileReader());\n",
       "                file_readers[i].onload = (function(file, i) {\n",
       "                    return function(e) {\n",
       "                        that.model.set('value_' + i, e.target.result);\n",
       "                        that.touch();\n",
       "                        console.log(\"file_\" + i + \" loaded: \" + file.name);\n",
       "                    };\n",
       "                })(file, i);\n",
       "                file_readers[i].readAsDataURL(file);\n",
       "            };\n",
       "\n",
       "            // update the label\n",
       "            if (filenames.length == 0) {\n",
       "                this.label.innerHTML = this.labelstr;\n",
       "            } else if (filenames.length == 1) {\n",
       "                this.label.innerHTML = \"  \" + filenames[0];\n",
       "            } else {\n",
       "                this.label.innerHTML = \"  \" + filenames.length + \" files selected\";\n",
       "            };\n",
       "            this.label.prepend(this.icon);\n",
       "\n",
       "            // Set the filenames of the files.\n",
       "            this.model.set('filenames', filenames);\n",
       "            this.model.set('skipped', skipped);\n",
       "            this.touch();\n",
       "        },\n",
       "    });\n",
       "\n",
       "    // Register the FilePickerView with the widget manager.\n",
       "    return {\n",
       "        FilePickerView: FilePickerView\n",
       "    };\n",
       "});\n"
      ],
      "text/plain": [
       "<IPython.core.display.Javascript object>"
      ]
     },
     "metadata": {},
     "output_type": "display_data"
    },
    {
     "data": {
      "text/html": [
       "\n",
       "<script>\n",
       "requirejs.config({\n",
       "    paths: {\n",
       "        'ace': ['//cdnjs.cloudflare.com/ajax/libs/ace/1.2.6/ace'],\n",
       "    },\n",
       "});\n",
       "\n",
       "require(['ace'], function(ace) {\n",
       "    console.log(\"ACE loaded :)\");\n",
       "    return {};\n",
       "});\n",
       "</script>\n",
       "\n",
       "<script>\n",
       "requirejs.undef('editor');\n",
       "\n",
       "define('editor', [\"jupyter-js-widgets\"], function(widgets) {\n",
       "\n",
       "    var EditorView = widgets.DOMWidgetView.extend({\n",
       "\n",
       "        // Render the view.\n",
       "        render: function() {\n",
       "            this.ignorex = false;\n",
       "            this.ignorev = false;\n",
       "            //console.log('RENDER '+this.model.get('name'));\n",
       "            this.div = document.createElement('div');\n",
       "            this.div.setAttribute('id', this.model.get('name'));\n",
       "            this.el.appendChild(this.div);\n",
       "            this.listenTo(this.model, 'change:state', this._state_changed, this);\n",
       "            this.listenTo(this.model, 'change:theme', this._theme_changed, this);\n",
       "            this.listenTo(this.model, 'change:mode', this._mode_changed, this);\n",
       "            this.listenTo(this.model, 'change:value2', this._value2_changed, this);\n",
       "            this.listenTo(this.model, 'change:showmargin', this._showmargin_changed, this);\n",
       "            this.listenTo(this.model, 'change:fontsize', this._fontsize_changed, this);\n",
       "            this.update();\n",
       "        },\n",
       "        update: function() {\n",
       "            return EditorView.__super__.update.apply(this);\n",
       "        },\n",
       "        // Tell Backbone to listen to the change event of input controls\n",
       "        events: {\n",
       "            \"change\": \"handle_color_change\"\n",
       "        },\n",
       "\n",
       "        _state_changed: function() {\n",
       "            var state = this.model.get('state')\n",
       "            //console.log('state: ' + state );\n",
       "            if (state == 'start') {\n",
       "                var that = this;\n",
       "                this._ed = ace.edit(this.model.get('name'));\n",
       "                this._ed.getSession().on('change', function(e) {\n",
       "                    if (that.ignorev == true) { return }\n",
       "                    that.ignorex = true;\n",
       "                    //console.log('CHANGE1');\n",
       "                    that.model.set('value2', that._ed.getValue());\n",
       "                    //console.log('CHANGE2');\n",
       "                    that.touch();\n",
       "                    //console.log('CHANGE3');\n",
       "                    that.ignorex = false;\n",
       "                });\n",
       "            };\n",
       "        },\n",
       "        _theme_changed: function() {\n",
       "            //console.log(\"theme \" + this.model.get('theme'));\n",
       "            this._ed.setTheme(\"ace/theme/\"+this.model.get('theme'));\n",
       "        },\n",
       "        _mode_changed: function() {\n",
       "            //console.log(\"mode \" + this.model.get('mode'));\n",
       "            this._ed.getSession().setMode(\"ace/mode/\"+this.model.get('mode'));\n",
       "        },\n",
       "        _value2_changed: function() {\n",
       "            //console.log('value2 ' + this.ignorex);\n",
       "            if (this.ignorex == true) { return };\n",
       "            var val = this.model.get('value2');\n",
       "            //console.log('VALUE2 ' + val);\n",
       "            this.ignorev = true;\n",
       "            this._ed.setValue(val);\n",
       "            this.ignorev = false;\n",
       "            //console.log('VALUE2 DONE');\n",
       "        },\n",
       "        _showmargin_changed: function() {\n",
       "            this._ed.setShowPrintMargin(this.model.get('showmargin'));\n",
       "        },\n",
       "        _fontsize_changed: function() {\n",
       "            document.getElementById(this.model.get('name')).style.fontSize=this.model.get('fontsize');\n",
       "        },\n",
       "\n",
       "        // Callback for when the color is changed.\n",
       "        handle_color_change: function(event) {\n",
       "            console.log('SOMETHING CHNAGED');\n",
       "            console.log(event);\n",
       "        },\n",
       "    });\n",
       "\n",
       "    return {\n",
       "        EditorView: EditorView\n",
       "    };\n",
       "});\n",
       "</script>\n"
      ],
      "text/plain": [
       "<IPython.core.display.HTML object>"
      ]
     },
     "metadata": {},
     "output_type": "display_data"
    }
   ],
   "source": [
    "from IPython.display import display, clear_output, Javascript\n",
    "import ipywidgets as widgets\n",
    "import numpy as np\n",
    "from string import Template\n",
    "import hublib.use\n",
    "import py3Dmol\n",
    "from IPython.display import FileLink, FileLinks\n",
    "from hublib.ui import Submit\n",
    "#from hublib.cmd import runCommand"
   ]
  },
  {
   "cell_type": "code",
   "execution_count": 2,
   "metadata": {
    "extensions": {
     "jupyter_dashboards": {
      "version": 1,
      "views": {
       "grid_default": {
        "col": 8,
        "height": 4,
        "hidden": true,
        "row": 0,
        "width": 4
       },
       "report_default": {
        "hidden": true
       }
      }
     }
    },
    "scrolled": false
   },
   "outputs": [],
   "source": [
    "%use openmpi-1.6.3-gnu-4.7.2"
   ]
  },
  {
   "cell_type": "markdown",
   "metadata": {
    "extensions": {
     "jupyter_dashboards": {
      "version": 1,
      "views": {
       "grid_default": {
        "col": 0,
        "height": 4,
        "hidden": true,
        "row": 18,
        "width": 4
       },
       "report_default": {
        "hidden": false
       }
      }
     }
    },
    "slideshow": {
     "slide_type": "slide"
    }
   },
   "source": [
    "# Creating widgets for input"
   ]
  },
  {
   "cell_type": "code",
   "execution_count": 3,
   "metadata": {
    "extensions": {
     "jupyter_dashboards": {
      "version": 1,
      "views": {
       "grid_default": {
        "col": 4,
        "height": 4,
        "hidden": true,
        "row": 18,
        "width": 4
       },
       "report_default": {
        "hidden": true
       }
      }
     }
    },
    "scrolled": false
   },
   "outputs": [],
   "source": [
    "#title = widgets.Label(value=\"FIBMD Tool\", width=10)\n",
    "\n",
    "box_layout = widgets.Layout(display='flex',\n",
    "                            justify_content='center')\n",
    "text_layout = widgets.Layout(width = '150px')\n",
    "text_layout1 = widgets.Layout(width = '50px')\n",
    "text_layout2 = widgets.Layout(width ='80px',\n",
    "                              position = 'right')\n",
    "\n",
    "#ion energy input\n",
    "keVin = widgets.BoundedFloatText(\n",
    "    value=2000,\n",
    "    min=500,\n",
    "    max=60000,\n",
    "    step=100,\n",
    "    layout=text_layout2,\n",
    "    tooltip = 'Beam energy, in keV'\n",
    ")\n",
    "#x dimension for simulation box\n",
    "xdimin = widgets.BoundedFloatText(\n",
    "    value=5,\n",
    "    min=4,\n",
    "    max=40,\n",
    "    step=1,\n",
    "    layout=text_layout1\n",
    ")\n",
    "#y dimension for simulation box\n",
    "ydimin = widgets.BoundedFloatText(\n",
    "    value=5,\n",
    "    min=4,\n",
    "    max=40,\n",
    "    step=1,\n",
    "    layout=text_layout1\n",
    ")\n",
    "#z dimension for simulation box\n",
    "zdimin = widgets.BoundedFloatText(\n",
    "    value=2,\n",
    "    min=1,\n",
    "    max=40,\n",
    "    step=1,\n",
    "    layout=text_layout1\n",
    ")\n",
    "# number of processors to use in MPI\n",
    "pin = widgets.BoundedIntText(\n",
    "    value = 2,\n",
    "    min = 1,\n",
    "    max = 2,\n",
    "    step = 1,\n",
    "    layout=text_layout2\n",
    ")\n",
    "#temperature setting for the silicon target\n",
    "tempin = widgets.BoundedFloatText(\n",
    "    value = 300.0,\n",
    "    step = 10.0,\n",
    "    layout = text_layout2,\n",
    "    min = 10.0,\n",
    "    max = 2000.\n",
    ")\n",
    "#mumber of gallium ions to fire\n",
    "nin = widgets.BoundedIntText(\n",
    "    value = 1,\n",
    "    min = 1,\n",
    "    max = 100,\n",
    "    step = 1,\n",
    "    layout=text_layout2\n",
    ")\n",
    "#output frequency of full .xyz file, in timesteps\n",
    "ain  = widgets.BoundedIntText(\n",
    "    value = 500,\n",
    "    min = 0,\n",
    "    max = 1e6,\n",
    "    step = 100,\n",
    "    layout=text_layout2\n",
    ")\n",
    "#time between ion impacts\n",
    "dtin = widgets.BoundedFloatText(\n",
    "    value = 1,\n",
    "    step = 0.1,\n",
    "    layout=text_layout2,\n",
    "    min = 0.1\n",
    ")\n",
    "#angle of incidence, from z axis\n",
    "phizin = widgets.BoundedFloatText(\n",
    "    value = 0.0,\n",
    "    step = 1,\n",
    "    min = 0,\n",
    "    max = 89,\n",
    "    layout=text_layout2\n",
    ")\n",
    "#angle of incidence, from x axis\n",
    "phixyin = widgets.FloatText(\n",
    "    value = 0.0,\n",
    "    step = 1,\n",
    "    layout=text_layout2\n",
    ")\n",
    "#FWHM of incident beam distribution, in nm\n",
    "fin = widgets.BoundedFloatText(\n",
    "    value = 2,\n",
    "    layout=text_layout2,\n",
    "    min = 0.1\n",
    ")\n",
    "\n",
    "dimlabel = widgets.Label(\" Target dimensions, nm\",layout=box_layout)\n",
    "\n",
    "xlabel = widgets.Label(\"    X:\", position='right')\n",
    "ylabel = widgets.Label(\"    Y:\", position='right')\n",
    "zlabel = widgets.Label(\"    Z:\", position='right')\n",
    "xbox = widgets.HBox([xlabel,xdimin],layout = text_layout)\n",
    "ybox = widgets.HBox([ylabel,ydimin],layout = text_layout)\n",
    "zbox = widgets.HBox([zlabel,zdimin],layout = text_layout)\n",
    "\n",
    "keVlabel = widgets.Label(\"Ion Energy (eV):\")\n",
    "proclabel = widgets.Label(\"# of Processors:\")\n",
    "templabel = widgets.Label(\"Temperature (K):\")\n",
    "ionlabel = widgets.Label(\"# of Ions to fire:\")\n",
    "outlabel = widgets.Label(\"Output frequency:\")\n",
    "dtlabel = widgets.Label(\"$\\\\Delta t _{ion}$ (ps)\")\n",
    "anglezlabel = widgets.Label(\"Beam Angle $\\\\theta$:\")\n",
    "anglexylabel = widgets.Label(\"Beam Angle $\\Phi$:\")\n",
    "fwhmlabel = widgets.Label(\"FWHM of beam (nm):\")\n",
    "beamlabel = widgets.Label(\"Effective Beam Current (nA): \")\n",
    "sizelabel = widgets.Label(\"Estimated Total File Size (MB)\")\n",
    "fluxlabel = widgets.Label(\"$4\\sigma$ Surface Flux (ions/cm$^2$ps): \")\n",
    "\n",
    "dimin = widgets.HBox([xbox,ybox,zbox])\n",
    "vlabels = widgets.VBox([keVlabel, proclabel, templabel, ionlabel, outlabel, dtlabel, anglezlabel, anglexylabel, fwhmlabel])\n",
    "vinput = widgets.VBox([keVin, pin, tempin, nin, ain, dtin, phizin, phixyin, fin])\n",
    "\n",
    "inputs2 = widgets.HBox([vlabels,vinput])\n",
    "\n",
    "#silicon lattice constant\n",
    "silat = 0.5431\n",
    "\n",
    "## dynamically updating boxes for current, estimated file size, flux\n",
    "BeamCurrent = widgets.Text(\n",
    "    value = '%0.3f'%(1.602e-19/(dtin.value*1e-12)*1e9),\n",
    "    layout = text_layout2,\n",
    "    position = 'right'\n",
    ")\n",
    "\n",
    "SurfFlux = widgets.Text(\n",
    "    value = '%1.4E'%(1/dtin.value/((fin.value/2.355*4*1e-7)**2*np.pi/4)\n",
    "    ),\n",
    "    layout = text_layout2,\n",
    "        position = 'right'\n",
    ")\n",
    "\n",
    "    #6.44e-5 is estimate of MB per atom per snapshot\n",
    "    #floors of dimin are unit cells, 8 is atoms per unit cell\n",
    "    #.1/.02e-3 is estimating number of timesteps in fast regime (lasting .1 ps, with .02e-3 step size)\n",
    "    #(dtin.value-.1)/.2e-3 is # of timesteps during the rest of the time\n",
    "    #ain.value/10 and ain.value normalize total timesteps by output frequency in each case\n",
    "    #whole process happens nin.value times\n",
    "EstimatedSize = widgets.Text( \n",
    "    value = '%0.3f'%(6.5e-05*(np.floor(xdimin.value/silat) * \n",
    "                      np.floor(ydimin.value/silat) * \n",
    "                      np.floor(zdimin.value/silat))*8 *\n",
    "             (.1/.02e-3 /(ain.value/10) + (dtin.value-.1)/.2e-3/(ain.value))*nin.value\n",
    "),\n",
    "        layout = text_layout2,\n",
    "        position = 'right'\n",
    ")\n",
    "\n",
    "vlabels2 = widgets.VBox([beamlabel,fluxlabel,sizelabel])\n",
    "outlabels = widgets.VBox([BeamCurrent,SurfFlux,EstimatedSize])\n",
    "outlabels2 = widgets.HBox([vlabels2,outlabels])\n",
    "input1 = widgets.VBox([dimlabel,dimin,inputs2],layout=widgets.Layout(border='solid'))\n",
    "FullBox = widgets.VBox([input1,outlabels2])"
   ]
  },
  {
   "cell_type": "code",
   "execution_count": 4,
   "metadata": {
    "extensions": {
     "jupyter_dashboards": {
      "version": 1,
      "views": {
       "grid_default": {
        "hidden": true
       },
       "report_default": {}
      }
     }
    }
   },
   "outputs": [],
   "source": [
    "#more detailed descriptions of input for tab view\n",
    "\n",
    "desc2_layout = widgets.Layout(overflow_x='scroll',\n",
    "                    width='200px',\n",
    "                    height='',\n",
    "                    flex_flow='row')#,\n",
    "#                    display='flex')\n",
    "desc1_layout = widgets.Layout(width = '80px')\n",
    "\n",
    "headerdesc1 = widgets.Label(\n",
    "    value = '',\n",
    "    layout = desc1_layout\n",
    ")\n",
    "dimdesc1 = widgets.Label(\n",
    "    value = 'Dimensions:',\n",
    "    layout = desc1_layout\n",
    ")\n",
    "energydesc1 = widgets.Label(\n",
    "    value = 'Ion Energy:',\n",
    "    layout = desc1_layout\n",
    ")\n",
    "procdesc1 = widgets.Label(\n",
    "    value = 'Processors:',\n",
    "    layout = desc1_layout\n",
    ")\n",
    "tempdesc1 = widgets.Label(\n",
    "    value = 'Temperature:',\n",
    "    layout = desc1_layout\n",
    ")\n",
    "ionsdesc1 = widgets.Label(\n",
    "    value = 'Ions:',\n",
    "    layout = desc1_layout\n",
    ")\n",
    "outdesc1 = widgets.Label(\n",
    "    value = 'Output:',\n",
    "    layout = desc1_layout\n",
    ")\n",
    "timedesc1 = widgets.Label(\n",
    "    value = '$\\\\Delta t _{ion}$:',\n",
    "    layout = desc1_layout\n",
    ")\n",
    "phizdesc1 = widgets.Label(\n",
    "    value = '$\\\\theta$:',\n",
    "    layout = desc1_layout\n",
    ")\n",
    "phixdesc1 = widgets.Label(\n",
    "    value = '$\\Phi$:',\n",
    "    layout = desc1_layout\n",
    ")\n",
    "fwhmdesc1 = widgets.Label(\n",
    "    value = 'FWHM:',\n",
    "    layout = desc1_layout\n",
    ")\n",
    "\n",
    "currdesc1 = widgets.Label(\n",
    "    value = 'Current:',\n",
    "    layout = desc1_layout\n",
    ")\n",
    "fluxdesc1 = widgets.Label(\n",
    "    value = 'Flux:',\n",
    "    layout = desc1_layout\n",
    ")\n",
    "sizedesc1 = widgets.Label(\n",
    "    value = 'Size:',\n",
    "    layout = desc1_layout\n",
    ")\n",
    "\n",
    "headerdesc2 = widgets.Label(\n",
    "    value = '$ \\\\text{Descriptions (scrolling)} $',\n",
    "    layout = desc2_layout\n",
    ")\n",
    "dimdesc2 = widgets.Label(\n",
    "    value = '$ \\\\text{Simulation domain dimensions in nm. For simulation, this input is rounded to the nearest integer unit cell value.} $',\n",
    "    layout = desc2_layout\n",
    ")\n",
    "energydesc2 = widgets.Label(\n",
    "    value = '$ \\\\text{Kinetic Energy of the Ga ion being fired, in eV}$',\n",
    "    layout = desc2_layout\n",
    ")\n",
    "procdesc2 = widgets.Label(\n",
    "    value = '$ \\\\text{The number of processors to use. Limited to 2 for local nanohub simulations. Using 2 should always be preferable, but very small domains may require 1.}$',\n",
    "    layout = desc2_layout\n",
    ")\n",
    "tempdesc2 = widgets.Label(\n",
    "    value = '$ \\\\text{Silicon thermostatted temperature, applied to a 1.5 nm thick outer boundary in the x-y plane. Implemented as a Berendsen thermostat with } \\\\tau \\\\text{ = 0.1 (ps)} $',\n",
    "    layout = desc2_layout\n",
    ")\n",
    "ionsdesc2 = widgets.Label(\n",
    "    value = '$ \\\\text{Total number of ions fired at the surface.} $',\n",
    "    layout = desc2_layout\n",
    ")\n",
    "outdesc2 = widgets.Label(\n",
    "    value = '$ \\\\text{Snapshot every }x \\\\text{ timesteps during large steps (0.2 fs), } x/10 \\\\text{ steps during small steps (0.02 fs)} $',\n",
    "    layout = desc2_layout\n",
    ")\n",
    "timedesc2 = widgets.Label(\n",
    "    value = '$ \\\\text{Time between ion impacts, in ps.} $',\n",
    "    layout = desc2_layout\n",
    ")\n",
    "phizdesc2 = widgets.Label(\n",
    "    value = '$ \\\\text{Off-normal angle of incidence for ion beam.} $',\n",
    "    layout = desc2_layout\n",
    ")\n",
    "phixdesc2 = widgets.Label(\n",
    "    value = '$ \\\\text{Projected x-y plane beam direction from x axis, for } \\\\theta \\\\neq 0.$',\n",
    "    layout = desc2_layout\n",
    ")\n",
    "fwhmdesc2 = widgets.Label(\n",
    "    value = '$\\\\text{Full width half maximum of Gaussian ion distribution.}$',\n",
    "    layout = desc2_layout\n",
    ")\n",
    "\n",
    "currdesc2 = widgets.Label(\n",
    "    value = '$\\\\text{Beam current conversion, based on time between impacts.}$',\n",
    "    layout = desc2_layout\n",
    ")\n",
    "fluxdesc2 = widgets.Label(\n",
    "    value = '$\\\\text{Beam flux conversion, based on time between impacts and FWHM. This is over an area corresponding to 4$\\\\sigma$ of the random ion distribution.} $',\n",
    "    layout = desc2_layout\n",
    ")\n",
    "sizedesc2 = widgets.Label(\n",
    "    value = '$\\\\text{Estimated final .xyz file size, will tend to overestimate very small/low energy cases, may underestimate large and high energy cases.} $',\n",
    "    layout = desc2_layout\n",
    ")\n",
    "\n",
    "headerdesc = widgets.HBox([headerdesc1,headerdesc2])\n",
    "dimdesc = widgets.HBox([dimdesc1,dimdesc2])\n",
    "energydesc = widgets.HBox([energydesc1,energydesc2])\n",
    "procdesc = widgets.HBox([procdesc1,procdesc2])\n",
    "tempdesc = widgets.HBox([tempdesc1,tempdesc2])\n",
    "ionsdesc = widgets.HBox([ionsdesc1,ionsdesc2])\n",
    "outdesc = widgets.HBox([outdesc1,outdesc2])\n",
    "timedesc = widgets.HBox([timedesc1,timedesc2])\n",
    "phizdesc = widgets.HBox([phizdesc1,phizdesc2])\n",
    "phixdesc = widgets.HBox([phixdesc1,phixdesc2])\n",
    "fwhmdesc = widgets.HBox([fwhmdesc1,fwhmdesc2])\n",
    "currdesc = widgets.HBox([currdesc1,currdesc2])\n",
    "fluxdesc = widgets.HBox([fluxdesc1,fluxdesc2])\n",
    "sizedesc = widgets.HBox([sizedesc1,sizedesc2])\n",
    "\n",
    "#descriptionsl = widgets.VBox([headerdesc1,dimdesc1,tempdesc1,ionsdesc1,outdesc1,timedesc1,phizdesc1,phixdesc1,fwhmdesc1,currdesc1,fluxdesc1,sizedesc1])\n",
    "#descriptionsr = widgets.VBox([headerdesc2,dimdesc2,tempdesc2,ionsdesc2,outdesc2,timedesc2,phizdesc2,phixdesc2,fwhmdesc2,currdesc2,fluxdesc2,sizedesc2])\n",
    "#descriptions = widgets.VBox([descriptionsl,descriptionsr])\n",
    "descriptions1 = widgets.VBox([headerdesc,dimdesc,energydesc,procdesc,tempdesc,ionsdesc,outdesc,timedesc,phizdesc,phixdesc,fwhmdesc],layout=widgets.Layout(border='solid'))\n",
    "descriptions2 = widgets.VBox([currdesc,fluxdesc,sizedesc])\n",
    "descriptions = widgets.VBox([descriptions1,descriptions2])"
   ]
  },
  {
   "cell_type": "code",
   "execution_count": 5,
   "metadata": {
    "extensions": {
     "jupyter_dashboards": {
      "version": 1,
      "views": {
       "grid_default": {
        "col": 0,
        "height": 18,
        "hidden": false,
        "row": 3,
        "width": 3
       },
       "report_default": {
        "hidden": false
       }
      }
     }
    },
    "scrolled": false
   },
   "outputs": [
    {
     "data": {
      "application/vnd.jupyter.widget-view+json": {
       "model_id": "fd6c2d68ef404177aecb7d233b26c367",
       "version_major": 2,
       "version_minor": 0
      },
      "text/html": [
       "<p>Failed to display Jupyter Widget of type <code>Tab</code>.</p>\n",
       "<p>\n",
       "  If you're reading this message in the Jupyter Notebook or JupyterLab Notebook, it may mean\n",
       "  that the widgets JavaScript is still loading. If this message persists, it\n",
       "  likely means that the widgets JavaScript library is either not installed or\n",
       "  not enabled. See the <a href=\"https://ipywidgets.readthedocs.io/en/stable/user_install.html\">Jupyter\n",
       "  Widgets Documentation</a> for setup instructions.\n",
       "</p>\n",
       "<p>\n",
       "  If you're reading this message in another frontend (for example, a static\n",
       "  rendering on GitHub or <a href=\"https://nbviewer.jupyter.org/\">NBViewer</a>),\n",
       "  it may mean that your frontend doesn't currently support widgets.\n",
       "</p>\n"
      ],
      "text/plain": [
       "Tab(children=(VBox(children=(VBox(children=(Label(value=' Target dimensions, nm', layout=Layout(display='flex', justify_content='center')), HBox(children=(HBox(children=(Label(value='    X:'), BoundedFloatText(value=5.0, layout=Layout(width='50px'), max=40.0, min=4.0, step=1.0)), layout=Layout(width='150px')), HBox(children=(Label(value='    Y:'), BoundedFloatText(value=5.0, layout=Layout(width='50px'), max=40.0, min=4.0, step=1.0)), layout=Layout(width='150px')), HBox(children=(Label(value='    Z:'), BoundedFloatText(value=2.0, layout=Layout(width='50px'), max=40.0, min=1.0, step=1.0)), layout=Layout(width='150px')))), HBox(children=(VBox(children=(Label(value='Ion Energy (eV):'), Label(value='# of Processors:'), Label(value='Temperature (K):'), Label(value='# of Ions to fire:'), Label(value='Output frequency:'), Label(value='$\\\\Delta t _{ion}$ (ps)'), Label(value='Beam Angle $\\\\theta$:'), Label(value='Beam Angle $\\\\Phi$:'), Label(value='FWHM of beam (nm):'))), VBox(children=(BoundedFloatText(value=2000.0, layout=Layout(width='80px'), max=60000.0, min=500.0, step=100.0), BoundedIntText(value=2, layout=Layout(width='80px'), max=2, min=1), BoundedFloatText(value=300.0, layout=Layout(width='80px'), max=2000.0, min=10.0, step=10.0), BoundedIntText(value=1, layout=Layout(width='80px'), min=1), BoundedIntText(value=500, layout=Layout(width='80px'), max=1000000, step=100), BoundedFloatText(value=1.0, layout=Layout(width='80px'), min=0.1, step=0.1), BoundedFloatText(value=0.0, layout=Layout(width='80px'), max=89.0, step=1.0), FloatText(value=0.0, layout=Layout(width='80px'), step=1.0), BoundedFloatText(value=2.0, layout=Layout(width='80px'), min=0.1)))))), layout=Layout(border='solid')), HBox(children=(VBox(children=(Label(value='Effective Beam Current (nA): '), Label(value='$4\\\\sigma$ Surface Flux (ions/cm$^2$ps): '), Label(value='Estimated Total File Size (MB)'))), VBox(children=(Text(value='160.200', layout=Layout(width='80px')), Text(value='1.1033E+13', layout=Layout(width='80px')), Text(value='13.773', layout=Layout(width='80px')))))))), VBox(children=(VBox(children=(HBox(children=(Label(value='', layout=Layout(width='80px')), Label(value='$ \\\\text{Descriptions (scrolling)} $', layout=Layout(flex_flow='row', height='', overflow_x='scroll', width='200px')))), HBox(children=(Label(value='Dimensions:', layout=Layout(width='80px')), Label(value='$ \\\\text{Simulation domain dimensions in nm. For simulation, this input is rounded to the nearest integer unit cell value.} $', layout=Layout(flex_flow='row', height='', overflow_x='scroll', width='200px')))), HBox(children=(Label(value='Ion Energy:', layout=Layout(width='80px')), Label(value='$ \\\\text{Kinetic Energy of the Ga ion being fired, in eV}$', layout=Layout(flex_flow='row', height='', overflow_x='scroll', width='200px')))), HBox(children=(Label(value='Processors:', layout=Layout(width='80px')), Label(value='$ \\\\text{The number of processors to use. Limited to 2 for local nanohub simulations. Using 2 should always be preferable, but very small domains may require 1.}$', layout=Layout(flex_flow='row', height='', overflow_x='scroll', width='200px')))), HBox(children=(Label(value='Temperature:', layout=Layout(width='80px')), Label(value='$ \\\\text{Silicon thermostatted temperature, applied to a 1.5 nm thick outer boundary in the x-y plane. Implemented as a Berendsen thermostat with } \\\\tau \\\\text{ = 0.1 (ps)} $', layout=Layout(flex_flow='row', height='', overflow_x='scroll', width='200px')))), HBox(children=(Label(value='Ions:', layout=Layout(width='80px')), Label(value='$ \\\\text{Total number of ions fired at the surface.} $', layout=Layout(flex_flow='row', height='', overflow_x='scroll', width='200px')))), HBox(children=(Label(value='Output:', layout=Layout(width='80px')), Label(value='$ \\\\text{Snapshot every }x \\\\text{ timesteps during large steps (0.2 fs), } x/10 \\\\text{ steps during small steps (0.02 fs)} $', layout=Layout(flex_flow='row', height='', overflow_x='scroll', width='200px')))), HBox(children=(Label(value='$\\\\Delta t _{ion}$:', layout=Layout(width='80px')), Label(value='$ \\\\text{Time between ion impacts, in ps.} $', layout=Layout(flex_flow='row', height='', overflow_x='scroll', width='200px')))), HBox(children=(Label(value='$\\\\theta$:', layout=Layout(width='80px')), Label(value='$ \\\\text{Off-normal angle of incidence for ion beam.} $', layout=Layout(flex_flow='row', height='', overflow_x='scroll', width='200px')))), HBox(children=(Label(value='$\\\\Phi$:', layout=Layout(width='80px')), Label(value='$ \\\\text{Projected x-y plane beam direction from x axis, for } \\\\theta \\\\neq 0.$', layout=Layout(flex_flow='row', height='', overflow_x='scroll', width='200px')))), HBox(children=(Label(value='FWHM:', layout=Layout(width='80px')), Label(value='$\\\\text{Full width half maximum of Gaussian ion distribution.}$', layout=Layout(flex_flow='row', height='', overflow_x='scroll', width='200px'))))), layout=Layout(border='solid')), VBox(children=(HBox(children=(Label(value='Current:', layout=Layout(width='80px')), Label(value='$\\\\text{Beam current conversion, based on time between impacts.}$', layout=Layout(flex_flow='row', height='', overflow_x='scroll', width='200px')))), HBox(children=(Label(value='Flux:', layout=Layout(width='80px')), Label(value='$\\\\text{Beam flux conversion, based on time between impacts and FWHM. This is over an area corresponding to 4$\\\\sigma$ of the random ion distribution.} $', layout=Layout(flex_flow='row', height='', overflow_x='scroll', width='200px')))), HBox(children=(Label(value='Size:', layout=Layout(width='80px')), Label(value='$\\\\text{Estimated final .xyz file size, will tend to overestimate very small/low energy cases, may underestimate large and high energy cases.} $', layout=Layout(flex_flow='row', height='', overflow_x='scroll', width='200px'))))))))), _titles={'0': 'Input Parameters', '1': 'Input Descriptions'})"
      ]
     },
     "metadata": {},
     "output_type": "display_data"
    }
   ],
   "source": [
    "tab_view = widgets.Tab()\n",
    "tab_view.children = [FullBox, descriptions]\n",
    "tab_view.set_title(0, 'Input Parameters')\n",
    "tab_view.set_title(1, 'Input Descriptions')\n",
    "display(tab_view)"
   ]
  },
  {
   "cell_type": "code",
   "execution_count": 6,
   "metadata": {
    "extensions": {
     "jupyter_dashboards": {
      "version": 1,
      "views": {
       "grid_default": {
        "col": 0,
        "height": 3,
        "hidden": false,
        "row": 21,
        "width": 3
       },
       "report_default": {}
      }
     }
    },
    "scrolled": false
   },
   "outputs": [
    {
     "data": {
      "text/html": [
       "<a href='out.log' target='_blank'>out.log</a><br>"
      ],
      "text/plain": [
       "/home/nanohub/jmstout2/notebooks/FIB_MD/out.log"
      ]
     },
     "metadata": {},
     "output_type": "display_data"
    },
    {
     "data": {
      "text/html": [
       "<a href='data/mdrun2.xyz' target='_blank'>data/mdrun2.xyz</a><br>"
      ],
      "text/plain": [
       "/home/nanohub/jmstout2/notebooks/FIB_MD/data/mdrun2.xyz"
      ]
     },
     "metadata": {},
     "output_type": "display_data"
    },
    {
     "data": {
      "text/html": [
       "<a href='data/OvitoTemplate.ovito' target='_blank'>data/OvitoTemplate.ovito</a><br>"
      ],
      "text/plain": [
       "/home/nanohub/jmstout2/notebooks/FIB_MD/data/OvitoTemplate.ovito"
      ]
     },
     "metadata": {},
     "output_type": "display_data"
    }
   ],
   "source": [
    "!touch out.log data/mdrun2.xyz data/3dmol2.xyz\n",
    "#file download links\n",
    "outfile = FileLink(\"out.log\")\n",
    "xyzfile = FileLink(\"data/mdrun2.xyz\")\n",
    "ovitofile = FileLink(\"data/OvitoTemplate.ovito\")\n",
    "display(outfile,xyzfile,ovitofile)"
   ]
  },
  {
   "cell_type": "markdown",
   "metadata": {
    "extensions": {
     "jupyter_dashboards": {
      "version": 1,
      "views": {
       "grid_default": {
        "col": 5,
        "height": 4,
        "hidden": true,
        "row": 37,
        "width": 4
       },
       "report_default": {}
      }
     }
    }
   },
   "source": [
    "# Function Definitions"
   ]
  },
  {
   "cell_type": "code",
   "execution_count": 7,
   "metadata": {
    "extensions": {
     "jupyter_dashboards": {
      "version": 1,
      "views": {
       "grid_default": {
        "hidden": true
       },
       "report_default": {}
      }
     }
    }
   },
   "outputs": [],
   "source": [
    "##For determining how to distribute processor load in domain\n",
    "#list of prime factors for some number 'n'\n",
    "def prime_factors(n):\n",
    "    i = 2\n",
    "    factors = []\n",
    "    while i * i <= n:\n",
    "        if n % i:\n",
    "            i += 1\n",
    "        else:\n",
    "            n //= i\n",
    "            factors.append(i)\n",
    "    if n > 1:\n",
    "        factors.append(n)\n",
    "    return factors\n",
    "\n",
    "#determine 3 integer factors of nc that are closest together\n",
    "def primefactors3(nc):\n",
    "    a=prime_factors(nc)\n",
    "    z = np.ones(3,dtype=np.int8)\n",
    "    zb = []\n",
    "\n",
    "    if len(a) < 3:\n",
    "        z[3-len(a):] = a\n",
    "        b = range(0)\n",
    "    else:\n",
    "        z = z = a[len(a)-3:]\n",
    "        b = range(len(a)-4,-1,-1)\n",
    "\n",
    "    for i in b:\n",
    "        indmin = np.argmin(z)\n",
    "        z[indmin]=z[indmin]*a[i]    \n",
    "\n",
    "    zb.append(z[np.argmax(z)])\n",
    "    zb.append(int(np.sum(z)-z[np.argmin(z)]-z[np.argmax(z)]))\n",
    "    zb.append(z[np.argmin(z)])\n",
    "    return zb\n",
    "\n",
    "#Create the input file from siga.in.template\n",
    "def get_template():\n",
    "    procs = primefactors3(pin.value)\n",
    "    if ain.value == 0:\n",
    "        atmoutin1 = -1\n",
    "        atmoutin2 = -1\n",
    "    else:\n",
    "        atmoutin1 = int(ain.value/10)\n",
    "        atmoutin2 = ain.value\n",
    "        dims = [int(xdimin.value/silat), int(ydimin.value/silat), int(zdimin.value/silat)]\n",
    "        \n",
    "    inputs = list([str(keVin.value),str(dims[0]),str(dims[1]),str(dims[2]),\n",
    "                         str(procs[0]),str(procs[1]),str(procs[2]),str(tempin.value),str(nin.value),str(atmoutin1),str(atmoutin2),\n",
    "                         str(dtin.value*1e-12),str(fin.value),str(phizin.value),str(phixyin.value)])\n",
    "    \n",
    "    tags = list(['keV','xdim','ydim','zdim',\n",
    "                 'procsx','procsy','procsz','Ttar1','nlj','atmout1','atmout2',\n",
    "                 'dtion','fwhm','phiz','phixy'])\n",
    "\n",
    "    input_dict = dict(zip(tags, inputs))\n",
    "    temp_contents = open('siga.in.template').read()\n",
    "    tempstr = Template(temp_contents)\n",
    "    return tempstr.substitute(input_dict)\n",
    "\n",
    "\n",
    "##Callback functions \n",
    "def BC_cb(change):\n",
    "    BeamCurrent.value = str(1.602e-19/(dtin.value*1e-12)*1e9) #atoms/ps to nA\n",
    "    \n",
    "def ES_cb(change):\n",
    "    if ain.value <= 0:\n",
    "        EstimatedSize.value = '0'\n",
    "    else:\n",
    "        EstimatedSize.value = '%0.3f'%(6.5e-05*(np.floor(xdimin.value/silat) * \n",
    "                      np.floor(ydimin.value/silat) * \n",
    "                      np.floor(zdimin.value/silat))*8*\n",
    "             (.1/.02e-3 /(ain.value/10) + (dtin.value-.1)/.2e-3/(ain.value))*nin.value)\n",
    "\n",
    "def SF_cb(change):\n",
    "        SurfFlux.value = '%1.4E'%(1/dtin.value/((fin.value/2.355*4*1e-7)**2*np.pi/4))\n",
    "        \n",
    "#button click run function\n",
    "def my_start(s):\n",
    "    rname = s.make_rname(pin.value)\n",
    "    !rm siga.in\n",
    "    with open('siga.in', 'w') as tfile:\n",
    "        tfile.write(get_template())\n",
    "\n",
    "    # run locally for now, also split output to out.log and stdout\n",
    "    submit_str = '--local mpirun -np %i bin/mdrun2 | tee out.log'%(pin.value)\n",
    "    s.run(rname, submit_str)\n",
    "    \n",
    "#button click for updating the visualization window\n",
    "def updateviewer(ev):\n",
    "    display(Javascript('IPython.notebook.execute_cells_below()'))\n",
    "UV = widgets.Button(button_style='info',description=\"Update Viewer\")\n",
    "UV.on_click(updateviewer)\n",
    "\n",
    "\n",
    "## Observers, for dynamic input/output box updates\n",
    "dtin.observe(BC_cb,names = 'value')\n",
    "dtin.observe(ES_cb,names = 'value')\n",
    "dtin.observe(SF_cb,names = 'value')\n",
    "ain.observe(ES_cb,names = 'value')\n",
    "nin.observe(ES_cb,names = 'value')\n",
    "xdimin.observe(ES_cb,names = 'value')\n",
    "ydimin.observe(ES_cb,names = 'value')\n",
    "zdimin.observe(ES_cb,names = 'value')\n",
    "fin.observe(SF_cb,names = 'value')\n",
    "\n",
    "#definition for the visualization window\n",
    "p = py3Dmol.view(width=520,height=520)"
   ]
  },
  {
   "cell_type": "code",
   "execution_count": 8,
   "metadata": {
    "extensions": {
     "jupyter_dashboards": {
      "version": 1,
      "views": {
       "grid_default": {
        "col": 3,
        "height": 21,
        "hidden": false,
        "row": 3,
        "width": 4
       },
       "report_default": {}
      }
     }
    },
    "scrolled": true
   },
   "outputs": [
    {
     "data": {
      "application/vnd.jupyter.widget-view+json": {
       "model_id": "e6cdce10f18941bb92a4c067e226fb61",
       "version_major": 2,
       "version_minor": 0
      },
      "text/html": [
       "<p>Failed to display Jupyter Widget of type <code>VBox</code>.</p>\n",
       "<p>\n",
       "  If you're reading this message in the Jupyter Notebook or JupyterLab Notebook, it may mean\n",
       "  that the widgets JavaScript is still loading. If this message persists, it\n",
       "  likely means that the widgets JavaScript library is either not installed or\n",
       "  not enabled. See the <a href=\"https://ipywidgets.readthedocs.io/en/stable/user_install.html\">Jupyter\n",
       "  Widgets Documentation</a> for setup instructions.\n",
       "</p>\n",
       "<p>\n",
       "  If you're reading this message in another frontend (for example, a static\n",
       "  rendering on GitHub or <a href=\"https://nbviewer.jupyter.org/\">NBViewer</a>),\n",
       "  it may mean that your frontend doesn't currently support widgets.\n",
       "</p>\n"
      ],
      "text/plain": [
       "VBox(children=(Button(button_style='success', description='Run', style=ButtonStyle(), tooltip='Run Simulation'),))"
      ]
     },
     "metadata": {},
     "output_type": "display_data"
    }
   ],
   "source": [
    "test = Submit(start_func=my_start, cachename='SubmitTest')\n",
    "test"
   ]
  },
  {
   "cell_type": "code",
   "execution_count": 9,
   "metadata": {
    "extensions": {
     "jupyter_dashboards": {
      "version": 1,
      "views": {
       "grid_default": {
        "col": 7,
        "height": 2,
        "hidden": false,
        "row": 22,
        "width": 2
       },
       "report_default": {}
      }
     }
    }
   },
   "outputs": [
    {
     "data": {
      "application/vnd.jupyter.widget-view+json": {
       "model_id": "349b39f34c3042569eff77000b2696ed",
       "version_major": 2,
       "version_minor": 0
      },
      "text/html": [
       "<p>Failed to display Jupyter Widget of type <code>Button</code>.</p>\n",
       "<p>\n",
       "  If you're reading this message in the Jupyter Notebook or JupyterLab Notebook, it may mean\n",
       "  that the widgets JavaScript is still loading. If this message persists, it\n",
       "  likely means that the widgets JavaScript library is either not installed or\n",
       "  not enabled. See the <a href=\"https://ipywidgets.readthedocs.io/en/stable/user_install.html\">Jupyter\n",
       "  Widgets Documentation</a> for setup instructions.\n",
       "</p>\n",
       "<p>\n",
       "  If you're reading this message in another frontend (for example, a static\n",
       "  rendering on GitHub or <a href=\"https://nbviewer.jupyter.org/\">NBViewer</a>),\n",
       "  it may mean that your frontend doesn't currently support widgets.\n",
       "</p>\n"
      ],
      "text/plain": [
       "Button(button_style='info', description='Update Viewer', style=ButtonStyle())"
      ]
     },
     "metadata": {},
     "output_type": "display_data"
    }
   ],
   "source": [
    "display(UV)"
   ]
  },
  {
   "cell_type": "code",
   "execution_count": 10,
   "metadata": {
    "extensions": {
     "jupyter_dashboards": {
      "version": 1,
      "views": {
       "grid_default": {
        "col": 7,
        "height": 19,
        "hidden": false,
        "row": 3,
        "width": 5
       },
       "report_default": {
        "hidden": true
       }
      }
     }
    },
    "scrolled": false
   },
   "outputs": [
    {
     "data": {
      "text/html": [
       "<div id=\"3dmolviewer_15239880021818652\"  style=\"position: relative; width: 520px; height: 520px\">\n",
       "<script>\n",
       "if(typeof $3Dmolpromise === 'undefined') $3Dmolpromise = $.when($.getScript('https://3dmol.csb.pitt.edu/build/3Dmol.js'))\n",
       "var viewer_15239880021818652 = null;\n",
       "$3Dmolpromise.done(function() {\n",
       "viewer_15239880021818652 = $3Dmol.createViewer($(\"#3dmolviewer_15239880021818652\"),{backgroundColor:\"white\"});\n",
       "\tviewer_15239880021818652.clear();\n",
       "\tviewer_15239880021818652.addModel(\"      505\\n        type       x (A)       y (A)       z (A)Time (ps) =      0.00000\\n      Si    0.0000    0.0000    0.0000\\n      Si    0.0000    2.7155    2.7155\\n      Si    1.3578    1.3578    4.0733\\n      Si    1.3578    4.0733    1.3578\\n      Si    2.7155    0.0000    2.7155\\n      Si    2.7155    2.7155    0.0000\\n      Si    4.0733    1.3578    1.3578\\n      Si    4.0733    4.0733    4.0733\\n      Si    0.0000    5.4311    0.0000\\n      Si    0.0000    8.1466    2.7155\\n      Si    1.3578    6.7888    4.0733\\n      Si    1.3578    9.5044    1.3578\\n      Si    2.7155    5.4311    2.7155\\n      Si    2.7155    8.1466    0.0000\\n      Si    4.0733    6.7888    1.3578\\n      Si    4.0733    9.5044    4.0733\\n      Si    0.0000   10.8621    0.0000\\n      Si    0.0000   13.5777    2.7155\\n      Si    1.3578   12.2199    4.0733\\n      Si    1.3578   14.9355    1.3578\\n      Si    2.7155   10.8621    2.7155\\n      Si    2.7155   13.5777    0.0000\\n      Si    4.0733   12.2199    1.3578\\n      Si    4.0733   14.9355    4.0733\\n      Si    0.0000   16.2932    0.0000\\n      Si    0.0000   19.0088    2.7155\\n      Si    1.3578   17.6510    4.0733\\n      Si    1.3578   20.3665    1.3578\\n      Si    2.7155   16.2932    2.7155\\n      Si    2.7155   19.0088    0.0000\\n      Si    4.0733   17.6510    1.3578\\n      Si    4.0733   20.3665    4.0733\\n      Si    0.0000   21.7243    0.0000\\n      Si    0.0000   24.4398    2.7155\\n      Si    1.3578   23.0821    4.0733\\n      Si    1.3578   25.7976    1.3578\\n      Si    2.7155   21.7243    2.7155\\n      Si    2.7155   24.4398    0.0000\\n      Si    4.0733   23.0821    1.3578\\n      Si    4.0733   25.7976    4.0733\\n      Si    0.0000   27.1554    0.0000\\n      Si    0.0000   29.8709    2.7155\\n      Si    1.3578   28.5131    4.0733\\n      Si    1.3578   31.2287    1.3578\\n      Si    2.7155   27.1554    2.7155\\n      Si    2.7155   29.8709    0.0000\\n      Si    4.0733   28.5131    1.3578\\n      Si    4.0733   31.2287    4.0733\\n      Si    0.0000   32.5864    0.0000\\n      Si    0.0000   35.3020    2.7155\\n      Si    1.3578   33.9442    4.0733\\n      Si    1.3578   36.6597    1.3578\\n      Si    2.7155   32.5864    2.7155\\n      Si    2.7155   35.3020    0.0000\\n      Si    4.0733   33.9442    1.3578\\n      Si    4.0733   36.6597    4.0733\\n      Si    0.0000   38.0175    0.0000\\n      Si    0.0000   40.7330    2.7155\\n      Si    1.3578   39.3753    4.0733\\n      Si    1.3578   42.0908    1.3578\\n      Si    2.7155   38.0175    2.7155\\n      Si    2.7155   40.7330    0.0000\\n      Si    4.0733   39.3753    1.3578\\n      Si    4.0733   42.0908    4.0733\\n      Si    0.0000   43.4486    0.0000\\n      Si    0.0000   46.1641    2.7155\\n      Si    1.3578   44.8064    4.0733\\n      Si    1.3578   47.5219    1.3578\\n      Si    2.7155   43.4486    2.7155\\n      Si    2.7155   46.1641    0.0000\\n      Si    4.0733   44.8064    1.3578\\n      Si    4.0733   47.5219    4.0733\\n      Si    5.4311    0.0000    0.0000\\n      Si    5.4311    2.7155    2.7155\\n      Si    6.7888    1.3578    4.0733\\n      Si    6.7888    4.0733    1.3578\\n      Si    8.1466    0.0000    2.7155\\n      Si    8.1466    2.7155    0.0000\\n      Si    9.5044    1.3578    1.3578\\n      Si    9.5044    4.0733    4.0733\\n      Si    5.4311    5.4311    0.0000\\n      Si    5.4311    8.1466    2.7155\\n      Si    6.7888    6.7888    4.0733\\n      Si    6.7888    9.5044    1.3578\\n      Si    8.1466    5.4311    2.7155\\n      Si    8.1466    8.1466    0.0000\\n      Si    9.5044    6.7888    1.3578\\n      Si    9.5044    9.5044    4.0733\\n      Si    5.4311   10.8621    0.0000\\n      Si    5.4311   13.5777    2.7155\\n      Si    6.7888   12.2199    4.0733\\n      Si    6.7888   14.9355    1.3578\\n      Si    8.1466   10.8621    2.7155\\n      Si    8.1466   13.5777    0.0000\\n      Si    9.5044   12.2199    1.3578\\n      Si    9.5044   14.9355    4.0733\\n      Si    5.4311   16.2932    0.0000\\n      Si    5.4311   19.0088    2.7155\\n      Si    6.7888   17.6510    4.0733\\n      Si    6.7888   20.3665    1.3578\\n      Si    8.1466   16.2932    2.7155\\n      Si    8.1466   19.0088    0.0000\\n      Si    9.5044   17.6510    1.3578\\n      Si    9.5044   20.3665    4.0733\\n      Si    5.4311   21.7243    0.0000\\n      Si    5.4311   24.4398    2.7155\\n      Si    6.7888   23.0821    4.0733\\n      Si    6.7888   25.7976    1.3578\\n      Si    8.1466   21.7243    2.7155\\n      Si    8.1466   24.4398    0.0000\\n      Si    9.5044   23.0821    1.3578\\n      Si    9.5044   25.7976    4.0733\\n      Si    5.4311   27.1554    0.0000\\n      Si    5.4311   29.8709    2.7155\\n      Si    6.7888   28.5131    4.0733\\n      Si    6.7888   31.2287    1.3578\\n      Si    8.1466   27.1554    2.7155\\n      Si    8.1466   29.8709    0.0000\\n      Si    9.5044   28.5131    1.3578\\n      Si    9.5044   31.2287    4.0733\\n      Si    5.4311   32.5864    0.0000\\n      Si    5.4311   35.3020    2.7155\\n      Si    6.7888   33.9442    4.0733\\n      Si    6.7888   36.6597    1.3578\\n      Si    8.1466   32.5864    2.7155\\n      Si    8.1466   35.3020    0.0000\\n      Si    9.5044   33.9442    1.3578\\n      Si    9.5044   36.6597    4.0733\\n      Si    5.4311   38.0175    0.0000\\n      Si    5.4311   40.7330    2.7155\\n      Si    6.7888   39.3753    4.0733\\n      Si    6.7888   42.0908    1.3578\\n      Si    8.1466   38.0175    2.7155\\n      Si    8.1466   40.7330    0.0000\\n      Si    9.5044   39.3753    1.3578\\n      Si    9.5044   42.0908    4.0733\\n      Si    5.4311   43.4486    0.0000\\n      Si    5.4311   46.1641    2.7155\\n      Si    6.7888   44.8064    4.0733\\n      Si    6.7888   47.5219    1.3578\\n      Si    8.1466   43.4486    2.7155\\n      Si    8.1466   46.1641    0.0000\\n      Si    9.5044   44.8064    1.3578\\n      Si    9.5044   47.5219    4.0733\\n      Si   10.8621    0.0000    0.0000\\n      Si   10.8621    2.7155    2.7155\\n      Si   12.2199    1.3578    4.0733\\n      Si   12.2199    4.0733    1.3578\\n      Si   13.5777    0.0000    2.7155\\n      Si   13.5777    2.7155    0.0000\\n      Si   14.9355    1.3578    1.3578\\n      Si   14.9355    4.0733    4.0733\\n      Si   10.8621    5.4311    0.0000\\n      Si   10.8621    8.1466    2.7155\\n      Si   12.2199    6.7888    4.0733\\n      Si   12.2199    9.5044    1.3578\\n      Si   13.5777    5.4311    2.7155\\n      Si   13.5777    8.1466    0.0000\\n      Si   14.9355    6.7888    1.3578\\n      Si   14.9355    9.5044    4.0733\\n      Si   10.8621   10.8621    0.0000\\n      Si   10.8621   13.5777    2.7155\\n      Si   12.2199   12.2199    4.0733\\n      Si   12.2199   14.9355    1.3578\\n      Si   13.5777   10.8621    2.7155\\n      Si   13.5777   13.5777    0.0000\\n      Si   14.9355   12.2199    1.3578\\n      Si   14.9355   14.9355    4.0733\\n      Si   10.8621   16.2932    0.0000\\n      Si   10.8621   19.0088    2.7155\\n      Si   12.2199   17.6510    4.0733\\n      Si   12.2199   20.3665    1.3578\\n      Si   13.5777   16.2932    2.7155\\n      Si   13.5777   19.0088    0.0000\\n      Si   14.9355   17.6510    1.3578\\n      Si   14.9355   20.3665    4.0733\\n      Si   10.8621   21.7243    0.0000\\n      Si   10.8621   24.4398    2.7155\\n      Si   12.2199   23.0821    4.0733\\n      Si   12.2199   25.7976    1.3578\\n      Si   13.5777   21.7243    2.7155\\n      Si   13.5777   24.4398    0.0000\\n      Si   14.9355   23.0821    1.3578\\n      Si   14.9355   25.7976    4.0733\\n      Si   10.8621   27.1554    0.0000\\n      Si   10.8621   29.8709    2.7155\\n      Si   12.2199   28.5131    4.0733\\n      Si   12.2199   31.2287    1.3578\\n      Si   13.5777   27.1554    2.7155\\n      Si   13.5777   29.8709    0.0000\\n      Si   14.9355   28.5131    1.3578\\n      Si   14.9355   31.2287    4.0733\\n      Si   10.8621   32.5864    0.0000\\n      Si   10.8621   35.3020    2.7155\\n      Si   12.2199   33.9442    4.0733\\n      Si   12.2199   36.6597    1.3578\\n      Si   13.5777   32.5864    2.7155\\n      Si   13.5777   35.3020    0.0000\\n      Si   14.9355   33.9442    1.3578\\n      Si   14.9355   36.6597    4.0733\\n      Si   10.8621   38.0175    0.0000\\n      Si   10.8621   40.7330    2.7155\\n      Si   12.2199   39.3753    4.0733\\n      Si   12.2199   42.0908    1.3578\\n      Si   13.5777   38.0175    2.7155\\n      Si   13.5777   40.7330    0.0000\\n      Si   14.9355   39.3753    1.3578\\n      Si   14.9355   42.0908    4.0733\\n      Si   10.8621   43.4486    0.0000\\n      Si   10.8621   46.1641    2.7155\\n      Si   12.2199   44.8064    4.0733\\n      Si   12.2199   47.5219    1.3578\\n      Si   13.5777   43.4486    2.7155\\n      Si   13.5777   46.1641    0.0000\\n      Si   14.9355   44.8064    1.3578\\n      Si   14.9355   47.5219    4.0733\\n      Si   16.2932    0.0000    0.0000\\n      Si   16.2932    2.7155    2.7155\\n      Si   17.6510    1.3578    4.0733\\n      Si   17.6510    4.0733    1.3578\\n      Si   19.0088    0.0000    2.7155\\n      Si   19.0088    2.7155    0.0000\\n      Si   20.3665    1.3578    1.3578\\n      Si   20.3665    4.0733    4.0733\\n      Si   16.2932    5.4311    0.0000\\n      Si   16.2932    8.1466    2.7155\\n      Si   17.6510    6.7888    4.0733\\n      Si   17.6510    9.5044    1.3578\\n      Si   19.0088    5.4311    2.7155\\n      Si   19.0088    8.1466    0.0000\\n      Si   20.3665    6.7888    1.3578\\n      Si   20.3665    9.5044    4.0733\\n      Si   16.2932   10.8621    0.0000\\n      Si   16.2932   13.5777    2.7155\\n      Si   17.6510   12.2199    4.0733\\n      Si   17.6510   14.9355    1.3578\\n      Si   19.0088   10.8621    2.7155\\n      Si   19.0088   13.5777    0.0000\\n      Si   20.3665   12.2199    1.3578\\n      Si   20.3665   14.9355    4.0733\\n      Si   16.2932   16.2932    0.0000\\n      Si   16.2932   19.0088    2.7155\\n      Si   17.6510   17.6510    4.0733\\n      Si   17.6510   20.3665    1.3578\\n      Si   19.0088   16.2932    2.7155\\n      Si   19.0088   19.0088    0.0000\\n      Si   20.3665   17.6510    1.3578\\n      Si   20.3665   20.3665    4.0733\\n      Si   16.2932   21.7243    0.0000\\n      Si   16.2932   24.4398    2.7155\\n      Si   17.6510   23.0821    4.0733\\n      Si   17.6510   25.7976    1.3578\\n      Si   19.0088   21.7243    2.7155\\n      Si   19.0088   24.4398    0.0000\\n      Si   20.3665   23.0821    1.3578\\n      Si   20.3665   25.7976    4.0733\\n      Si   16.2932   27.1554    0.0000\\n      Si   16.2932   29.8709    2.7155\\n      Si   17.6510   28.5131    4.0733\\n      Si   17.6510   31.2287    1.3578\\n      Si   19.0088   27.1554    2.7155\\n      Si   19.0088   29.8709    0.0000\\n      Si   20.3665   28.5131    1.3578\\n      Si   20.3665   31.2287    4.0733\\n      Si   16.2932   32.5864    0.0000\\n      Si   16.2932   35.3020    2.7155\\n      Si   17.6510   33.9442    4.0733\\n      Si   17.6510   36.6597    1.3578\\n      Si   19.0088   32.5864    2.7155\\n      Si   19.0088   35.3020    0.0000\\n      Si   20.3665   33.9442    1.3578\\n      Si   20.3665   36.6597    4.0733\\n      Si   16.2932   38.0175    0.0000\\n      Si   16.2932   40.7330    2.7155\\n      Si   17.6510   39.3753    4.0733\\n      Si   17.6510   42.0908    1.3578\\n      Si   19.0088   38.0175    2.7155\\n      Si   19.0088   40.7330    0.0000\\n      Si   20.3665   39.3753    1.3578\\n      Si   20.3665   42.0908    4.0733\\n      Si   16.2932   43.4486    0.0000\\n      Si   16.2932   46.1641    2.7155\\n      Si   17.6510   44.8064    4.0733\\n      Si   17.6510   47.5219    1.3578\\n      Si   19.0088   43.4486    2.7155\\n      Si   19.0088   46.1641    0.0000\\n      Si   20.3665   44.8064    1.3578\\n      Si   20.3665   47.5219    4.0733\\n      Si   21.7243    0.0000    0.0000\\n      Si   21.7243    2.7155    2.7155\\n      Si   23.0821    1.3578    4.0733\\n      Si   23.0821    4.0733    1.3578\\n      Si   24.4398    0.0000    2.7155\\n      Si   24.4398    2.7155    0.0000\\n      Si   25.7976    1.3578    1.3578\\n      Si   25.7976    4.0733    4.0733\\n      Si   21.7243    5.4311    0.0000\\n      Si   21.7243    8.1466    2.7155\\n      Si   23.0821    6.7888    4.0733\\n      Si   23.0821    9.5044    1.3578\\n      Si   24.4398    5.4311    2.7155\\n      Si   24.4398    8.1466    0.0000\\n      Si   25.7976    6.7888    1.3578\\n      Si   25.7976    9.5044    4.0733\\n      Si   21.7243   10.8621    0.0000\\n      Si   21.7243   13.5777    2.7155\\n      Si   23.0821   12.2199    4.0733\\n      Si   23.0821   14.9355    1.3578\\n      Si   24.4398   10.8621    2.7155\\n      Si   24.4398   13.5777    0.0000\\n      Si   25.7976   12.2199    1.3578\\n      Si   25.7976   14.9355    4.0733\\n      Si   21.7243   16.2932    0.0000\\n      Si   21.7243   19.0088    2.7155\\n      Si   23.0821   17.6510    4.0733\\n      Si   23.0821   20.3665    1.3578\\n      Si   24.4398   16.2932    2.7155\\n      Si   24.4398   19.0088    0.0000\\n      Si   25.7976   17.6510    1.3578\\n      Si   25.7976   20.3665    4.0733\\n      Si   21.7243   21.7243    0.0000\\n      Si   21.7243   24.4398    2.7155\\n      Si   23.0821   23.0821    4.0733\\n      Si   23.0821   25.7976    1.3578\\n      Si   24.4398   21.7243    2.7155\\n      Si   24.4398   24.4398    0.0000\\n      Si   25.7976   23.0821    1.3578\\n      Si   25.7976   25.7976    4.0733\\n      Si   21.7243   27.1554    0.0000\\n      Si   21.7243   29.8709    2.7155\\n      Si   23.0821   28.5131    4.0733\\n      Si   23.0821   31.2287    1.3578\\n      Si   24.4398   27.1554    2.7155\\n      Si   24.4398   29.8709    0.0000\\n      Si   25.7976   28.5131    1.3578\\n      Si   25.7976   31.2287    4.0733\\n      Si   21.7243   32.5864    0.0000\\n      Si   21.7243   35.3020    2.7155\\n      Si   23.0821   33.9442    4.0733\\n      Si   23.0821   36.6597    1.3578\\n      Si   24.4398   32.5864    2.7155\\n      Si   24.4398   35.3020    0.0000\\n      Si   25.7976   33.9442    1.3578\\n      Si   25.7976   36.6597    4.0733\\n      Si   21.7243   38.0175    0.0000\\n      Si   21.7243   40.7330    2.7155\\n      Si   23.0821   39.3753    4.0733\\n      Si   23.0821   42.0908    1.3578\\n      Si   24.4398   38.0175    2.7155\\n      Si   24.4398   40.7330    0.0000\\n      Si   25.7976   39.3753    1.3578\\n      Si   25.7976   42.0908    4.0733\\n      Si   21.7243   43.4486    0.0000\\n      Si   21.7243   46.1641    2.7155\\n      Si   23.0821   44.8064    4.0733\\n      Si   23.0821   47.5219    1.3578\\n      Si   24.4398   43.4486    2.7155\\n      Si   24.4398   46.1641    0.0000\\n      Si   25.7976   44.8064    1.3578\\n      Si   25.7976   47.5219    4.0733\\n      Si   27.1554    0.0000    0.0000\\n      Si   27.1554    2.7155    2.7155\\n      Si   28.5131    1.3578    4.0733\\n      Si   28.5131    4.0733    1.3578\\n      Si   29.8709    0.0000    2.7155\\n      Si   29.8709    2.7155    0.0000\\n      Si   31.2287    1.3578    1.3578\\n      Si   31.2287    4.0733    4.0733\\n      Si   27.1554    5.4311    0.0000\\n      Si   27.1554    8.1466    2.7155\\n      Si   28.5131    6.7888    4.0733\\n      Si   28.5131    9.5044    1.3578\\n      Si   29.8709    5.4311    2.7155\\n      Si   29.8709    8.1466    0.0000\\n      Si   31.2287    6.7888    1.3578\\n      Si   31.2287    9.5044    4.0733\\n      Si   27.1554   10.8621    0.0000\\n      Si   27.1554   13.5777    2.7155\\n      Si   28.5131   12.2199    4.0733\\n      Si   28.5131   14.9355    1.3578\\n      Si   29.8709   10.8621    2.7155\\n      Si   29.8709   13.5777    0.0000\\n      Si   31.2287   12.2199    1.3578\\n      Si   31.2287   14.9355    4.0733\\n      Si   27.1554   16.2932    0.0000\\n      Si   27.1554   19.0088    2.7155\\n      Si   28.5131   17.6510    4.0733\\n      Si   28.5131   20.3665    1.3578\\n      Si   29.8709   16.2932    2.7155\\n      Si   29.8709   19.0088    0.0000\\n      Si   31.2287   17.6510    1.3578\\n      Si   31.2287   20.3665    4.0733\\n      Si   27.1554   21.7243    0.0000\\n      Si   27.1554   24.4398    2.7155\\n      Si   28.5131   23.0821    4.0733\\n      Si   28.5131   25.7976    1.3578\\n      Si   29.8709   21.7243    2.7155\\n      Si   29.8709   24.4398    0.0000\\n      Si   31.2287   23.0821    1.3578\\n      Si   31.2287   25.7976    4.0733\\n      Si   27.1554   27.1554    0.0000\\n      Si   27.1554   29.8709    2.7155\\n      Si   28.5131   28.5131    4.0733\\n      Si   28.5131   31.2287    1.3578\\n      Si   29.8709   27.1554    2.7155\\n      Si   29.8709   29.8709    0.0000\\n      Si   31.2287   28.5131    1.3578\\n      Si   31.2287   31.2287    4.0733\\n      Si   27.1554   32.5864    0.0000\\n      Si   27.1554   35.3020    2.7155\\n      Si   28.5131   33.9442    4.0733\\n      Si   28.5131   36.6597    1.3578\\n      Si   29.8709   32.5864    2.7155\\n      Si   29.8709   35.3020    0.0000\\n      Si   31.2287   33.9442    1.3578\\n      Si   31.2287   36.6597    4.0733\\n      Si   27.1554   38.0175    0.0000\\n      Si   27.1554   40.7330    2.7155\\n      Si   28.5131   39.3753    4.0733\\n      Si   28.5131   42.0908    1.3578\\n      Si   29.8709   38.0175    2.7155\\n      Si   29.8709   40.7330    0.0000\\n      Si   31.2287   39.3753    1.3578\\n      Si   31.2287   42.0908    4.0733\\n      Si   27.1554   43.4486    0.0000\\n      Si   27.1554   46.1641    2.7155\\n      Si   28.5131   44.8064    4.0733\\n      Si   28.5131   47.5219    1.3578\\n      Si   29.8709   43.4486    2.7155\\n      Si   29.8709   46.1641    0.0000\\n      Si   31.2287   44.8064    1.3578\\n      Si   31.2287   47.5219    4.0733\\n      Si   32.5864    0.0000    0.0000\\n      Si   32.5864    2.7155    2.7155\\n      Si   33.9442    1.3578    4.0733\\n      Si   33.9442    4.0733    1.3578\\n      Si   35.3020    0.0000    2.7155\\n      Si   35.3020    2.7155    0.0000\\n      Si   36.6597    1.3578    1.3578\\n      Si   36.6597    4.0733    4.0733\\n      Si   32.5864    5.4311    0.0000\\n      Si   32.5864    8.1466    2.7155\\n      Si   33.9442    6.7888    4.0733\\n      Si   33.9442    9.5044    1.3578\\n      Si   35.3020    5.4311    2.7155\\n      Si   35.3020    8.1466    0.0000\\n      Si   36.6597    6.7888    1.3578\\n      Si   36.6597    9.5044    4.0733\\n      Si   32.5864   10.8621    0.0000\\n      Si   32.5864   13.5777    2.7155\\n      Si   33.9442   12.2199    4.0733\\n      Si   33.9442   14.9355    1.3578\\n      Si   35.3020   10.8621    2.7155\\n      Si   35.3020   13.5777    0.0000\\n      Si   36.6597   12.2199    1.3578\\n      Si   36.6597   14.9355    4.0733\\n      Si   32.5864   16.2932    0.0000\\n      Si   32.5864   19.0088    2.7155\\n      Si   33.9442   17.6510    4.0733\\n      Si   33.9442   20.3665    1.3578\\n      Si   35.3020   16.2932    2.7155\\n      Si   35.3020   19.0088    0.0000\\n      Si   36.6597   17.6510    1.3578\\n      Si   36.6597   20.3665    4.0733\\n      Si   32.5864   21.7243    0.0000\\n      Si   32.5864   24.4398    2.7155\\n      Si   33.9442   23.0821    4.0733\\n      Si   33.9442   25.7976    1.3578\\n      Si   35.3020   21.7243    2.7155\\n      Si   35.3020   24.4398    0.0000\\n      Si   36.6597   23.0821    1.3578\\n      Si   36.6597   25.7976    4.0733\\n      Si   32.5864   27.1554    0.0000\\n      Si   32.5864   29.8709    2.7155\\n      Si   33.9442   28.5131    4.0733\\n      Si   33.9442   31.2287    1.3578\\n      Si   35.3020   27.1554    2.7155\\n      Si   35.3020   29.8709    0.0000\\n      Si   36.6597   28.5131    1.3578\\n      Si   36.6597   31.2287    4.0733\\n      Si   32.5864   32.5864    0.0000\\n      Si   32.5864   35.3020    2.7155\\n      Si   33.9442   33.9442    4.0733\\n      Si   33.9442   36.6597    1.3578\\n      Si   35.3020   32.5864    2.7155\\n      Si   35.3020   35.3020    0.0000\\n      Si   36.6597   33.9442    1.3578\\n      Si   36.6597   36.6597    4.0733\\n      Si   32.5864   38.0175    0.0000\\n      Si   32.5864   40.7330    2.7155\\n      Si   33.9442   39.3753    4.0733\\n      Si   33.9442   42.0908    1.3578\\n      Si   35.3020   38.0175    2.7155\\n      Si   35.3020   40.7330    0.0000\\n      Si   36.6597   39.3753    1.3578\\n      Si   36.6597   42.0908    4.0733\\n      Si   32.5864   43.4486    0.0000\\n      Si   32.5864   46.1641    2.7155\\n      Si   33.9442   44.8064    4.0733\\n      Si   33.9442   47.5219    1.3578\\n      Si   35.3020   43.4486    2.7155\\n      Si   35.3020   46.1641    0.0000\\n      Si   36.6597   44.8064    1.3578\\n      Si   36.6597   47.5219    4.0733\\n      Ga   13.3247   31.3483   29.8709\\n\",\"xyz\");\n",
       "\tviewer_15239880021818652.setStyle({\"sphere\": {}});\n",
       "\tviewer_15239880021818652.setBackgroundColor(\"0xeeeeee\");\n",
       "\tviewer_15239880021818652.render();\n",
       "viewer_15239880021818652.render();\n",
       "});\n",
       "</script>"
      ],
      "text/plain": [
       "<py3Dmol.view at 0x7fcdbcb18748>"
      ]
     },
     "execution_count": 10,
     "metadata": {},
     "output_type": "execute_result"
    }
   ],
   "source": [
    "#3dmol viewer\n",
    "#display(widgets.Text(value = 'control+click to slide'))\n",
    "#print('\\n')\n",
    "file = 'data/3dmol2.xyz'\n",
    "xyzout = open(file,'r').read()\n",
    "p.clear()\n",
    "p.addModel(xyzout,'xyz')\n",
    "p.setStyle({'sphere':{}})\n",
    "p.setBackgroundColor('0xeeeeee')\n",
    "#p.clear()\n",
    "#p.zoom()\n",
    "p.render()\n",
    "#display(widgets.Text(value = '\\n'))\n",
    "\n"
   ]
  },
  {
   "cell_type": "code",
   "execution_count": null,
   "metadata": {
    "extensions": {
     "jupyter_dashboards": {
      "version": 1,
      "views": {
       "grid_default": {
        "hidden": true
       },
       "report_default": {}
      }
     }
    },
    "scrolled": false
   },
   "outputs": [],
   "source": []
  }
 ],
 "metadata": {
  "extensions": {
   "jupyter_dashboards": {
    "activeView": "grid_default",
    "version": 1,
    "views": {
     "grid_default": {
      "cellMargin": 10,
      "defaultCellHeight": 20,
      "maxColumns": 12,
      "name": "grid",
      "type": "grid"
     },
     "report_default": {
      "name": "report",
      "type": "report"
     }
    }
   }
  },
  "kernelspec": {
   "display_name": "Python3",
   "language": "python",
   "name": "python3"
  },
  "language_info": {
   "codemirror_mode": {
    "name": "ipython",
    "version": 3
   },
   "file_extension": ".py",
   "mimetype": "text/x-python",
   "name": "python",
   "nbconvert_exporter": "python",
   "pygments_lexer": "ipython3",
   "version": "3.6.2"
  },
  "tool": true
 },
 "nbformat": 4,
 "nbformat_minor": 2
}
