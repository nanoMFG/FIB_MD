{
 "cells": [
  {
   "cell_type": "markdown",
   "metadata": {
    "extensions": {
     "jupyter_dashboards": {
      "version": 1,
      "views": {
       "grid_default": {
        "col": 0,
        "height": 2,
        "hidden": false,
        "row": 0,
        "width": 11
       },
       "report_default": {
        "hidden": false
       }
      }
     }
    }
   },
   "source": [
    "# Focused Ion Beam Molecular Dynamics (fibmd) Tool"
   ]
  },
  {
   "cell_type": "code",
   "execution_count": 61,
   "metadata": {
    "extensions": {
     "jupyter_dashboards": {
      "version": 1,
      "views": {
       "grid_default": {
        "hidden": true
       },
       "report_default": {
        "hidden": true
       }
      }
     }
    }
   },
   "outputs": [],
   "source": [
    "from IPython.display import display, HTML, clear_output\n",
    "import ipywidgets as widgets\n",
    "from string import Template\n",
    "import moviepy.editor as mpy\n",
    "import hublib.use\n",
    "from hublib.cmd import runCommand"
   ]
  },
  {
   "cell_type": "code",
   "execution_count": 62,
   "metadata": {
    "extensions": {
     "jupyter_dashboards": {
      "version": 1,
      "views": {
       "grid_default": {
        "hidden": true
       },
       "report_default": {
        "hidden": true
       }
      }
     }
    }
   },
   "outputs": [],
   "source": [
    "%use openmpi-1.6.3-gnu-4.7.2"
   ]
  },
  {
   "cell_type": "markdown",
   "metadata": {
    "extensions": {
     "jupyter_dashboards": {
      "version": 1,
      "views": {
       "grid_default": {
        "col": 4,
        "height": 4,
        "hidden": true,
        "row": 0,
        "width": 4
       },
       "report_default": {
        "hidden": false
       }
      }
     }
    },
    "slideshow": {
     "slide_type": "slide"
    }
   },
   "source": [
    "# Creating widgets for critical input"
   ]
  },
  {
   "cell_type": "code",
   "execution_count": 63,
   "metadata": {
    "extensions": {
     "jupyter_dashboards": {
      "version": 1,
      "views": {
       "grid_default": {
        "hidden": true
       },
       "report_default": {
        "hidden": true
       }
      }
     }
    }
   },
   "outputs": [],
   "source": [
    "title = widgets.Label(value=\"FIBMD Tool\", width=10)\n",
    "\n",
    "keVin = widgets.BoundedFloatText(\n",
    "    description='Ion Energy',\n",
    "    value=2000,\n",
    "    min=1000,\n",
    "    max=60000,\n",
    "    step=100\n",
    ")\n",
    "\n",
    "dimlab = widgets.Label(value=\"Target dimensions (in Si unit cells)\")\n",
    "\n",
    "xdimin = widgets.BoundedIntText(\n",
    "    value=4,\n",
    "    min=4,\n",
    "    max=40,\n",
    "    step=1,\n",
    "    description='X:'\n",
    ")\n",
    "\n",
    "ydimin = widgets.BoundedIntText(\n",
    "    value=4,\n",
    "    min=4,\n",
    "    max=40,\n",
    "    step=1,\n",
    "    description='Y: '\n",
    ")\n",
    "\n",
    "zdimin = widgets.BoundedIntText(\n",
    "    value=12,\n",
    "    min=4,\n",
    "    max=40,\n",
    "    step=1,\n",
    "    description='Z:'\n",
    ")\n",
    "\n",
    "dimensions = widgets.HBox([xdimin, ydimin, zdimin])\n",
    "\n",
    "pin = widgets.BoundedIntText(\n",
    "    value = 1,\n",
    "    min = 1,\n",
    "    max = 10,\n",
    "    step = 1\n",
    ")\n",
    "procsin = widgets.HBox([widgets.Label(\"# of Processors:\"),pin])\n",
    "\n",
    "nin = widgets.BoundedIntText(\n",
    "    value = 1,\n",
    "    min = 1,\n",
    "    max = 100,\n",
    "    step = 1\n",
    ")\n",
    "nljin = widgets.HBox([widgets.Label(\"# Ions to fire:\"),nin])\n",
    "\n",
    "ain  = widgets.BoundedIntText(\n",
    "    value = 500,\n",
    "    min = 0,\n",
    "    max = 1e6,\n",
    "    step = 100\n",
    ")\n",
    "atmoutin = widgets.HBox([widgets.Label(\".xyz output frequency\"),ain])\n",
    "\n",
    "din = widgets.FloatText(\n",
    "    value = 1,\n",
    "    step = 0.1\n",
    ")\n",
    "dtin = widgets.HBox([widgets.Label(\"Time between ion impacts in ps:\"),din])\n",
    "\n",
    "fin = widgets.FloatText(\n",
    "    value = 2\n",
    ")\n",
    "fwhmin = widgets.HBox([widgets.Label(\"FWHM of ion beam in nm:\"),fin])\n",
    "runbut = widgets.Button(description='Run Simulation')\n"
   ]
  },
  {
   "cell_type": "code",
   "execution_count": 64,
   "metadata": {
    "extensions": {
     "jupyter_dashboards": {
      "version": 1,
      "views": {
       "grid_default": {
        "col": 0,
        "height": 26,
        "hidden": false,
        "row": 2,
        "width": 6
       },
       "report_default": {
        "hidden": false
       }
      }
     }
    }
   },
   "outputs": [
    {
     "data": {
      "application/vnd.jupyter.widget-view+json": {
       "model_id": "6795bcb79eae4fbcb31fb39b05f7d797",
       "version_major": 2,
       "version_minor": 0
      },
      "text/html": [
       "<p>Failed to display Jupyter Widget of type <code>VBox</code>.</p>\n",
       "<p>\n",
       "  If you're reading this message in the Jupyter Notebook or JupyterLab Notebook, it may mean\n",
       "  that the widgets JavaScript is still loading. If this message persists, it\n",
       "  likely means that the widgets JavaScript library is either not installed or\n",
       "  not enabled. See the <a href=\"https://ipywidgets.readthedocs.io/en/stable/user_install.html\">Jupyter\n",
       "  Widgets Documentation</a> for setup instructions.\n",
       "</p>\n",
       "<p>\n",
       "  If you're reading this message in another frontend (for example, a static\n",
       "  rendering on GitHub or <a href=\"https://nbviewer.jupyter.org/\">NBViewer</a>),\n",
       "  it may mean that your frontend doesn't currently support widgets.\n",
       "</p>\n"
      ],
      "text/plain": [
       "VBox(children=(Label(value='FIBMD Tool'), BoundedFloatText(value=2000.0, description='Ion Energy', max=60000.0, min=1000.0, step=100.0), Label(value='Target dimensions (in Si unit cells)'), HBox(children=(BoundedIntText(value=4, description='X:', max=40, min=4), BoundedIntText(value=4, description='Y: ', max=40, min=4), BoundedIntText(value=12, description='Z:', max=40, min=4))), HBox(children=(Label(value='# of Processors:'), BoundedIntText(value=1, max=10, min=1))), HBox(children=(Label(value='# Ions to fire:'), BoundedIntText(value=1, min=1))), HBox(children=(Label(value='.xyz output frequency'), BoundedIntText(value=500, max=1000000, step=100))), HBox(children=(Label(value='Time between ion impacts in ps:'), FloatText(value=1.0, step=0.1))), HBox(children=(Label(value='FWHM of ion beam in nm:'), FloatText(value=2.0))), Button(description='Run Simulation', style=ButtonStyle())))"
      ]
     },
     "metadata": {},
     "output_type": "display_data"
    }
   ],
   "source": [
    "widgets.VBox([title,keVin,dimlab,dimensions,procsin,nljin,atmoutin,dtin,fwhmin,runbut])"
   ]
  },
  {
   "cell_type": "code",
   "execution_count": 65,
   "metadata": {
    "extensions": {
     "jupyter_dashboards": {
      "version": 1,
      "views": {
       "grid_default": {
        "hidden": true
       },
       "report_default": {
        "hidden": true
       }
      }
     }
    }
   },
   "outputs": [],
   "source": [
    "def get_template():\n",
    "    if ain.value == 0:\n",
    "        atmoutin1 = -1\n",
    "        atmoutin2 = -1\n",
    "    else:\n",
    "        atmoutin1 = int(ain.value/10)\n",
    "        atmoutin2 = ain.value\n",
    "    inputs = list([str(keVin.value),str(xdimin.value),str(ydimin.value),str(zdimin.value),\n",
    "                         str(pin.value),str(nin.value),str(atmoutin1),str(atmoutin2),\n",
    "                         str(din.value*1e-12),str(fin.value)])\n",
    "    tags = list(['keV','xdim','ydim','zdim',\n",
    "                 'procs','nlj','atmout1','atmout2',\n",
    "                 'dtion','fwhm'])\n",
    "\n",
    "    input_dict = dict(zip(tags, inputs))\n",
    "    temp_contents = open('sige.in.template').read()\n",
    "    tempstr = Template(temp_contents)\n",
    "    print(tempstr)\n",
    "    # Python template strings replace \"${identifier}\" with the value.\n",
    "    # If substituting more than one value, use a dictionary.\n",
    "    return tempstr.substitute(input_dict)"
   ]
  },
  {
   "cell_type": "code",
   "execution_count": 66,
   "metadata": {
    "extensions": {
     "jupyter_dashboards": {
      "version": 1,
      "views": {
       "grid_default": {
        "hidden": true
       },
       "report_default": {
        "hidden": true
       }
      }
     }
    }
   },
   "outputs": [],
   "source": [
    "def run_mdrun2():\n",
    "    with open('sige.in', 'w') as tfile:\n",
    "        tfile.write(get_template())\n",
    "    res, stdout, stderr = runCommand('mpirun -np %i src/mdrun2'%(pin.value))\n",
    "    #!mpirun -np $procsin.value src/mdrun2 #> out.log | tail -10 out.log #> out.log# -10 out.log\n",
    "    return"
   ]
  },
  {
   "cell_type": "code",
   "execution_count": 67,
   "metadata": {
    "extensions": {
     "jupyter_dashboards": {
      "version": 1,
      "views": {
       "grid_default": {
        "col": 6,
        "height": 15,
        "hidden": false,
        "row": 2,
        "width": 5
       },
       "report_default": {
        "hidden": true
       }
      }
     }
    }
   },
   "outputs": [],
   "source": [
    "# This is the main function called when the Run button is clicked.\n",
    "def run_simulation(ignore):\n",
    "    # change label on Button\n",
    "    runbut.disabled=True\n",
    "    runbut.description='Running'\n",
    "\n",
    "    run_mdrun2()\n",
    "\n",
    "    # Change button label back and re-enable\n",
    "    runbut.description='Run Simulation'\n",
    "    runbut.disabled=False\n",
    "    "
   ]
  },
  {
   "cell_type": "code",
   "execution_count": 68,
   "metadata": {
    "extensions": {
     "jupyter_dashboards": {
      "version": 1,
      "views": {
       "grid_default": {
        "hidden": true
       },
       "report_default": {
        "hidden": true
       }
      }
     }
    }
   },
   "outputs": [],
   "source": [
    "runbut.on_click(run_simulation)"
   ]
  },
  {
   "cell_type": "code",
   "execution_count": null,
   "metadata": {
    "extensions": {
     "jupyter_dashboards": {
      "version": 1,
      "views": {
       "grid_default": {
        "hidden": true
       },
       "report_default": {
        "hidden": true
       }
      }
     }
    }
   },
   "outputs": [],
   "source": []
  }
 ],
 "metadata": {
  "extensions": {
   "jupyter_dashboards": {
    "activeView": "grid_default",
    "version": 1,
    "views": {
     "grid_default": {
      "cellMargin": 10,
      "defaultCellHeight": 20,
      "maxColumns": 12,
      "name": "grid",
      "type": "grid"
     },
     "report_default": {
      "name": "report",
      "type": "report"
     }
    }
   }
  },
  "kernelspec": {
   "display_name": "Python3",
   "language": "python",
   "name": "python3"
  },
  "language_info": {
   "codemirror_mode": {
    "name": "ipython",
    "version": 3
   },
   "file_extension": ".py",
   "mimetype": "text/x-python",
   "name": "python",
   "nbconvert_exporter": "python",
   "pygments_lexer": "ipython3",
   "version": "3.6.2"
  }
 },
 "nbformat": 4,
 "nbformat_minor": 2
}
